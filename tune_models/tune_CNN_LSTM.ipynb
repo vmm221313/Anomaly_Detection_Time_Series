{
  "nbformat": 4,
  "nbformat_minor": 0,
  "metadata": {
    "colab": {
      "name": "tune_CNN_LSTM.ipynb",
      "provenance": [],
      "collapsed_sections": []
    },
    "kernelspec": {
      "name": "python3",
      "display_name": "Python 3"
    },
    "accelerator": "GPU"
  },
  "cells": [
    {
      "cell_type": "code",
      "metadata": {
        "id": "Tzm3SyI5PvDX",
        "colab_type": "code",
        "outputId": "159702e5-849c-46b5-f7b0-4b7e0d07ad13",
        "colab": {
          "base_uri": "https://localhost:8080/",
          "height": 524
        }
      },
      "source": [
        "pip install -U keras-tuner"
      ],
      "execution_count": 2,
      "outputs": [
        {
          "output_type": "stream",
          "text": [
            "Collecting keras-tuner\n",
            "\u001b[?25l  Downloading https://files.pythonhosted.org/packages/a7/f7/4b41b6832abf4c9bef71a664dc563adb25afc5812831667c6db572b1a261/keras-tuner-1.0.1.tar.gz (54kB)\n",
            "\r\u001b[K     |██████                          | 10kB 26.3MB/s eta 0:00:01\r\u001b[K     |████████████                    | 20kB 1.8MB/s eta 0:00:01\r\u001b[K     |██████████████████              | 30kB 2.4MB/s eta 0:00:01\r\u001b[K     |████████████████████████        | 40kB 1.7MB/s eta 0:00:01\r\u001b[K     |██████████████████████████████  | 51kB 2.0MB/s eta 0:00:01\r\u001b[K     |████████████████████████████████| 61kB 2.0MB/s \n",
            "\u001b[?25hRequirement already satisfied, skipping upgrade: future in /usr/local/lib/python3.6/dist-packages (from keras-tuner) (0.16.0)\n",
            "Requirement already satisfied, skipping upgrade: numpy in /usr/local/lib/python3.6/dist-packages (from keras-tuner) (1.18.4)\n",
            "Requirement already satisfied, skipping upgrade: tabulate in /usr/local/lib/python3.6/dist-packages (from keras-tuner) (0.8.7)\n",
            "Collecting terminaltables\n",
            "  Downloading https://files.pythonhosted.org/packages/9b/c4/4a21174f32f8a7e1104798c445dacdc1d4df86f2f26722767034e4de4bff/terminaltables-3.1.0.tar.gz\n",
            "Collecting colorama\n",
            "  Downloading https://files.pythonhosted.org/packages/c9/dc/45cdef1b4d119eb96316b3117e6d5708a08029992b2fee2c143c7a0a5cc5/colorama-0.4.3-py2.py3-none-any.whl\n",
            "Requirement already satisfied, skipping upgrade: tqdm in /usr/local/lib/python3.6/dist-packages (from keras-tuner) (4.41.1)\n",
            "Requirement already satisfied, skipping upgrade: requests in /usr/local/lib/python3.6/dist-packages (from keras-tuner) (2.23.0)\n",
            "Requirement already satisfied, skipping upgrade: scipy in /usr/local/lib/python3.6/dist-packages (from keras-tuner) (1.4.1)\n",
            "Requirement already satisfied, skipping upgrade: scikit-learn in /usr/local/lib/python3.6/dist-packages (from keras-tuner) (0.22.2.post1)\n",
            "Requirement already satisfied, skipping upgrade: idna<3,>=2.5 in /usr/local/lib/python3.6/dist-packages (from requests->keras-tuner) (2.9)\n",
            "Requirement already satisfied, skipping upgrade: chardet<4,>=3.0.2 in /usr/local/lib/python3.6/dist-packages (from requests->keras-tuner) (3.0.4)\n",
            "Requirement already satisfied, skipping upgrade: certifi>=2017.4.17 in /usr/local/lib/python3.6/dist-packages (from requests->keras-tuner) (2020.4.5.1)\n",
            "Requirement already satisfied, skipping upgrade: urllib3!=1.25.0,!=1.25.1,<1.26,>=1.21.1 in /usr/local/lib/python3.6/dist-packages (from requests->keras-tuner) (1.24.3)\n",
            "Requirement already satisfied, skipping upgrade: joblib>=0.11 in /usr/local/lib/python3.6/dist-packages (from scikit-learn->keras-tuner) (0.14.1)\n",
            "Building wheels for collected packages: keras-tuner, terminaltables\n",
            "  Building wheel for keras-tuner (setup.py) ... \u001b[?25l\u001b[?25hdone\n",
            "  Created wheel for keras-tuner: filename=keras_tuner-1.0.1-cp36-none-any.whl size=73200 sha256=a0bba08fa11e26afcc8b8ec7d644cc1c3ca6cb99d8e57c35ae013a1b2e1b5dd1\n",
            "  Stored in directory: /root/.cache/pip/wheels/b9/cc/62/52716b70dd90f3db12519233c3a93a5360bc672da1a10ded43\n",
            "  Building wheel for terminaltables (setup.py) ... \u001b[?25l\u001b[?25hdone\n",
            "  Created wheel for terminaltables: filename=terminaltables-3.1.0-cp36-none-any.whl size=15356 sha256=4d909ec4964127cce1d019e934a662b9516a31a38bd6df75136602a5f601be1e\n",
            "  Stored in directory: /root/.cache/pip/wheels/30/6b/50/6c75775b681fb36cdfac7f19799888ef9d8813aff9e379663e\n",
            "Successfully built keras-tuner terminaltables\n",
            "Installing collected packages: terminaltables, colorama, keras-tuner\n",
            "Successfully installed colorama-0.4.3 keras-tuner-1.0.1 terminaltables-3.1.0\n"
          ],
          "name": "stdout"
        }
      ]
    },
    {
      "cell_type": "code",
      "metadata": {
        "id": "11xwlxLVUkV6",
        "colab_type": "code",
        "outputId": "64bc8747-72d9-4d5a-d6e7-709d3ebca963",
        "colab": {
          "base_uri": "https://localhost:8080/",
          "height": 34
        }
      },
      "source": [
        "from google.colab import drive\n",
        "drive.mount('/content/drive', force_remount=True)"
      ],
      "execution_count": 3,
      "outputs": [
        {
          "output_type": "stream",
          "text": [
            "Mounted at /content/drive\n"
          ],
          "name": "stdout"
        }
      ]
    },
    {
      "cell_type": "code",
      "metadata": {
        "id": "mUeQ8a__Ub2_",
        "colab_type": "code",
        "outputId": "b05aef99-ff1d-46f5-e9d7-9a152f639adf",
        "colab": {
          "base_uri": "https://localhost:8080/",
          "height": 34
        }
      },
      "source": [
        "cd drive/My\\ Drive/Projects/TimeSeriesForecasting"
      ],
      "execution_count": 4,
      "outputs": [
        {
          "output_type": "stream",
          "text": [
            "/content/drive/My Drive/Projects/TimeSeriesForecasting\n"
          ],
          "name": "stdout"
        }
      ]
    },
    {
      "cell_type": "code",
      "metadata": {
        "id": "XweU6uzN9jeu",
        "colab_type": "code",
        "colab": {}
      },
      "source": [
        "import os\n",
        "import json\n",
        "import numpy as np\n",
        "import pandas as po\n",
        "from tqdm import tqdm\n",
        "import matplotlib.pyplot as plt\n",
        "from sklearn.metrics import r2_score\n",
        "from sklearn.metrics import mean_squared_error\n",
        "from sklearn.preprocessing import MinMaxScaler\n",
        "from sklearn.metrics import mean_absolute_error"
      ],
      "execution_count": 0,
      "outputs": []
    },
    {
      "cell_type": "code",
      "metadata": {
        "id": "IHK5e-NeLAxo",
        "colab_type": "code",
        "colab": {}
      },
      "source": [
        "import tensorflow as tf\n",
        "from kerastuner.tuners.bayesian import BayesianOptimization"
      ],
      "execution_count": 0,
      "outputs": []
    },
    {
      "cell_type": "code",
      "metadata": {
        "id": "zPLezym99je2",
        "colab_type": "code",
        "colab": {}
      },
      "source": [
        "os.makedirs('forecasts', exist_ok=True)\n",
        "os.makedirs('forecasts/full_testing_length', exist_ok=True)\n",
        "os.makedirs('forecasts/1_day_at_a_time', exist_ok=True)"
      ],
      "execution_count": 0,
      "outputs": []
    },
    {
      "cell_type": "code",
      "metadata": {
        "id": "wMk8B2s-9je4",
        "colab_type": "code",
        "colab": {}
      },
      "source": [
        "df = po.read_csv('data/2017_energy_5min_noTransform.csv')"
      ],
      "execution_count": 0,
      "outputs": []
    },
    {
      "cell_type": "code",
      "metadata": {
        "id": "TbsIQ-wS9je7",
        "colab_type": "code",
        "colab": {}
      },
      "source": [
        "scaler = MinMaxScaler()\n",
        "df['W'] = scaler.fit_transform(df)"
      ],
      "execution_count": 0,
      "outputs": []
    },
    {
      "cell_type": "code",
      "metadata": {
        "id": "anRqB6S59je9",
        "colab_type": "code",
        "colab": {}
      },
      "source": [
        "class Args:\n",
        "  def __init__(self):\n",
        "    self.val_start = 12*24*250\n",
        "    self.test_start = 12*24*300\n",
        "    self.train_seq_len = 12*24*7\n",
        "    self.val_seq_len = 12*24\n",
        "    \n",
        "    self.batch_size = 1024\n",
        "    self.num_epochs = 50\n",
        "    \n",
        "    self.subsequences = self.train_seq_len//(12*24)\n",
        "    #self.conv_num_channels = 128\n",
        "    #self.pool_size = 12\n",
        "    self.lstm_hidden_dim = 100\n",
        "\n",
        "    self.save_folder = 'tune_CNN_LSTM'\n",
        "    self.logs_dir = 'model_checkpoints/' + self.save_folder + '/logs_dir'"
      ],
      "execution_count": 0,
      "outputs": []
    },
    {
      "cell_type": "code",
      "metadata": {
        "id": "gBjn2R919jfA",
        "colab_type": "code",
        "colab": {}
      },
      "source": [
        "args = Args()"
      ],
      "execution_count": 0,
      "outputs": []
    },
    {
      "cell_type": "code",
      "metadata": {
        "id": "VZj0d-mohngd",
        "colab_type": "code",
        "colab": {}
      },
      "source": [
        "os.makedirs('plots/' + args.save_folder, exist_ok=True)\n",
        "os.makedirs('model_checkpoints/' + args.save_folder, exist_ok=True)\n",
        "os.makedirs('model_checkpoints/' + args.save_folder + '/logs_dir', exist_ok=True)\n",
        "os.makedirs('forecasts/full_testing_length/' + args.save_folder, exist_ok=True)\n",
        "os.makedirs('forecasts/1_day_at_a_time/' + args.save_folder, exist_ok=True)\n",
        "os.makedirs('forecasts/1_day_at_a_time/' + args.save_folder + '/plots', exist_ok=True)\n",
        "os.makedirs('forecasts/1_day_at_a_time/' + args.save_folder + '/tabulated_results', exist_ok=True)"
      ],
      "execution_count": 0,
      "outputs": []
    },
    {
      "cell_type": "code",
      "metadata": {
        "id": "W1AHLce49jfF",
        "colab_type": "code",
        "colab": {}
      },
      "source": [
        "train_df = df[: args.val_start]\n",
        "val_df = df[args.val_start: args.test_start]\n",
        "test_df = df[args.test_start:]"
      ],
      "execution_count": 0,
      "outputs": []
    },
    {
      "cell_type": "code",
      "metadata": {
        "id": "ZNitMw9c9jfJ",
        "colab_type": "code",
        "colab": {}
      },
      "source": [
        "def make_windows(data, train_seq_len = args.train_seq_len, val_seq_len = args.val_seq_len):\n",
        "    X = []\n",
        "    y = []\n",
        "\n",
        "    for i in tqdm(range(train_seq_len, len(data) - val_seq_len + 1)):    \n",
        "        X.append(data.values[i - train_seq_len: i].T.tolist())\n",
        "        y.append(data.values[i: i + val_seq_len].T.tolist())\n",
        "\n",
        "    X = np.array(X).squeeze().reshape(-1, train_seq_len, 1)\n",
        "    y = np.array(y).squeeze()\n",
        "\n",
        "    return X, y"
      ],
      "execution_count": 0,
      "outputs": []
    },
    {
      "cell_type": "code",
      "metadata": {
        "id": "gA0OZ3ai9jfL",
        "colab_type": "code",
        "outputId": "a0b1ef00-8f8c-4638-825f-e649bfa743df",
        "colab": {
          "base_uri": "https://localhost:8080/",
          "height": 50
        }
      },
      "source": [
        "X_train, y_train = make_windows(train_df)\n",
        "X_val, y_val = make_windows(val_df)"
      ],
      "execution_count": 15,
      "outputs": [
        {
          "output_type": "stream",
          "text": [
            "100%|██████████| 69697/69697 [00:10<00:00, 6545.22it/s]\n",
            "100%|██████████| 12097/12097 [00:01<00:00, 9320.31it/s]\n"
          ],
          "name": "stderr"
        }
      ]
    },
    {
      "cell_type": "code",
      "metadata": {
        "id": "PYIjlW5cfrVO",
        "colab_type": "code",
        "colab": {}
      },
      "source": [
        "X_train = X_train.reshape(X_train.shape[0], args.subsequences, -1, 1)\n",
        "X_val = X_val.reshape(X_val.shape[0], args.subsequences, -1, 1)"
      ],
      "execution_count": 0,
      "outputs": []
    },
    {
      "cell_type": "code",
      "metadata": {
        "id": "I3VW1zzYNnAC",
        "colab_type": "code",
        "colab": {}
      },
      "source": [
        "sgd = tf.keras.optimizers.SGD(lr=0.1, decay=1e-2, momentum=0.9, nesterov=True)\n",
        "earlystop = tf.keras.callbacks.EarlyStopping(monitor='val_loss', min_delta=0, patience=2)\n",
        "#best_val = tf.keras.callbacks.ModelCheckpoint('model_checkpoints/' + args.save_folder + '/model_{epoch:02d}.h5', save_best_only=True, mode='min', save_freq='epoch')"
      ],
      "execution_count": 0,
      "outputs": []
    },
    {
      "cell_type": "code",
      "metadata": {
        "id": "B6ZVgWyMLfLz",
        "colab_type": "code",
        "colab": {}
      },
      "source": [
        "def build_model(hp):\n",
        "\n",
        "  conv_num_channels = hp.Int('num_channels', min_value=50, max_value=200, step=50)\n",
        "  pool_size = hp.Int('kernel_size', min_value=6, max_value=36, step=6)\n",
        "  #lstm_hidden_dim = hp.Int('num_channels', min_value=100, max_value=200, step=50)\n",
        "\n",
        "  model = tf.keras.Sequential()\n",
        "  model.add(tf.keras.layers.TimeDistributed(tf.keras.layers.Conv1D(filters = conv_num_channels, kernel_size = 1, activation = 'relu'), input_shape = (None, X_train.shape[2], 1)))\n",
        "  model.add(tf.keras.layers.TimeDistributed(tf.keras.layers.MaxPooling1D(pool_size = pool_size)))\n",
        "  model.add(tf.keras.layers.TimeDistributed(tf.keras.layers.Flatten()))\n",
        "  model.add(tf.keras.layers.LSTM(args.lstm_hidden_dim, activation = 'relu'))\n",
        "  model.add(tf.keras.layers.Dense(args.val_seq_len))\n",
        "\n",
        "  model.compile(loss='mean_squared_error', optimizer=sgd, metrics=['mean_squared_error'])\n",
        "\n",
        "  return model"
      ],
      "execution_count": 0,
      "outputs": []
    },
    {
      "cell_type": "code",
      "metadata": {
        "id": "x8bvjE8vLfNV",
        "colab_type": "code",
        "colab": {
          "base_uri": "https://localhost:8080/",
          "height": 54
        },
        "outputId": "37b9ff85-0422-47ea-bf85-8833e58367aa"
      },
      "source": [
        "tuner = BayesianOptimization(\n",
        "    build_model,\n",
        "    objective='mean_squared_error',\n",
        "    max_trials=20,\n",
        "    executions_per_trial=2,\n",
        "    directory=args.logs_dir,\n",
        "    project_name=args.save_folder,\n",
        "    overwrite = True)"
      ],
      "execution_count": 19,
      "outputs": [
        {
          "output_type": "stream",
          "text": [
            "WARNING:tensorflow:Layer lstm will not use cuDNN kernel since it doesn't meet the cuDNN kernel criteria. It will use generic GPU kernel as fallback when running on GPU\n"
          ],
          "name": "stdout"
        }
      ]
    },
    {
      "cell_type": "code",
      "metadata": {
        "id": "FSYpX9QZLfOC",
        "colab_type": "code",
        "outputId": "d258da8d-8d31-4064-e29e-ba92c31c7648",
        "colab": {
          "base_uri": "https://localhost:8080/",
          "height": 313
        }
      },
      "source": [
        "tuner.search_space_summary()"
      ],
      "execution_count": 20,
      "outputs": [
        {
          "output_type": "display_data",
          "data": {
            "text/html": [
              "<span style=\"color:#4527A0\"><h1 style=\"font-size:18px\">Search space summary</h1></span>"
            ],
            "text/plain": [
              "<IPython.core.display.HTML object>"
            ]
          },
          "metadata": {
            "tags": []
          }
        },
        {
          "output_type": "display_data",
          "data": {
            "text/html": [
              "<span style=\"color:cyan\"> |-Default search space size: 2</span>"
            ],
            "text/plain": [
              "<IPython.core.display.HTML object>"
            ]
          },
          "metadata": {
            "tags": []
          }
        },
        {
          "output_type": "display_data",
          "data": {
            "text/html": [
              "<span style=\"color:#7E57C2\"><h2 style=\"font-size:16px\">num_channels (Int)</h2></span>"
            ],
            "text/plain": [
              "<IPython.core.display.HTML object>"
            ]
          },
          "metadata": {
            "tags": []
          }
        },
        {
          "output_type": "display_data",
          "data": {
            "text/html": [
              "<span style=\"color:cyan\"> |-default: None</span>"
            ],
            "text/plain": [
              "<IPython.core.display.HTML object>"
            ]
          },
          "metadata": {
            "tags": []
          }
        },
        {
          "output_type": "display_data",
          "data": {
            "text/html": [
              "<span style=\"color:blue\"> |-max_value: 200</span>"
            ],
            "text/plain": [
              "<IPython.core.display.HTML object>"
            ]
          },
          "metadata": {
            "tags": []
          }
        },
        {
          "output_type": "display_data",
          "data": {
            "text/html": [
              "<span style=\"color:cyan\"> |-min_value: 50</span>"
            ],
            "text/plain": [
              "<IPython.core.display.HTML object>"
            ]
          },
          "metadata": {
            "tags": []
          }
        },
        {
          "output_type": "display_data",
          "data": {
            "text/html": [
              "<span style=\"color:blue\"> |-sampling: None</span>"
            ],
            "text/plain": [
              "<IPython.core.display.HTML object>"
            ]
          },
          "metadata": {
            "tags": []
          }
        },
        {
          "output_type": "display_data",
          "data": {
            "text/html": [
              "<span style=\"color:cyan\"> |-step: 50</span>"
            ],
            "text/plain": [
              "<IPython.core.display.HTML object>"
            ]
          },
          "metadata": {
            "tags": []
          }
        },
        {
          "output_type": "display_data",
          "data": {
            "text/html": [
              "<span style=\"color:#7E57C2\"><h2 style=\"font-size:16px\">kernel_size (Int)</h2></span>"
            ],
            "text/plain": [
              "<IPython.core.display.HTML object>"
            ]
          },
          "metadata": {
            "tags": []
          }
        },
        {
          "output_type": "display_data",
          "data": {
            "text/html": [
              "<span style=\"color:cyan\"> |-default: None</span>"
            ],
            "text/plain": [
              "<IPython.core.display.HTML object>"
            ]
          },
          "metadata": {
            "tags": []
          }
        },
        {
          "output_type": "display_data",
          "data": {
            "text/html": [
              "<span style=\"color:blue\"> |-max_value: 36</span>"
            ],
            "text/plain": [
              "<IPython.core.display.HTML object>"
            ]
          },
          "metadata": {
            "tags": []
          }
        },
        {
          "output_type": "display_data",
          "data": {
            "text/html": [
              "<span style=\"color:cyan\"> |-min_value: 6</span>"
            ],
            "text/plain": [
              "<IPython.core.display.HTML object>"
            ]
          },
          "metadata": {
            "tags": []
          }
        },
        {
          "output_type": "display_data",
          "data": {
            "text/html": [
              "<span style=\"color:blue\"> |-sampling: None</span>"
            ],
            "text/plain": [
              "<IPython.core.display.HTML object>"
            ]
          },
          "metadata": {
            "tags": []
          }
        },
        {
          "output_type": "display_data",
          "data": {
            "text/html": [
              "<span style=\"color:cyan\"> |-step: 6</span>"
            ],
            "text/plain": [
              "<IPython.core.display.HTML object>"
            ]
          },
          "metadata": {
            "tags": []
          }
        }
      ]
    },
    {
      "cell_type": "code",
      "metadata": {
        "id": "BHeho9-KLfOr",
        "colab_type": "code",
        "outputId": "66b0090e-9cb4-4089-8399-5058298d0c2a",
        "colab": {
          "base_uri": "https://localhost:8080/",
          "height": 1000
        }
      },
      "source": [
        "tuner.search(X_train, y_train, batch_size = args.batch_size, epochs = args.num_epochs, validation_data = (X_val, y_val), callbacks = [earlystop], verbose=True)"
      ],
      "execution_count": 21,
      "outputs": [
        {
          "output_type": "stream",
          "text": [
            "WARNING:tensorflow:Layer lstm will not use cuDNN kernel since it doesn't meet the cuDNN kernel criteria. It will use generic GPU kernel as fallback when running on GPU\n",
            "Epoch 1/50\n",
            "69/69 [==============================] - 10s 139ms/step - loss: 0.0807 - mean_squared_error: 0.0807 - val_loss: 0.0309 - val_mean_squared_error: 0.0309\n",
            "Epoch 2/50\n",
            "69/69 [==============================] - 9s 133ms/step - loss: 0.0262 - mean_squared_error: 0.0262 - val_loss: 0.0214 - val_mean_squared_error: 0.0214\n",
            "Epoch 3/50\n",
            "69/69 [==============================] - 9s 132ms/step - loss: 0.0235 - mean_squared_error: 0.0235 - val_loss: 0.0212 - val_mean_squared_error: 0.0212\n",
            "Epoch 4/50\n",
            "69/69 [==============================] - 9s 132ms/step - loss: 0.0231 - mean_squared_error: 0.0231 - val_loss: 0.0212 - val_mean_squared_error: 0.0212\n",
            "Epoch 5/50\n",
            "69/69 [==============================] - 9s 134ms/step - loss: 0.0228 - mean_squared_error: 0.0228 - val_loss: 0.0211 - val_mean_squared_error: 0.0211\n",
            "Epoch 6/50\n",
            "69/69 [==============================] - 9s 132ms/step - loss: 0.0225 - mean_squared_error: 0.0225 - val_loss: 0.0210 - val_mean_squared_error: 0.0210\n",
            "Epoch 7/50\n",
            "69/69 [==============================] - 9s 133ms/step - loss: 0.0223 - mean_squared_error: 0.0223 - val_loss: 0.0210 - val_mean_squared_error: 0.0210\n",
            "Epoch 8/50\n",
            "69/69 [==============================] - 9s 132ms/step - loss: 0.0221 - mean_squared_error: 0.0221 - val_loss: 0.0209 - val_mean_squared_error: 0.0209\n",
            "Epoch 9/50\n",
            "69/69 [==============================] - 9s 134ms/step - loss: 0.0219 - mean_squared_error: 0.0219 - val_loss: 0.0208 - val_mean_squared_error: 0.0208\n",
            "Epoch 10/50\n",
            "69/69 [==============================] - 9s 132ms/step - loss: 0.0218 - mean_squared_error: 0.0218 - val_loss: 0.0208 - val_mean_squared_error: 0.0208\n",
            "Epoch 11/50\n",
            "69/69 [==============================] - 9s 133ms/step - loss: 0.0217 - mean_squared_error: 0.0217 - val_loss: 0.0207 - val_mean_squared_error: 0.0207\n",
            "Epoch 12/50\n",
            "69/69 [==============================] - 9s 132ms/step - loss: 0.0216 - mean_squared_error: 0.0216 - val_loss: 0.0207 - val_mean_squared_error: 0.0207\n",
            "Epoch 13/50\n",
            "69/69 [==============================] - 9s 134ms/step - loss: 0.0215 - mean_squared_error: 0.0215 - val_loss: 0.0206 - val_mean_squared_error: 0.0206\n",
            "Epoch 14/50\n",
            "69/69 [==============================] - 9s 132ms/step - loss: 0.0214 - mean_squared_error: 0.0214 - val_loss: 0.0206 - val_mean_squared_error: 0.0206\n",
            "Epoch 15/50\n",
            "69/69 [==============================] - 9s 132ms/step - loss: 0.0213 - mean_squared_error: 0.0213 - val_loss: 0.0205 - val_mean_squared_error: 0.0205\n",
            "Epoch 16/50\n",
            "69/69 [==============================] - 9s 132ms/step - loss: 0.0212 - mean_squared_error: 0.0212 - val_loss: 0.0205 - val_mean_squared_error: 0.0205\n",
            "Epoch 17/50\n",
            "69/69 [==============================] - 9s 132ms/step - loss: 0.0212 - mean_squared_error: 0.0212 - val_loss: 0.0205 - val_mean_squared_error: 0.0205\n",
            "Epoch 18/50\n",
            "69/69 [==============================] - 9s 134ms/step - loss: 0.0211 - mean_squared_error: 0.0211 - val_loss: 0.0204 - val_mean_squared_error: 0.0204\n",
            "Epoch 19/50\n",
            "69/69 [==============================] - 9s 132ms/step - loss: 0.0211 - mean_squared_error: 0.0211 - val_loss: 0.0204 - val_mean_squared_error: 0.0204\n",
            "Epoch 20/50\n",
            "69/69 [==============================] - 9s 132ms/step - loss: 0.0210 - mean_squared_error: 0.0210 - val_loss: 0.0203 - val_mean_squared_error: 0.0203\n",
            "Epoch 21/50\n",
            "69/69 [==============================] - 9s 132ms/step - loss: 0.0210 - mean_squared_error: 0.0210 - val_loss: 0.0203 - val_mean_squared_error: 0.0203\n",
            "Epoch 22/50\n",
            "69/69 [==============================] - 9s 134ms/step - loss: 0.0209 - mean_squared_error: 0.0209 - val_loss: 0.0203 - val_mean_squared_error: 0.0203\n",
            "Epoch 23/50\n",
            "69/69 [==============================] - 9s 132ms/step - loss: 0.0209 - mean_squared_error: 0.0209 - val_loss: 0.0202 - val_mean_squared_error: 0.0202\n",
            "Epoch 24/50\n",
            "69/69 [==============================] - 9s 132ms/step - loss: 0.0208 - mean_squared_error: 0.0208 - val_loss: 0.0202 - val_mean_squared_error: 0.0202\n",
            "Epoch 25/50\n",
            "69/69 [==============================] - 9s 132ms/step - loss: 0.0208 - mean_squared_error: 0.0208 - val_loss: 0.0202 - val_mean_squared_error: 0.0202\n",
            "Epoch 26/50\n",
            "69/69 [==============================] - 9s 132ms/step - loss: 0.0208 - mean_squared_error: 0.0208 - val_loss: 0.0201 - val_mean_squared_error: 0.0201\n",
            "Epoch 27/50\n",
            "69/69 [==============================] - 9s 132ms/step - loss: 0.0207 - mean_squared_error: 0.0207 - val_loss: 0.0201 - val_mean_squared_error: 0.0201\n",
            "Epoch 28/50\n",
            "69/69 [==============================] - 9s 134ms/step - loss: 0.0207 - mean_squared_error: 0.0207 - val_loss: 0.0201 - val_mean_squared_error: 0.0201\n",
            "Epoch 29/50\n",
            "69/69 [==============================] - 9s 132ms/step - loss: 0.0206 - mean_squared_error: 0.0206 - val_loss: 0.0201 - val_mean_squared_error: 0.0201\n",
            "Epoch 30/50\n",
            "69/69 [==============================] - 9s 132ms/step - loss: 0.0206 - mean_squared_error: 0.0206 - val_loss: 0.0200 - val_mean_squared_error: 0.0200\n",
            "Epoch 31/50\n",
            "69/69 [==============================] - 9s 132ms/step - loss: 0.0206 - mean_squared_error: 0.0206 - val_loss: 0.0200 - val_mean_squared_error: 0.0200\n",
            "Epoch 32/50\n",
            "69/69 [==============================] - 9s 133ms/step - loss: 0.0205 - mean_squared_error: 0.0205 - val_loss: 0.0200 - val_mean_squared_error: 0.0200\n",
            "Epoch 33/50\n",
            "69/69 [==============================] - 9s 131ms/step - loss: 0.0205 - mean_squared_error: 0.0205 - val_loss: 0.0199 - val_mean_squared_error: 0.0199\n",
            "Epoch 34/50\n",
            "69/69 [==============================] - 9s 132ms/step - loss: 0.0205 - mean_squared_error: 0.0205 - val_loss: 0.0199 - val_mean_squared_error: 0.0199\n",
            "Epoch 35/50\n",
            "69/69 [==============================] - 9s 132ms/step - loss: 0.0204 - mean_squared_error: 0.0204 - val_loss: 0.0199 - val_mean_squared_error: 0.0199\n",
            "Epoch 36/50\n",
            "69/69 [==============================] - 9s 134ms/step - loss: 0.0204 - mean_squared_error: 0.0204 - val_loss: 0.0198 - val_mean_squared_error: 0.0198\n",
            "Epoch 37/50\n",
            "69/69 [==============================] - 9s 132ms/step - loss: 0.0204 - mean_squared_error: 0.0204 - val_loss: 0.0198 - val_mean_squared_error: 0.0198\n",
            "Epoch 38/50\n",
            "69/69 [==============================] - 9s 132ms/step - loss: 0.0204 - mean_squared_error: 0.0204 - val_loss: 0.0198 - val_mean_squared_error: 0.0198\n",
            "Epoch 39/50\n",
            "69/69 [==============================] - 9s 134ms/step - loss: 0.0203 - mean_squared_error: 0.0203 - val_loss: 0.0198 - val_mean_squared_error: 0.0198\n",
            "Epoch 40/50\n",
            "69/69 [==============================] - 9s 131ms/step - loss: 0.0203 - mean_squared_error: 0.0203 - val_loss: 0.0197 - val_mean_squared_error: 0.0197\n",
            "Epoch 41/50\n",
            "69/69 [==============================] - 9s 133ms/step - loss: 0.0203 - mean_squared_error: 0.0203 - val_loss: 0.0197 - val_mean_squared_error: 0.0197\n",
            "Epoch 42/50\n",
            "69/69 [==============================] - 9s 132ms/step - loss: 0.0202 - mean_squared_error: 0.0202 - val_loss: 0.0197 - val_mean_squared_error: 0.0197\n",
            "Epoch 43/50\n",
            "69/69 [==============================] - 9s 134ms/step - loss: 0.0202 - mean_squared_error: 0.0202 - val_loss: 0.0197 - val_mean_squared_error: 0.0197\n",
            "Epoch 44/50\n",
            "69/69 [==============================] - 9s 132ms/step - loss: 0.0202 - mean_squared_error: 0.0202 - val_loss: 0.0196 - val_mean_squared_error: 0.0196\n",
            "Epoch 45/50\n",
            "69/69 [==============================] - 9s 133ms/step - loss: 0.0202 - mean_squared_error: 0.0202 - val_loss: 0.0196 - val_mean_squared_error: 0.0196\n",
            "Epoch 46/50\n",
            "69/69 [==============================] - 9s 132ms/step - loss: 0.0201 - mean_squared_error: 0.0201 - val_loss: 0.0196 - val_mean_squared_error: 0.0196\n",
            "Epoch 47/50\n",
            "69/69 [==============================] - 9s 132ms/step - loss: 0.0201 - mean_squared_error: 0.0201 - val_loss: 0.0196 - val_mean_squared_error: 0.0196\n",
            "Epoch 48/50\n",
            "69/69 [==============================] - 9s 132ms/step - loss: 0.0201 - mean_squared_error: 0.0201 - val_loss: 0.0195 - val_mean_squared_error: 0.0195\n",
            "Epoch 49/50\n",
            "69/69 [==============================] - 9s 134ms/step - loss: 0.0201 - mean_squared_error: 0.0201 - val_loss: 0.0195 - val_mean_squared_error: 0.0195\n",
            "Epoch 50/50\n",
            "69/69 [==============================] - 9s 131ms/step - loss: 0.0200 - mean_squared_error: 0.0200 - val_loss: 0.0195 - val_mean_squared_error: 0.0195\n",
            "WARNING:tensorflow:Layer lstm will not use cuDNN kernel since it doesn't meet the cuDNN kernel criteria. It will use generic GPU kernel as fallback when running on GPU\n",
            "Epoch 1/50\n",
            "69/69 [==============================] - 9s 133ms/step - loss: 0.1196 - mean_squared_error: 0.1196 - val_loss: 0.1049 - val_mean_squared_error: 0.1049\n",
            "Epoch 2/50\n",
            "69/69 [==============================] - 9s 130ms/step - loss: 0.1161 - mean_squared_error: 0.1161 - val_loss: 0.1017 - val_mean_squared_error: 0.1017\n",
            "Epoch 3/50\n",
            "69/69 [==============================] - 9s 130ms/step - loss: 0.1129 - mean_squared_error: 0.1129 - val_loss: 0.0988 - val_mean_squared_error: 0.0988\n",
            "Epoch 4/50\n",
            "69/69 [==============================] - 9s 130ms/step - loss: 0.1098 - mean_squared_error: 0.1098 - val_loss: 0.0960 - val_mean_squared_error: 0.0960\n",
            "Epoch 5/50\n",
            "69/69 [==============================] - 9s 130ms/step - loss: 0.1069 - mean_squared_error: 0.1069 - val_loss: 0.0933 - val_mean_squared_error: 0.0933\n",
            "Epoch 6/50\n",
            "69/69 [==============================] - 9s 130ms/step - loss: 0.1041 - mean_squared_error: 0.1041 - val_loss: 0.0906 - val_mean_squared_error: 0.0906\n",
            "Epoch 7/50\n",
            "69/69 [==============================] - 9s 130ms/step - loss: 0.1013 - mean_squared_error: 0.1013 - val_loss: 0.0879 - val_mean_squared_error: 0.0879\n",
            "Epoch 8/50\n",
            "69/69 [==============================] - 9s 130ms/step - loss: 0.0984 - mean_squared_error: 0.0984 - val_loss: 0.0853 - val_mean_squared_error: 0.0853\n",
            "Epoch 9/50\n",
            "69/69 [==============================] - 9s 130ms/step - loss: 0.0956 - mean_squared_error: 0.0956 - val_loss: 0.0826 - val_mean_squared_error: 0.0826\n",
            "Epoch 10/50\n",
            "69/69 [==============================] - 9s 130ms/step - loss: 0.0927 - mean_squared_error: 0.0927 - val_loss: 0.0799 - val_mean_squared_error: 0.0799\n",
            "Epoch 11/50\n",
            "69/69 [==============================] - 9s 130ms/step - loss: 0.0897 - mean_squared_error: 0.0897 - val_loss: 0.0771 - val_mean_squared_error: 0.0771\n",
            "Epoch 12/50\n",
            "69/69 [==============================] - 9s 131ms/step - loss: 0.0867 - mean_squared_error: 0.0867 - val_loss: 0.0742 - val_mean_squared_error: 0.0742\n",
            "Epoch 13/50\n",
            "69/69 [==============================] - 9s 130ms/step - loss: 0.0835 - mean_squared_error: 0.0835 - val_loss: 0.0713 - val_mean_squared_error: 0.0713\n",
            "Epoch 14/50\n",
            "69/69 [==============================] - 9s 130ms/step - loss: 0.0803 - mean_squared_error: 0.0803 - val_loss: 0.0683 - val_mean_squared_error: 0.0683\n",
            "Epoch 15/50\n",
            "69/69 [==============================] - 9s 130ms/step - loss: 0.0769 - mean_squared_error: 0.0769 - val_loss: 0.0652 - val_mean_squared_error: 0.0652\n",
            "Epoch 16/50\n",
            "69/69 [==============================] - 9s 131ms/step - loss: 0.0734 - mean_squared_error: 0.0734 - val_loss: 0.0620 - val_mean_squared_error: 0.0620\n",
            "Epoch 17/50\n",
            "69/69 [==============================] - 9s 130ms/step - loss: 0.0698 - mean_squared_error: 0.0698 - val_loss: 0.0587 - val_mean_squared_error: 0.0587\n",
            "Epoch 18/50\n",
            "69/69 [==============================] - 9s 130ms/step - loss: 0.0662 - mean_squared_error: 0.0662 - val_loss: 0.0555 - val_mean_squared_error: 0.0555\n",
            "Epoch 19/50\n",
            "69/69 [==============================] - 9s 131ms/step - loss: 0.0626 - mean_squared_error: 0.0626 - val_loss: 0.0523 - val_mean_squared_error: 0.0523\n",
            "Epoch 20/50\n",
            "69/69 [==============================] - 9s 130ms/step - loss: 0.0590 - mean_squared_error: 0.0590 - val_loss: 0.0492 - val_mean_squared_error: 0.0492\n",
            "Epoch 21/50\n",
            "69/69 [==============================] - 9s 130ms/step - loss: 0.0555 - mean_squared_error: 0.0555 - val_loss: 0.0462 - val_mean_squared_error: 0.0462\n",
            "Epoch 22/50\n",
            "69/69 [==============================] - 9s 131ms/step - loss: 0.0521 - mean_squared_error: 0.0521 - val_loss: 0.0435 - val_mean_squared_error: 0.0435\n",
            "Epoch 23/50\n",
            "69/69 [==============================] - 9s 130ms/step - loss: 0.0490 - mean_squared_error: 0.0490 - val_loss: 0.0409 - val_mean_squared_error: 0.0409\n",
            "Epoch 24/50\n",
            "69/69 [==============================] - 9s 130ms/step - loss: 0.0461 - mean_squared_error: 0.0461 - val_loss: 0.0385 - val_mean_squared_error: 0.0385\n",
            "Epoch 25/50\n",
            "69/69 [==============================] - 9s 130ms/step - loss: 0.0434 - mean_squared_error: 0.0434 - val_loss: 0.0364 - val_mean_squared_error: 0.0364\n",
            "Epoch 26/50\n",
            "69/69 [==============================] - 9s 130ms/step - loss: 0.0410 - mean_squared_error: 0.0410 - val_loss: 0.0345 - val_mean_squared_error: 0.0345\n",
            "Epoch 27/50\n",
            "69/69 [==============================] - 9s 130ms/step - loss: 0.0389 - mean_squared_error: 0.0389 - val_loss: 0.0328 - val_mean_squared_error: 0.0328\n",
            "Epoch 28/50\n",
            "69/69 [==============================] - 9s 130ms/step - loss: 0.0369 - mean_squared_error: 0.0369 - val_loss: 0.0313 - val_mean_squared_error: 0.0313\n",
            "Epoch 29/50\n",
            "69/69 [==============================] - 9s 130ms/step - loss: 0.0352 - mean_squared_error: 0.0352 - val_loss: 0.0299 - val_mean_squared_error: 0.0299\n",
            "Epoch 30/50\n",
            "69/69 [==============================] - 9s 130ms/step - loss: 0.0337 - mean_squared_error: 0.0337 - val_loss: 0.0288 - val_mean_squared_error: 0.0288\n",
            "Epoch 31/50\n",
            "69/69 [==============================] - 9s 130ms/step - loss: 0.0324 - mean_squared_error: 0.0324 - val_loss: 0.0277 - val_mean_squared_error: 0.0277\n",
            "Epoch 32/50\n",
            "69/69 [==============================] - 9s 130ms/step - loss: 0.0312 - mean_squared_error: 0.0312 - val_loss: 0.0269 - val_mean_squared_error: 0.0269\n",
            "Epoch 33/50\n",
            "69/69 [==============================] - 9s 130ms/step - loss: 0.0302 - mean_squared_error: 0.0302 - val_loss: 0.0261 - val_mean_squared_error: 0.0261\n",
            "Epoch 34/50\n",
            "69/69 [==============================] - 9s 130ms/step - loss: 0.0294 - mean_squared_error: 0.0294 - val_loss: 0.0255 - val_mean_squared_error: 0.0255\n",
            "Epoch 35/50\n",
            "69/69 [==============================] - 9s 130ms/step - loss: 0.0286 - mean_squared_error: 0.0286 - val_loss: 0.0249 - val_mean_squared_error: 0.0249\n",
            "Epoch 36/50\n",
            "69/69 [==============================] - 9s 130ms/step - loss: 0.0280 - mean_squared_error: 0.0280 - val_loss: 0.0244 - val_mean_squared_error: 0.0244\n",
            "Epoch 37/50\n",
            "69/69 [==============================] - 9s 130ms/step - loss: 0.0274 - mean_squared_error: 0.0274 - val_loss: 0.0240 - val_mean_squared_error: 0.0240\n",
            "Epoch 38/50\n",
            "69/69 [==============================] - 9s 130ms/step - loss: 0.0269 - mean_squared_error: 0.0269 - val_loss: 0.0236 - val_mean_squared_error: 0.0236\n",
            "Epoch 39/50\n",
            "69/69 [==============================] - 9s 130ms/step - loss: 0.0265 - mean_squared_error: 0.0265 - val_loss: 0.0233 - val_mean_squared_error: 0.0233\n",
            "Epoch 40/50\n",
            "69/69 [==============================] - 9s 130ms/step - loss: 0.0261 - mean_squared_error: 0.0261 - val_loss: 0.0231 - val_mean_squared_error: 0.0231\n",
            "Epoch 41/50\n",
            "69/69 [==============================] - 9s 130ms/step - loss: 0.0258 - mean_squared_error: 0.0258 - val_loss: 0.0228 - val_mean_squared_error: 0.0228\n",
            "Epoch 42/50\n",
            "69/69 [==============================] - 9s 130ms/step - loss: 0.0255 - mean_squared_error: 0.0255 - val_loss: 0.0226 - val_mean_squared_error: 0.0226\n",
            "Epoch 43/50\n",
            "69/69 [==============================] - 9s 130ms/step - loss: 0.0253 - mean_squared_error: 0.0253 - val_loss: 0.0225 - val_mean_squared_error: 0.0225\n",
            "Epoch 44/50\n",
            "69/69 [==============================] - 9s 130ms/step - loss: 0.0251 - mean_squared_error: 0.0251 - val_loss: 0.0223 - val_mean_squared_error: 0.0223\n",
            "Epoch 45/50\n",
            "69/69 [==============================] - 9s 130ms/step - loss: 0.0249 - mean_squared_error: 0.0249 - val_loss: 0.0222 - val_mean_squared_error: 0.0222\n",
            "Epoch 46/50\n",
            "69/69 [==============================] - 9s 130ms/step - loss: 0.0248 - mean_squared_error: 0.0248 - val_loss: 0.0221 - val_mean_squared_error: 0.0221\n",
            "Epoch 47/50\n",
            "69/69 [==============================] - 9s 130ms/step - loss: 0.0246 - mean_squared_error: 0.0246 - val_loss: 0.0220 - val_mean_squared_error: 0.0220\n",
            "Epoch 48/50\n",
            "69/69 [==============================] - 9s 130ms/step - loss: 0.0245 - mean_squared_error: 0.0245 - val_loss: 0.0219 - val_mean_squared_error: 0.0219\n",
            "Epoch 49/50\n",
            "69/69 [==============================] - 9s 130ms/step - loss: 0.0244 - mean_squared_error: 0.0244 - val_loss: 0.0219 - val_mean_squared_error: 0.0219\n",
            "Epoch 50/50\n",
            "69/69 [==============================] - 9s 131ms/step - loss: 0.0243 - mean_squared_error: 0.0243 - val_loss: 0.0218 - val_mean_squared_error: 0.0218\n"
          ],
          "name": "stdout"
        },
        {
          "output_type": "display_data",
          "data": {
            "text/html": [
              "<span style=\"color:#4527A0\"><h1 style=\"font-size:18px\">Trial complete</h1></span>"
            ],
            "text/plain": [
              "<IPython.core.display.HTML object>"
            ]
          },
          "metadata": {
            "tags": []
          }
        },
        {
          "output_type": "display_data",
          "data": {
            "text/html": [
              "<span style=\"color:#4527A0\"><h1 style=\"font-size:18px\">Trial summary</h1></span>"
            ],
            "text/plain": [
              "<IPython.core.display.HTML object>"
            ]
          },
          "metadata": {
            "tags": []
          }
        },
        {
          "output_type": "display_data",
          "data": {
            "text/html": [
              "<span style=\"color:cyan\"> |-Trial ID: 3beece8c4689f9de305d7eb0744534e6</span>"
            ],
            "text/plain": [
              "<IPython.core.display.HTML object>"
            ]
          },
          "metadata": {
            "tags": []
          }
        },
        {
          "output_type": "display_data",
          "data": {
            "text/html": [
              "<span style=\"color:cyan\"> |-Score: 0.02215520292520523</span>"
            ],
            "text/plain": [
              "<IPython.core.display.HTML object>"
            ]
          },
          "metadata": {
            "tags": []
          }
        },
        {
          "output_type": "display_data",
          "data": {
            "text/html": [
              "<span style=\"color:cyan\"> |-Best step: 0</span>"
            ],
            "text/plain": [
              "<IPython.core.display.HTML object>"
            ]
          },
          "metadata": {
            "tags": []
          }
        },
        {
          "output_type": "display_data",
          "data": {
            "text/html": [
              "<span style=\"color:#7E57C2\"><h2 style=\"font-size:16px\">Hyperparameters:</h2></span>"
            ],
            "text/plain": [
              "<IPython.core.display.HTML object>"
            ]
          },
          "metadata": {
            "tags": []
          }
        },
        {
          "output_type": "display_data",
          "data": {
            "text/html": [
              "<span style=\"color:cyan\"> |-kernel_size: 30</span>"
            ],
            "text/plain": [
              "<IPython.core.display.HTML object>"
            ]
          },
          "metadata": {
            "tags": []
          }
        },
        {
          "output_type": "display_data",
          "data": {
            "text/html": [
              "<span style=\"color:blue\"> |-num_channels: 150</span>"
            ],
            "text/plain": [
              "<IPython.core.display.HTML object>"
            ]
          },
          "metadata": {
            "tags": []
          }
        },
        {
          "output_type": "stream",
          "text": [
            "WARNING:tensorflow:Layer lstm will not use cuDNN kernel since it doesn't meet the cuDNN kernel criteria. It will use generic GPU kernel as fallback when running on GPU\n",
            "Epoch 1/50\n",
            "69/69 [==============================] - 9s 124ms/step - loss: 0.1202 - mean_squared_error: 0.1202 - val_loss: 0.1060 - val_mean_squared_error: 0.1060\n",
            "Epoch 2/50\n",
            "69/69 [==============================] - 8s 121ms/step - loss: 0.1177 - mean_squared_error: 0.1177 - val_loss: 0.1037 - val_mean_squared_error: 0.1037\n",
            "Epoch 3/50\n",
            "69/69 [==============================] - 9s 124ms/step - loss: 0.1153 - mean_squared_error: 0.1153 - val_loss: 0.1015 - val_mean_squared_error: 0.1015\n",
            "Epoch 4/50\n",
            "69/69 [==============================] - 8s 121ms/step - loss: 0.1131 - mean_squared_error: 0.1131 - val_loss: 0.0995 - val_mean_squared_error: 0.0995\n",
            "Epoch 5/50\n",
            "69/69 [==============================] - 9s 124ms/step - loss: 0.1110 - mean_squared_error: 0.1110 - val_loss: 0.0976 - val_mean_squared_error: 0.0976\n",
            "Epoch 6/50\n",
            "69/69 [==============================] - 8s 122ms/step - loss: 0.1089 - mean_squared_error: 0.1089 - val_loss: 0.0956 - val_mean_squared_error: 0.0956\n",
            "Epoch 7/50\n",
            "69/69 [==============================] - 8s 122ms/step - loss: 0.1069 - mean_squared_error: 0.1069 - val_loss: 0.0937 - val_mean_squared_error: 0.0937\n",
            "Epoch 8/50\n",
            "69/69 [==============================] - 8s 121ms/step - loss: 0.1048 - mean_squared_error: 0.1048 - val_loss: 0.0918 - val_mean_squared_error: 0.0918\n",
            "Epoch 9/50\n",
            "69/69 [==============================] - 9s 123ms/step - loss: 0.1027 - mean_squared_error: 0.1027 - val_loss: 0.0899 - val_mean_squared_error: 0.0899\n",
            "Epoch 10/50\n",
            "69/69 [==============================] - 8s 121ms/step - loss: 0.1006 - mean_squared_error: 0.1006 - val_loss: 0.0879 - val_mean_squared_error: 0.0879\n",
            "Epoch 11/50\n",
            "69/69 [==============================] - 8s 121ms/step - loss: 0.0985 - mean_squared_error: 0.0985 - val_loss: 0.0859 - val_mean_squared_error: 0.0859\n",
            "Epoch 12/50\n",
            "69/69 [==============================] - 8s 122ms/step - loss: 0.0963 - mean_squared_error: 0.0963 - val_loss: 0.0838 - val_mean_squared_error: 0.0838\n",
            "Epoch 13/50\n",
            "69/69 [==============================] - 8s 123ms/step - loss: 0.0940 - mean_squared_error: 0.0940 - val_loss: 0.0817 - val_mean_squared_error: 0.0817\n",
            "Epoch 14/50\n",
            "69/69 [==============================] - 8s 121ms/step - loss: 0.0917 - mean_squared_error: 0.0917 - val_loss: 0.0795 - val_mean_squared_error: 0.0795\n",
            "Epoch 15/50\n",
            "69/69 [==============================] - 8s 122ms/step - loss: 0.0892 - mean_squared_error: 0.0892 - val_loss: 0.0773 - val_mean_squared_error: 0.0773\n",
            "Epoch 16/50\n",
            "69/69 [==============================] - 8s 121ms/step - loss: 0.0867 - mean_squared_error: 0.0867 - val_loss: 0.0750 - val_mean_squared_error: 0.0750\n",
            "Epoch 17/50\n",
            "69/69 [==============================] - 9s 123ms/step - loss: 0.0841 - mean_squared_error: 0.0841 - val_loss: 0.0726 - val_mean_squared_error: 0.0726\n",
            "Epoch 18/50\n",
            "69/69 [==============================] - 8s 121ms/step - loss: 0.0815 - mean_squared_error: 0.0815 - val_loss: 0.0701 - val_mean_squared_error: 0.0701\n",
            "Epoch 19/50\n",
            "69/69 [==============================] - 8s 121ms/step - loss: 0.0787 - mean_squared_error: 0.0787 - val_loss: 0.0676 - val_mean_squared_error: 0.0676\n",
            "Epoch 20/50\n",
            "69/69 [==============================] - 9s 124ms/step - loss: 0.0759 - mean_squared_error: 0.0759 - val_loss: 0.0651 - val_mean_squared_error: 0.0651\n",
            "Epoch 21/50\n",
            "69/69 [==============================] - 8s 121ms/step - loss: 0.0730 - mean_squared_error: 0.0730 - val_loss: 0.0625 - val_mean_squared_error: 0.0625\n",
            "Epoch 22/50\n",
            "69/69 [==============================] - 8s 121ms/step - loss: 0.0701 - mean_squared_error: 0.0701 - val_loss: 0.0600 - val_mean_squared_error: 0.0600\n",
            "Epoch 23/50\n",
            "69/69 [==============================] - 8s 121ms/step - loss: 0.0672 - mean_squared_error: 0.0672 - val_loss: 0.0575 - val_mean_squared_error: 0.0575\n",
            "Epoch 24/50\n",
            "69/69 [==============================] - 8s 123ms/step - loss: 0.0644 - mean_squared_error: 0.0644 - val_loss: 0.0550 - val_mean_squared_error: 0.0550\n",
            "Epoch 25/50\n",
            "69/69 [==============================] - 8s 121ms/step - loss: 0.0616 - mean_squared_error: 0.0616 - val_loss: 0.0527 - val_mean_squared_error: 0.0527\n",
            "Epoch 26/50\n",
            "69/69 [==============================] - 8s 122ms/step - loss: 0.0589 - mean_squared_error: 0.0589 - val_loss: 0.0504 - val_mean_squared_error: 0.0504\n",
            "Epoch 27/50\n",
            "69/69 [==============================] - 8s 122ms/step - loss: 0.0563 - mean_squared_error: 0.0563 - val_loss: 0.0482 - val_mean_squared_error: 0.0482\n",
            "Epoch 28/50\n",
            "69/69 [==============================] - 8s 122ms/step - loss: 0.0538 - mean_squared_error: 0.0538 - val_loss: 0.0461 - val_mean_squared_error: 0.0461\n",
            "Epoch 29/50\n",
            "69/69 [==============================] - 8s 121ms/step - loss: 0.0514 - mean_squared_error: 0.0514 - val_loss: 0.0441 - val_mean_squared_error: 0.0441\n",
            "Epoch 30/50\n",
            "69/69 [==============================] - 8s 123ms/step - loss: 0.0491 - mean_squared_error: 0.0491 - val_loss: 0.0422 - val_mean_squared_error: 0.0422\n",
            "Epoch 31/50\n",
            "69/69 [==============================] - 8s 121ms/step - loss: 0.0470 - mean_squared_error: 0.0470 - val_loss: 0.0405 - val_mean_squared_error: 0.0405\n",
            "Epoch 32/50\n",
            "69/69 [==============================] - 8s 121ms/step - loss: 0.0450 - mean_squared_error: 0.0450 - val_loss: 0.0388 - val_mean_squared_error: 0.0388\n",
            "Epoch 33/50\n",
            "69/69 [==============================] - 8s 121ms/step - loss: 0.0431 - mean_squared_error: 0.0431 - val_loss: 0.0373 - val_mean_squared_error: 0.0373\n",
            "Epoch 34/50\n",
            "69/69 [==============================] - 9s 124ms/step - loss: 0.0414 - mean_squared_error: 0.0414 - val_loss: 0.0358 - val_mean_squared_error: 0.0358\n",
            "Epoch 35/50\n",
            "69/69 [==============================] - 8s 121ms/step - loss: 0.0397 - mean_squared_error: 0.0397 - val_loss: 0.0345 - val_mean_squared_error: 0.0345\n",
            "Epoch 36/50\n",
            "69/69 [==============================] - 8s 121ms/step - loss: 0.0382 - mean_squared_error: 0.0382 - val_loss: 0.0333 - val_mean_squared_error: 0.0333\n",
            "Epoch 37/50\n",
            "69/69 [==============================] - 8s 121ms/step - loss: 0.0368 - mean_squared_error: 0.0368 - val_loss: 0.0322 - val_mean_squared_error: 0.0322\n",
            "Epoch 38/50\n",
            "69/69 [==============================] - 8s 121ms/step - loss: 0.0356 - mean_squared_error: 0.0356 - val_loss: 0.0311 - val_mean_squared_error: 0.0311\n",
            "Epoch 39/50\n",
            "69/69 [==============================] - 8s 121ms/step - loss: 0.0344 - mean_squared_error: 0.0344 - val_loss: 0.0302 - val_mean_squared_error: 0.0302\n",
            "Epoch 40/50\n",
            "69/69 [==============================] - 8s 122ms/step - loss: 0.0333 - mean_squared_error: 0.0333 - val_loss: 0.0293 - val_mean_squared_error: 0.0293\n",
            "Epoch 41/50\n",
            "69/69 [==============================] - 8s 122ms/step - loss: 0.0324 - mean_squared_error: 0.0324 - val_loss: 0.0286 - val_mean_squared_error: 0.0286\n",
            "Epoch 42/50\n",
            "69/69 [==============================] - 8s 121ms/step - loss: 0.0315 - mean_squared_error: 0.0315 - val_loss: 0.0279 - val_mean_squared_error: 0.0279\n",
            "Epoch 43/50\n",
            "69/69 [==============================] - 8s 123ms/step - loss: 0.0307 - mean_squared_error: 0.0307 - val_loss: 0.0272 - val_mean_squared_error: 0.0272\n",
            "Epoch 44/50\n",
            "69/69 [==============================] - 8s 121ms/step - loss: 0.0299 - mean_squared_error: 0.0299 - val_loss: 0.0266 - val_mean_squared_error: 0.0266\n",
            "Epoch 45/50\n",
            "69/69 [==============================] - 8s 122ms/step - loss: 0.0293 - mean_squared_error: 0.0293 - val_loss: 0.0261 - val_mean_squared_error: 0.0261\n",
            "Epoch 46/50\n",
            "69/69 [==============================] - 8s 121ms/step - loss: 0.0287 - mean_squared_error: 0.0287 - val_loss: 0.0256 - val_mean_squared_error: 0.0256\n",
            "Epoch 47/50\n",
            "69/69 [==============================] - 8s 122ms/step - loss: 0.0281 - mean_squared_error: 0.0281 - val_loss: 0.0252 - val_mean_squared_error: 0.0252\n",
            "Epoch 48/50\n",
            "69/69 [==============================] - 8s 122ms/step - loss: 0.0276 - mean_squared_error: 0.0276 - val_loss: 0.0248 - val_mean_squared_error: 0.0248\n",
            "Epoch 49/50\n",
            "69/69 [==============================] - 8s 123ms/step - loss: 0.0272 - mean_squared_error: 0.0272 - val_loss: 0.0245 - val_mean_squared_error: 0.0245\n",
            "Epoch 50/50\n",
            "69/69 [==============================] - 8s 121ms/step - loss: 0.0268 - mean_squared_error: 0.0268 - val_loss: 0.0242 - val_mean_squared_error: 0.0242\n",
            "WARNING:tensorflow:Layer lstm will not use cuDNN kernel since it doesn't meet the cuDNN kernel criteria. It will use generic GPU kernel as fallback when running on GPU\n",
            "Epoch 1/50\n",
            "69/69 [==============================] - 8s 122ms/step - loss: 0.1210 - mean_squared_error: 0.1210 - val_loss: 0.1073 - val_mean_squared_error: 0.1073\n",
            "Epoch 2/50\n",
            "69/69 [==============================] - 8s 120ms/step - loss: 0.1196 - mean_squared_error: 0.1196 - val_loss: 0.1059 - val_mean_squared_error: 0.1059\n",
            "Epoch 3/50\n",
            "69/69 [==============================] - 8s 120ms/step - loss: 0.1182 - mean_squared_error: 0.1182 - val_loss: 0.1047 - val_mean_squared_error: 0.1047\n",
            "Epoch 4/50\n",
            "69/69 [==============================] - 8s 120ms/step - loss: 0.1170 - mean_squared_error: 0.1170 - val_loss: 0.1035 - val_mean_squared_error: 0.1035\n",
            "Epoch 5/50\n",
            "69/69 [==============================] - 8s 120ms/step - loss: 0.1158 - mean_squared_error: 0.1158 - val_loss: 0.1024 - val_mean_squared_error: 0.1024\n",
            "Epoch 6/50\n",
            "69/69 [==============================] - 8s 120ms/step - loss: 0.1146 - mean_squared_error: 0.1146 - val_loss: 0.1013 - val_mean_squared_error: 0.1013\n",
            "Epoch 7/50\n",
            "69/69 [==============================] - 8s 120ms/step - loss: 0.1134 - mean_squared_error: 0.1134 - val_loss: 0.1003 - val_mean_squared_error: 0.1003\n",
            "Epoch 8/50\n",
            "69/69 [==============================] - 8s 119ms/step - loss: 0.1123 - mean_squared_error: 0.1123 - val_loss: 0.0992 - val_mean_squared_error: 0.0992\n",
            "Epoch 9/50\n",
            "69/69 [==============================] - 8s 120ms/step - loss: 0.1112 - mean_squared_error: 0.1112 - val_loss: 0.0982 - val_mean_squared_error: 0.0982\n",
            "Epoch 10/50\n",
            "69/69 [==============================] - 8s 120ms/step - loss: 0.1101 - mean_squared_error: 0.1101 - val_loss: 0.0972 - val_mean_squared_error: 0.0972\n",
            "Epoch 11/50\n",
            "69/69 [==============================] - 8s 120ms/step - loss: 0.1091 - mean_squared_error: 0.1091 - val_loss: 0.0962 - val_mean_squared_error: 0.0962\n",
            "Epoch 12/50\n",
            "69/69 [==============================] - 8s 120ms/step - loss: 0.1080 - mean_squared_error: 0.1080 - val_loss: 0.0952 - val_mean_squared_error: 0.0952\n",
            "Epoch 13/50\n",
            "69/69 [==============================] - 8s 120ms/step - loss: 0.1069 - mean_squared_error: 0.1069 - val_loss: 0.0942 - val_mean_squared_error: 0.0942\n",
            "Epoch 14/50\n",
            "69/69 [==============================] - 8s 120ms/step - loss: 0.1058 - mean_squared_error: 0.1058 - val_loss: 0.0932 - val_mean_squared_error: 0.0932\n",
            "Epoch 15/50\n",
            "69/69 [==============================] - 8s 120ms/step - loss: 0.1048 - mean_squared_error: 0.1048 - val_loss: 0.0921 - val_mean_squared_error: 0.0921\n",
            "Epoch 16/50\n",
            "69/69 [==============================] - 8s 120ms/step - loss: 0.1036 - mean_squared_error: 0.1036 - val_loss: 0.0911 - val_mean_squared_error: 0.0911\n",
            "Epoch 17/50\n",
            "69/69 [==============================] - 8s 119ms/step - loss: 0.1025 - mean_squared_error: 0.1025 - val_loss: 0.0901 - val_mean_squared_error: 0.0901\n",
            "Epoch 18/50\n",
            "69/69 [==============================] - 8s 120ms/step - loss: 0.1014 - mean_squared_error: 0.1014 - val_loss: 0.0890 - val_mean_squared_error: 0.0890\n",
            "Epoch 19/50\n",
            "69/69 [==============================] - 8s 120ms/step - loss: 0.1003 - mean_squared_error: 0.1003 - val_loss: 0.0879 - val_mean_squared_error: 0.0879\n",
            "Epoch 20/50\n",
            "69/69 [==============================] - 8s 120ms/step - loss: 0.0991 - mean_squared_error: 0.0991 - val_loss: 0.0869 - val_mean_squared_error: 0.0869\n",
            "Epoch 21/50\n",
            "69/69 [==============================] - 8s 120ms/step - loss: 0.0979 - mean_squared_error: 0.0979 - val_loss: 0.0858 - val_mean_squared_error: 0.0858\n",
            "Epoch 22/50\n",
            "69/69 [==============================] - 8s 120ms/step - loss: 0.0967 - mean_squared_error: 0.0967 - val_loss: 0.0846 - val_mean_squared_error: 0.0846\n",
            "Epoch 23/50\n",
            "69/69 [==============================] - 8s 120ms/step - loss: 0.0955 - mean_squared_error: 0.0955 - val_loss: 0.0835 - val_mean_squared_error: 0.0835\n",
            "Epoch 24/50\n",
            "69/69 [==============================] - 8s 121ms/step - loss: 0.0943 - mean_squared_error: 0.0943 - val_loss: 0.0824 - val_mean_squared_error: 0.0824\n",
            "Epoch 25/50\n",
            "69/69 [==============================] - 8s 120ms/step - loss: 0.0930 - mean_squared_error: 0.0930 - val_loss: 0.0812 - val_mean_squared_error: 0.0812\n",
            "Epoch 26/50\n",
            "69/69 [==============================] - 8s 121ms/step - loss: 0.0917 - mean_squared_error: 0.0917 - val_loss: 0.0800 - val_mean_squared_error: 0.0800\n",
            "Epoch 27/50\n",
            "69/69 [==============================] - 8s 120ms/step - loss: 0.0904 - mean_squared_error: 0.0904 - val_loss: 0.0788 - val_mean_squared_error: 0.0788\n",
            "Epoch 28/50\n",
            "69/69 [==============================] - 8s 119ms/step - loss: 0.0891 - mean_squared_error: 0.0891 - val_loss: 0.0776 - val_mean_squared_error: 0.0776\n",
            "Epoch 29/50\n",
            "69/69 [==============================] - 8s 120ms/step - loss: 0.0878 - mean_squared_error: 0.0878 - val_loss: 0.0764 - val_mean_squared_error: 0.0764\n",
            "Epoch 30/50\n",
            "69/69 [==============================] - 8s 120ms/step - loss: 0.0864 - mean_squared_error: 0.0864 - val_loss: 0.0751 - val_mean_squared_error: 0.0751\n",
            "Epoch 31/50\n",
            "69/69 [==============================] - 8s 120ms/step - loss: 0.0850 - mean_squared_error: 0.0850 - val_loss: 0.0739 - val_mean_squared_error: 0.0739\n",
            "Epoch 32/50\n",
            "69/69 [==============================] - 8s 119ms/step - loss: 0.0836 - mean_squared_error: 0.0836 - val_loss: 0.0726 - val_mean_squared_error: 0.0726\n",
            "Epoch 33/50\n",
            "69/69 [==============================] - 8s 120ms/step - loss: 0.0821 - mean_squared_error: 0.0821 - val_loss: 0.0713 - val_mean_squared_error: 0.0713\n",
            "Epoch 34/50\n",
            "69/69 [==============================] - 8s 120ms/step - loss: 0.0807 - mean_squared_error: 0.0807 - val_loss: 0.0699 - val_mean_squared_error: 0.0699\n",
            "Epoch 35/50\n",
            "69/69 [==============================] - 8s 120ms/step - loss: 0.0792 - mean_squared_error: 0.0792 - val_loss: 0.0686 - val_mean_squared_error: 0.0686\n",
            "Epoch 36/50\n",
            "69/69 [==============================] - 8s 120ms/step - loss: 0.0777 - mean_squared_error: 0.0777 - val_loss: 0.0673 - val_mean_squared_error: 0.0673\n",
            "Epoch 37/50\n",
            "69/69 [==============================] - 8s 120ms/step - loss: 0.0762 - mean_squared_error: 0.0762 - val_loss: 0.0659 - val_mean_squared_error: 0.0659\n",
            "Epoch 38/50\n",
            "69/69 [==============================] - 8s 120ms/step - loss: 0.0746 - mean_squared_error: 0.0746 - val_loss: 0.0645 - val_mean_squared_error: 0.0645\n",
            "Epoch 39/50\n",
            "69/69 [==============================] - 8s 120ms/step - loss: 0.0731 - mean_squared_error: 0.0731 - val_loss: 0.0631 - val_mean_squared_error: 0.0631\n",
            "Epoch 40/50\n",
            "69/69 [==============================] - 8s 120ms/step - loss: 0.0715 - mean_squared_error: 0.0715 - val_loss: 0.0618 - val_mean_squared_error: 0.0618\n",
            "Epoch 41/50\n",
            "69/69 [==============================] - 8s 121ms/step - loss: 0.0699 - mean_squared_error: 0.0699 - val_loss: 0.0604 - val_mean_squared_error: 0.0604\n",
            "Epoch 42/50\n",
            "69/69 [==============================] - 8s 120ms/step - loss: 0.0683 - mean_squared_error: 0.0683 - val_loss: 0.0590 - val_mean_squared_error: 0.0590\n",
            "Epoch 43/50\n",
            "69/69 [==============================] - 8s 120ms/step - loss: 0.0668 - mean_squared_error: 0.0668 - val_loss: 0.0576 - val_mean_squared_error: 0.0576\n",
            "Epoch 44/50\n",
            "69/69 [==============================] - 8s 120ms/step - loss: 0.0652 - mean_squared_error: 0.0652 - val_loss: 0.0562 - val_mean_squared_error: 0.0562\n",
            "Epoch 45/50\n",
            "69/69 [==============================] - 8s 120ms/step - loss: 0.0636 - mean_squared_error: 0.0636 - val_loss: 0.0549 - val_mean_squared_error: 0.0549\n",
            "Epoch 46/50\n",
            "69/69 [==============================] - 8s 121ms/step - loss: 0.0621 - mean_squared_error: 0.0621 - val_loss: 0.0535 - val_mean_squared_error: 0.0535\n",
            "Epoch 47/50\n",
            "69/69 [==============================] - 8s 120ms/step - loss: 0.0605 - mean_squared_error: 0.0605 - val_loss: 0.0522 - val_mean_squared_error: 0.0522\n",
            "Epoch 48/50\n",
            "69/69 [==============================] - 8s 120ms/step - loss: 0.0590 - mean_squared_error: 0.0590 - val_loss: 0.0509 - val_mean_squared_error: 0.0509\n",
            "Epoch 49/50\n",
            "69/69 [==============================] - 8s 120ms/step - loss: 0.0575 - mean_squared_error: 0.0575 - val_loss: 0.0496 - val_mean_squared_error: 0.0496\n",
            "Epoch 50/50\n",
            "69/69 [==============================] - 8s 120ms/step - loss: 0.0560 - mean_squared_error: 0.0560 - val_loss: 0.0484 - val_mean_squared_error: 0.0484\n"
          ],
          "name": "stdout"
        },
        {
          "output_type": "display_data",
          "data": {
            "text/html": [
              "<span style=\"color:#4527A0\"><h1 style=\"font-size:18px\">Trial complete</h1></span>"
            ],
            "text/plain": [
              "<IPython.core.display.HTML object>"
            ]
          },
          "metadata": {
            "tags": []
          }
        },
        {
          "output_type": "display_data",
          "data": {
            "text/html": [
              "<span style=\"color:#4527A0\"><h1 style=\"font-size:18px\">Trial summary</h1></span>"
            ],
            "text/plain": [
              "<IPython.core.display.HTML object>"
            ]
          },
          "metadata": {
            "tags": []
          }
        },
        {
          "output_type": "display_data",
          "data": {
            "text/html": [
              "<span style=\"color:cyan\"> |-Trial ID: 5021dce0bf9cdc0aa89ba2095eed8a6d</span>"
            ],
            "text/plain": [
              "<IPython.core.display.HTML object>"
            ]
          },
          "metadata": {
            "tags": []
          }
        },
        {
          "output_type": "display_data",
          "data": {
            "text/html": [
              "<span style=\"color:cyan\"> |-Score: 0.04139501228928566</span>"
            ],
            "text/plain": [
              "<IPython.core.display.HTML object>"
            ]
          },
          "metadata": {
            "tags": []
          }
        },
        {
          "output_type": "display_data",
          "data": {
            "text/html": [
              "<span style=\"color:cyan\"> |-Best step: 0</span>"
            ],
            "text/plain": [
              "<IPython.core.display.HTML object>"
            ]
          },
          "metadata": {
            "tags": []
          }
        },
        {
          "output_type": "display_data",
          "data": {
            "text/html": [
              "<span style=\"color:#7E57C2\"><h2 style=\"font-size:16px\">Hyperparameters:</h2></span>"
            ],
            "text/plain": [
              "<IPython.core.display.HTML object>"
            ]
          },
          "metadata": {
            "tags": []
          }
        },
        {
          "output_type": "display_data",
          "data": {
            "text/html": [
              "<span style=\"color:cyan\"> |-kernel_size: 18</span>"
            ],
            "text/plain": [
              "<IPython.core.display.HTML object>"
            ]
          },
          "metadata": {
            "tags": []
          }
        },
        {
          "output_type": "display_data",
          "data": {
            "text/html": [
              "<span style=\"color:blue\"> |-num_channels: 150</span>"
            ],
            "text/plain": [
              "<IPython.core.display.HTML object>"
            ]
          },
          "metadata": {
            "tags": []
          }
        },
        {
          "output_type": "stream",
          "text": [
            "WARNING:tensorflow:Layer lstm will not use cuDNN kernel since it doesn't meet the cuDNN kernel criteria. It will use generic GPU kernel as fallback when running on GPU\n",
            "Epoch 1/50\n",
            "69/69 [==============================] - 4s 63ms/step - loss: 0.1228 - mean_squared_error: 0.1228 - val_loss: 0.1090 - val_mean_squared_error: 0.1090\n",
            "Epoch 2/50\n",
            "69/69 [==============================] - 4s 60ms/step - loss: 0.1216 - mean_squared_error: 0.1216 - val_loss: 0.1079 - val_mean_squared_error: 0.1079\n",
            "Epoch 3/50\n",
            "69/69 [==============================] - 4s 61ms/step - loss: 0.1204 - mean_squared_error: 0.1204 - val_loss: 0.1068 - val_mean_squared_error: 0.1068\n",
            "Epoch 4/50\n",
            "69/69 [==============================] - 4s 61ms/step - loss: 0.1193 - mean_squared_error: 0.1193 - val_loss: 0.1057 - val_mean_squared_error: 0.1057\n",
            "Epoch 5/50\n",
            "69/69 [==============================] - 4s 63ms/step - loss: 0.1182 - mean_squared_error: 0.1182 - val_loss: 0.1047 - val_mean_squared_error: 0.1047\n",
            "Epoch 6/50\n",
            "69/69 [==============================] - 4s 61ms/step - loss: 0.1171 - mean_squared_error: 0.1171 - val_loss: 0.1038 - val_mean_squared_error: 0.1038\n",
            "Epoch 7/50\n",
            "69/69 [==============================] - 4s 62ms/step - loss: 0.1161 - mean_squared_error: 0.1161 - val_loss: 0.1028 - val_mean_squared_error: 0.1028\n",
            "Epoch 8/50\n",
            "69/69 [==============================] - 4s 61ms/step - loss: 0.1151 - mean_squared_error: 0.1151 - val_loss: 0.1019 - val_mean_squared_error: 0.1019\n",
            "Epoch 9/50\n",
            "69/69 [==============================] - 4s 63ms/step - loss: 0.1142 - mean_squared_error: 0.1142 - val_loss: 0.1011 - val_mean_squared_error: 0.1011\n",
            "Epoch 10/50\n",
            "69/69 [==============================] - 4s 60ms/step - loss: 0.1132 - mean_squared_error: 0.1132 - val_loss: 0.1002 - val_mean_squared_error: 0.1002\n",
            "Epoch 11/50\n",
            "69/69 [==============================] - 4s 61ms/step - loss: 0.1123 - mean_squared_error: 0.1123 - val_loss: 0.0993 - val_mean_squared_error: 0.0993\n",
            "Epoch 12/50\n",
            "69/69 [==============================] - 4s 61ms/step - loss: 0.1114 - mean_squared_error: 0.1114 - val_loss: 0.0985 - val_mean_squared_error: 0.0985\n",
            "Epoch 13/50\n",
            "69/69 [==============================] - 4s 62ms/step - loss: 0.1105 - mean_squared_error: 0.1105 - val_loss: 0.0977 - val_mean_squared_error: 0.0977\n",
            "Epoch 14/50\n",
            "69/69 [==============================] - 4s 60ms/step - loss: 0.1097 - mean_squared_error: 0.1097 - val_loss: 0.0969 - val_mean_squared_error: 0.0969\n",
            "Epoch 15/50\n",
            "69/69 [==============================] - 4s 62ms/step - loss: 0.1088 - mean_squared_error: 0.1088 - val_loss: 0.0961 - val_mean_squared_error: 0.0961\n",
            "Epoch 16/50\n",
            "69/69 [==============================] - 4s 60ms/step - loss: 0.1080 - mean_squared_error: 0.1080 - val_loss: 0.0953 - val_mean_squared_error: 0.0953\n",
            "Epoch 17/50\n",
            "69/69 [==============================] - 4s 62ms/step - loss: 0.1071 - mean_squared_error: 0.1071 - val_loss: 0.0945 - val_mean_squared_error: 0.0945\n",
            "Epoch 18/50\n",
            "69/69 [==============================] - 4s 61ms/step - loss: 0.1063 - mean_squared_error: 0.1063 - val_loss: 0.0937 - val_mean_squared_error: 0.0937\n",
            "Epoch 19/50\n",
            "69/69 [==============================] - 4s 60ms/step - loss: 0.1054 - mean_squared_error: 0.1054 - val_loss: 0.0929 - val_mean_squared_error: 0.0929\n",
            "Epoch 20/50\n",
            "69/69 [==============================] - 4s 61ms/step - loss: 0.1046 - mean_squared_error: 0.1046 - val_loss: 0.0922 - val_mean_squared_error: 0.0922\n",
            "Epoch 21/50\n",
            "69/69 [==============================] - 4s 62ms/step - loss: 0.1038 - mean_squared_error: 0.1038 - val_loss: 0.0914 - val_mean_squared_error: 0.0914\n",
            "Epoch 22/50\n",
            "69/69 [==============================] - 4s 61ms/step - loss: 0.1029 - mean_squared_error: 0.1029 - val_loss: 0.0906 - val_mean_squared_error: 0.0906\n",
            "Epoch 23/50\n",
            "69/69 [==============================] - 4s 62ms/step - loss: 0.1021 - mean_squared_error: 0.1021 - val_loss: 0.0898 - val_mean_squared_error: 0.0898\n",
            "Epoch 24/50\n",
            "69/69 [==============================] - 4s 61ms/step - loss: 0.1012 - mean_squared_error: 0.1012 - val_loss: 0.0890 - val_mean_squared_error: 0.0890\n",
            "Epoch 25/50\n",
            "69/69 [==============================] - 4s 63ms/step - loss: 0.1004 - mean_squared_error: 0.1004 - val_loss: 0.0882 - val_mean_squared_error: 0.0882\n",
            "Epoch 26/50\n",
            "69/69 [==============================] - 4s 61ms/step - loss: 0.0995 - mean_squared_error: 0.0995 - val_loss: 0.0874 - val_mean_squared_error: 0.0874\n",
            "Epoch 27/50\n",
            "69/69 [==============================] - 4s 62ms/step - loss: 0.0987 - mean_squared_error: 0.0987 - val_loss: 0.0866 - val_mean_squared_error: 0.0866\n",
            "Epoch 28/50\n",
            "69/69 [==============================] - 4s 60ms/step - loss: 0.0978 - mean_squared_error: 0.0978 - val_loss: 0.0858 - val_mean_squared_error: 0.0858\n",
            "Epoch 29/50\n",
            "69/69 [==============================] - 4s 62ms/step - loss: 0.0969 - mean_squared_error: 0.0969 - val_loss: 0.0850 - val_mean_squared_error: 0.0850\n",
            "Epoch 30/50\n",
            "69/69 [==============================] - 4s 60ms/step - loss: 0.0960 - mean_squared_error: 0.0960 - val_loss: 0.0842 - val_mean_squared_error: 0.0842\n",
            "Epoch 31/50\n",
            "69/69 [==============================] - 4s 62ms/step - loss: 0.0952 - mean_squared_error: 0.0952 - val_loss: 0.0834 - val_mean_squared_error: 0.0834\n",
            "Epoch 32/50\n",
            "69/69 [==============================] - 4s 60ms/step - loss: 0.0943 - mean_squared_error: 0.0943 - val_loss: 0.0826 - val_mean_squared_error: 0.0826\n",
            "Epoch 33/50\n",
            "69/69 [==============================] - 4s 62ms/step - loss: 0.0933 - mean_squared_error: 0.0933 - val_loss: 0.0817 - val_mean_squared_error: 0.0817\n",
            "Epoch 34/50\n",
            "69/69 [==============================] - 4s 60ms/step - loss: 0.0924 - mean_squared_error: 0.0924 - val_loss: 0.0809 - val_mean_squared_error: 0.0809\n",
            "Epoch 35/50\n",
            "69/69 [==============================] - 4s 62ms/step - loss: 0.0915 - mean_squared_error: 0.0915 - val_loss: 0.0800 - val_mean_squared_error: 0.0800\n",
            "Epoch 36/50\n",
            "69/69 [==============================] - 4s 60ms/step - loss: 0.0906 - mean_squared_error: 0.0906 - val_loss: 0.0792 - val_mean_squared_error: 0.0792\n",
            "Epoch 37/50\n",
            "69/69 [==============================] - 4s 62ms/step - loss: 0.0896 - mean_squared_error: 0.0896 - val_loss: 0.0783 - val_mean_squared_error: 0.0783\n",
            "Epoch 38/50\n",
            "69/69 [==============================] - 4s 60ms/step - loss: 0.0886 - mean_squared_error: 0.0886 - val_loss: 0.0774 - val_mean_squared_error: 0.0774\n",
            "Epoch 39/50\n",
            "69/69 [==============================] - 4s 62ms/step - loss: 0.0877 - mean_squared_error: 0.0877 - val_loss: 0.0765 - val_mean_squared_error: 0.0765\n",
            "Epoch 40/50\n",
            "69/69 [==============================] - 4s 61ms/step - loss: 0.0867 - mean_squared_error: 0.0867 - val_loss: 0.0756 - val_mean_squared_error: 0.0756\n",
            "Epoch 41/50\n",
            "69/69 [==============================] - 4s 62ms/step - loss: 0.0857 - mean_squared_error: 0.0857 - val_loss: 0.0747 - val_mean_squared_error: 0.0747\n",
            "Epoch 42/50\n",
            "69/69 [==============================] - 4s 61ms/step - loss: 0.0846 - mean_squared_error: 0.0846 - val_loss: 0.0737 - val_mean_squared_error: 0.0737\n",
            "Epoch 43/50\n",
            "69/69 [==============================] - 4s 62ms/step - loss: 0.0836 - mean_squared_error: 0.0836 - val_loss: 0.0728 - val_mean_squared_error: 0.0728\n",
            "Epoch 44/50\n",
            "69/69 [==============================] - 4s 61ms/step - loss: 0.0825 - mean_squared_error: 0.0825 - val_loss: 0.0718 - val_mean_squared_error: 0.0718\n",
            "Epoch 45/50\n",
            "69/69 [==============================] - 4s 62ms/step - loss: 0.0814 - mean_squared_error: 0.0814 - val_loss: 0.0708 - val_mean_squared_error: 0.0708\n",
            "Epoch 46/50\n",
            "69/69 [==============================] - 4s 60ms/step - loss: 0.0804 - mean_squared_error: 0.0804 - val_loss: 0.0699 - val_mean_squared_error: 0.0699\n",
            "Epoch 47/50\n",
            "69/69 [==============================] - 4s 62ms/step - loss: 0.0793 - mean_squared_error: 0.0793 - val_loss: 0.0689 - val_mean_squared_error: 0.0689\n",
            "Epoch 48/50\n",
            "69/69 [==============================] - 4s 61ms/step - loss: 0.0781 - mean_squared_error: 0.0781 - val_loss: 0.0679 - val_mean_squared_error: 0.0679\n",
            "Epoch 49/50\n",
            "69/69 [==============================] - 4s 63ms/step - loss: 0.0770 - mean_squared_error: 0.0770 - val_loss: 0.0668 - val_mean_squared_error: 0.0668\n",
            "Epoch 50/50\n",
            "69/69 [==============================] - 4s 61ms/step - loss: 0.0758 - mean_squared_error: 0.0758 - val_loss: 0.0658 - val_mean_squared_error: 0.0658\n",
            "WARNING:tensorflow:Layer lstm will not use cuDNN kernel since it doesn't meet the cuDNN kernel criteria. It will use generic GPU kernel as fallback when running on GPU\n",
            "Epoch 1/50\n",
            "69/69 [==============================] - 4s 62ms/step - loss: 0.1218 - mean_squared_error: 0.1218 - val_loss: 0.1082 - val_mean_squared_error: 0.1082\n",
            "Epoch 2/50\n",
            "69/69 [==============================] - 4s 59ms/step - loss: 0.1209 - mean_squared_error: 0.1209 - val_loss: 0.1074 - val_mean_squared_error: 0.1074\n",
            "Epoch 3/50\n",
            "69/69 [==============================] - 4s 60ms/step - loss: 0.1200 - mean_squared_error: 0.1200 - val_loss: 0.1066 - val_mean_squared_error: 0.1066\n",
            "Epoch 4/50\n",
            "69/69 [==============================] - 4s 59ms/step - loss: 0.1191 - mean_squared_error: 0.1191 - val_loss: 0.1058 - val_mean_squared_error: 0.1058\n",
            "Epoch 5/50\n",
            "69/69 [==============================] - 4s 60ms/step - loss: 0.1183 - mean_squared_error: 0.1183 - val_loss: 0.1050 - val_mean_squared_error: 0.1050\n",
            "Epoch 6/50\n",
            "69/69 [==============================] - 4s 60ms/step - loss: 0.1175 - mean_squared_error: 0.1175 - val_loss: 0.1043 - val_mean_squared_error: 0.1043\n",
            "Epoch 7/50\n",
            "69/69 [==============================] - 4s 59ms/step - loss: 0.1167 - mean_squared_error: 0.1167 - val_loss: 0.1035 - val_mean_squared_error: 0.1035\n",
            "Epoch 8/50\n",
            "69/69 [==============================] - 4s 59ms/step - loss: 0.1160 - mean_squared_error: 0.1160 - val_loss: 0.1028 - val_mean_squared_error: 0.1028\n",
            "Epoch 9/50\n",
            "69/69 [==============================] - 4s 59ms/step - loss: 0.1152 - mean_squared_error: 0.1152 - val_loss: 0.1021 - val_mean_squared_error: 0.1021\n",
            "Epoch 10/50\n",
            "69/69 [==============================] - 4s 60ms/step - loss: 0.1145 - mean_squared_error: 0.1145 - val_loss: 0.1014 - val_mean_squared_error: 0.1014\n",
            "Epoch 11/50\n",
            "69/69 [==============================] - 4s 60ms/step - loss: 0.1138 - mean_squared_error: 0.1138 - val_loss: 0.1008 - val_mean_squared_error: 0.1008\n",
            "Epoch 12/50\n",
            "69/69 [==============================] - 4s 60ms/step - loss: 0.1131 - mean_squared_error: 0.1131 - val_loss: 0.1001 - val_mean_squared_error: 0.1001\n",
            "Epoch 13/50\n",
            "69/69 [==============================] - 4s 60ms/step - loss: 0.1124 - mean_squared_error: 0.1124 - val_loss: 0.0994 - val_mean_squared_error: 0.0994\n",
            "Epoch 14/50\n",
            "69/69 [==============================] - 4s 60ms/step - loss: 0.1117 - mean_squared_error: 0.1117 - val_loss: 0.0988 - val_mean_squared_error: 0.0988\n",
            "Epoch 15/50\n",
            "69/69 [==============================] - 4s 60ms/step - loss: 0.1110 - mean_squared_error: 0.1110 - val_loss: 0.0981 - val_mean_squared_error: 0.0981\n",
            "Epoch 16/50\n",
            "69/69 [==============================] - 4s 59ms/step - loss: 0.1103 - mean_squared_error: 0.1103 - val_loss: 0.0975 - val_mean_squared_error: 0.0975\n",
            "Epoch 17/50\n",
            "69/69 [==============================] - 4s 59ms/step - loss: 0.1096 - mean_squared_error: 0.1096 - val_loss: 0.0969 - val_mean_squared_error: 0.0969\n",
            "Epoch 18/50\n",
            "69/69 [==============================] - 4s 59ms/step - loss: 0.1090 - mean_squared_error: 0.1090 - val_loss: 0.0963 - val_mean_squared_error: 0.0963\n",
            "Epoch 19/50\n",
            "69/69 [==============================] - 4s 59ms/step - loss: 0.1083 - mean_squared_error: 0.1083 - val_loss: 0.0956 - val_mean_squared_error: 0.0956\n",
            "Epoch 20/50\n",
            "69/69 [==============================] - 4s 60ms/step - loss: 0.1077 - mean_squared_error: 0.1077 - val_loss: 0.0950 - val_mean_squared_error: 0.0950\n",
            "Epoch 21/50\n",
            "69/69 [==============================] - 4s 59ms/step - loss: 0.1070 - mean_squared_error: 0.1070 - val_loss: 0.0944 - val_mean_squared_error: 0.0944\n",
            "Epoch 22/50\n",
            "69/69 [==============================] - 4s 60ms/step - loss: 0.1064 - mean_squared_error: 0.1064 - val_loss: 0.0938 - val_mean_squared_error: 0.0938\n",
            "Epoch 23/50\n",
            "69/69 [==============================] - 4s 60ms/step - loss: 0.1057 - mean_squared_error: 0.1057 - val_loss: 0.0932 - val_mean_squared_error: 0.0932\n",
            "Epoch 24/50\n",
            "69/69 [==============================] - 4s 60ms/step - loss: 0.1051 - mean_squared_error: 0.1051 - val_loss: 0.0926 - val_mean_squared_error: 0.0926\n",
            "Epoch 25/50\n",
            "69/69 [==============================] - 4s 60ms/step - loss: 0.1045 - mean_squared_error: 0.1045 - val_loss: 0.0921 - val_mean_squared_error: 0.0921\n",
            "Epoch 26/50\n",
            "69/69 [==============================] - 4s 60ms/step - loss: 0.1038 - mean_squared_error: 0.1038 - val_loss: 0.0915 - val_mean_squared_error: 0.0915\n",
            "Epoch 27/50\n",
            "69/69 [==============================] - 4s 59ms/step - loss: 0.1032 - mean_squared_error: 0.1032 - val_loss: 0.0909 - val_mean_squared_error: 0.0909\n",
            "Epoch 28/50\n",
            "69/69 [==============================] - 4s 60ms/step - loss: 0.1026 - mean_squared_error: 0.1026 - val_loss: 0.0903 - val_mean_squared_error: 0.0903\n",
            "Epoch 29/50\n",
            "69/69 [==============================] - 4s 59ms/step - loss: 0.1019 - mean_squared_error: 0.1019 - val_loss: 0.0897 - val_mean_squared_error: 0.0897\n",
            "Epoch 30/50\n",
            "69/69 [==============================] - 4s 60ms/step - loss: 0.1013 - mean_squared_error: 0.1013 - val_loss: 0.0891 - val_mean_squared_error: 0.0891\n",
            "Epoch 31/50\n",
            "69/69 [==============================] - 4s 60ms/step - loss: 0.1007 - mean_squared_error: 0.1007 - val_loss: 0.0885 - val_mean_squared_error: 0.0885\n",
            "Epoch 32/50\n",
            "69/69 [==============================] - 4s 59ms/step - loss: 0.1000 - mean_squared_error: 0.1000 - val_loss: 0.0879 - val_mean_squared_error: 0.0879\n",
            "Epoch 33/50\n",
            "69/69 [==============================] - 4s 60ms/step - loss: 0.0994 - mean_squared_error: 0.0994 - val_loss: 0.0873 - val_mean_squared_error: 0.0873\n",
            "Epoch 34/50\n",
            "69/69 [==============================] - 4s 59ms/step - loss: 0.0988 - mean_squared_error: 0.0988 - val_loss: 0.0868 - val_mean_squared_error: 0.0868\n",
            "Epoch 35/50\n",
            "69/69 [==============================] - 4s 59ms/step - loss: 0.0981 - mean_squared_error: 0.0981 - val_loss: 0.0862 - val_mean_squared_error: 0.0862\n",
            "Epoch 36/50\n",
            "69/69 [==============================] - 4s 59ms/step - loss: 0.0975 - mean_squared_error: 0.0975 - val_loss: 0.0856 - val_mean_squared_error: 0.0856\n",
            "Epoch 37/50\n",
            "69/69 [==============================] - 4s 59ms/step - loss: 0.0968 - mean_squared_error: 0.0968 - val_loss: 0.0850 - val_mean_squared_error: 0.0850\n",
            "Epoch 38/50\n",
            "69/69 [==============================] - 4s 60ms/step - loss: 0.0962 - mean_squared_error: 0.0962 - val_loss: 0.0844 - val_mean_squared_error: 0.0844\n",
            "Epoch 39/50\n",
            "69/69 [==============================] - 4s 59ms/step - loss: 0.0955 - mean_squared_error: 0.0955 - val_loss: 0.0838 - val_mean_squared_error: 0.0838\n",
            "Epoch 40/50\n",
            "69/69 [==============================] - 4s 60ms/step - loss: 0.0949 - mean_squared_error: 0.0949 - val_loss: 0.0831 - val_mean_squared_error: 0.0831\n",
            "Epoch 41/50\n",
            "69/69 [==============================] - 4s 59ms/step - loss: 0.0942 - mean_squared_error: 0.0942 - val_loss: 0.0825 - val_mean_squared_error: 0.0825\n",
            "Epoch 42/50\n",
            "69/69 [==============================] - 4s 60ms/step - loss: 0.0936 - mean_squared_error: 0.0936 - val_loss: 0.0819 - val_mean_squared_error: 0.0819\n",
            "Epoch 43/50\n",
            "69/69 [==============================] - 4s 59ms/step - loss: 0.0929 - mean_squared_error: 0.0929 - val_loss: 0.0813 - val_mean_squared_error: 0.0813\n",
            "Epoch 44/50\n",
            "69/69 [==============================] - 4s 60ms/step - loss: 0.0922 - mean_squared_error: 0.0922 - val_loss: 0.0807 - val_mean_squared_error: 0.0807\n",
            "Epoch 45/50\n",
            "69/69 [==============================] - 4s 59ms/step - loss: 0.0915 - mean_squared_error: 0.0915 - val_loss: 0.0800 - val_mean_squared_error: 0.0800\n",
            "Epoch 46/50\n",
            "69/69 [==============================] - 4s 59ms/step - loss: 0.0909 - mean_squared_error: 0.0909 - val_loss: 0.0794 - val_mean_squared_error: 0.0794\n",
            "Epoch 47/50\n",
            "69/69 [==============================] - 4s 60ms/step - loss: 0.0902 - mean_squared_error: 0.0902 - val_loss: 0.0788 - val_mean_squared_error: 0.0788\n",
            "Epoch 48/50\n",
            "69/69 [==============================] - 4s 59ms/step - loss: 0.0895 - mean_squared_error: 0.0895 - val_loss: 0.0781 - val_mean_squared_error: 0.0781\n",
            "Epoch 49/50\n",
            "69/69 [==============================] - 4s 60ms/step - loss: 0.0888 - mean_squared_error: 0.0888 - val_loss: 0.0775 - val_mean_squared_error: 0.0775\n",
            "Epoch 50/50\n",
            "69/69 [==============================] - 4s 59ms/step - loss: 0.0880 - mean_squared_error: 0.0880 - val_loss: 0.0768 - val_mean_squared_error: 0.0768\n"
          ],
          "name": "stdout"
        },
        {
          "output_type": "display_data",
          "data": {
            "text/html": [
              "<span style=\"color:#4527A0\"><h1 style=\"font-size:18px\">Trial complete</h1></span>"
            ],
            "text/plain": [
              "<IPython.core.display.HTML object>"
            ]
          },
          "metadata": {
            "tags": []
          }
        },
        {
          "output_type": "display_data",
          "data": {
            "text/html": [
              "<span style=\"color:#4527A0\"><h1 style=\"font-size:18px\">Trial summary</h1></span>"
            ],
            "text/plain": [
              "<IPython.core.display.HTML object>"
            ]
          },
          "metadata": {
            "tags": []
          }
        },
        {
          "output_type": "display_data",
          "data": {
            "text/html": [
              "<span style=\"color:cyan\"> |-Trial ID: c7f6f02130ab42fafa1b32e01f6c7a9e</span>"
            ],
            "text/plain": [
              "<IPython.core.display.HTML object>"
            ]
          },
          "metadata": {
            "tags": []
          }
        },
        {
          "output_type": "display_data",
          "data": {
            "text/html": [
              "<span style=\"color:cyan\"> |-Score: 0.08194504678249359</span>"
            ],
            "text/plain": [
              "<IPython.core.display.HTML object>"
            ]
          },
          "metadata": {
            "tags": []
          }
        },
        {
          "output_type": "display_data",
          "data": {
            "text/html": [
              "<span style=\"color:cyan\"> |-Best step: 0</span>"
            ],
            "text/plain": [
              "<IPython.core.display.HTML object>"
            ]
          },
          "metadata": {
            "tags": []
          }
        },
        {
          "output_type": "display_data",
          "data": {
            "text/html": [
              "<span style=\"color:#7E57C2\"><h2 style=\"font-size:16px\">Hyperparameters:</h2></span>"
            ],
            "text/plain": [
              "<IPython.core.display.HTML object>"
            ]
          },
          "metadata": {
            "tags": []
          }
        },
        {
          "output_type": "display_data",
          "data": {
            "text/html": [
              "<span style=\"color:cyan\"> |-kernel_size: 36</span>"
            ],
            "text/plain": [
              "<IPython.core.display.HTML object>"
            ]
          },
          "metadata": {
            "tags": []
          }
        },
        {
          "output_type": "display_data",
          "data": {
            "text/html": [
              "<span style=\"color:blue\"> |-num_channels: 50</span>"
            ],
            "text/plain": [
              "<IPython.core.display.HTML object>"
            ]
          },
          "metadata": {
            "tags": []
          }
        },
        {
          "output_type": "stream",
          "text": [
            "WARNING:tensorflow:Layer lstm will not use cuDNN kernel since it doesn't meet the cuDNN kernel criteria. It will use generic GPU kernel as fallback when running on GPU\n",
            "Epoch 1/50\n",
            "69/69 [==============================] - 12s 175ms/step - loss: 0.1207 - mean_squared_error: 0.1207 - val_loss: 0.1074 - val_mean_squared_error: 0.1074\n",
            "Epoch 2/50\n",
            "69/69 [==============================] - 12s 171ms/step - loss: 0.1201 - mean_squared_error: 0.1201 - val_loss: 0.1068 - val_mean_squared_error: 0.1068\n",
            "Epoch 3/50\n",
            "69/69 [==============================] - 12s 171ms/step - loss: 0.1194 - mean_squared_error: 0.1194 - val_loss: 0.1062 - val_mean_squared_error: 0.1062\n",
            "Epoch 4/50\n",
            "69/69 [==============================] - 12s 172ms/step - loss: 0.1188 - mean_squared_error: 0.1188 - val_loss: 0.1056 - val_mean_squared_error: 0.1056\n",
            "Epoch 5/50\n",
            "69/69 [==============================] - 12s 171ms/step - loss: 0.1182 - mean_squared_error: 0.1182 - val_loss: 0.1050 - val_mean_squared_error: 0.1050\n",
            "Epoch 6/50\n",
            "69/69 [==============================] - 12s 173ms/step - loss: 0.1176 - mean_squared_error: 0.1176 - val_loss: 0.1044 - val_mean_squared_error: 0.1044\n",
            "Epoch 7/50\n",
            "69/69 [==============================] - 12s 171ms/step - loss: 0.1170 - mean_squared_error: 0.1170 - val_loss: 0.1039 - val_mean_squared_error: 0.1039\n",
            "Epoch 8/50\n",
            "69/69 [==============================] - 12s 171ms/step - loss: 0.1164 - mean_squared_error: 0.1164 - val_loss: 0.1033 - val_mean_squared_error: 0.1033\n",
            "Epoch 9/50\n",
            "69/69 [==============================] - 12s 171ms/step - loss: 0.1158 - mean_squared_error: 0.1158 - val_loss: 0.1028 - val_mean_squared_error: 0.1028\n",
            "Epoch 10/50\n",
            "69/69 [==============================] - 12s 171ms/step - loss: 0.1153 - mean_squared_error: 0.1153 - val_loss: 0.1022 - val_mean_squared_error: 0.1022\n",
            "Epoch 11/50\n",
            "69/69 [==============================] - 12s 172ms/step - loss: 0.1147 - mean_squared_error: 0.1147 - val_loss: 0.1017 - val_mean_squared_error: 0.1017\n",
            "Epoch 12/50\n",
            "69/69 [==============================] - 12s 171ms/step - loss: 0.1141 - mean_squared_error: 0.1141 - val_loss: 0.1012 - val_mean_squared_error: 0.1012\n",
            "Epoch 13/50\n",
            "69/69 [==============================] - 12s 171ms/step - loss: 0.1136 - mean_squared_error: 0.1136 - val_loss: 0.1007 - val_mean_squared_error: 0.1007\n",
            "Epoch 14/50\n",
            "69/69 [==============================] - 12s 171ms/step - loss: 0.1130 - mean_squared_error: 0.1130 - val_loss: 0.1001 - val_mean_squared_error: 0.1001\n",
            "Epoch 15/50\n",
            "69/69 [==============================] - 12s 171ms/step - loss: 0.1125 - mean_squared_error: 0.1125 - val_loss: 0.0996 - val_mean_squared_error: 0.0996\n",
            "Epoch 16/50\n",
            "69/69 [==============================] - 12s 171ms/step - loss: 0.1119 - mean_squared_error: 0.1119 - val_loss: 0.0991 - val_mean_squared_error: 0.0991\n",
            "Epoch 17/50\n",
            "69/69 [==============================] - 12s 171ms/step - loss: 0.1114 - mean_squared_error: 0.1114 - val_loss: 0.0986 - val_mean_squared_error: 0.0986\n",
            "Epoch 18/50\n",
            "69/69 [==============================] - 12s 171ms/step - loss: 0.1109 - mean_squared_error: 0.1109 - val_loss: 0.0981 - val_mean_squared_error: 0.0981\n",
            "Epoch 19/50\n",
            "69/69 [==============================] - 12s 173ms/step - loss: 0.1103 - mean_squared_error: 0.1103 - val_loss: 0.0976 - val_mean_squared_error: 0.0976\n",
            "Epoch 20/50\n",
            "69/69 [==============================] - 12s 171ms/step - loss: 0.1098 - mean_squared_error: 0.1098 - val_loss: 0.0971 - val_mean_squared_error: 0.0971\n",
            "Epoch 21/50\n",
            "69/69 [==============================] - 12s 171ms/step - loss: 0.1092 - mean_squared_error: 0.1092 - val_loss: 0.0966 - val_mean_squared_error: 0.0966\n",
            "Epoch 22/50\n",
            "69/69 [==============================] - 12s 171ms/step - loss: 0.1087 - mean_squared_error: 0.1087 - val_loss: 0.0960 - val_mean_squared_error: 0.0960\n",
            "Epoch 23/50\n",
            "69/69 [==============================] - 12s 171ms/step - loss: 0.1082 - mean_squared_error: 0.1082 - val_loss: 0.0955 - val_mean_squared_error: 0.0955\n",
            "Epoch 24/50\n",
            "69/69 [==============================] - 12s 170ms/step - loss: 0.1076 - mean_squared_error: 0.1076 - val_loss: 0.0950 - val_mean_squared_error: 0.0950\n",
            "Epoch 25/50\n",
            "69/69 [==============================] - 12s 172ms/step - loss: 0.1071 - mean_squared_error: 0.1071 - val_loss: 0.0945 - val_mean_squared_error: 0.0945\n",
            "Epoch 26/50\n",
            "69/69 [==============================] - 12s 173ms/step - loss: 0.1066 - mean_squared_error: 0.1066 - val_loss: 0.0940 - val_mean_squared_error: 0.0940\n",
            "Epoch 27/50\n",
            "69/69 [==============================] - 12s 171ms/step - loss: 0.1060 - mean_squared_error: 0.1060 - val_loss: 0.0935 - val_mean_squared_error: 0.0935\n",
            "Epoch 28/50\n",
            "69/69 [==============================] - 12s 173ms/step - loss: 0.1055 - mean_squared_error: 0.1055 - val_loss: 0.0930 - val_mean_squared_error: 0.0930\n",
            "Epoch 29/50\n",
            "69/69 [==============================] - 12s 171ms/step - loss: 0.1050 - mean_squared_error: 0.1050 - val_loss: 0.0925 - val_mean_squared_error: 0.0925\n",
            "Epoch 30/50\n",
            "69/69 [==============================] - 12s 171ms/step - loss: 0.1044 - mean_squared_error: 0.1044 - val_loss: 0.0920 - val_mean_squared_error: 0.0920\n",
            "Epoch 31/50\n",
            "69/69 [==============================] - 12s 171ms/step - loss: 0.1039 - mean_squared_error: 0.1039 - val_loss: 0.0915 - val_mean_squared_error: 0.0915\n",
            "Epoch 32/50\n",
            "69/69 [==============================] - 12s 171ms/step - loss: 0.1034 - mean_squared_error: 0.1034 - val_loss: 0.0910 - val_mean_squared_error: 0.0910\n",
            "Epoch 33/50\n",
            "69/69 [==============================] - 12s 171ms/step - loss: 0.1028 - mean_squared_error: 0.1028 - val_loss: 0.0905 - val_mean_squared_error: 0.0905\n",
            "Epoch 34/50\n",
            "69/69 [==============================] - 12s 171ms/step - loss: 0.1023 - mean_squared_error: 0.1023 - val_loss: 0.0900 - val_mean_squared_error: 0.0900\n",
            "Epoch 35/50\n",
            "69/69 [==============================] - 12s 170ms/step - loss: 0.1018 - mean_squared_error: 0.1018 - val_loss: 0.0895 - val_mean_squared_error: 0.0895\n",
            "Epoch 36/50\n",
            "69/69 [==============================] - 12s 171ms/step - loss: 0.1013 - mean_squared_error: 0.1013 - val_loss: 0.0890 - val_mean_squared_error: 0.0890\n",
            "Epoch 37/50\n",
            "69/69 [==============================] - 12s 171ms/step - loss: 0.1007 - mean_squared_error: 0.1007 - val_loss: 0.0885 - val_mean_squared_error: 0.0885\n",
            "Epoch 38/50\n",
            "69/69 [==============================] - 12s 171ms/step - loss: 0.1002 - mean_squared_error: 0.1002 - val_loss: 0.0880 - val_mean_squared_error: 0.0880\n",
            "Epoch 39/50\n",
            "69/69 [==============================] - 12s 172ms/step - loss: 0.0997 - mean_squared_error: 0.0997 - val_loss: 0.0875 - val_mean_squared_error: 0.0875\n",
            "Epoch 40/50\n",
            "69/69 [==============================] - 12s 171ms/step - loss: 0.0991 - mean_squared_error: 0.0991 - val_loss: 0.0870 - val_mean_squared_error: 0.0870\n",
            "Epoch 41/50\n",
            "69/69 [==============================] - 12s 172ms/step - loss: 0.0986 - mean_squared_error: 0.0986 - val_loss: 0.0865 - val_mean_squared_error: 0.0865\n",
            "Epoch 42/50\n",
            "69/69 [==============================] - 12s 173ms/step - loss: 0.0980 - mean_squared_error: 0.0980 - val_loss: 0.0860 - val_mean_squared_error: 0.0860\n",
            "Epoch 43/50\n",
            "69/69 [==============================] - 12s 171ms/step - loss: 0.0975 - mean_squared_error: 0.0975 - val_loss: 0.0855 - val_mean_squared_error: 0.0855\n",
            "Epoch 44/50\n",
            "69/69 [==============================] - 12s 172ms/step - loss: 0.0970 - mean_squared_error: 0.0970 - val_loss: 0.0850 - val_mean_squared_error: 0.0850\n",
            "Epoch 45/50\n",
            "69/69 [==============================] - 12s 171ms/step - loss: 0.0964 - mean_squared_error: 0.0964 - val_loss: 0.0845 - val_mean_squared_error: 0.0845\n",
            "Epoch 46/50\n",
            "69/69 [==============================] - 12s 171ms/step - loss: 0.0959 - mean_squared_error: 0.0959 - val_loss: 0.0840 - val_mean_squared_error: 0.0840\n",
            "Epoch 47/50\n",
            "69/69 [==============================] - 12s 172ms/step - loss: 0.0953 - mean_squared_error: 0.0953 - val_loss: 0.0835 - val_mean_squared_error: 0.0835\n",
            "Epoch 48/50\n",
            "69/69 [==============================] - 12s 171ms/step - loss: 0.0948 - mean_squared_error: 0.0948 - val_loss: 0.0830 - val_mean_squared_error: 0.0830\n",
            "Epoch 49/50\n",
            "69/69 [==============================] - 12s 172ms/step - loss: 0.0942 - mean_squared_error: 0.0942 - val_loss: 0.0825 - val_mean_squared_error: 0.0825\n",
            "Epoch 50/50\n",
            "69/69 [==============================] - 12s 171ms/step - loss: 0.0936 - mean_squared_error: 0.0936 - val_loss: 0.0819 - val_mean_squared_error: 0.0819\n",
            "WARNING:tensorflow:Layer lstm will not use cuDNN kernel since it doesn't meet the cuDNN kernel criteria. It will use generic GPU kernel as fallback when running on GPU\n",
            "Epoch 1/50\n",
            "69/69 [==============================] - 12s 173ms/step - loss: 0.1212 - mean_squared_error: 0.1212 - val_loss: 0.1079 - val_mean_squared_error: 0.1079\n",
            "Epoch 2/50\n",
            "69/69 [==============================] - 12s 170ms/step - loss: 0.1207 - mean_squared_error: 0.1207 - val_loss: 0.1074 - val_mean_squared_error: 0.1074\n",
            "Epoch 3/50\n",
            "69/69 [==============================] - 12s 170ms/step - loss: 0.1202 - mean_squared_error: 0.1202 - val_loss: 0.1069 - val_mean_squared_error: 0.1069\n",
            "Epoch 4/50\n",
            "69/69 [==============================] - 12s 170ms/step - loss: 0.1197 - mean_squared_error: 0.1197 - val_loss: 0.1065 - val_mean_squared_error: 0.1065\n",
            "Epoch 5/50\n",
            "69/69 [==============================] - 12s 170ms/step - loss: 0.1192 - mean_squared_error: 0.1192 - val_loss: 0.1060 - val_mean_squared_error: 0.1060\n",
            "Epoch 6/50\n",
            "69/69 [==============================] - 12s 170ms/step - loss: 0.1187 - mean_squared_error: 0.1187 - val_loss: 0.1056 - val_mean_squared_error: 0.1056\n",
            "Epoch 7/50\n",
            "69/69 [==============================] - 12s 170ms/step - loss: 0.1182 - mean_squared_error: 0.1182 - val_loss: 0.1051 - val_mean_squared_error: 0.1051\n",
            "Epoch 8/50\n",
            "69/69 [==============================] - 12s 170ms/step - loss: 0.1178 - mean_squared_error: 0.1178 - val_loss: 0.1047 - val_mean_squared_error: 0.1047\n",
            "Epoch 9/50\n",
            "69/69 [==============================] - 12s 170ms/step - loss: 0.1173 - mean_squared_error: 0.1173 - val_loss: 0.1042 - val_mean_squared_error: 0.1042\n",
            "Epoch 10/50\n",
            "69/69 [==============================] - 12s 170ms/step - loss: 0.1168 - mean_squared_error: 0.1168 - val_loss: 0.1038 - val_mean_squared_error: 0.1038\n",
            "Epoch 11/50\n",
            "69/69 [==============================] - 12s 170ms/step - loss: 0.1164 - mean_squared_error: 0.1164 - val_loss: 0.1034 - val_mean_squared_error: 0.1034\n",
            "Epoch 12/50\n",
            "69/69 [==============================] - 12s 169ms/step - loss: 0.1159 - mean_squared_error: 0.1159 - val_loss: 0.1029 - val_mean_squared_error: 0.1029\n",
            "Epoch 13/50\n",
            "69/69 [==============================] - 12s 170ms/step - loss: 0.1155 - mean_squared_error: 0.1155 - val_loss: 0.1025 - val_mean_squared_error: 0.1025\n",
            "Epoch 14/50\n",
            "69/69 [==============================] - 12s 170ms/step - loss: 0.1150 - mean_squared_error: 0.1150 - val_loss: 0.1021 - val_mean_squared_error: 0.1021\n",
            "Epoch 15/50\n",
            "69/69 [==============================] - 12s 170ms/step - loss: 0.1146 - mean_squared_error: 0.1146 - val_loss: 0.1017 - val_mean_squared_error: 0.1017\n",
            "Epoch 16/50\n",
            "69/69 [==============================] - 12s 170ms/step - loss: 0.1142 - mean_squared_error: 0.1142 - val_loss: 0.1013 - val_mean_squared_error: 0.1013\n",
            "Epoch 17/50\n",
            "69/69 [==============================] - 12s 169ms/step - loss: 0.1137 - mean_squared_error: 0.1137 - val_loss: 0.1008 - val_mean_squared_error: 0.1008\n",
            "Epoch 18/50\n",
            "69/69 [==============================] - 12s 170ms/step - loss: 0.1133 - mean_squared_error: 0.1133 - val_loss: 0.1004 - val_mean_squared_error: 0.1004\n",
            "Epoch 19/50\n",
            "69/69 [==============================] - 12s 170ms/step - loss: 0.1129 - mean_squared_error: 0.1129 - val_loss: 0.1000 - val_mean_squared_error: 0.1000\n",
            "Epoch 20/50\n",
            "69/69 [==============================] - 12s 170ms/step - loss: 0.1125 - mean_squared_error: 0.1125 - val_loss: 0.0996 - val_mean_squared_error: 0.0996\n",
            "Epoch 21/50\n",
            "69/69 [==============================] - 12s 169ms/step - loss: 0.1120 - mean_squared_error: 0.1120 - val_loss: 0.0992 - val_mean_squared_error: 0.0992\n",
            "Epoch 22/50\n",
            "69/69 [==============================] - 12s 169ms/step - loss: 0.1116 - mean_squared_error: 0.1116 - val_loss: 0.0988 - val_mean_squared_error: 0.0988\n",
            "Epoch 23/50\n",
            "69/69 [==============================] - 12s 170ms/step - loss: 0.1112 - mean_squared_error: 0.1112 - val_loss: 0.0985 - val_mean_squared_error: 0.0985\n",
            "Epoch 24/50\n",
            "69/69 [==============================] - 12s 170ms/step - loss: 0.1108 - mean_squared_error: 0.1108 - val_loss: 0.0981 - val_mean_squared_error: 0.0981\n",
            "Epoch 25/50\n",
            "69/69 [==============================] - 12s 169ms/step - loss: 0.1104 - mean_squared_error: 0.1104 - val_loss: 0.0977 - val_mean_squared_error: 0.0977\n",
            "Epoch 26/50\n",
            "69/69 [==============================] - 12s 170ms/step - loss: 0.1100 - mean_squared_error: 0.1100 - val_loss: 0.0973 - val_mean_squared_error: 0.0973\n",
            "Epoch 27/50\n",
            "69/69 [==============================] - 12s 171ms/step - loss: 0.1096 - mean_squared_error: 0.1096 - val_loss: 0.0969 - val_mean_squared_error: 0.0969\n",
            "Epoch 28/50\n",
            "69/69 [==============================] - 12s 170ms/step - loss: 0.1092 - mean_squared_error: 0.1092 - val_loss: 0.0965 - val_mean_squared_error: 0.0965\n",
            "Epoch 29/50\n",
            "69/69 [==============================] - 12s 169ms/step - loss: 0.1088 - mean_squared_error: 0.1088 - val_loss: 0.0962 - val_mean_squared_error: 0.0962\n",
            "Epoch 30/50\n",
            "69/69 [==============================] - 12s 170ms/step - loss: 0.1084 - mean_squared_error: 0.1084 - val_loss: 0.0958 - val_mean_squared_error: 0.0958\n",
            "Epoch 31/50\n",
            "69/69 [==============================] - 12s 170ms/step - loss: 0.1080 - mean_squared_error: 0.1080 - val_loss: 0.0954 - val_mean_squared_error: 0.0954\n",
            "Epoch 32/50\n",
            "69/69 [==============================] - 12s 169ms/step - loss: 0.1076 - mean_squared_error: 0.1076 - val_loss: 0.0950 - val_mean_squared_error: 0.0950\n",
            "Epoch 33/50\n",
            "69/69 [==============================] - 12s 170ms/step - loss: 0.1072 - mean_squared_error: 0.1072 - val_loss: 0.0947 - val_mean_squared_error: 0.0947\n",
            "Epoch 34/50\n",
            "69/69 [==============================] - 12s 170ms/step - loss: 0.1068 - mean_squared_error: 0.1068 - val_loss: 0.0943 - val_mean_squared_error: 0.0943\n",
            "Epoch 35/50\n",
            "69/69 [==============================] - 12s 169ms/step - loss: 0.1064 - mean_squared_error: 0.1064 - val_loss: 0.0939 - val_mean_squared_error: 0.0939\n",
            "Epoch 36/50\n",
            "69/69 [==============================] - 12s 170ms/step - loss: 0.1060 - mean_squared_error: 0.1060 - val_loss: 0.0936 - val_mean_squared_error: 0.0936\n",
            "Epoch 37/50\n",
            "69/69 [==============================] - 12s 170ms/step - loss: 0.1056 - mean_squared_error: 0.1056 - val_loss: 0.0932 - val_mean_squared_error: 0.0932\n",
            "Epoch 38/50\n",
            "69/69 [==============================] - 12s 171ms/step - loss: 0.1052 - mean_squared_error: 0.1052 - val_loss: 0.0928 - val_mean_squared_error: 0.0928\n",
            "Epoch 39/50\n",
            "69/69 [==============================] - 12s 170ms/step - loss: 0.1048 - mean_squared_error: 0.1048 - val_loss: 0.0925 - val_mean_squared_error: 0.0925\n",
            "Epoch 40/50\n",
            "69/69 [==============================] - 12s 170ms/step - loss: 0.1045 - mean_squared_error: 0.1045 - val_loss: 0.0921 - val_mean_squared_error: 0.0921\n",
            "Epoch 41/50\n",
            "69/69 [==============================] - 12s 170ms/step - loss: 0.1041 - mean_squared_error: 0.1041 - val_loss: 0.0917 - val_mean_squared_error: 0.0917\n",
            "Epoch 42/50\n",
            "69/69 [==============================] - 12s 170ms/step - loss: 0.1037 - mean_squared_error: 0.1037 - val_loss: 0.0914 - val_mean_squared_error: 0.0914\n",
            "Epoch 43/50\n",
            "69/69 [==============================] - 12s 170ms/step - loss: 0.1033 - mean_squared_error: 0.1033 - val_loss: 0.0910 - val_mean_squared_error: 0.0910\n",
            "Epoch 44/50\n",
            "69/69 [==============================] - 12s 170ms/step - loss: 0.1029 - mean_squared_error: 0.1029 - val_loss: 0.0906 - val_mean_squared_error: 0.0906\n",
            "Epoch 45/50\n",
            "69/69 [==============================] - 12s 170ms/step - loss: 0.1025 - mean_squared_error: 0.1025 - val_loss: 0.0903 - val_mean_squared_error: 0.0903\n",
            "Epoch 46/50\n",
            "69/69 [==============================] - 12s 170ms/step - loss: 0.1021 - mean_squared_error: 0.1021 - val_loss: 0.0899 - val_mean_squared_error: 0.0899\n",
            "Epoch 47/50\n",
            "69/69 [==============================] - 12s 170ms/step - loss: 0.1018 - mean_squared_error: 0.1018 - val_loss: 0.0896 - val_mean_squared_error: 0.0896\n",
            "Epoch 48/50\n",
            "69/69 [==============================] - 12s 170ms/step - loss: 0.1014 - mean_squared_error: 0.1014 - val_loss: 0.0892 - val_mean_squared_error: 0.0892\n",
            "Epoch 49/50\n",
            "69/69 [==============================] - 12s 171ms/step - loss: 0.1010 - mean_squared_error: 0.1010 - val_loss: 0.0888 - val_mean_squared_error: 0.0888\n",
            "Epoch 50/50\n",
            "69/69 [==============================] - 12s 170ms/step - loss: 0.1006 - mean_squared_error: 0.1006 - val_loss: 0.0885 - val_mean_squared_error: 0.0885\n"
          ],
          "name": "stdout"
        },
        {
          "output_type": "display_data",
          "data": {
            "text/html": [
              "<span style=\"color:#4527A0\"><h1 style=\"font-size:18px\">Trial complete</h1></span>"
            ],
            "text/plain": [
              "<IPython.core.display.HTML object>"
            ]
          },
          "metadata": {
            "tags": []
          }
        },
        {
          "output_type": "display_data",
          "data": {
            "text/html": [
              "<span style=\"color:#4527A0\"><h1 style=\"font-size:18px\">Trial summary</h1></span>"
            ],
            "text/plain": [
              "<IPython.core.display.HTML object>"
            ]
          },
          "metadata": {
            "tags": []
          }
        },
        {
          "output_type": "display_data",
          "data": {
            "text/html": [
              "<span style=\"color:cyan\"> |-Trial ID: f5e5b65df6d3f78e9cad769ed330bdc2</span>"
            ],
            "text/plain": [
              "<IPython.core.display.HTML object>"
            ]
          },
          "metadata": {
            "tags": []
          }
        },
        {
          "output_type": "display_data",
          "data": {
            "text/html": [
              "<span style=\"color:cyan\"> |-Score: 0.09713119268417358</span>"
            ],
            "text/plain": [
              "<IPython.core.display.HTML object>"
            ]
          },
          "metadata": {
            "tags": []
          }
        },
        {
          "output_type": "display_data",
          "data": {
            "text/html": [
              "<span style=\"color:cyan\"> |-Best step: 0</span>"
            ],
            "text/plain": [
              "<IPython.core.display.HTML object>"
            ]
          },
          "metadata": {
            "tags": []
          }
        },
        {
          "output_type": "display_data",
          "data": {
            "text/html": [
              "<span style=\"color:#7E57C2\"><h2 style=\"font-size:16px\">Hyperparameters:</h2></span>"
            ],
            "text/plain": [
              "<IPython.core.display.HTML object>"
            ]
          },
          "metadata": {
            "tags": []
          }
        },
        {
          "output_type": "display_data",
          "data": {
            "text/html": [
              "<span style=\"color:cyan\"> |-kernel_size: 36</span>"
            ],
            "text/plain": [
              "<IPython.core.display.HTML object>"
            ]
          },
          "metadata": {
            "tags": []
          }
        },
        {
          "output_type": "display_data",
          "data": {
            "text/html": [
              "<span style=\"color:blue\"> |-num_channels: 200</span>"
            ],
            "text/plain": [
              "<IPython.core.display.HTML object>"
            ]
          },
          "metadata": {
            "tags": []
          }
        },
        {
          "output_type": "stream",
          "text": [
            "WARNING:tensorflow:Layer lstm will not use cuDNN kernel since it doesn't meet the cuDNN kernel criteria. It will use generic GPU kernel as fallback when running on GPU\n",
            "Epoch 1/50\n",
            "69/69 [==============================] - 4s 60ms/step - loss: 0.1210 - mean_squared_error: 0.1210 - val_loss: 0.1076 - val_mean_squared_error: 0.1076\n",
            "Epoch 2/50\n",
            "69/69 [==============================] - 4s 57ms/step - loss: 0.1203 - mean_squared_error: 0.1203 - val_loss: 0.1069 - val_mean_squared_error: 0.1069\n",
            "Epoch 3/50\n",
            "69/69 [==============================] - 4s 59ms/step - loss: 0.1196 - mean_squared_error: 0.1196 - val_loss: 0.1063 - val_mean_squared_error: 0.1063\n",
            "Epoch 4/50\n",
            "69/69 [==============================] - 4s 58ms/step - loss: 0.1189 - mean_squared_error: 0.1189 - val_loss: 0.1057 - val_mean_squared_error: 0.1057\n",
            "Epoch 5/50\n",
            "69/69 [==============================] - 4s 58ms/step - loss: 0.1182 - mean_squared_error: 0.1182 - val_loss: 0.1050 - val_mean_squared_error: 0.1050\n",
            "Epoch 6/50\n",
            "69/69 [==============================] - 4s 58ms/step - loss: 0.1176 - mean_squared_error: 0.1176 - val_loss: 0.1045 - val_mean_squared_error: 0.1045\n",
            "Epoch 7/50\n",
            "69/69 [==============================] - 4s 61ms/step - loss: 0.1170 - mean_squared_error: 0.1170 - val_loss: 0.1039 - val_mean_squared_error: 0.1039\n",
            "Epoch 8/50\n",
            "69/69 [==============================] - 4s 61ms/step - loss: 0.1164 - mean_squared_error: 0.1164 - val_loss: 0.1033 - val_mean_squared_error: 0.1033\n",
            "Epoch 9/50\n",
            "69/69 [==============================] - 4s 58ms/step - loss: 0.1158 - mean_squared_error: 0.1158 - val_loss: 0.1028 - val_mean_squared_error: 0.1028\n",
            "Epoch 10/50\n",
            "69/69 [==============================] - 4s 59ms/step - loss: 0.1152 - mean_squared_error: 0.1152 - val_loss: 0.1023 - val_mean_squared_error: 0.1023\n",
            "Epoch 11/50\n",
            "69/69 [==============================] - 4s 57ms/step - loss: 0.1146 - mean_squared_error: 0.1146 - val_loss: 0.1017 - val_mean_squared_error: 0.1017\n",
            "Epoch 12/50\n",
            "69/69 [==============================] - 4s 58ms/step - loss: 0.1140 - mean_squared_error: 0.1140 - val_loss: 0.1012 - val_mean_squared_error: 0.1012\n",
            "Epoch 13/50\n",
            "69/69 [==============================] - 4s 58ms/step - loss: 0.1135 - mean_squared_error: 0.1135 - val_loss: 0.1007 - val_mean_squared_error: 0.1007\n",
            "Epoch 14/50\n",
            "69/69 [==============================] - 4s 60ms/step - loss: 0.1129 - mean_squared_error: 0.1129 - val_loss: 0.1002 - val_mean_squared_error: 0.1002\n",
            "Epoch 15/50\n",
            "69/69 [==============================] - 4s 58ms/step - loss: 0.1124 - mean_squared_error: 0.1124 - val_loss: 0.0996 - val_mean_squared_error: 0.0996\n",
            "Epoch 16/50\n",
            "69/69 [==============================] - 4s 60ms/step - loss: 0.1118 - mean_squared_error: 0.1118 - val_loss: 0.0991 - val_mean_squared_error: 0.0991\n",
            "Epoch 17/50\n",
            "69/69 [==============================] - 4s 57ms/step - loss: 0.1112 - mean_squared_error: 0.1112 - val_loss: 0.0986 - val_mean_squared_error: 0.0986\n",
            "Epoch 18/50\n",
            "69/69 [==============================] - 4s 60ms/step - loss: 0.1107 - mean_squared_error: 0.1107 - val_loss: 0.0981 - val_mean_squared_error: 0.0981\n",
            "Epoch 19/50\n",
            "69/69 [==============================] - 4s 58ms/step - loss: 0.1101 - mean_squared_error: 0.1101 - val_loss: 0.0975 - val_mean_squared_error: 0.0975\n",
            "Epoch 20/50\n",
            "69/69 [==============================] - 4s 59ms/step - loss: 0.1095 - mean_squared_error: 0.1095 - val_loss: 0.0970 - val_mean_squared_error: 0.0970\n",
            "Epoch 21/50\n",
            "69/69 [==============================] - 4s 58ms/step - loss: 0.1090 - mean_squared_error: 0.1090 - val_loss: 0.0965 - val_mean_squared_error: 0.0965\n",
            "Epoch 22/50\n",
            "69/69 [==============================] - 4s 60ms/step - loss: 0.1084 - mean_squared_error: 0.1084 - val_loss: 0.0959 - val_mean_squared_error: 0.0959\n",
            "Epoch 23/50\n",
            "69/69 [==============================] - 4s 58ms/step - loss: 0.1078 - mean_squared_error: 0.1078 - val_loss: 0.0954 - val_mean_squared_error: 0.0954\n",
            "Epoch 24/50\n",
            "69/69 [==============================] - 4s 58ms/step - loss: 0.1072 - mean_squared_error: 0.1072 - val_loss: 0.0948 - val_mean_squared_error: 0.0948\n",
            "Epoch 25/50\n",
            "69/69 [==============================] - 4s 57ms/step - loss: 0.1066 - mean_squared_error: 0.1066 - val_loss: 0.0943 - val_mean_squared_error: 0.0943\n",
            "Epoch 26/50\n",
            "69/69 [==============================] - 4s 59ms/step - loss: 0.1060 - mean_squared_error: 0.1060 - val_loss: 0.0937 - val_mean_squared_error: 0.0937\n",
            "Epoch 27/50\n",
            "69/69 [==============================] - 4s 59ms/step - loss: 0.1054 - mean_squared_error: 0.1054 - val_loss: 0.0932 - val_mean_squared_error: 0.0932\n",
            "Epoch 28/50\n",
            "69/69 [==============================] - 4s 60ms/step - loss: 0.1048 - mean_squared_error: 0.1048 - val_loss: 0.0926 - val_mean_squared_error: 0.0926\n",
            "Epoch 29/50\n",
            "69/69 [==============================] - 4s 58ms/step - loss: 0.1042 - mean_squared_error: 0.1042 - val_loss: 0.0920 - val_mean_squared_error: 0.0920\n",
            "Epoch 30/50\n",
            "69/69 [==============================] - 4s 57ms/step - loss: 0.1035 - mean_squared_error: 0.1035 - val_loss: 0.0914 - val_mean_squared_error: 0.0914\n",
            "Epoch 31/50\n",
            "69/69 [==============================] - 4s 60ms/step - loss: 0.1029 - mean_squared_error: 0.1029 - val_loss: 0.0908 - val_mean_squared_error: 0.0908\n",
            "Epoch 32/50\n",
            "69/69 [==============================] - 4s 59ms/step - loss: 0.1023 - mean_squared_error: 0.1023 - val_loss: 0.0902 - val_mean_squared_error: 0.0902\n",
            "Epoch 33/50\n",
            "69/69 [==============================] - 4s 59ms/step - loss: 0.1016 - mean_squared_error: 0.1016 - val_loss: 0.0896 - val_mean_squared_error: 0.0896\n",
            "Epoch 34/50\n",
            "69/69 [==============================] - 4s 57ms/step - loss: 0.1010 - mean_squared_error: 0.1010 - val_loss: 0.0890 - val_mean_squared_error: 0.0890\n",
            "Epoch 35/50\n",
            "69/69 [==============================] - 4s 60ms/step - loss: 0.1003 - mean_squared_error: 0.1003 - val_loss: 0.0884 - val_mean_squared_error: 0.0884\n",
            "Epoch 36/50\n",
            "69/69 [==============================] - 4s 58ms/step - loss: 0.0996 - mean_squared_error: 0.0996 - val_loss: 0.0878 - val_mean_squared_error: 0.0878\n",
            "Epoch 37/50\n",
            "69/69 [==============================] - 4s 59ms/step - loss: 0.0989 - mean_squared_error: 0.0989 - val_loss: 0.0871 - val_mean_squared_error: 0.0871\n",
            "Epoch 38/50\n",
            "69/69 [==============================] - 4s 57ms/step - loss: 0.0982 - mean_squared_error: 0.0982 - val_loss: 0.0865 - val_mean_squared_error: 0.0865\n",
            "Epoch 39/50\n",
            "69/69 [==============================] - 4s 59ms/step - loss: 0.0975 - mean_squared_error: 0.0975 - val_loss: 0.0858 - val_mean_squared_error: 0.0858\n",
            "Epoch 40/50\n",
            "69/69 [==============================] - 4s 57ms/step - loss: 0.0967 - mean_squared_error: 0.0967 - val_loss: 0.0851 - val_mean_squared_error: 0.0851\n",
            "Epoch 41/50\n",
            "69/69 [==============================] - 4s 59ms/step - loss: 0.0960 - mean_squared_error: 0.0960 - val_loss: 0.0844 - val_mean_squared_error: 0.0844\n",
            "Epoch 42/50\n",
            "69/69 [==============================] - 4s 57ms/step - loss: 0.0952 - mean_squared_error: 0.0952 - val_loss: 0.0837 - val_mean_squared_error: 0.0837\n",
            "Epoch 43/50\n",
            "69/69 [==============================] - 4s 60ms/step - loss: 0.0945 - mean_squared_error: 0.0945 - val_loss: 0.0830 - val_mean_squared_error: 0.0830\n",
            "Epoch 44/50\n",
            "69/69 [==============================] - 4s 57ms/step - loss: 0.0937 - mean_squared_error: 0.0937 - val_loss: 0.0823 - val_mean_squared_error: 0.0823\n",
            "Epoch 45/50\n",
            "69/69 [==============================] - 4s 58ms/step - loss: 0.0929 - mean_squared_error: 0.0929 - val_loss: 0.0816 - val_mean_squared_error: 0.0816\n",
            "Epoch 46/50\n",
            "69/69 [==============================] - 4s 57ms/step - loss: 0.0921 - mean_squared_error: 0.0921 - val_loss: 0.0808 - val_mean_squared_error: 0.0808\n",
            "Epoch 47/50\n",
            "69/69 [==============================] - 4s 59ms/step - loss: 0.0912 - mean_squared_error: 0.0912 - val_loss: 0.0801 - val_mean_squared_error: 0.0801\n",
            "Epoch 48/50\n",
            "69/69 [==============================] - 4s 57ms/step - loss: 0.0904 - mean_squared_error: 0.0904 - val_loss: 0.0793 - val_mean_squared_error: 0.0793\n",
            "Epoch 49/50\n",
            "69/69 [==============================] - 4s 59ms/step - loss: 0.0896 - mean_squared_error: 0.0896 - val_loss: 0.0786 - val_mean_squared_error: 0.0786\n",
            "Epoch 50/50\n",
            "69/69 [==============================] - 4s 57ms/step - loss: 0.0887 - mean_squared_error: 0.0887 - val_loss: 0.0778 - val_mean_squared_error: 0.0778\n",
            "WARNING:tensorflow:Layer lstm will not use cuDNN kernel since it doesn't meet the cuDNN kernel criteria. It will use generic GPU kernel as fallback when running on GPU\n",
            "Epoch 1/50\n",
            "69/69 [==============================] - 4s 59ms/step - loss: 0.1217 - mean_squared_error: 0.1217 - val_loss: 0.1083 - val_mean_squared_error: 0.1083\n",
            "Epoch 2/50\n",
            "69/69 [==============================] - 4s 57ms/step - loss: 0.1211 - mean_squared_error: 0.1211 - val_loss: 0.1077 - val_mean_squared_error: 0.1077\n",
            "Epoch 3/50\n",
            "69/69 [==============================] - 4s 57ms/step - loss: 0.1205 - mean_squared_error: 0.1205 - val_loss: 0.1072 - val_mean_squared_error: 0.1072\n",
            "Epoch 4/50\n",
            "69/69 [==============================] - 4s 56ms/step - loss: 0.1199 - mean_squared_error: 0.1199 - val_loss: 0.1066 - val_mean_squared_error: 0.1066\n",
            "Epoch 5/50\n",
            "69/69 [==============================] - 4s 57ms/step - loss: 0.1193 - mean_squared_error: 0.1193 - val_loss: 0.1061 - val_mean_squared_error: 0.1061\n",
            "Epoch 6/50\n",
            "69/69 [==============================] - 4s 56ms/step - loss: 0.1188 - mean_squared_error: 0.1188 - val_loss: 0.1056 - val_mean_squared_error: 0.1056\n",
            "Epoch 7/50\n",
            "69/69 [==============================] - 4s 57ms/step - loss: 0.1182 - mean_squared_error: 0.1182 - val_loss: 0.1051 - val_mean_squared_error: 0.1051\n",
            "Epoch 8/50\n",
            "69/69 [==============================] - 4s 57ms/step - loss: 0.1177 - mean_squared_error: 0.1177 - val_loss: 0.1046 - val_mean_squared_error: 0.1046\n",
            "Epoch 9/50\n",
            "69/69 [==============================] - 4s 56ms/step - loss: 0.1172 - mean_squared_error: 0.1172 - val_loss: 0.1041 - val_mean_squared_error: 0.1041\n",
            "Epoch 10/50\n",
            "69/69 [==============================] - 4s 56ms/step - loss: 0.1167 - mean_squared_error: 0.1167 - val_loss: 0.1037 - val_mean_squared_error: 0.1037\n",
            "Epoch 11/50\n",
            "69/69 [==============================] - 4s 57ms/step - loss: 0.1162 - mean_squared_error: 0.1162 - val_loss: 0.1032 - val_mean_squared_error: 0.1032\n",
            "Epoch 12/50\n",
            "69/69 [==============================] - 4s 56ms/step - loss: 0.1157 - mean_squared_error: 0.1157 - val_loss: 0.1028 - val_mean_squared_error: 0.1028\n",
            "Epoch 13/50\n",
            "69/69 [==============================] - 4s 56ms/step - loss: 0.1152 - mean_squared_error: 0.1152 - val_loss: 0.1023 - val_mean_squared_error: 0.1023\n",
            "Epoch 14/50\n",
            "69/69 [==============================] - 4s 56ms/step - loss: 0.1148 - mean_squared_error: 0.1148 - val_loss: 0.1019 - val_mean_squared_error: 0.1019\n",
            "Epoch 15/50\n",
            "69/69 [==============================] - 4s 57ms/step - loss: 0.1143 - mean_squared_error: 0.1143 - val_loss: 0.1015 - val_mean_squared_error: 0.1015\n",
            "Epoch 16/50\n",
            "69/69 [==============================] - 4s 57ms/step - loss: 0.1138 - mean_squared_error: 0.1138 - val_loss: 0.1010 - val_mean_squared_error: 0.1010\n",
            "Epoch 17/50\n",
            "69/69 [==============================] - 4s 57ms/step - loss: 0.1134 - mean_squared_error: 0.1134 - val_loss: 0.1006 - val_mean_squared_error: 0.1006\n",
            "Epoch 18/50\n",
            "69/69 [==============================] - 4s 56ms/step - loss: 0.1129 - mean_squared_error: 0.1129 - val_loss: 0.1002 - val_mean_squared_error: 0.1002\n",
            "Epoch 19/50\n",
            "69/69 [==============================] - 4s 56ms/step - loss: 0.1125 - mean_squared_error: 0.1125 - val_loss: 0.0998 - val_mean_squared_error: 0.0998\n",
            "Epoch 20/50\n",
            "69/69 [==============================] - 4s 56ms/step - loss: 0.1120 - mean_squared_error: 0.1120 - val_loss: 0.0994 - val_mean_squared_error: 0.0994\n",
            "Epoch 21/50\n",
            "69/69 [==============================] - 4s 56ms/step - loss: 0.1116 - mean_squared_error: 0.1116 - val_loss: 0.0990 - val_mean_squared_error: 0.0990\n",
            "Epoch 22/50\n",
            "69/69 [==============================] - 4s 56ms/step - loss: 0.1112 - mean_squared_error: 0.1112 - val_loss: 0.0985 - val_mean_squared_error: 0.0985\n",
            "Epoch 23/50\n",
            "69/69 [==============================] - 4s 57ms/step - loss: 0.1107 - mean_squared_error: 0.1107 - val_loss: 0.0981 - val_mean_squared_error: 0.0981\n",
            "Epoch 24/50\n",
            "69/69 [==============================] - 4s 57ms/step - loss: 0.1103 - mean_squared_error: 0.1103 - val_loss: 0.0977 - val_mean_squared_error: 0.0977\n",
            "Epoch 25/50\n",
            "69/69 [==============================] - 4s 57ms/step - loss: 0.1099 - mean_squared_error: 0.1099 - val_loss: 0.0973 - val_mean_squared_error: 0.0973\n",
            "Epoch 26/50\n",
            "69/69 [==============================] - 4s 56ms/step - loss: 0.1094 - mean_squared_error: 0.1094 - val_loss: 0.0969 - val_mean_squared_error: 0.0969\n",
            "Epoch 27/50\n",
            "69/69 [==============================] - 4s 57ms/step - loss: 0.1090 - mean_squared_error: 0.1090 - val_loss: 0.0965 - val_mean_squared_error: 0.0965\n",
            "Epoch 28/50\n",
            "69/69 [==============================] - 4s 56ms/step - loss: 0.1085 - mean_squared_error: 0.1085 - val_loss: 0.0961 - val_mean_squared_error: 0.0961\n",
            "Epoch 29/50\n",
            "69/69 [==============================] - 4s 57ms/step - loss: 0.1081 - mean_squared_error: 0.1081 - val_loss: 0.0957 - val_mean_squared_error: 0.0957\n",
            "Epoch 30/50\n",
            "69/69 [==============================] - 4s 57ms/step - loss: 0.1077 - mean_squared_error: 0.1077 - val_loss: 0.0953 - val_mean_squared_error: 0.0953\n",
            "Epoch 31/50\n",
            "69/69 [==============================] - 4s 57ms/step - loss: 0.1072 - mean_squared_error: 0.1072 - val_loss: 0.0949 - val_mean_squared_error: 0.0949\n",
            "Epoch 32/50\n",
            "69/69 [==============================] - 4s 57ms/step - loss: 0.1068 - mean_squared_error: 0.1068 - val_loss: 0.0945 - val_mean_squared_error: 0.0945\n",
            "Epoch 33/50\n",
            "69/69 [==============================] - 4s 57ms/step - loss: 0.1063 - mean_squared_error: 0.1063 - val_loss: 0.0941 - val_mean_squared_error: 0.0941\n",
            "Epoch 34/50\n",
            "69/69 [==============================] - 4s 57ms/step - loss: 0.1059 - mean_squared_error: 0.1059 - val_loss: 0.0936 - val_mean_squared_error: 0.0936\n",
            "Epoch 35/50\n",
            "69/69 [==============================] - 4s 58ms/step - loss: 0.1054 - mean_squared_error: 0.1054 - val_loss: 0.0932 - val_mean_squared_error: 0.0932\n",
            "Epoch 36/50\n",
            "69/69 [==============================] - 4s 57ms/step - loss: 0.1050 - mean_squared_error: 0.1050 - val_loss: 0.0928 - val_mean_squared_error: 0.0928\n",
            "Epoch 37/50\n",
            "69/69 [==============================] - 4s 56ms/step - loss: 0.1045 - mean_squared_error: 0.1045 - val_loss: 0.0924 - val_mean_squared_error: 0.0924\n",
            "Epoch 38/50\n",
            "69/69 [==============================] - 4s 56ms/step - loss: 0.1041 - mean_squared_error: 0.1041 - val_loss: 0.0919 - val_mean_squared_error: 0.0919\n",
            "Epoch 39/50\n",
            "69/69 [==============================] - 4s 56ms/step - loss: 0.1036 - mean_squared_error: 0.1036 - val_loss: 0.0915 - val_mean_squared_error: 0.0915\n",
            "Epoch 40/50\n",
            "69/69 [==============================] - 4s 56ms/step - loss: 0.1031 - mean_squared_error: 0.1031 - val_loss: 0.0910 - val_mean_squared_error: 0.0910\n",
            "Epoch 41/50\n",
            "69/69 [==============================] - 4s 56ms/step - loss: 0.1026 - mean_squared_error: 0.1026 - val_loss: 0.0906 - val_mean_squared_error: 0.0906\n",
            "Epoch 42/50\n",
            "69/69 [==============================] - 4s 56ms/step - loss: 0.1021 - mean_squared_error: 0.1021 - val_loss: 0.0901 - val_mean_squared_error: 0.0901\n",
            "Epoch 43/50\n",
            "69/69 [==============================] - 4s 56ms/step - loss: 0.1016 - mean_squared_error: 0.1016 - val_loss: 0.0897 - val_mean_squared_error: 0.0897\n",
            "Epoch 44/50\n",
            "69/69 [==============================] - 4s 56ms/step - loss: 0.1011 - mean_squared_error: 0.1011 - val_loss: 0.0892 - val_mean_squared_error: 0.0892\n",
            "Epoch 45/50\n",
            "69/69 [==============================] - 4s 56ms/step - loss: 0.1006 - mean_squared_error: 0.1006 - val_loss: 0.0887 - val_mean_squared_error: 0.0887\n",
            "Epoch 46/50\n",
            "69/69 [==============================] - 4s 56ms/step - loss: 0.1001 - mean_squared_error: 0.1001 - val_loss: 0.0883 - val_mean_squared_error: 0.0883\n",
            "Epoch 47/50\n",
            "69/69 [==============================] - 4s 56ms/step - loss: 0.0996 - mean_squared_error: 0.0996 - val_loss: 0.0878 - val_mean_squared_error: 0.0878\n",
            "Epoch 48/50\n",
            "69/69 [==============================] - 4s 56ms/step - loss: 0.0991 - mean_squared_error: 0.0991 - val_loss: 0.0873 - val_mean_squared_error: 0.0873\n",
            "Epoch 49/50\n",
            "69/69 [==============================] - 4s 56ms/step - loss: 0.0985 - mean_squared_error: 0.0985 - val_loss: 0.0868 - val_mean_squared_error: 0.0868\n",
            "Epoch 50/50\n",
            "69/69 [==============================] - 4s 56ms/step - loss: 0.0980 - mean_squared_error: 0.0980 - val_loss: 0.0863 - val_mean_squared_error: 0.0863\n"
          ],
          "name": "stdout"
        },
        {
          "output_type": "display_data",
          "data": {
            "text/html": [
              "<span style=\"color:#4527A0\"><h1 style=\"font-size:18px\">Trial complete</h1></span>"
            ],
            "text/plain": [
              "<IPython.core.display.HTML object>"
            ]
          },
          "metadata": {
            "tags": []
          }
        },
        {
          "output_type": "display_data",
          "data": {
            "text/html": [
              "<span style=\"color:#4527A0\"><h1 style=\"font-size:18px\">Trial summary</h1></span>"
            ],
            "text/plain": [
              "<IPython.core.display.HTML object>"
            ]
          },
          "metadata": {
            "tags": []
          }
        },
        {
          "output_type": "display_data",
          "data": {
            "text/html": [
              "<span style=\"color:cyan\"> |-Trial ID: b652c515d4f3d7d12951c644537fcd1d</span>"
            ],
            "text/plain": [
              "<IPython.core.display.HTML object>"
            ]
          },
          "metadata": {
            "tags": []
          }
        },
        {
          "output_type": "display_data",
          "data": {
            "text/html": [
              "<span style=\"color:cyan\"> |-Score: 0.09335841983556747</span>"
            ],
            "text/plain": [
              "<IPython.core.display.HTML object>"
            ]
          },
          "metadata": {
            "tags": []
          }
        },
        {
          "output_type": "display_data",
          "data": {
            "text/html": [
              "<span style=\"color:cyan\"> |-Best step: 0</span>"
            ],
            "text/plain": [
              "<IPython.core.display.HTML object>"
            ]
          },
          "metadata": {
            "tags": []
          }
        },
        {
          "output_type": "display_data",
          "data": {
            "text/html": [
              "<span style=\"color:#7E57C2\"><h2 style=\"font-size:16px\">Hyperparameters:</h2></span>"
            ],
            "text/plain": [
              "<IPython.core.display.HTML object>"
            ]
          },
          "metadata": {
            "tags": []
          }
        },
        {
          "output_type": "display_data",
          "data": {
            "text/html": [
              "<span style=\"color:cyan\"> |-kernel_size: 6</span>"
            ],
            "text/plain": [
              "<IPython.core.display.HTML object>"
            ]
          },
          "metadata": {
            "tags": []
          }
        },
        {
          "output_type": "display_data",
          "data": {
            "text/html": [
              "<span style=\"color:blue\"> |-num_channels: 50</span>"
            ],
            "text/plain": [
              "<IPython.core.display.HTML object>"
            ]
          },
          "metadata": {
            "tags": []
          }
        },
        {
          "output_type": "stream",
          "text": [
            "WARNING:tensorflow:Layer lstm will not use cuDNN kernel since it doesn't meet the cuDNN kernel criteria. It will use generic GPU kernel as fallback when running on GPU\n",
            "Epoch 1/50\n",
            "69/69 [==============================] - 11s 162ms/step - loss: 0.1218 - mean_squared_error: 0.1218 - val_loss: 0.1084 - val_mean_squared_error: 0.1084\n",
            "Epoch 2/50\n",
            "69/69 [==============================] - 11s 160ms/step - loss: 0.1212 - mean_squared_error: 0.1212 - val_loss: 0.1078 - val_mean_squared_error: 0.1078\n",
            "Epoch 3/50\n",
            "69/69 [==============================] - 11s 160ms/step - loss: 0.1206 - mean_squared_error: 0.1206 - val_loss: 0.1073 - val_mean_squared_error: 0.1073\n",
            "Epoch 4/50\n",
            "69/69 [==============================] - 11s 160ms/step - loss: 0.1201 - mean_squared_error: 0.1201 - val_loss: 0.1068 - val_mean_squared_error: 0.1068\n",
            "Epoch 5/50\n",
            "69/69 [==============================] - 11s 160ms/step - loss: 0.1195 - mean_squared_error: 0.1195 - val_loss: 0.1063 - val_mean_squared_error: 0.1063\n",
            "Epoch 6/50\n",
            "69/69 [==============================] - 11s 160ms/step - loss: 0.1190 - mean_squared_error: 0.1190 - val_loss: 0.1058 - val_mean_squared_error: 0.1058\n",
            "Epoch 7/50\n",
            "69/69 [==============================] - 11s 160ms/step - loss: 0.1185 - mean_squared_error: 0.1185 - val_loss: 0.1054 - val_mean_squared_error: 0.1054\n",
            "Epoch 8/50\n",
            "69/69 [==============================] - 11s 161ms/step - loss: 0.1180 - mean_squared_error: 0.1180 - val_loss: 0.1049 - val_mean_squared_error: 0.1049\n",
            "Epoch 9/50\n",
            "69/69 [==============================] - 11s 160ms/step - loss: 0.1176 - mean_squared_error: 0.1176 - val_loss: 0.1045 - val_mean_squared_error: 0.1045\n",
            "Epoch 10/50\n",
            "69/69 [==============================] - 11s 160ms/step - loss: 0.1171 - mean_squared_error: 0.1171 - val_loss: 0.1041 - val_mean_squared_error: 0.1041\n",
            "Epoch 11/50\n",
            "69/69 [==============================] - 11s 159ms/step - loss: 0.1167 - mean_squared_error: 0.1167 - val_loss: 0.1037 - val_mean_squared_error: 0.1037\n",
            "Epoch 12/50\n",
            "69/69 [==============================] - 11s 161ms/step - loss: 0.1163 - mean_squared_error: 0.1163 - val_loss: 0.1033 - val_mean_squared_error: 0.1033\n",
            "Epoch 13/50\n",
            "69/69 [==============================] - 11s 160ms/step - loss: 0.1158 - mean_squared_error: 0.1158 - val_loss: 0.1029 - val_mean_squared_error: 0.1029\n",
            "Epoch 14/50\n",
            "69/69 [==============================] - 11s 161ms/step - loss: 0.1154 - mean_squared_error: 0.1154 - val_loss: 0.1026 - val_mean_squared_error: 0.1026\n",
            "Epoch 15/50\n",
            "69/69 [==============================] - 11s 161ms/step - loss: 0.1150 - mean_squared_error: 0.1150 - val_loss: 0.1022 - val_mean_squared_error: 0.1022\n",
            "Epoch 16/50\n",
            "69/69 [==============================] - 11s 160ms/step - loss: 0.1146 - mean_squared_error: 0.1146 - val_loss: 0.1018 - val_mean_squared_error: 0.1018\n",
            "Epoch 17/50\n",
            "69/69 [==============================] - 11s 160ms/step - loss: 0.1143 - mean_squared_error: 0.1143 - val_loss: 0.1015 - val_mean_squared_error: 0.1015\n",
            "Epoch 18/50\n",
            "69/69 [==============================] - 11s 160ms/step - loss: 0.1139 - mean_squared_error: 0.1139 - val_loss: 0.1011 - val_mean_squared_error: 0.1011\n",
            "Epoch 19/50\n",
            "69/69 [==============================] - 11s 160ms/step - loss: 0.1135 - mean_squared_error: 0.1135 - val_loss: 0.1008 - val_mean_squared_error: 0.1008\n",
            "Epoch 20/50\n",
            "69/69 [==============================] - 11s 160ms/step - loss: 0.1131 - mean_squared_error: 0.1131 - val_loss: 0.1004 - val_mean_squared_error: 0.1004\n",
            "Epoch 21/50\n",
            "69/69 [==============================] - 11s 161ms/step - loss: 0.1127 - mean_squared_error: 0.1127 - val_loss: 0.1001 - val_mean_squared_error: 0.1001\n",
            "Epoch 22/50\n",
            "69/69 [==============================] - 11s 161ms/step - loss: 0.1124 - mean_squared_error: 0.1124 - val_loss: 0.0997 - val_mean_squared_error: 0.0997\n",
            "Epoch 23/50\n",
            "69/69 [==============================] - 11s 161ms/step - loss: 0.1120 - mean_squared_error: 0.1120 - val_loss: 0.0994 - val_mean_squared_error: 0.0994\n",
            "Epoch 24/50\n",
            "69/69 [==============================] - 11s 160ms/step - loss: 0.1116 - mean_squared_error: 0.1116 - val_loss: 0.0990 - val_mean_squared_error: 0.0990\n",
            "Epoch 25/50\n",
            "69/69 [==============================] - 11s 162ms/step - loss: 0.1113 - mean_squared_error: 0.1113 - val_loss: 0.0987 - val_mean_squared_error: 0.0987\n",
            "Epoch 26/50\n",
            "69/69 [==============================] - 11s 161ms/step - loss: 0.1109 - mean_squared_error: 0.1109 - val_loss: 0.0983 - val_mean_squared_error: 0.0983\n",
            "Epoch 27/50\n",
            "69/69 [==============================] - 11s 160ms/step - loss: 0.1105 - mean_squared_error: 0.1105 - val_loss: 0.0980 - val_mean_squared_error: 0.0980\n",
            "Epoch 28/50\n",
            "69/69 [==============================] - 11s 160ms/step - loss: 0.1102 - mean_squared_error: 0.1102 - val_loss: 0.0976 - val_mean_squared_error: 0.0976\n",
            "Epoch 29/50\n",
            "69/69 [==============================] - 11s 160ms/step - loss: 0.1098 - mean_squared_error: 0.1098 - val_loss: 0.0973 - val_mean_squared_error: 0.0973\n",
            "Epoch 30/50\n",
            "69/69 [==============================] - 11s 160ms/step - loss: 0.1094 - mean_squared_error: 0.1094 - val_loss: 0.0969 - val_mean_squared_error: 0.0969\n",
            "Epoch 31/50\n",
            "69/69 [==============================] - 11s 160ms/step - loss: 0.1090 - mean_squared_error: 0.1090 - val_loss: 0.0966 - val_mean_squared_error: 0.0966\n",
            "Epoch 32/50\n",
            "69/69 [==============================] - 11s 161ms/step - loss: 0.1087 - mean_squared_error: 0.1087 - val_loss: 0.0963 - val_mean_squared_error: 0.0963\n",
            "Epoch 33/50\n",
            "69/69 [==============================] - 11s 160ms/step - loss: 0.1083 - mean_squared_error: 0.1083 - val_loss: 0.0959 - val_mean_squared_error: 0.0959\n",
            "Epoch 34/50\n",
            "69/69 [==============================] - 11s 160ms/step - loss: 0.1079 - mean_squared_error: 0.1079 - val_loss: 0.0956 - val_mean_squared_error: 0.0956\n",
            "Epoch 35/50\n",
            "69/69 [==============================] - 11s 160ms/step - loss: 0.1076 - mean_squared_error: 0.1076 - val_loss: 0.0952 - val_mean_squared_error: 0.0952\n",
            "Epoch 36/50\n",
            "69/69 [==============================] - 11s 160ms/step - loss: 0.1072 - mean_squared_error: 0.1072 - val_loss: 0.0949 - val_mean_squared_error: 0.0949\n",
            "Epoch 37/50\n",
            "69/69 [==============================] - 11s 160ms/step - loss: 0.1068 - mean_squared_error: 0.1068 - val_loss: 0.0945 - val_mean_squared_error: 0.0945\n",
            "Epoch 38/50\n",
            "69/69 [==============================] - 11s 161ms/step - loss: 0.1064 - mean_squared_error: 0.1064 - val_loss: 0.0942 - val_mean_squared_error: 0.0942\n",
            "Epoch 39/50\n",
            "69/69 [==============================] - 11s 161ms/step - loss: 0.1060 - mean_squared_error: 0.1060 - val_loss: 0.0938 - val_mean_squared_error: 0.0938\n",
            "Epoch 40/50\n",
            "69/69 [==============================] - 11s 160ms/step - loss: 0.1056 - mean_squared_error: 0.1056 - val_loss: 0.0934 - val_mean_squared_error: 0.0934\n",
            "Epoch 41/50\n",
            "69/69 [==============================] - 11s 161ms/step - loss: 0.1053 - mean_squared_error: 0.1053 - val_loss: 0.0931 - val_mean_squared_error: 0.0931\n",
            "Epoch 42/50\n",
            "69/69 [==============================] - 11s 161ms/step - loss: 0.1048 - mean_squared_error: 0.1048 - val_loss: 0.0927 - val_mean_squared_error: 0.0927\n",
            "Epoch 43/50\n",
            "69/69 [==============================] - 11s 161ms/step - loss: 0.1044 - mean_squared_error: 0.1044 - val_loss: 0.0923 - val_mean_squared_error: 0.0923\n",
            "Epoch 44/50\n",
            "69/69 [==============================] - 11s 160ms/step - loss: 0.1040 - mean_squared_error: 0.1040 - val_loss: 0.0919 - val_mean_squared_error: 0.0919\n",
            "Epoch 45/50\n",
            "69/69 [==============================] - 11s 160ms/step - loss: 0.1036 - mean_squared_error: 0.1036 - val_loss: 0.0916 - val_mean_squared_error: 0.0916\n",
            "Epoch 46/50\n",
            "69/69 [==============================] - 11s 160ms/step - loss: 0.1032 - mean_squared_error: 0.1032 - val_loss: 0.0912 - val_mean_squared_error: 0.0912\n",
            "Epoch 47/50\n",
            "69/69 [==============================] - 11s 161ms/step - loss: 0.1028 - mean_squared_error: 0.1028 - val_loss: 0.0908 - val_mean_squared_error: 0.0908\n",
            "Epoch 48/50\n",
            "69/69 [==============================] - 11s 160ms/step - loss: 0.1024 - mean_squared_error: 0.1024 - val_loss: 0.0904 - val_mean_squared_error: 0.0904\n",
            "Epoch 49/50\n",
            "69/69 [==============================] - 11s 161ms/step - loss: 0.1020 - mean_squared_error: 0.1020 - val_loss: 0.0900 - val_mean_squared_error: 0.0900\n",
            "Epoch 50/50\n",
            "69/69 [==============================] - 11s 162ms/step - loss: 0.1015 - mean_squared_error: 0.1015 - val_loss: 0.0896 - val_mean_squared_error: 0.0896\n",
            "WARNING:tensorflow:Layer lstm will not use cuDNN kernel since it doesn't meet the cuDNN kernel criteria. It will use generic GPU kernel as fallback when running on GPU\n",
            "Epoch 1/50\n",
            "69/69 [==============================] - 11s 161ms/step - loss: 0.1198 - mean_squared_error: 0.1198 - val_loss: 0.1067 - val_mean_squared_error: 0.1067\n",
            "Epoch 2/50\n",
            "69/69 [==============================] - 11s 158ms/step - loss: 0.1193 - mean_squared_error: 0.1193 - val_loss: 0.1062 - val_mean_squared_error: 0.1062\n",
            "Epoch 3/50\n",
            "69/69 [==============================] - 11s 158ms/step - loss: 0.1188 - mean_squared_error: 0.1188 - val_loss: 0.1057 - val_mean_squared_error: 0.1057\n",
            "Epoch 4/50\n",
            "69/69 [==============================] - 11s 158ms/step - loss: 0.1182 - mean_squared_error: 0.1182 - val_loss: 0.1052 - val_mean_squared_error: 0.1052\n",
            "Epoch 5/50\n",
            "69/69 [==============================] - 11s 158ms/step - loss: 0.1177 - mean_squared_error: 0.1177 - val_loss: 0.1047 - val_mean_squared_error: 0.1047\n",
            "Epoch 6/50\n",
            "69/69 [==============================] - 11s 159ms/step - loss: 0.1172 - mean_squared_error: 0.1172 - val_loss: 0.1043 - val_mean_squared_error: 0.1043\n",
            "Epoch 7/50\n",
            "69/69 [==============================] - 11s 159ms/step - loss: 0.1167 - mean_squared_error: 0.1167 - val_loss: 0.1038 - val_mean_squared_error: 0.1038\n",
            "Epoch 8/50\n",
            "69/69 [==============================] - 11s 159ms/step - loss: 0.1162 - mean_squared_error: 0.1162 - val_loss: 0.1034 - val_mean_squared_error: 0.1034\n",
            "Epoch 9/50\n",
            "69/69 [==============================] - 11s 158ms/step - loss: 0.1158 - mean_squared_error: 0.1158 - val_loss: 0.1029 - val_mean_squared_error: 0.1029\n",
            "Epoch 10/50\n",
            "69/69 [==============================] - 11s 158ms/step - loss: 0.1153 - mean_squared_error: 0.1153 - val_loss: 0.1025 - val_mean_squared_error: 0.1025\n",
            "Epoch 11/50\n",
            "69/69 [==============================] - 11s 158ms/step - loss: 0.1148 - mean_squared_error: 0.1148 - val_loss: 0.1021 - val_mean_squared_error: 0.1021\n",
            "Epoch 12/50\n",
            "69/69 [==============================] - 11s 159ms/step - loss: 0.1144 - mean_squared_error: 0.1144 - val_loss: 0.1016 - val_mean_squared_error: 0.1016\n",
            "Epoch 13/50\n",
            "69/69 [==============================] - 11s 158ms/step - loss: 0.1139 - mean_squared_error: 0.1139 - val_loss: 0.1012 - val_mean_squared_error: 0.1012\n",
            "Epoch 14/50\n",
            "69/69 [==============================] - 11s 158ms/step - loss: 0.1135 - mean_squared_error: 0.1135 - val_loss: 0.1008 - val_mean_squared_error: 0.1008\n",
            "Epoch 15/50\n",
            "69/69 [==============================] - 11s 158ms/step - loss: 0.1130 - mean_squared_error: 0.1130 - val_loss: 0.1004 - val_mean_squared_error: 0.1004\n",
            "Epoch 16/50\n",
            "69/69 [==============================] - 11s 159ms/step - loss: 0.1126 - mean_squared_error: 0.1126 - val_loss: 0.1000 - val_mean_squared_error: 0.1000\n",
            "Epoch 17/50\n",
            "69/69 [==============================] - 11s 158ms/step - loss: 0.1121 - mean_squared_error: 0.1121 - val_loss: 0.0996 - val_mean_squared_error: 0.0996\n",
            "Epoch 18/50\n",
            "69/69 [==============================] - 11s 158ms/step - loss: 0.1117 - mean_squared_error: 0.1117 - val_loss: 0.0991 - val_mean_squared_error: 0.0991\n",
            "Epoch 19/50\n",
            "69/69 [==============================] - 11s 158ms/step - loss: 0.1112 - mean_squared_error: 0.1112 - val_loss: 0.0987 - val_mean_squared_error: 0.0987\n",
            "Epoch 20/50\n",
            "69/69 [==============================] - 11s 159ms/step - loss: 0.1108 - mean_squared_error: 0.1108 - val_loss: 0.0983 - val_mean_squared_error: 0.0983\n",
            "Epoch 21/50\n",
            "69/69 [==============================] - 11s 158ms/step - loss: 0.1103 - mean_squared_error: 0.1103 - val_loss: 0.0979 - val_mean_squared_error: 0.0979\n",
            "Epoch 22/50\n",
            "69/69 [==============================] - 11s 158ms/step - loss: 0.1099 - mean_squared_error: 0.1099 - val_loss: 0.0975 - val_mean_squared_error: 0.0975\n",
            "Epoch 23/50\n",
            "69/69 [==============================] - 11s 158ms/step - loss: 0.1094 - mean_squared_error: 0.1094 - val_loss: 0.0971 - val_mean_squared_error: 0.0971\n",
            "Epoch 24/50\n",
            "69/69 [==============================] - 11s 158ms/step - loss: 0.1090 - mean_squared_error: 0.1090 - val_loss: 0.0967 - val_mean_squared_error: 0.0967\n",
            "Epoch 25/50\n",
            "69/69 [==============================] - 11s 158ms/step - loss: 0.1085 - mean_squared_error: 0.1085 - val_loss: 0.0962 - val_mean_squared_error: 0.0962\n",
            "Epoch 26/50\n",
            "69/69 [==============================] - 11s 158ms/step - loss: 0.1081 - mean_squared_error: 0.1081 - val_loss: 0.0958 - val_mean_squared_error: 0.0958\n",
            "Epoch 27/50\n",
            "69/69 [==============================] - 11s 159ms/step - loss: 0.1076 - mean_squared_error: 0.1076 - val_loss: 0.0954 - val_mean_squared_error: 0.0954\n",
            "Epoch 28/50\n",
            "69/69 [==============================] - 11s 159ms/step - loss: 0.1072 - mean_squared_error: 0.1072 - val_loss: 0.0950 - val_mean_squared_error: 0.0950\n",
            "Epoch 29/50\n",
            "69/69 [==============================] - 11s 159ms/step - loss: 0.1067 - mean_squared_error: 0.1067 - val_loss: 0.0945 - val_mean_squared_error: 0.0945\n",
            "Epoch 30/50\n",
            "69/69 [==============================] - 11s 159ms/step - loss: 0.1062 - mean_squared_error: 0.1062 - val_loss: 0.0941 - val_mean_squared_error: 0.0941\n",
            "Epoch 31/50\n",
            "69/69 [==============================] - 11s 158ms/step - loss: 0.1057 - mean_squared_error: 0.1057 - val_loss: 0.0936 - val_mean_squared_error: 0.0936\n",
            "Epoch 32/50\n",
            "69/69 [==============================] - 11s 159ms/step - loss: 0.1053 - mean_squared_error: 0.1053 - val_loss: 0.0932 - val_mean_squared_error: 0.0932\n",
            "Epoch 33/50\n",
            "69/69 [==============================] - 11s 158ms/step - loss: 0.1048 - mean_squared_error: 0.1048 - val_loss: 0.0928 - val_mean_squared_error: 0.0928\n",
            "Epoch 34/50\n",
            "69/69 [==============================] - 11s 158ms/step - loss: 0.1043 - mean_squared_error: 0.1043 - val_loss: 0.0923 - val_mean_squared_error: 0.0923\n",
            "Epoch 35/50\n",
            "69/69 [==============================] - 11s 158ms/step - loss: 0.1038 - mean_squared_error: 0.1038 - val_loss: 0.0918 - val_mean_squared_error: 0.0918\n",
            "Epoch 36/50\n",
            "69/69 [==============================] - 11s 158ms/step - loss: 0.1033 - mean_squared_error: 0.1033 - val_loss: 0.0914 - val_mean_squared_error: 0.0914\n",
            "Epoch 37/50\n",
            "69/69 [==============================] - 11s 158ms/step - loss: 0.1028 - mean_squared_error: 0.1028 - val_loss: 0.0909 - val_mean_squared_error: 0.0909\n",
            "Epoch 38/50\n",
            "69/69 [==============================] - 11s 158ms/step - loss: 0.1023 - mean_squared_error: 0.1023 - val_loss: 0.0904 - val_mean_squared_error: 0.0904\n",
            "Epoch 39/50\n",
            "69/69 [==============================] - 11s 158ms/step - loss: 0.1017 - mean_squared_error: 0.1017 - val_loss: 0.0900 - val_mean_squared_error: 0.0900\n",
            "Epoch 40/50\n",
            "69/69 [==============================] - 11s 160ms/step - loss: 0.1012 - mean_squared_error: 0.1012 - val_loss: 0.0895 - val_mean_squared_error: 0.0895\n",
            "Epoch 41/50\n",
            "69/69 [==============================] - 11s 160ms/step - loss: 0.1007 - mean_squared_error: 0.1007 - val_loss: 0.0890 - val_mean_squared_error: 0.0890\n",
            "Epoch 42/50\n",
            "69/69 [==============================] - 11s 160ms/step - loss: 0.1001 - mean_squared_error: 0.1001 - val_loss: 0.0885 - val_mean_squared_error: 0.0885\n",
            "Epoch 43/50\n",
            "69/69 [==============================] - 11s 161ms/step - loss: 0.0996 - mean_squared_error: 0.0996 - val_loss: 0.0880 - val_mean_squared_error: 0.0880\n",
            "Epoch 44/50\n",
            "69/69 [==============================] - 11s 160ms/step - loss: 0.0990 - mean_squared_error: 0.0990 - val_loss: 0.0875 - val_mean_squared_error: 0.0875\n",
            "Epoch 45/50\n",
            "69/69 [==============================] - 11s 160ms/step - loss: 0.0984 - mean_squared_error: 0.0984 - val_loss: 0.0869 - val_mean_squared_error: 0.0869\n",
            "Epoch 46/50\n",
            "69/69 [==============================] - 11s 162ms/step - loss: 0.0978 - mean_squared_error: 0.0978 - val_loss: 0.0864 - val_mean_squared_error: 0.0864\n",
            "Epoch 47/50\n",
            "69/69 [==============================] - 11s 161ms/step - loss: 0.0973 - mean_squared_error: 0.0973 - val_loss: 0.0859 - val_mean_squared_error: 0.0859\n",
            "Epoch 48/50\n",
            "69/69 [==============================] - 11s 160ms/step - loss: 0.0967 - mean_squared_error: 0.0967 - val_loss: 0.0853 - val_mean_squared_error: 0.0853\n",
            "Epoch 49/50\n",
            "69/69 [==============================] - 11s 163ms/step - loss: 0.0961 - mean_squared_error: 0.0961 - val_loss: 0.0848 - val_mean_squared_error: 0.0848\n",
            "Epoch 50/50\n",
            "69/69 [==============================] - 11s 160ms/step - loss: 0.0954 - mean_squared_error: 0.0954 - val_loss: 0.0842 - val_mean_squared_error: 0.0842\n"
          ],
          "name": "stdout"
        },
        {
          "output_type": "display_data",
          "data": {
            "text/html": [
              "<span style=\"color:#4527A0\"><h1 style=\"font-size:18px\">Trial complete</h1></span>"
            ],
            "text/plain": [
              "<IPython.core.display.HTML object>"
            ]
          },
          "metadata": {
            "tags": []
          }
        },
        {
          "output_type": "display_data",
          "data": {
            "text/html": [
              "<span style=\"color:#4527A0\"><h1 style=\"font-size:18px\">Trial summary</h1></span>"
            ],
            "text/plain": [
              "<IPython.core.display.HTML object>"
            ]
          },
          "metadata": {
            "tags": []
          }
        },
        {
          "output_type": "display_data",
          "data": {
            "text/html": [
              "<span style=\"color:cyan\"> |-Trial ID: 30687f9cb12d4b7ae1c6720dbc931cf4</span>"
            ],
            "text/plain": [
              "<IPython.core.display.HTML object>"
            ]
          },
          "metadata": {
            "tags": []
          }
        },
        {
          "output_type": "display_data",
          "data": {
            "text/html": [
              "<span style=\"color:cyan\"> |-Score: 0.09849542379379272</span>"
            ],
            "text/plain": [
              "<IPython.core.display.HTML object>"
            ]
          },
          "metadata": {
            "tags": []
          }
        },
        {
          "output_type": "display_data",
          "data": {
            "text/html": [
              "<span style=\"color:cyan\"> |-Best step: 0</span>"
            ],
            "text/plain": [
              "<IPython.core.display.HTML object>"
            ]
          },
          "metadata": {
            "tags": []
          }
        },
        {
          "output_type": "display_data",
          "data": {
            "text/html": [
              "<span style=\"color:#7E57C2\"><h2 style=\"font-size:16px\">Hyperparameters:</h2></span>"
            ],
            "text/plain": [
              "<IPython.core.display.HTML object>"
            ]
          },
          "metadata": {
            "tags": []
          }
        },
        {
          "output_type": "display_data",
          "data": {
            "text/html": [
              "<span style=\"color:cyan\"> |-kernel_size: 6</span>"
            ],
            "text/plain": [
              "<IPython.core.display.HTML object>"
            ]
          },
          "metadata": {
            "tags": []
          }
        },
        {
          "output_type": "display_data",
          "data": {
            "text/html": [
              "<span style=\"color:blue\"> |-num_channels: 200</span>"
            ],
            "text/plain": [
              "<IPython.core.display.HTML object>"
            ]
          },
          "metadata": {
            "tags": []
          }
        },
        {
          "output_type": "stream",
          "text": [
            "WARNING:tensorflow:Layer lstm will not use cuDNN kernel since it doesn't meet the cuDNN kernel criteria. It will use generic GPU kernel as fallback when running on GPU\n",
            "Epoch 1/50\n",
            "69/69 [==============================] - 7s 102ms/step - loss: 0.1205 - mean_squared_error: 0.1205 - val_loss: 0.1074 - val_mean_squared_error: 0.1074\n",
            "Epoch 2/50\n",
            "69/69 [==============================] - 7s 101ms/step - loss: 0.1202 - mean_squared_error: 0.1202 - val_loss: 0.1071 - val_mean_squared_error: 0.1071\n",
            "Epoch 3/50\n",
            "69/69 [==============================] - 7s 99ms/step - loss: 0.1199 - mean_squared_error: 0.1199 - val_loss: 0.1068 - val_mean_squared_error: 0.1068\n",
            "Epoch 4/50\n",
            "69/69 [==============================] - 7s 98ms/step - loss: 0.1196 - mean_squared_error: 0.1196 - val_loss: 0.1065 - val_mean_squared_error: 0.1065\n",
            "Epoch 5/50\n",
            "69/69 [==============================] - 7s 99ms/step - loss: 0.1193 - mean_squared_error: 0.1193 - val_loss: 0.1062 - val_mean_squared_error: 0.1062\n",
            "Epoch 6/50\n",
            "69/69 [==============================] - 7s 99ms/step - loss: 0.1190 - mean_squared_error: 0.1190 - val_loss: 0.1059 - val_mean_squared_error: 0.1059\n",
            "Epoch 7/50\n",
            "69/69 [==============================] - 7s 101ms/step - loss: 0.1187 - mean_squared_error: 0.1187 - val_loss: 0.1056 - val_mean_squared_error: 0.1056\n",
            "Epoch 8/50\n",
            "69/69 [==============================] - 7s 99ms/step - loss: 0.1184 - mean_squared_error: 0.1184 - val_loss: 0.1054 - val_mean_squared_error: 0.1054\n",
            "Epoch 9/50\n",
            "69/69 [==============================] - 7s 99ms/step - loss: 0.1181 - mean_squared_error: 0.1181 - val_loss: 0.1051 - val_mean_squared_error: 0.1051\n",
            "Epoch 10/50\n",
            "69/69 [==============================] - 7s 101ms/step - loss: 0.1178 - mean_squared_error: 0.1178 - val_loss: 0.1048 - val_mean_squared_error: 0.1048\n",
            "Epoch 11/50\n",
            "69/69 [==============================] - 7s 98ms/step - loss: 0.1175 - mean_squared_error: 0.1175 - val_loss: 0.1045 - val_mean_squared_error: 0.1045\n",
            "Epoch 12/50\n",
            "69/69 [==============================] - 7s 101ms/step - loss: 0.1172 - mean_squared_error: 0.1172 - val_loss: 0.1043 - val_mean_squared_error: 0.1043\n",
            "Epoch 13/50\n",
            "69/69 [==============================] - 7s 100ms/step - loss: 0.1169 - mean_squared_error: 0.1169 - val_loss: 0.1040 - val_mean_squared_error: 0.1040\n",
            "Epoch 14/50\n",
            "69/69 [==============================] - 7s 100ms/step - loss: 0.1166 - mean_squared_error: 0.1166 - val_loss: 0.1037 - val_mean_squared_error: 0.1037\n",
            "Epoch 15/50\n",
            "69/69 [==============================] - 7s 100ms/step - loss: 0.1163 - mean_squared_error: 0.1163 - val_loss: 0.1035 - val_mean_squared_error: 0.1035\n",
            "Epoch 16/50\n",
            "69/69 [==============================] - 7s 100ms/step - loss: 0.1161 - mean_squared_error: 0.1161 - val_loss: 0.1032 - val_mean_squared_error: 0.1032\n",
            "Epoch 17/50\n",
            "69/69 [==============================] - 7s 98ms/step - loss: 0.1158 - mean_squared_error: 0.1158 - val_loss: 0.1029 - val_mean_squared_error: 0.1029\n",
            "Epoch 18/50\n",
            "69/69 [==============================] - 7s 99ms/step - loss: 0.1155 - mean_squared_error: 0.1155 - val_loss: 0.1027 - val_mean_squared_error: 0.1027\n",
            "Epoch 19/50\n",
            "69/69 [==============================] - 7s 98ms/step - loss: 0.1152 - mean_squared_error: 0.1152 - val_loss: 0.1024 - val_mean_squared_error: 0.1024\n",
            "Epoch 20/50\n",
            "69/69 [==============================] - 7s 101ms/step - loss: 0.1150 - mean_squared_error: 0.1150 - val_loss: 0.1022 - val_mean_squared_error: 0.1022\n",
            "Epoch 21/50\n",
            "69/69 [==============================] - 7s 98ms/step - loss: 0.1147 - mean_squared_error: 0.1147 - val_loss: 0.1019 - val_mean_squared_error: 0.1019\n",
            "Epoch 22/50\n",
            "69/69 [==============================] - 7s 100ms/step - loss: 0.1144 - mean_squared_error: 0.1144 - val_loss: 0.1016 - val_mean_squared_error: 0.1016\n",
            "Epoch 23/50\n",
            "69/69 [==============================] - 7s 99ms/step - loss: 0.1142 - mean_squared_error: 0.1142 - val_loss: 0.1014 - val_mean_squared_error: 0.1014\n",
            "Epoch 24/50\n",
            "69/69 [==============================] - 7s 99ms/step - loss: 0.1139 - mean_squared_error: 0.1139 - val_loss: 0.1011 - val_mean_squared_error: 0.1011\n",
            "Epoch 25/50\n",
            "69/69 [==============================] - 7s 98ms/step - loss: 0.1136 - mean_squared_error: 0.1136 - val_loss: 0.1009 - val_mean_squared_error: 0.1009\n",
            "Epoch 26/50\n",
            "69/69 [==============================] - 7s 101ms/step - loss: 0.1134 - mean_squared_error: 0.1134 - val_loss: 0.1006 - val_mean_squared_error: 0.1006\n",
            "Epoch 27/50\n",
            "69/69 [==============================] - 7s 98ms/step - loss: 0.1131 - mean_squared_error: 0.1131 - val_loss: 0.1004 - val_mean_squared_error: 0.1004\n",
            "Epoch 28/50\n",
            "69/69 [==============================] - 7s 98ms/step - loss: 0.1129 - mean_squared_error: 0.1129 - val_loss: 0.1002 - val_mean_squared_error: 0.1002\n",
            "Epoch 29/50\n",
            "69/69 [==============================] - 7s 98ms/step - loss: 0.1126 - mean_squared_error: 0.1126 - val_loss: 0.0999 - val_mean_squared_error: 0.0999\n",
            "Epoch 30/50\n",
            "69/69 [==============================] - 7s 101ms/step - loss: 0.1123 - mean_squared_error: 0.1123 - val_loss: 0.0997 - val_mean_squared_error: 0.0997\n",
            "Epoch 31/50\n",
            "69/69 [==============================] - 7s 98ms/step - loss: 0.1121 - mean_squared_error: 0.1121 - val_loss: 0.0994 - val_mean_squared_error: 0.0994\n",
            "Epoch 32/50\n",
            "69/69 [==============================] - 7s 100ms/step - loss: 0.1118 - mean_squared_error: 0.1118 - val_loss: 0.0992 - val_mean_squared_error: 0.0992\n",
            "Epoch 33/50\n",
            "69/69 [==============================] - 7s 98ms/step - loss: 0.1116 - mean_squared_error: 0.1116 - val_loss: 0.0989 - val_mean_squared_error: 0.0989\n",
            "Epoch 34/50\n",
            "69/69 [==============================] - 7s 100ms/step - loss: 0.1113 - mean_squared_error: 0.1113 - val_loss: 0.0987 - val_mean_squared_error: 0.0987\n",
            "Epoch 35/50\n",
            "69/69 [==============================] - 7s 99ms/step - loss: 0.1111 - mean_squared_error: 0.1111 - val_loss: 0.0985 - val_mean_squared_error: 0.0985\n",
            "Epoch 36/50\n",
            "69/69 [==============================] - 7s 101ms/step - loss: 0.1108 - mean_squared_error: 0.1108 - val_loss: 0.0982 - val_mean_squared_error: 0.0982\n",
            "Epoch 37/50\n",
            "69/69 [==============================] - 7s 99ms/step - loss: 0.1106 - mean_squared_error: 0.1106 - val_loss: 0.0980 - val_mean_squared_error: 0.0980\n",
            "Epoch 38/50\n",
            "69/69 [==============================] - 7s 98ms/step - loss: 0.1103 - mean_squared_error: 0.1103 - val_loss: 0.0977 - val_mean_squared_error: 0.0977\n",
            "Epoch 39/50\n",
            "69/69 [==============================] - 7s 99ms/step - loss: 0.1101 - mean_squared_error: 0.1101 - val_loss: 0.0975 - val_mean_squared_error: 0.0975\n",
            "Epoch 40/50\n",
            "69/69 [==============================] - 7s 100ms/step - loss: 0.1098 - mean_squared_error: 0.1098 - val_loss: 0.0973 - val_mean_squared_error: 0.0973\n",
            "Epoch 41/50\n",
            "69/69 [==============================] - 7s 99ms/step - loss: 0.1096 - mean_squared_error: 0.1096 - val_loss: 0.0970 - val_mean_squared_error: 0.0970\n",
            "Epoch 42/50\n",
            "69/69 [==============================] - 7s 99ms/step - loss: 0.1093 - mean_squared_error: 0.1093 - val_loss: 0.0968 - val_mean_squared_error: 0.0968\n",
            "Epoch 43/50\n",
            "69/69 [==============================] - 7s 98ms/step - loss: 0.1091 - mean_squared_error: 0.1091 - val_loss: 0.0966 - val_mean_squared_error: 0.0966\n",
            "Epoch 44/50\n",
            "69/69 [==============================] - 7s 101ms/step - loss: 0.1088 - mean_squared_error: 0.1088 - val_loss: 0.0963 - val_mean_squared_error: 0.0963\n",
            "Epoch 45/50\n",
            "69/69 [==============================] - 7s 99ms/step - loss: 0.1086 - mean_squared_error: 0.1086 - val_loss: 0.0961 - val_mean_squared_error: 0.0961\n",
            "Epoch 46/50\n",
            "69/69 [==============================] - 7s 98ms/step - loss: 0.1083 - mean_squared_error: 0.1083 - val_loss: 0.0959 - val_mean_squared_error: 0.0959\n",
            "Epoch 47/50\n",
            "69/69 [==============================] - 7s 101ms/step - loss: 0.1081 - mean_squared_error: 0.1081 - val_loss: 0.0956 - val_mean_squared_error: 0.0956\n",
            "Epoch 48/50\n",
            "69/69 [==============================] - 7s 99ms/step - loss: 0.1078 - mean_squared_error: 0.1078 - val_loss: 0.0954 - val_mean_squared_error: 0.0954\n",
            "Epoch 49/50\n",
            "69/69 [==============================] - 7s 101ms/step - loss: 0.1076 - mean_squared_error: 0.1076 - val_loss: 0.0952 - val_mean_squared_error: 0.0952\n",
            "Epoch 50/50\n",
            "69/69 [==============================] - 7s 99ms/step - loss: 0.1073 - mean_squared_error: 0.1073 - val_loss: 0.0949 - val_mean_squared_error: 0.0949\n",
            "WARNING:tensorflow:Layer lstm will not use cuDNN kernel since it doesn't meet the cuDNN kernel criteria. It will use generic GPU kernel as fallback when running on GPU\n",
            "Epoch 1/50\n",
            "69/69 [==============================] - 7s 100ms/step - loss: 0.1212 - mean_squared_error: 0.1212 - val_loss: 0.1080 - val_mean_squared_error: 0.1080\n",
            "Epoch 2/50\n",
            "69/69 [==============================] - 7s 98ms/step - loss: 0.1209 - mean_squared_error: 0.1209 - val_loss: 0.1077 - val_mean_squared_error: 0.1077\n",
            "Epoch 3/50\n",
            "69/69 [==============================] - 7s 98ms/step - loss: 0.1206 - mean_squared_error: 0.1206 - val_loss: 0.1074 - val_mean_squared_error: 0.1074\n",
            "Epoch 4/50\n",
            "69/69 [==============================] - 7s 98ms/step - loss: 0.1203 - mean_squared_error: 0.1203 - val_loss: 0.1072 - val_mean_squared_error: 0.1072\n",
            "Epoch 5/50\n",
            "69/69 [==============================] - 7s 98ms/step - loss: 0.1200 - mean_squared_error: 0.1200 - val_loss: 0.1069 - val_mean_squared_error: 0.1069\n",
            "Epoch 6/50\n",
            "69/69 [==============================] - 7s 97ms/step - loss: 0.1197 - mean_squared_error: 0.1197 - val_loss: 0.1066 - val_mean_squared_error: 0.1066\n",
            "Epoch 7/50\n",
            "69/69 [==============================] - 7s 98ms/step - loss: 0.1194 - mean_squared_error: 0.1194 - val_loss: 0.1063 - val_mean_squared_error: 0.1063\n",
            "Epoch 8/50\n",
            "69/69 [==============================] - 7s 98ms/step - loss: 0.1191 - mean_squared_error: 0.1191 - val_loss: 0.1060 - val_mean_squared_error: 0.1060\n",
            "Epoch 9/50\n",
            "69/69 [==============================] - 7s 97ms/step - loss: 0.1188 - mean_squared_error: 0.1188 - val_loss: 0.1057 - val_mean_squared_error: 0.1057\n",
            "Epoch 10/50\n",
            "69/69 [==============================] - 7s 97ms/step - loss: 0.1185 - mean_squared_error: 0.1185 - val_loss: 0.1055 - val_mean_squared_error: 0.1055\n",
            "Epoch 11/50\n",
            "69/69 [==============================] - 7s 97ms/step - loss: 0.1182 - mean_squared_error: 0.1182 - val_loss: 0.1052 - val_mean_squared_error: 0.1052\n",
            "Epoch 12/50\n",
            "69/69 [==============================] - 7s 97ms/step - loss: 0.1179 - mean_squared_error: 0.1179 - val_loss: 0.1049 - val_mean_squared_error: 0.1049\n",
            "Epoch 13/50\n",
            "69/69 [==============================] - 7s 97ms/step - loss: 0.1176 - mean_squared_error: 0.1176 - val_loss: 0.1046 - val_mean_squared_error: 0.1046\n",
            "Epoch 14/50\n",
            "69/69 [==============================] - 7s 98ms/step - loss: 0.1173 - mean_squared_error: 0.1173 - val_loss: 0.1043 - val_mean_squared_error: 0.1043\n",
            "Epoch 15/50\n",
            "69/69 [==============================] - 7s 98ms/step - loss: 0.1170 - mean_squared_error: 0.1170 - val_loss: 0.1041 - val_mean_squared_error: 0.1041\n",
            "Epoch 16/50\n",
            "69/69 [==============================] - 7s 99ms/step - loss: 0.1168 - mean_squared_error: 0.1168 - val_loss: 0.1038 - val_mean_squared_error: 0.1038\n",
            "Epoch 17/50\n",
            "69/69 [==============================] - 7s 98ms/step - loss: 0.1165 - mean_squared_error: 0.1165 - val_loss: 0.1035 - val_mean_squared_error: 0.1035\n",
            "Epoch 18/50\n",
            "69/69 [==============================] - 7s 98ms/step - loss: 0.1162 - mean_squared_error: 0.1162 - val_loss: 0.1032 - val_mean_squared_error: 0.1032\n",
            "Epoch 19/50\n",
            "69/69 [==============================] - 7s 98ms/step - loss: 0.1159 - mean_squared_error: 0.1159 - val_loss: 0.1030 - val_mean_squared_error: 0.1030\n",
            "Epoch 20/50\n",
            "69/69 [==============================] - 7s 97ms/step - loss: 0.1156 - mean_squared_error: 0.1156 - val_loss: 0.1027 - val_mean_squared_error: 0.1027\n",
            "Epoch 21/50\n",
            "69/69 [==============================] - 7s 98ms/step - loss: 0.1153 - mean_squared_error: 0.1153 - val_loss: 0.1024 - val_mean_squared_error: 0.1024\n",
            "Epoch 22/50\n",
            "69/69 [==============================] - 7s 98ms/step - loss: 0.1150 - mean_squared_error: 0.1150 - val_loss: 0.1022 - val_mean_squared_error: 0.1022\n",
            "Epoch 23/50\n",
            "69/69 [==============================] - 7s 97ms/step - loss: 0.1148 - mean_squared_error: 0.1148 - val_loss: 0.1019 - val_mean_squared_error: 0.1019\n",
            "Epoch 24/50\n",
            "69/69 [==============================] - 7s 98ms/step - loss: 0.1145 - mean_squared_error: 0.1145 - val_loss: 0.1016 - val_mean_squared_error: 0.1016\n",
            "Epoch 25/50\n",
            "69/69 [==============================] - 7s 98ms/step - loss: 0.1142 - mean_squared_error: 0.1142 - val_loss: 0.1014 - val_mean_squared_error: 0.1014\n",
            "Epoch 26/50\n",
            "69/69 [==============================] - 7s 98ms/step - loss: 0.1139 - mean_squared_error: 0.1139 - val_loss: 0.1011 - val_mean_squared_error: 0.1011\n",
            "Epoch 27/50\n",
            "69/69 [==============================] - 7s 98ms/step - loss: 0.1136 - mean_squared_error: 0.1136 - val_loss: 0.1008 - val_mean_squared_error: 0.1008\n",
            "Epoch 28/50\n",
            "69/69 [==============================] - 7s 97ms/step - loss: 0.1134 - mean_squared_error: 0.1134 - val_loss: 0.1006 - val_mean_squared_error: 0.1006\n",
            "Epoch 29/50\n",
            "69/69 [==============================] - 7s 97ms/step - loss: 0.1131 - mean_squared_error: 0.1131 - val_loss: 0.1003 - val_mean_squared_error: 0.1003\n",
            "Epoch 30/50\n",
            "69/69 [==============================] - 7s 98ms/step - loss: 0.1128 - mean_squared_error: 0.1128 - val_loss: 0.1001 - val_mean_squared_error: 0.1001\n",
            "Epoch 31/50\n",
            "69/69 [==============================] - 7s 98ms/step - loss: 0.1125 - mean_squared_error: 0.1125 - val_loss: 0.0998 - val_mean_squared_error: 0.0998\n",
            "Epoch 32/50\n",
            "69/69 [==============================] - 7s 98ms/step - loss: 0.1123 - mean_squared_error: 0.1123 - val_loss: 0.0995 - val_mean_squared_error: 0.0995\n",
            "Epoch 33/50\n",
            "69/69 [==============================] - 7s 98ms/step - loss: 0.1120 - mean_squared_error: 0.1120 - val_loss: 0.0993 - val_mean_squared_error: 0.0993\n",
            "Epoch 34/50\n",
            "69/69 [==============================] - 7s 97ms/step - loss: 0.1117 - mean_squared_error: 0.1117 - val_loss: 0.0990 - val_mean_squared_error: 0.0990\n",
            "Epoch 35/50\n",
            "69/69 [==============================] - 7s 97ms/step - loss: 0.1115 - mean_squared_error: 0.1115 - val_loss: 0.0988 - val_mean_squared_error: 0.0988\n",
            "Epoch 36/50\n",
            "69/69 [==============================] - 7s 97ms/step - loss: 0.1112 - mean_squared_error: 0.1112 - val_loss: 0.0985 - val_mean_squared_error: 0.0985\n",
            "Epoch 37/50\n",
            "69/69 [==============================] - 7s 97ms/step - loss: 0.1109 - mean_squared_error: 0.1109 - val_loss: 0.0983 - val_mean_squared_error: 0.0983\n",
            "Epoch 38/50\n",
            "69/69 [==============================] - 7s 98ms/step - loss: 0.1107 - mean_squared_error: 0.1107 - val_loss: 0.0980 - val_mean_squared_error: 0.0980\n",
            "Epoch 39/50\n",
            "69/69 [==============================] - 7s 97ms/step - loss: 0.1104 - mean_squared_error: 0.1104 - val_loss: 0.0978 - val_mean_squared_error: 0.0978\n",
            "Epoch 40/50\n",
            "69/69 [==============================] - 7s 97ms/step - loss: 0.1101 - mean_squared_error: 0.1101 - val_loss: 0.0976 - val_mean_squared_error: 0.0976\n",
            "Epoch 41/50\n",
            "69/69 [==============================] - 7s 97ms/step - loss: 0.1099 - mean_squared_error: 0.1099 - val_loss: 0.0973 - val_mean_squared_error: 0.0973\n",
            "Epoch 42/50\n",
            "69/69 [==============================] - 7s 98ms/step - loss: 0.1096 - mean_squared_error: 0.1096 - val_loss: 0.0971 - val_mean_squared_error: 0.0971\n",
            "Epoch 43/50\n",
            "69/69 [==============================] - 7s 98ms/step - loss: 0.1094 - mean_squared_error: 0.1094 - val_loss: 0.0968 - val_mean_squared_error: 0.0968\n",
            "Epoch 44/50\n",
            "69/69 [==============================] - 7s 97ms/step - loss: 0.1091 - mean_squared_error: 0.1091 - val_loss: 0.0966 - val_mean_squared_error: 0.0966\n",
            "Epoch 45/50\n",
            "69/69 [==============================] - 7s 97ms/step - loss: 0.1089 - mean_squared_error: 0.1089 - val_loss: 0.0963 - val_mean_squared_error: 0.0963\n",
            "Epoch 46/50\n",
            "69/69 [==============================] - 7s 98ms/step - loss: 0.1086 - mean_squared_error: 0.1086 - val_loss: 0.0961 - val_mean_squared_error: 0.0961\n",
            "Epoch 47/50\n",
            "69/69 [==============================] - 7s 97ms/step - loss: 0.1083 - mean_squared_error: 0.1083 - val_loss: 0.0959 - val_mean_squared_error: 0.0959\n",
            "Epoch 48/50\n",
            "69/69 [==============================] - 7s 98ms/step - loss: 0.1081 - mean_squared_error: 0.1081 - val_loss: 0.0956 - val_mean_squared_error: 0.0956\n",
            "Epoch 49/50\n",
            "69/69 [==============================] - 7s 97ms/step - loss: 0.1078 - mean_squared_error: 0.1078 - val_loss: 0.0954 - val_mean_squared_error: 0.0954\n",
            "Epoch 50/50\n",
            "69/69 [==============================] - 7s 97ms/step - loss: 0.1076 - mean_squared_error: 0.1076 - val_loss: 0.0951 - val_mean_squared_error: 0.0951\n"
          ],
          "name": "stdout"
        },
        {
          "output_type": "display_data",
          "data": {
            "text/html": [
              "<span style=\"color:#4527A0\"><h1 style=\"font-size:18px\">Trial complete</h1></span>"
            ],
            "text/plain": [
              "<IPython.core.display.HTML object>"
            ]
          },
          "metadata": {
            "tags": []
          }
        },
        {
          "output_type": "display_data",
          "data": {
            "text/html": [
              "<span style=\"color:#4527A0\"><h1 style=\"font-size:18px\">Trial summary</h1></span>"
            ],
            "text/plain": [
              "<IPython.core.display.HTML object>"
            ]
          },
          "metadata": {
            "tags": []
          }
        },
        {
          "output_type": "display_data",
          "data": {
            "text/html": [
              "<span style=\"color:cyan\"> |-Trial ID: a6a2941684278c8c6252313948560802</span>"
            ],
            "text/plain": [
              "<IPython.core.display.HTML object>"
            ]
          },
          "metadata": {
            "tags": []
          }
        },
        {
          "output_type": "display_data",
          "data": {
            "text/html": [
              "<span style=\"color:cyan\"> |-Score: 0.1074603796005249</span>"
            ],
            "text/plain": [
              "<IPython.core.display.HTML object>"
            ]
          },
          "metadata": {
            "tags": []
          }
        },
        {
          "output_type": "display_data",
          "data": {
            "text/html": [
              "<span style=\"color:cyan\"> |-Best step: 0</span>"
            ],
            "text/plain": [
              "<IPython.core.display.HTML object>"
            ]
          },
          "metadata": {
            "tags": []
          }
        },
        {
          "output_type": "display_data",
          "data": {
            "text/html": [
              "<span style=\"color:#7E57C2\"><h2 style=\"font-size:16px\">Hyperparameters:</h2></span>"
            ],
            "text/plain": [
              "<IPython.core.display.HTML object>"
            ]
          },
          "metadata": {
            "tags": []
          }
        },
        {
          "output_type": "display_data",
          "data": {
            "text/html": [
              "<span style=\"color:cyan\"> |-kernel_size: 36</span>"
            ],
            "text/plain": [
              "<IPython.core.display.HTML object>"
            ]
          },
          "metadata": {
            "tags": []
          }
        },
        {
          "output_type": "display_data",
          "data": {
            "text/html": [
              "<span style=\"color:blue\"> |-num_channels: 100</span>"
            ],
            "text/plain": [
              "<IPython.core.display.HTML object>"
            ]
          },
          "metadata": {
            "tags": []
          }
        },
        {
          "output_type": "stream",
          "text": [
            "WARNING:tensorflow:Layer lstm will not use cuDNN kernel since it doesn't meet the cuDNN kernel criteria. It will use generic GPU kernel as fallback when running on GPU\n",
            "Epoch 1/50\n",
            "69/69 [==============================] - 4s 59ms/step - loss: 0.1205 - mean_squared_error: 0.1205 - val_loss: 0.1074 - val_mean_squared_error: 0.1074\n",
            "Epoch 2/50\n",
            "69/69 [==============================] - 4s 57ms/step - loss: 0.1202 - mean_squared_error: 0.1202 - val_loss: 0.1071 - val_mean_squared_error: 0.1071\n",
            "Epoch 3/50\n",
            "69/69 [==============================] - 4s 59ms/step - loss: 0.1199 - mean_squared_error: 0.1199 - val_loss: 0.1068 - val_mean_squared_error: 0.1068\n",
            "Epoch 4/50\n",
            "69/69 [==============================] - 4s 56ms/step - loss: 0.1197 - mean_squared_error: 0.1197 - val_loss: 0.1066 - val_mean_squared_error: 0.1066\n",
            "Epoch 5/50\n",
            "69/69 [==============================] - 4s 58ms/step - loss: 0.1194 - mean_squared_error: 0.1194 - val_loss: 0.1063 - val_mean_squared_error: 0.1063\n",
            "Epoch 6/50\n",
            "69/69 [==============================] - 4s 56ms/step - loss: 0.1191 - mean_squared_error: 0.1191 - val_loss: 0.1061 - val_mean_squared_error: 0.1061\n",
            "Epoch 7/50\n",
            "69/69 [==============================] - 4s 56ms/step - loss: 0.1188 - mean_squared_error: 0.1188 - val_loss: 0.1058 - val_mean_squared_error: 0.1058\n",
            "Epoch 8/50\n",
            "69/69 [==============================] - 4s 57ms/step - loss: 0.1186 - mean_squared_error: 0.1186 - val_loss: 0.1055 - val_mean_squared_error: 0.1055\n",
            "Epoch 9/50\n",
            "69/69 [==============================] - 4s 59ms/step - loss: 0.1183 - mean_squared_error: 0.1183 - val_loss: 0.1053 - val_mean_squared_error: 0.1053\n",
            "Epoch 10/50\n",
            "69/69 [==============================] - 4s 56ms/step - loss: 0.1180 - mean_squared_error: 0.1180 - val_loss: 0.1050 - val_mean_squared_error: 0.1050\n",
            "Epoch 11/50\n",
            "69/69 [==============================] - 4s 58ms/step - loss: 0.1178 - mean_squared_error: 0.1178 - val_loss: 0.1048 - val_mean_squared_error: 0.1048\n",
            "Epoch 12/50\n",
            "69/69 [==============================] - 4s 56ms/step - loss: 0.1175 - mean_squared_error: 0.1175 - val_loss: 0.1045 - val_mean_squared_error: 0.1045\n",
            "Epoch 13/50\n",
            "69/69 [==============================] - 4s 56ms/step - loss: 0.1172 - mean_squared_error: 0.1172 - val_loss: 0.1043 - val_mean_squared_error: 0.1043\n",
            "Epoch 14/50\n",
            "69/69 [==============================] - 4s 58ms/step - loss: 0.1169 - mean_squared_error: 0.1169 - val_loss: 0.1040 - val_mean_squared_error: 0.1040\n",
            "Epoch 15/50\n",
            "69/69 [==============================] - 4s 56ms/step - loss: 0.1167 - mean_squared_error: 0.1167 - val_loss: 0.1037 - val_mean_squared_error: 0.1037\n",
            "Epoch 16/50\n",
            "69/69 [==============================] - 4s 58ms/step - loss: 0.1164 - mean_squared_error: 0.1164 - val_loss: 0.1035 - val_mean_squared_error: 0.1035\n",
            "Epoch 17/50\n",
            "69/69 [==============================] - 4s 56ms/step - loss: 0.1161 - mean_squared_error: 0.1161 - val_loss: 0.1032 - val_mean_squared_error: 0.1032\n",
            "Epoch 18/50\n",
            "69/69 [==============================] - 4s 58ms/step - loss: 0.1159 - mean_squared_error: 0.1159 - val_loss: 0.1030 - val_mean_squared_error: 0.1030\n",
            "Epoch 19/50\n",
            "69/69 [==============================] - 4s 56ms/step - loss: 0.1156 - mean_squared_error: 0.1156 - val_loss: 0.1027 - val_mean_squared_error: 0.1027\n",
            "Epoch 20/50\n",
            "69/69 [==============================] - 4s 58ms/step - loss: 0.1153 - mean_squared_error: 0.1153 - val_loss: 0.1025 - val_mean_squared_error: 0.1025\n",
            "Epoch 21/50\n",
            "69/69 [==============================] - 4s 56ms/step - loss: 0.1151 - mean_squared_error: 0.1151 - val_loss: 0.1022 - val_mean_squared_error: 0.1022\n",
            "Epoch 22/50\n",
            "69/69 [==============================] - 4s 58ms/step - loss: 0.1148 - mean_squared_error: 0.1148 - val_loss: 0.1020 - val_mean_squared_error: 0.1020\n",
            "Epoch 23/50\n",
            "69/69 [==============================] - 4s 57ms/step - loss: 0.1146 - mean_squared_error: 0.1146 - val_loss: 0.1018 - val_mean_squared_error: 0.1018\n",
            "Epoch 24/50\n",
            "69/69 [==============================] - 4s 57ms/step - loss: 0.1143 - mean_squared_error: 0.1143 - val_loss: 0.1015 - val_mean_squared_error: 0.1015\n",
            "Epoch 25/50\n",
            "69/69 [==============================] - 4s 56ms/step - loss: 0.1140 - mean_squared_error: 0.1140 - val_loss: 0.1013 - val_mean_squared_error: 0.1013\n",
            "Epoch 26/50\n",
            "69/69 [==============================] - 4s 58ms/step - loss: 0.1138 - mean_squared_error: 0.1138 - val_loss: 0.1010 - val_mean_squared_error: 0.1010\n",
            "Epoch 27/50\n",
            "69/69 [==============================] - 4s 56ms/step - loss: 0.1135 - mean_squared_error: 0.1135 - val_loss: 0.1008 - val_mean_squared_error: 0.1008\n",
            "Epoch 28/50\n",
            "69/69 [==============================] - 4s 58ms/step - loss: 0.1133 - mean_squared_error: 0.1133 - val_loss: 0.1005 - val_mean_squared_error: 0.1005\n",
            "Epoch 29/50\n",
            "69/69 [==============================] - 4s 57ms/step - loss: 0.1130 - mean_squared_error: 0.1130 - val_loss: 0.1003 - val_mean_squared_error: 0.1003\n",
            "Epoch 30/50\n",
            "69/69 [==============================] - 4s 58ms/step - loss: 0.1128 - mean_squared_error: 0.1128 - val_loss: 0.1001 - val_mean_squared_error: 0.1001\n",
            "Epoch 31/50\n",
            "69/69 [==============================] - 4s 56ms/step - loss: 0.1125 - mean_squared_error: 0.1125 - val_loss: 0.0998 - val_mean_squared_error: 0.0998\n",
            "Epoch 32/50\n",
            "69/69 [==============================] - 4s 58ms/step - loss: 0.1123 - mean_squared_error: 0.1123 - val_loss: 0.0996 - val_mean_squared_error: 0.0996\n",
            "Epoch 33/50\n",
            "69/69 [==============================] - 4s 57ms/step - loss: 0.1120 - mean_squared_error: 0.1120 - val_loss: 0.0993 - val_mean_squared_error: 0.0993\n",
            "Epoch 34/50\n",
            "69/69 [==============================] - 4s 57ms/step - loss: 0.1117 - mean_squared_error: 0.1117 - val_loss: 0.0991 - val_mean_squared_error: 0.0991\n",
            "Epoch 35/50\n",
            "69/69 [==============================] - 4s 57ms/step - loss: 0.1115 - mean_squared_error: 0.1115 - val_loss: 0.0989 - val_mean_squared_error: 0.0989\n",
            "Epoch 36/50\n",
            "69/69 [==============================] - 4s 58ms/step - loss: 0.1112 - mean_squared_error: 0.1112 - val_loss: 0.0986 - val_mean_squared_error: 0.0986\n",
            "Epoch 37/50\n",
            "69/69 [==============================] - 4s 57ms/step - loss: 0.1110 - mean_squared_error: 0.1110 - val_loss: 0.0984 - val_mean_squared_error: 0.0984\n",
            "Epoch 38/50\n",
            "69/69 [==============================] - 4s 58ms/step - loss: 0.1107 - mean_squared_error: 0.1107 - val_loss: 0.0982 - val_mean_squared_error: 0.0982\n",
            "Epoch 39/50\n",
            "69/69 [==============================] - 4s 58ms/step - loss: 0.1105 - mean_squared_error: 0.1105 - val_loss: 0.0979 - val_mean_squared_error: 0.0979\n",
            "Epoch 40/50\n",
            "69/69 [==============================] - 4s 57ms/step - loss: 0.1103 - mean_squared_error: 0.1103 - val_loss: 0.0977 - val_mean_squared_error: 0.0977\n",
            "Epoch 41/50\n",
            "69/69 [==============================] - 4s 56ms/step - loss: 0.1100 - mean_squared_error: 0.1100 - val_loss: 0.0975 - val_mean_squared_error: 0.0975\n",
            "Epoch 42/50\n",
            "69/69 [==============================] - 4s 56ms/step - loss: 0.1098 - mean_squared_error: 0.1098 - val_loss: 0.0972 - val_mean_squared_error: 0.0972\n",
            "Epoch 43/50\n",
            "69/69 [==============================] - 4s 58ms/step - loss: 0.1095 - mean_squared_error: 0.1095 - val_loss: 0.0970 - val_mean_squared_error: 0.0970\n",
            "Epoch 44/50\n",
            "69/69 [==============================] - 4s 56ms/step - loss: 0.1093 - mean_squared_error: 0.1093 - val_loss: 0.0968 - val_mean_squared_error: 0.0968\n",
            "Epoch 45/50\n",
            "69/69 [==============================] - 4s 58ms/step - loss: 0.1090 - mean_squared_error: 0.1090 - val_loss: 0.0965 - val_mean_squared_error: 0.0965\n",
            "Epoch 46/50\n",
            "69/69 [==============================] - 4s 57ms/step - loss: 0.1088 - mean_squared_error: 0.1088 - val_loss: 0.0963 - val_mean_squared_error: 0.0963\n",
            "Epoch 47/50\n",
            "69/69 [==============================] - 4s 59ms/step - loss: 0.1085 - mean_squared_error: 0.1085 - val_loss: 0.0961 - val_mean_squared_error: 0.0961\n",
            "Epoch 48/50\n",
            "69/69 [==============================] - 4s 57ms/step - loss: 0.1083 - mean_squared_error: 0.1083 - val_loss: 0.0958 - val_mean_squared_error: 0.0958\n",
            "Epoch 49/50\n",
            "69/69 [==============================] - 4s 57ms/step - loss: 0.1080 - mean_squared_error: 0.1080 - val_loss: 0.0956 - val_mean_squared_error: 0.0956\n",
            "Epoch 50/50\n",
            "69/69 [==============================] - 4s 57ms/step - loss: 0.1078 - mean_squared_error: 0.1078 - val_loss: 0.0954 - val_mean_squared_error: 0.0954\n",
            "WARNING:tensorflow:Layer lstm will not use cuDNN kernel since it doesn't meet the cuDNN kernel criteria. It will use generic GPU kernel as fallback when running on GPU\n",
            "Epoch 1/50\n",
            "69/69 [==============================] - 4s 58ms/step - loss: 0.1219 - mean_squared_error: 0.1219 - val_loss: 0.1086 - val_mean_squared_error: 0.1086\n",
            "Epoch 2/50\n",
            "69/69 [==============================] - 4s 55ms/step - loss: 0.1216 - mean_squared_error: 0.1216 - val_loss: 0.1084 - val_mean_squared_error: 0.1084\n",
            "Epoch 3/50\n",
            "69/69 [==============================] - 4s 55ms/step - loss: 0.1213 - mean_squared_error: 0.1213 - val_loss: 0.1081 - val_mean_squared_error: 0.1081\n",
            "Epoch 4/50\n",
            "69/69 [==============================] - 4s 55ms/step - loss: 0.1211 - mean_squared_error: 0.1211 - val_loss: 0.1078 - val_mean_squared_error: 0.1078\n",
            "Epoch 5/50\n",
            "69/69 [==============================] - 4s 56ms/step - loss: 0.1208 - mean_squared_error: 0.1208 - val_loss: 0.1076 - val_mean_squared_error: 0.1076\n",
            "Epoch 6/50\n",
            "69/69 [==============================] - 4s 56ms/step - loss: 0.1205 - mean_squared_error: 0.1205 - val_loss: 0.1073 - val_mean_squared_error: 0.1073\n",
            "Epoch 7/50\n",
            "69/69 [==============================] - 4s 55ms/step - loss: 0.1203 - mean_squared_error: 0.1203 - val_loss: 0.1071 - val_mean_squared_error: 0.1071\n",
            "Epoch 8/50\n",
            "69/69 [==============================] - 4s 55ms/step - loss: 0.1200 - mean_squared_error: 0.1200 - val_loss: 0.1069 - val_mean_squared_error: 0.1069\n",
            "Epoch 9/50\n",
            "69/69 [==============================] - 4s 55ms/step - loss: 0.1197 - mean_squared_error: 0.1197 - val_loss: 0.1066 - val_mean_squared_error: 0.1066\n",
            "Epoch 10/50\n",
            "69/69 [==============================] - 4s 55ms/step - loss: 0.1195 - mean_squared_error: 0.1195 - val_loss: 0.1064 - val_mean_squared_error: 0.1064\n",
            "Epoch 11/50\n",
            "69/69 [==============================] - 4s 55ms/step - loss: 0.1192 - mean_squared_error: 0.1192 - val_loss: 0.1061 - val_mean_squared_error: 0.1061\n",
            "Epoch 12/50\n",
            "69/69 [==============================] - 4s 55ms/step - loss: 0.1190 - mean_squared_error: 0.1190 - val_loss: 0.1059 - val_mean_squared_error: 0.1059\n",
            "Epoch 13/50\n",
            "69/69 [==============================] - 4s 55ms/step - loss: 0.1187 - mean_squared_error: 0.1187 - val_loss: 0.1057 - val_mean_squared_error: 0.1057\n",
            "Epoch 14/50\n",
            "69/69 [==============================] - 4s 55ms/step - loss: 0.1185 - mean_squared_error: 0.1185 - val_loss: 0.1054 - val_mean_squared_error: 0.1054\n",
            "Epoch 15/50\n",
            "69/69 [==============================] - 4s 55ms/step - loss: 0.1182 - mean_squared_error: 0.1182 - val_loss: 0.1052 - val_mean_squared_error: 0.1052\n",
            "Epoch 16/50\n",
            "69/69 [==============================] - 4s 54ms/step - loss: 0.1180 - mean_squared_error: 0.1180 - val_loss: 0.1050 - val_mean_squared_error: 0.1050\n",
            "Epoch 17/50\n",
            "69/69 [==============================] - 4s 55ms/step - loss: 0.1177 - mean_squared_error: 0.1177 - val_loss: 0.1047 - val_mean_squared_error: 0.1047\n",
            "Epoch 18/50\n",
            "69/69 [==============================] - 4s 55ms/step - loss: 0.1175 - mean_squared_error: 0.1175 - val_loss: 0.1045 - val_mean_squared_error: 0.1045\n",
            "Epoch 19/50\n",
            "69/69 [==============================] - 4s 55ms/step - loss: 0.1173 - mean_squared_error: 0.1173 - val_loss: 0.1043 - val_mean_squared_error: 0.1043\n",
            "Epoch 20/50\n",
            "69/69 [==============================] - 4s 56ms/step - loss: 0.1170 - mean_squared_error: 0.1170 - val_loss: 0.1041 - val_mean_squared_error: 0.1041\n",
            "Epoch 21/50\n",
            "69/69 [==============================] - 4s 55ms/step - loss: 0.1168 - mean_squared_error: 0.1168 - val_loss: 0.1038 - val_mean_squared_error: 0.1038\n",
            "Epoch 22/50\n",
            "69/69 [==============================] - 4s 55ms/step - loss: 0.1166 - mean_squared_error: 0.1166 - val_loss: 0.1036 - val_mean_squared_error: 0.1036\n",
            "Epoch 23/50\n",
            "69/69 [==============================] - 4s 56ms/step - loss: 0.1163 - mean_squared_error: 0.1163 - val_loss: 0.1034 - val_mean_squared_error: 0.1034\n",
            "Epoch 24/50\n",
            "69/69 [==============================] - 4s 56ms/step - loss: 0.1161 - mean_squared_error: 0.1161 - val_loss: 0.1032 - val_mean_squared_error: 0.1032\n",
            "Epoch 25/50\n",
            "69/69 [==============================] - 4s 56ms/step - loss: 0.1159 - mean_squared_error: 0.1159 - val_loss: 0.1030 - val_mean_squared_error: 0.1030\n",
            "Epoch 26/50\n",
            "69/69 [==============================] - 4s 55ms/step - loss: 0.1156 - mean_squared_error: 0.1156 - val_loss: 0.1027 - val_mean_squared_error: 0.1027\n",
            "Epoch 27/50\n",
            "69/69 [==============================] - 4s 55ms/step - loss: 0.1154 - mean_squared_error: 0.1154 - val_loss: 0.1025 - val_mean_squared_error: 0.1025\n",
            "Epoch 28/50\n",
            "69/69 [==============================] - 4s 55ms/step - loss: 0.1152 - mean_squared_error: 0.1152 - val_loss: 0.1023 - val_mean_squared_error: 0.1023\n",
            "Epoch 29/50\n",
            "69/69 [==============================] - 4s 55ms/step - loss: 0.1150 - mean_squared_error: 0.1150 - val_loss: 0.1021 - val_mean_squared_error: 0.1021\n",
            "Epoch 30/50\n",
            "69/69 [==============================] - 4s 55ms/step - loss: 0.1147 - mean_squared_error: 0.1147 - val_loss: 0.1019 - val_mean_squared_error: 0.1019\n",
            "Epoch 31/50\n",
            "69/69 [==============================] - 4s 55ms/step - loss: 0.1145 - mean_squared_error: 0.1145 - val_loss: 0.1017 - val_mean_squared_error: 0.1017\n",
            "Epoch 32/50\n",
            "69/69 [==============================] - 4s 55ms/step - loss: 0.1143 - mean_squared_error: 0.1143 - val_loss: 0.1015 - val_mean_squared_error: 0.1015\n",
            "Epoch 33/50\n",
            "69/69 [==============================] - 4s 55ms/step - loss: 0.1141 - mean_squared_error: 0.1141 - val_loss: 0.1013 - val_mean_squared_error: 0.1013\n",
            "Epoch 34/50\n",
            "69/69 [==============================] - 4s 55ms/step - loss: 0.1138 - mean_squared_error: 0.1138 - val_loss: 0.1011 - val_mean_squared_error: 0.1011\n",
            "Epoch 35/50\n",
            "69/69 [==============================] - 4s 56ms/step - loss: 0.1136 - mean_squared_error: 0.1136 - val_loss: 0.1009 - val_mean_squared_error: 0.1009\n",
            "Epoch 36/50\n",
            "69/69 [==============================] - 4s 55ms/step - loss: 0.1134 - mean_squared_error: 0.1134 - val_loss: 0.1007 - val_mean_squared_error: 0.1007\n",
            "Epoch 37/50\n",
            "69/69 [==============================] - 4s 55ms/step - loss: 0.1132 - mean_squared_error: 0.1132 - val_loss: 0.1004 - val_mean_squared_error: 0.1004\n",
            "Epoch 38/50\n",
            "69/69 [==============================] - 4s 56ms/step - loss: 0.1130 - mean_squared_error: 0.1130 - val_loss: 0.1002 - val_mean_squared_error: 0.1002\n",
            "Epoch 39/50\n",
            "69/69 [==============================] - 4s 55ms/step - loss: 0.1127 - mean_squared_error: 0.1127 - val_loss: 0.1000 - val_mean_squared_error: 0.1000\n",
            "Epoch 40/50\n",
            "69/69 [==============================] - 4s 55ms/step - loss: 0.1125 - mean_squared_error: 0.1125 - val_loss: 0.0998 - val_mean_squared_error: 0.0998\n",
            "Epoch 41/50\n",
            "69/69 [==============================] - 4s 56ms/step - loss: 0.1123 - mean_squared_error: 0.1123 - val_loss: 0.0996 - val_mean_squared_error: 0.0996\n",
            "Epoch 42/50\n",
            "69/69 [==============================] - 4s 55ms/step - loss: 0.1121 - mean_squared_error: 0.1121 - val_loss: 0.0994 - val_mean_squared_error: 0.0994\n",
            "Epoch 43/50\n",
            "69/69 [==============================] - 4s 55ms/step - loss: 0.1119 - mean_squared_error: 0.1119 - val_loss: 0.0992 - val_mean_squared_error: 0.0992\n",
            "Epoch 44/50\n",
            "69/69 [==============================] - 4s 55ms/step - loss: 0.1117 - mean_squared_error: 0.1117 - val_loss: 0.0990 - val_mean_squared_error: 0.0990\n",
            "Epoch 45/50\n",
            "69/69 [==============================] - 4s 55ms/step - loss: 0.1115 - mean_squared_error: 0.1115 - val_loss: 0.0988 - val_mean_squared_error: 0.0988\n",
            "Epoch 46/50\n",
            "69/69 [==============================] - 4s 55ms/step - loss: 0.1113 - mean_squared_error: 0.1113 - val_loss: 0.0986 - val_mean_squared_error: 0.0986\n",
            "Epoch 47/50\n",
            "69/69 [==============================] - 4s 55ms/step - loss: 0.1110 - mean_squared_error: 0.1110 - val_loss: 0.0984 - val_mean_squared_error: 0.0984\n",
            "Epoch 48/50\n",
            "69/69 [==============================] - 4s 55ms/step - loss: 0.1108 - mean_squared_error: 0.1108 - val_loss: 0.0982 - val_mean_squared_error: 0.0982\n",
            "Epoch 49/50\n",
            "69/69 [==============================] - 4s 56ms/step - loss: 0.1106 - mean_squared_error: 0.1106 - val_loss: 0.0980 - val_mean_squared_error: 0.0980\n",
            "Epoch 50/50\n",
            "69/69 [==============================] - 4s 55ms/step - loss: 0.1104 - mean_squared_error: 0.1104 - val_loss: 0.0978 - val_mean_squared_error: 0.0978\n"
          ],
          "name": "stdout"
        },
        {
          "output_type": "display_data",
          "data": {
            "text/html": [
              "<span style=\"color:#4527A0\"><h1 style=\"font-size:18px\">Trial complete</h1></span>"
            ],
            "text/plain": [
              "<IPython.core.display.HTML object>"
            ]
          },
          "metadata": {
            "tags": []
          }
        },
        {
          "output_type": "display_data",
          "data": {
            "text/html": [
              "<span style=\"color:#4527A0\"><h1 style=\"font-size:18px\">Trial summary</h1></span>"
            ],
            "text/plain": [
              "<IPython.core.display.HTML object>"
            ]
          },
          "metadata": {
            "tags": []
          }
        },
        {
          "output_type": "display_data",
          "data": {
            "text/html": [
              "<span style=\"color:cyan\"> |-Trial ID: 71fd8ef40e7e60d42e8cb3f7b8a71795</span>"
            ],
            "text/plain": [
              "<IPython.core.display.HTML object>"
            ]
          },
          "metadata": {
            "tags": []
          }
        },
        {
          "output_type": "display_data",
          "data": {
            "text/html": [
              "<span style=\"color:cyan\"> |-Score: 0.10910230502486229</span>"
            ],
            "text/plain": [
              "<IPython.core.display.HTML object>"
            ]
          },
          "metadata": {
            "tags": []
          }
        },
        {
          "output_type": "display_data",
          "data": {
            "text/html": [
              "<span style=\"color:cyan\"> |-Best step: 0</span>"
            ],
            "text/plain": [
              "<IPython.core.display.HTML object>"
            ]
          },
          "metadata": {
            "tags": []
          }
        },
        {
          "output_type": "display_data",
          "data": {
            "text/html": [
              "<span style=\"color:#7E57C2\"><h2 style=\"font-size:16px\">Hyperparameters:</h2></span>"
            ],
            "text/plain": [
              "<IPython.core.display.HTML object>"
            ]
          },
          "metadata": {
            "tags": []
          }
        },
        {
          "output_type": "display_data",
          "data": {
            "text/html": [
              "<span style=\"color:cyan\"> |-kernel_size: 24</span>"
            ],
            "text/plain": [
              "<IPython.core.display.HTML object>"
            ]
          },
          "metadata": {
            "tags": []
          }
        },
        {
          "output_type": "display_data",
          "data": {
            "text/html": [
              "<span style=\"color:blue\"> |-num_channels: 50</span>"
            ],
            "text/plain": [
              "<IPython.core.display.HTML object>"
            ]
          },
          "metadata": {
            "tags": []
          }
        },
        {
          "output_type": "stream",
          "text": [
            "WARNING:tensorflow:Layer lstm will not use cuDNN kernel since it doesn't meet the cuDNN kernel criteria. It will use generic GPU kernel as fallback when running on GPU\n",
            "Epoch 1/50\n",
            "69/69 [==============================] - 11s 160ms/step - loss: 0.1199 - mean_squared_error: 0.1199 - val_loss: 0.1068 - val_mean_squared_error: 0.1068\n",
            "Epoch 2/50\n",
            "69/69 [==============================] - 11s 157ms/step - loss: 0.1196 - mean_squared_error: 0.1196 - val_loss: 0.1066 - val_mean_squared_error: 0.1066\n",
            "Epoch 3/50\n",
            "69/69 [==============================] - 11s 158ms/step - loss: 0.1194 - mean_squared_error: 0.1194 - val_loss: 0.1063 - val_mean_squared_error: 0.1063\n",
            "Epoch 4/50\n",
            "69/69 [==============================] - 11s 158ms/step - loss: 0.1191 - mean_squared_error: 0.1191 - val_loss: 0.1061 - val_mean_squared_error: 0.1061\n",
            "Epoch 5/50\n",
            "69/69 [==============================] - 11s 158ms/step - loss: 0.1188 - mean_squared_error: 0.1188 - val_loss: 0.1058 - val_mean_squared_error: 0.1058\n",
            "Epoch 6/50\n",
            "69/69 [==============================] - 11s 157ms/step - loss: 0.1186 - mean_squared_error: 0.1186 - val_loss: 0.1056 - val_mean_squared_error: 0.1056\n",
            "Epoch 7/50\n",
            "69/69 [==============================] - 11s 157ms/step - loss: 0.1183 - mean_squared_error: 0.1183 - val_loss: 0.1054 - val_mean_squared_error: 0.1054\n",
            "Epoch 8/50\n",
            "69/69 [==============================] - 11s 157ms/step - loss: 0.1181 - mean_squared_error: 0.1181 - val_loss: 0.1051 - val_mean_squared_error: 0.1051\n",
            "Epoch 9/50\n",
            "69/69 [==============================] - 11s 159ms/step - loss: 0.1178 - mean_squared_error: 0.1178 - val_loss: 0.1049 - val_mean_squared_error: 0.1049\n",
            "Epoch 10/50\n",
            "69/69 [==============================] - 11s 157ms/step - loss: 0.1176 - mean_squared_error: 0.1176 - val_loss: 0.1046 - val_mean_squared_error: 0.1046\n",
            "Epoch 11/50\n",
            "69/69 [==============================] - 11s 158ms/step - loss: 0.1173 - mean_squared_error: 0.1173 - val_loss: 0.1044 - val_mean_squared_error: 0.1044\n",
            "Epoch 12/50\n",
            "69/69 [==============================] - 11s 157ms/step - loss: 0.1171 - mean_squared_error: 0.1171 - val_loss: 0.1042 - val_mean_squared_error: 0.1042\n",
            "Epoch 13/50\n",
            "69/69 [==============================] - 11s 157ms/step - loss: 0.1168 - mean_squared_error: 0.1168 - val_loss: 0.1039 - val_mean_squared_error: 0.1039\n",
            "Epoch 14/50\n",
            "69/69 [==============================] - 11s 158ms/step - loss: 0.1166 - mean_squared_error: 0.1166 - val_loss: 0.1037 - val_mean_squared_error: 0.1037\n",
            "Epoch 15/50\n",
            "69/69 [==============================] - 11s 157ms/step - loss: 0.1163 - mean_squared_error: 0.1163 - val_loss: 0.1035 - val_mean_squared_error: 0.1035\n",
            "Epoch 16/50\n",
            "69/69 [==============================] - 11s 159ms/step - loss: 0.1161 - mean_squared_error: 0.1161 - val_loss: 0.1032 - val_mean_squared_error: 0.1032\n",
            "Epoch 17/50\n",
            "69/69 [==============================] - 11s 157ms/step - loss: 0.1158 - mean_squared_error: 0.1158 - val_loss: 0.1030 - val_mean_squared_error: 0.1030\n",
            "Epoch 18/50\n",
            "69/69 [==============================] - 11s 157ms/step - loss: 0.1156 - mean_squared_error: 0.1156 - val_loss: 0.1028 - val_mean_squared_error: 0.1028\n",
            "Epoch 19/50\n",
            "69/69 [==============================] - 11s 158ms/step - loss: 0.1153 - mean_squared_error: 0.1153 - val_loss: 0.1025 - val_mean_squared_error: 0.1025\n",
            "Epoch 20/50\n",
            "69/69 [==============================] - 11s 158ms/step - loss: 0.1151 - mean_squared_error: 0.1151 - val_loss: 0.1023 - val_mean_squared_error: 0.1023\n",
            "Epoch 21/50\n",
            "69/69 [==============================] - 11s 157ms/step - loss: 0.1148 - mean_squared_error: 0.1148 - val_loss: 0.1021 - val_mean_squared_error: 0.1021\n",
            "Epoch 22/50\n",
            "69/69 [==============================] - 11s 160ms/step - loss: 0.1146 - mean_squared_error: 0.1146 - val_loss: 0.1018 - val_mean_squared_error: 0.1018\n",
            "Epoch 23/50\n",
            "69/69 [==============================] - 11s 157ms/step - loss: 0.1143 - mean_squared_error: 0.1143 - val_loss: 0.1016 - val_mean_squared_error: 0.1016\n",
            "Epoch 24/50\n",
            "69/69 [==============================] - 11s 159ms/step - loss: 0.1141 - mean_squared_error: 0.1141 - val_loss: 0.1014 - val_mean_squared_error: 0.1014\n",
            "Epoch 25/50\n",
            "69/69 [==============================] - 11s 157ms/step - loss: 0.1139 - mean_squared_error: 0.1139 - val_loss: 0.1011 - val_mean_squared_error: 0.1011\n",
            "Epoch 26/50\n",
            "69/69 [==============================] - 11s 157ms/step - loss: 0.1136 - mean_squared_error: 0.1136 - val_loss: 0.1009 - val_mean_squared_error: 0.1009\n",
            "Epoch 27/50\n",
            "69/69 [==============================] - 11s 157ms/step - loss: 0.1134 - mean_squared_error: 0.1134 - val_loss: 0.1007 - val_mean_squared_error: 0.1007\n",
            "Epoch 28/50\n",
            "69/69 [==============================] - 11s 162ms/step - loss: 0.1131 - mean_squared_error: 0.1131 - val_loss: 0.1005 - val_mean_squared_error: 0.1005\n",
            "Epoch 29/50\n",
            "69/69 [==============================] - 11s 157ms/step - loss: 0.1129 - mean_squared_error: 0.1129 - val_loss: 0.1002 - val_mean_squared_error: 0.1002\n",
            "Epoch 30/50\n",
            "69/69 [==============================] - 11s 159ms/step - loss: 0.1126 - mean_squared_error: 0.1126 - val_loss: 0.1000 - val_mean_squared_error: 0.1000\n",
            "Epoch 31/50\n",
            "69/69 [==============================] - 11s 158ms/step - loss: 0.1124 - mean_squared_error: 0.1124 - val_loss: 0.0998 - val_mean_squared_error: 0.0998\n",
            "Epoch 32/50\n",
            "69/69 [==============================] - 11s 158ms/step - loss: 0.1122 - mean_squared_error: 0.1122 - val_loss: 0.0996 - val_mean_squared_error: 0.0996\n",
            "Epoch 33/50\n",
            "69/69 [==============================] - 11s 159ms/step - loss: 0.1119 - mean_squared_error: 0.1119 - val_loss: 0.0993 - val_mean_squared_error: 0.0993\n",
            "Epoch 34/50\n",
            "69/69 [==============================] - 11s 157ms/step - loss: 0.1117 - mean_squared_error: 0.1117 - val_loss: 0.0991 - val_mean_squared_error: 0.0991\n",
            "Epoch 35/50\n",
            "69/69 [==============================] - 11s 159ms/step - loss: 0.1115 - mean_squared_error: 0.1115 - val_loss: 0.0989 - val_mean_squared_error: 0.0989\n",
            "Epoch 36/50\n",
            "69/69 [==============================] - 11s 157ms/step - loss: 0.1112 - mean_squared_error: 0.1112 - val_loss: 0.0987 - val_mean_squared_error: 0.0987\n",
            "Epoch 37/50\n",
            "69/69 [==============================] - 11s 158ms/step - loss: 0.1110 - mean_squared_error: 0.1110 - val_loss: 0.0984 - val_mean_squared_error: 0.0984\n",
            "Epoch 38/50\n",
            "69/69 [==============================] - 11s 157ms/step - loss: 0.1107 - mean_squared_error: 0.1107 - val_loss: 0.0982 - val_mean_squared_error: 0.0982\n",
            "Epoch 39/50\n",
            "69/69 [==============================] - 11s 159ms/step - loss: 0.1105 - mean_squared_error: 0.1105 - val_loss: 0.0980 - val_mean_squared_error: 0.0980\n",
            "Epoch 40/50\n",
            "69/69 [==============================] - 11s 158ms/step - loss: 0.1103 - mean_squared_error: 0.1103 - val_loss: 0.0978 - val_mean_squared_error: 0.0978\n",
            "Epoch 41/50\n",
            "69/69 [==============================] - 11s 158ms/step - loss: 0.1100 - mean_squared_error: 0.1100 - val_loss: 0.0975 - val_mean_squared_error: 0.0975\n",
            "Epoch 42/50\n",
            "69/69 [==============================] - 11s 157ms/step - loss: 0.1098 - mean_squared_error: 0.1098 - val_loss: 0.0973 - val_mean_squared_error: 0.0973\n",
            "Epoch 43/50\n",
            "69/69 [==============================] - 11s 157ms/step - loss: 0.1095 - mean_squared_error: 0.1095 - val_loss: 0.0971 - val_mean_squared_error: 0.0971\n",
            "Epoch 44/50\n",
            "69/69 [==============================] - 11s 158ms/step - loss: 0.1093 - mean_squared_error: 0.1093 - val_loss: 0.0969 - val_mean_squared_error: 0.0969\n",
            "Epoch 45/50\n",
            "69/69 [==============================] - 11s 157ms/step - loss: 0.1091 - mean_squared_error: 0.1091 - val_loss: 0.0966 - val_mean_squared_error: 0.0966\n",
            "Epoch 46/50\n",
            "69/69 [==============================] - 11s 158ms/step - loss: 0.1088 - mean_squared_error: 0.1088 - val_loss: 0.0964 - val_mean_squared_error: 0.0964\n",
            "Epoch 47/50\n",
            "69/69 [==============================] - 11s 158ms/step - loss: 0.1086 - mean_squared_error: 0.1086 - val_loss: 0.0962 - val_mean_squared_error: 0.0962\n",
            "Epoch 48/50\n",
            "69/69 [==============================] - 11s 158ms/step - loss: 0.1084 - mean_squared_error: 0.1084 - val_loss: 0.0960 - val_mean_squared_error: 0.0960\n",
            "Epoch 49/50\n",
            "69/69 [==============================] - 11s 157ms/step - loss: 0.1081 - mean_squared_error: 0.1081 - val_loss: 0.0958 - val_mean_squared_error: 0.0958\n",
            "Epoch 50/50\n",
            "69/69 [==============================] - 11s 158ms/step - loss: 0.1079 - mean_squared_error: 0.1079 - val_loss: 0.0955 - val_mean_squared_error: 0.0955\n",
            "WARNING:tensorflow:Layer lstm will not use cuDNN kernel since it doesn't meet the cuDNN kernel criteria. It will use generic GPU kernel as fallback when running on GPU\n",
            "Epoch 1/50\n",
            "69/69 [==============================] - 11s 158ms/step - loss: 0.1203 - mean_squared_error: 0.1203 - val_loss: 0.1072 - val_mean_squared_error: 0.1072\n",
            "Epoch 2/50\n",
            "69/69 [==============================] - 11s 156ms/step - loss: 0.1200 - mean_squared_error: 0.1200 - val_loss: 0.1069 - val_mean_squared_error: 0.1069\n",
            "Epoch 3/50\n",
            "69/69 [==============================] - 11s 156ms/step - loss: 0.1198 - mean_squared_error: 0.1198 - val_loss: 0.1067 - val_mean_squared_error: 0.1067\n",
            "Epoch 4/50\n",
            "69/69 [==============================] - 11s 156ms/step - loss: 0.1195 - mean_squared_error: 0.1195 - val_loss: 0.1064 - val_mean_squared_error: 0.1064\n",
            "Epoch 5/50\n",
            "69/69 [==============================] - 11s 156ms/step - loss: 0.1193 - mean_squared_error: 0.1193 - val_loss: 0.1062 - val_mean_squared_error: 0.1062\n",
            "Epoch 6/50\n",
            "69/69 [==============================] - 11s 155ms/step - loss: 0.1190 - mean_squared_error: 0.1190 - val_loss: 0.1060 - val_mean_squared_error: 0.1060\n",
            "Epoch 7/50\n",
            "69/69 [==============================] - 11s 156ms/step - loss: 0.1187 - mean_squared_error: 0.1187 - val_loss: 0.1057 - val_mean_squared_error: 0.1057\n",
            "Epoch 8/50\n",
            "69/69 [==============================] - 11s 156ms/step - loss: 0.1185 - mean_squared_error: 0.1185 - val_loss: 0.1055 - val_mean_squared_error: 0.1055\n",
            "Epoch 9/50\n",
            "69/69 [==============================] - 11s 155ms/step - loss: 0.1183 - mean_squared_error: 0.1183 - val_loss: 0.1053 - val_mean_squared_error: 0.1053\n",
            "Epoch 10/50\n",
            "69/69 [==============================] - 11s 156ms/step - loss: 0.1180 - mean_squared_error: 0.1180 - val_loss: 0.1050 - val_mean_squared_error: 0.1050\n",
            "Epoch 11/50\n",
            "69/69 [==============================] - 11s 156ms/step - loss: 0.1178 - mean_squared_error: 0.1178 - val_loss: 0.1048 - val_mean_squared_error: 0.1048\n",
            "Epoch 12/50\n",
            "69/69 [==============================] - 11s 156ms/step - loss: 0.1175 - mean_squared_error: 0.1175 - val_loss: 0.1046 - val_mean_squared_error: 0.1046\n",
            "Epoch 13/50\n",
            "69/69 [==============================] - 11s 156ms/step - loss: 0.1173 - mean_squared_error: 0.1173 - val_loss: 0.1044 - val_mean_squared_error: 0.1044\n",
            "Epoch 14/50\n",
            "69/69 [==============================] - 11s 156ms/step - loss: 0.1170 - mean_squared_error: 0.1170 - val_loss: 0.1041 - val_mean_squared_error: 0.1041\n",
            "Epoch 15/50\n",
            "69/69 [==============================] - 11s 156ms/step - loss: 0.1168 - mean_squared_error: 0.1168 - val_loss: 0.1039 - val_mean_squared_error: 0.1039\n",
            "Epoch 16/50\n",
            "69/69 [==============================] - 11s 156ms/step - loss: 0.1166 - mean_squared_error: 0.1166 - val_loss: 0.1037 - val_mean_squared_error: 0.1037\n",
            "Epoch 17/50\n",
            "69/69 [==============================] - 11s 156ms/step - loss: 0.1163 - mean_squared_error: 0.1163 - val_loss: 0.1035 - val_mean_squared_error: 0.1035\n",
            "Epoch 18/50\n",
            "69/69 [==============================] - 11s 156ms/step - loss: 0.1161 - mean_squared_error: 0.1161 - val_loss: 0.1033 - val_mean_squared_error: 0.1033\n",
            "Epoch 19/50\n",
            "69/69 [==============================] - 11s 155ms/step - loss: 0.1159 - mean_squared_error: 0.1159 - val_loss: 0.1030 - val_mean_squared_error: 0.1030\n",
            "Epoch 20/50\n",
            "69/69 [==============================] - 11s 156ms/step - loss: 0.1157 - mean_squared_error: 0.1157 - val_loss: 0.1028 - val_mean_squared_error: 0.1028\n",
            "Epoch 21/50\n",
            "69/69 [==============================] - 11s 156ms/step - loss: 0.1154 - mean_squared_error: 0.1154 - val_loss: 0.1026 - val_mean_squared_error: 0.1026\n",
            "Epoch 22/50\n",
            "69/69 [==============================] - 11s 156ms/step - loss: 0.1152 - mean_squared_error: 0.1152 - val_loss: 0.1024 - val_mean_squared_error: 0.1024\n",
            "Epoch 23/50\n",
            "69/69 [==============================] - 11s 156ms/step - loss: 0.1150 - mean_squared_error: 0.1150 - val_loss: 0.1022 - val_mean_squared_error: 0.1022\n",
            "Epoch 24/50\n",
            "69/69 [==============================] - 11s 156ms/step - loss: 0.1148 - mean_squared_error: 0.1148 - val_loss: 0.1020 - val_mean_squared_error: 0.1020\n",
            "Epoch 25/50\n",
            "69/69 [==============================] - 11s 156ms/step - loss: 0.1145 - mean_squared_error: 0.1145 - val_loss: 0.1018 - val_mean_squared_error: 0.1018\n",
            "Epoch 26/50\n",
            "69/69 [==============================] - 11s 156ms/step - loss: 0.1143 - mean_squared_error: 0.1143 - val_loss: 0.1016 - val_mean_squared_error: 0.1016\n",
            "Epoch 27/50\n",
            "69/69 [==============================] - 11s 157ms/step - loss: 0.1141 - mean_squared_error: 0.1141 - val_loss: 0.1013 - val_mean_squared_error: 0.1013\n",
            "Epoch 28/50\n",
            "69/69 [==============================] - 11s 156ms/step - loss: 0.1139 - mean_squared_error: 0.1139 - val_loss: 0.1011 - val_mean_squared_error: 0.1011\n",
            "Epoch 29/50\n",
            "69/69 [==============================] - 11s 156ms/step - loss: 0.1137 - mean_squared_error: 0.1137 - val_loss: 0.1009 - val_mean_squared_error: 0.1009\n",
            "Epoch 30/50\n",
            "69/69 [==============================] - 11s 156ms/step - loss: 0.1134 - mean_squared_error: 0.1134 - val_loss: 0.1007 - val_mean_squared_error: 0.1007\n",
            "Epoch 31/50\n",
            "69/69 [==============================] - 11s 156ms/step - loss: 0.1132 - mean_squared_error: 0.1132 - val_loss: 0.1005 - val_mean_squared_error: 0.1005\n",
            "Epoch 32/50\n",
            "69/69 [==============================] - 11s 157ms/step - loss: 0.1130 - mean_squared_error: 0.1130 - val_loss: 0.1003 - val_mean_squared_error: 0.1003\n",
            "Epoch 33/50\n",
            "69/69 [==============================] - 11s 156ms/step - loss: 0.1128 - mean_squared_error: 0.1128 - val_loss: 0.1001 - val_mean_squared_error: 0.1001\n",
            "Epoch 34/50\n",
            "69/69 [==============================] - 11s 156ms/step - loss: 0.1126 - mean_squared_error: 0.1126 - val_loss: 0.0999 - val_mean_squared_error: 0.0999\n",
            "Epoch 35/50\n",
            "69/69 [==============================] - 11s 156ms/step - loss: 0.1123 - mean_squared_error: 0.1123 - val_loss: 0.0997 - val_mean_squared_error: 0.0997\n",
            "Epoch 36/50\n",
            "69/69 [==============================] - 11s 156ms/step - loss: 0.1121 - mean_squared_error: 0.1121 - val_loss: 0.0995 - val_mean_squared_error: 0.0995\n",
            "Epoch 37/50\n",
            "69/69 [==============================] - 11s 156ms/step - loss: 0.1119 - mean_squared_error: 0.1119 - val_loss: 0.0993 - val_mean_squared_error: 0.0993\n",
            "Epoch 38/50\n",
            "69/69 [==============================] - 11s 156ms/step - loss: 0.1117 - mean_squared_error: 0.1117 - val_loss: 0.0991 - val_mean_squared_error: 0.0991\n",
            "Epoch 39/50\n",
            "69/69 [==============================] - 11s 156ms/step - loss: 0.1115 - mean_squared_error: 0.1115 - val_loss: 0.0989 - val_mean_squared_error: 0.0989\n",
            "Epoch 40/50\n",
            "69/69 [==============================] - 11s 156ms/step - loss: 0.1113 - mean_squared_error: 0.1113 - val_loss: 0.0987 - val_mean_squared_error: 0.0987\n",
            "Epoch 41/50\n",
            "69/69 [==============================] - 11s 156ms/step - loss: 0.1111 - mean_squared_error: 0.1111 - val_loss: 0.0985 - val_mean_squared_error: 0.0985\n",
            "Epoch 42/50\n",
            "69/69 [==============================] - 11s 157ms/step - loss: 0.1109 - mean_squared_error: 0.1109 - val_loss: 0.0983 - val_mean_squared_error: 0.0983\n",
            "Epoch 43/50\n",
            "69/69 [==============================] - 11s 157ms/step - loss: 0.1106 - mean_squared_error: 0.1106 - val_loss: 0.0981 - val_mean_squared_error: 0.0981\n",
            "Epoch 44/50\n",
            "69/69 [==============================] - 11s 157ms/step - loss: 0.1104 - mean_squared_error: 0.1104 - val_loss: 0.0979 - val_mean_squared_error: 0.0979\n",
            "Epoch 45/50\n",
            "69/69 [==============================] - 11s 156ms/step - loss: 0.1102 - mean_squared_error: 0.1102 - val_loss: 0.0977 - val_mean_squared_error: 0.0977\n",
            "Epoch 46/50\n",
            "69/69 [==============================] - 11s 156ms/step - loss: 0.1100 - mean_squared_error: 0.1100 - val_loss: 0.0975 - val_mean_squared_error: 0.0975\n",
            "Epoch 47/50\n",
            "69/69 [==============================] - 11s 156ms/step - loss: 0.1098 - mean_squared_error: 0.1098 - val_loss: 0.0973 - val_mean_squared_error: 0.0973\n",
            "Epoch 48/50\n",
            "69/69 [==============================] - 11s 156ms/step - loss: 0.1096 - mean_squared_error: 0.1096 - val_loss: 0.0971 - val_mean_squared_error: 0.0971\n",
            "Epoch 49/50\n",
            "69/69 [==============================] - 11s 157ms/step - loss: 0.1094 - mean_squared_error: 0.1094 - val_loss: 0.0969 - val_mean_squared_error: 0.0969\n",
            "Epoch 50/50\n",
            "69/69 [==============================] - 11s 156ms/step - loss: 0.1092 - mean_squared_error: 0.1092 - val_loss: 0.0967 - val_mean_squared_error: 0.0967\n"
          ],
          "name": "stdout"
        },
        {
          "output_type": "display_data",
          "data": {
            "text/html": [
              "<span style=\"color:#4527A0\"><h1 style=\"font-size:18px\">Trial complete</h1></span>"
            ],
            "text/plain": [
              "<IPython.core.display.HTML object>"
            ]
          },
          "metadata": {
            "tags": []
          }
        },
        {
          "output_type": "display_data",
          "data": {
            "text/html": [
              "<span style=\"color:#4527A0\"><h1 style=\"font-size:18px\">Trial summary</h1></span>"
            ],
            "text/plain": [
              "<IPython.core.display.HTML object>"
            ]
          },
          "metadata": {
            "tags": []
          }
        },
        {
          "output_type": "display_data",
          "data": {
            "text/html": [
              "<span style=\"color:cyan\"> |-Trial ID: 0ebeda46dc9aace1745c4b644432bd56</span>"
            ],
            "text/plain": [
              "<IPython.core.display.HTML object>"
            ]
          },
          "metadata": {
            "tags": []
          }
        },
        {
          "output_type": "display_data",
          "data": {
            "text/html": [
              "<span style=\"color:cyan\"> |-Score: 0.10852479189634323</span>"
            ],
            "text/plain": [
              "<IPython.core.display.HTML object>"
            ]
          },
          "metadata": {
            "tags": []
          }
        },
        {
          "output_type": "display_data",
          "data": {
            "text/html": [
              "<span style=\"color:cyan\"> |-Best step: 0</span>"
            ],
            "text/plain": [
              "<IPython.core.display.HTML object>"
            ]
          },
          "metadata": {
            "tags": []
          }
        },
        {
          "output_type": "display_data",
          "data": {
            "text/html": [
              "<span style=\"color:#7E57C2\"><h2 style=\"font-size:16px\">Hyperparameters:</h2></span>"
            ],
            "text/plain": [
              "<IPython.core.display.HTML object>"
            ]
          },
          "metadata": {
            "tags": []
          }
        },
        {
          "output_type": "display_data",
          "data": {
            "text/html": [
              "<span style=\"color:cyan\"> |-kernel_size: 24</span>"
            ],
            "text/plain": [
              "<IPython.core.display.HTML object>"
            ]
          },
          "metadata": {
            "tags": []
          }
        },
        {
          "output_type": "display_data",
          "data": {
            "text/html": [
              "<span style=\"color:blue\"> |-num_channels: 200</span>"
            ],
            "text/plain": [
              "<IPython.core.display.HTML object>"
            ]
          },
          "metadata": {
            "tags": []
          }
        },
        {
          "output_type": "stream",
          "text": [
            "WARNING:tensorflow:Layer lstm will not use cuDNN kernel since it doesn't meet the cuDNN kernel criteria. It will use generic GPU kernel as fallback when running on GPU\n",
            "Epoch 1/50\n",
            "69/69 [==============================] - 7s 97ms/step - loss: 0.1207 - mean_squared_error: 0.1207 - val_loss: 0.1075 - val_mean_squared_error: 0.1075\n",
            "Epoch 2/50\n",
            "69/69 [==============================] - 7s 95ms/step - loss: 0.1203 - mean_squared_error: 0.1203 - val_loss: 0.1072 - val_mean_squared_error: 0.1072\n",
            "Epoch 3/50\n",
            "69/69 [==============================] - 7s 95ms/step - loss: 0.1199 - mean_squared_error: 0.1199 - val_loss: 0.1068 - val_mean_squared_error: 0.1068\n",
            "Epoch 4/50\n",
            "69/69 [==============================] - 7s 95ms/step - loss: 0.1196 - mean_squared_error: 0.1196 - val_loss: 0.1065 - val_mean_squared_error: 0.1065\n",
            "Epoch 5/50\n",
            "69/69 [==============================] - 7s 95ms/step - loss: 0.1192 - mean_squared_error: 0.1192 - val_loss: 0.1061 - val_mean_squared_error: 0.1061\n",
            "Epoch 6/50\n",
            "69/69 [==============================] - 7s 96ms/step - loss: 0.1188 - mean_squared_error: 0.1188 - val_loss: 0.1058 - val_mean_squared_error: 0.1058\n",
            "Epoch 7/50\n",
            "69/69 [==============================] - 7s 95ms/step - loss: 0.1184 - mean_squared_error: 0.1184 - val_loss: 0.1054 - val_mean_squared_error: 0.1054\n",
            "Epoch 8/50\n",
            "69/69 [==============================] - 7s 95ms/step - loss: 0.1181 - mean_squared_error: 0.1181 - val_loss: 0.1051 - val_mean_squared_error: 0.1051\n",
            "Epoch 9/50\n",
            "69/69 [==============================] - 7s 96ms/step - loss: 0.1177 - mean_squared_error: 0.1177 - val_loss: 0.1048 - val_mean_squared_error: 0.1048\n",
            "Epoch 10/50\n",
            "69/69 [==============================] - 7s 95ms/step - loss: 0.1174 - mean_squared_error: 0.1174 - val_loss: 0.1045 - val_mean_squared_error: 0.1045\n",
            "Epoch 11/50\n",
            "69/69 [==============================] - 7s 95ms/step - loss: 0.1170 - mean_squared_error: 0.1170 - val_loss: 0.1041 - val_mean_squared_error: 0.1041\n",
            "Epoch 12/50\n",
            "69/69 [==============================] - 7s 95ms/step - loss: 0.1167 - mean_squared_error: 0.1167 - val_loss: 0.1038 - val_mean_squared_error: 0.1038\n",
            "Epoch 13/50\n",
            "69/69 [==============================] - 7s 95ms/step - loss: 0.1164 - mean_squared_error: 0.1164 - val_loss: 0.1035 - val_mean_squared_error: 0.1035\n",
            "Epoch 14/50\n",
            "69/69 [==============================] - 7s 94ms/step - loss: 0.1160 - mean_squared_error: 0.1160 - val_loss: 0.1032 - val_mean_squared_error: 0.1032\n",
            "Epoch 15/50\n",
            "69/69 [==============================] - 7s 95ms/step - loss: 0.1157 - mean_squared_error: 0.1157 - val_loss: 0.1029 - val_mean_squared_error: 0.1029\n",
            "Epoch 16/50\n",
            "69/69 [==============================] - 7s 95ms/step - loss: 0.1154 - mean_squared_error: 0.1154 - val_loss: 0.1026 - val_mean_squared_error: 0.1026\n",
            "Epoch 17/50\n",
            "69/69 [==============================] - 7s 94ms/step - loss: 0.1151 - mean_squared_error: 0.1151 - val_loss: 0.1023 - val_mean_squared_error: 0.1023\n",
            "Epoch 18/50\n",
            "69/69 [==============================] - 6s 94ms/step - loss: 0.1147 - mean_squared_error: 0.1147 - val_loss: 0.1020 - val_mean_squared_error: 0.1020\n",
            "Epoch 19/50\n",
            "69/69 [==============================] - 7s 95ms/step - loss: 0.1144 - mean_squared_error: 0.1144 - val_loss: 0.1017 - val_mean_squared_error: 0.1017\n",
            "Epoch 20/50\n",
            "69/69 [==============================] - 7s 95ms/step - loss: 0.1141 - mean_squared_error: 0.1141 - val_loss: 0.1014 - val_mean_squared_error: 0.1014\n",
            "Epoch 21/50\n",
            "69/69 [==============================] - 7s 95ms/step - loss: 0.1138 - mean_squared_error: 0.1138 - val_loss: 0.1012 - val_mean_squared_error: 0.1012\n",
            "Epoch 22/50\n",
            "69/69 [==============================] - 7s 95ms/step - loss: 0.1135 - mean_squared_error: 0.1135 - val_loss: 0.1009 - val_mean_squared_error: 0.1009\n",
            "Epoch 23/50\n",
            "69/69 [==============================] - 7s 95ms/step - loss: 0.1131 - mean_squared_error: 0.1131 - val_loss: 0.1006 - val_mean_squared_error: 0.1006\n",
            "Epoch 24/50\n",
            "69/69 [==============================] - 7s 95ms/step - loss: 0.1128 - mean_squared_error: 0.1128 - val_loss: 0.1003 - val_mean_squared_error: 0.1003\n",
            "Epoch 25/50\n",
            "69/69 [==============================] - 7s 95ms/step - loss: 0.1125 - mean_squared_error: 0.1125 - val_loss: 0.1000 - val_mean_squared_error: 0.1000\n",
            "Epoch 26/50\n",
            "69/69 [==============================] - 7s 96ms/step - loss: 0.1122 - mean_squared_error: 0.1122 - val_loss: 0.0997 - val_mean_squared_error: 0.0997\n",
            "Epoch 27/50\n",
            "69/69 [==============================] - 7s 94ms/step - loss: 0.1119 - mean_squared_error: 0.1119 - val_loss: 0.0994 - val_mean_squared_error: 0.0994\n",
            "Epoch 28/50\n",
            "69/69 [==============================] - 7s 96ms/step - loss: 0.1116 - mean_squared_error: 0.1116 - val_loss: 0.0991 - val_mean_squared_error: 0.0991\n",
            "Epoch 29/50\n",
            "69/69 [==============================] - 7s 95ms/step - loss: 0.1113 - mean_squared_error: 0.1113 - val_loss: 0.0988 - val_mean_squared_error: 0.0988\n",
            "Epoch 30/50\n",
            "69/69 [==============================] - 7s 96ms/step - loss: 0.1109 - mean_squared_error: 0.1109 - val_loss: 0.0985 - val_mean_squared_error: 0.0985\n",
            "Epoch 31/50\n",
            "69/69 [==============================] - 7s 95ms/step - loss: 0.1106 - mean_squared_error: 0.1106 - val_loss: 0.0983 - val_mean_squared_error: 0.0983\n",
            "Epoch 32/50\n",
            "69/69 [==============================] - 7s 95ms/step - loss: 0.1103 - mean_squared_error: 0.1103 - val_loss: 0.0980 - val_mean_squared_error: 0.0980\n",
            "Epoch 33/50\n",
            "69/69 [==============================] - 7s 95ms/step - loss: 0.1100 - mean_squared_error: 0.1100 - val_loss: 0.0977 - val_mean_squared_error: 0.0977\n",
            "Epoch 34/50\n",
            "69/69 [==============================] - 7s 97ms/step - loss: 0.1097 - mean_squared_error: 0.1097 - val_loss: 0.0974 - val_mean_squared_error: 0.0974\n",
            "Epoch 35/50\n",
            "69/69 [==============================] - 7s 95ms/step - loss: 0.1094 - mean_squared_error: 0.1094 - val_loss: 0.0971 - val_mean_squared_error: 0.0971\n",
            "Epoch 36/50\n",
            "69/69 [==============================] - 7s 96ms/step - loss: 0.1091 - mean_squared_error: 0.1091 - val_loss: 0.0968 - val_mean_squared_error: 0.0968\n",
            "Epoch 37/50\n",
            "69/69 [==============================] - 7s 95ms/step - loss: 0.1087 - mean_squared_error: 0.1087 - val_loss: 0.0965 - val_mean_squared_error: 0.0965\n",
            "Epoch 38/50\n",
            "69/69 [==============================] - 7s 95ms/step - loss: 0.1084 - mean_squared_error: 0.1084 - val_loss: 0.0962 - val_mean_squared_error: 0.0962\n",
            "Epoch 39/50\n",
            "69/69 [==============================] - 7s 95ms/step - loss: 0.1081 - mean_squared_error: 0.1081 - val_loss: 0.0959 - val_mean_squared_error: 0.0959\n",
            "Epoch 40/50\n",
            "69/69 [==============================] - 7s 97ms/step - loss: 0.1078 - mean_squared_error: 0.1078 - val_loss: 0.0956 - val_mean_squared_error: 0.0956\n",
            "Epoch 41/50\n",
            "69/69 [==============================] - 7s 95ms/step - loss: 0.1075 - mean_squared_error: 0.1075 - val_loss: 0.0953 - val_mean_squared_error: 0.0953\n",
            "Epoch 42/50\n",
            "69/69 [==============================] - 7s 95ms/step - loss: 0.1072 - mean_squared_error: 0.1072 - val_loss: 0.0951 - val_mean_squared_error: 0.0951\n",
            "Epoch 43/50\n",
            "69/69 [==============================] - 7s 97ms/step - loss: 0.1068 - mean_squared_error: 0.1068 - val_loss: 0.0948 - val_mean_squared_error: 0.0948\n",
            "Epoch 44/50\n",
            "69/69 [==============================] - 7s 95ms/step - loss: 0.1065 - mean_squared_error: 0.1065 - val_loss: 0.0945 - val_mean_squared_error: 0.0945\n",
            "Epoch 45/50\n",
            "69/69 [==============================] - 7s 96ms/step - loss: 0.1062 - mean_squared_error: 0.1062 - val_loss: 0.0942 - val_mean_squared_error: 0.0942\n",
            "Epoch 46/50\n",
            "69/69 [==============================] - 7s 94ms/step - loss: 0.1059 - mean_squared_error: 0.1059 - val_loss: 0.0939 - val_mean_squared_error: 0.0939\n",
            "Epoch 47/50\n",
            "69/69 [==============================] - 7s 95ms/step - loss: 0.1056 - mean_squared_error: 0.1056 - val_loss: 0.0936 - val_mean_squared_error: 0.0936\n",
            "Epoch 48/50\n",
            "69/69 [==============================] - 7s 95ms/step - loss: 0.1053 - mean_squared_error: 0.1053 - val_loss: 0.0933 - val_mean_squared_error: 0.0933\n",
            "Epoch 49/50\n",
            "69/69 [==============================] - 7s 95ms/step - loss: 0.1049 - mean_squared_error: 0.1049 - val_loss: 0.0930 - val_mean_squared_error: 0.0930\n",
            "Epoch 50/50\n",
            "69/69 [==============================] - 7s 95ms/step - loss: 0.1046 - mean_squared_error: 0.1046 - val_loss: 0.0927 - val_mean_squared_error: 0.0927\n",
            "WARNING:tensorflow:Layer lstm will not use cuDNN kernel since it doesn't meet the cuDNN kernel criteria. It will use generic GPU kernel as fallback when running on GPU\n",
            "Epoch 1/50\n",
            "69/69 [==============================] - 7s 96ms/step - loss: 0.1210 - mean_squared_error: 0.1210 - val_loss: 0.1078 - val_mean_squared_error: 0.1078\n",
            "Epoch 2/50\n",
            "69/69 [==============================] - 6s 94ms/step - loss: 0.1207 - mean_squared_error: 0.1207 - val_loss: 0.1075 - val_mean_squared_error: 0.1075\n",
            "Epoch 3/50\n",
            "69/69 [==============================] - 6s 94ms/step - loss: 0.1203 - mean_squared_error: 0.1203 - val_loss: 0.1071 - val_mean_squared_error: 0.1071\n",
            "Epoch 4/50\n",
            "69/69 [==============================] - 6s 94ms/step - loss: 0.1199 - mean_squared_error: 0.1199 - val_loss: 0.1068 - val_mean_squared_error: 0.1068\n",
            "Epoch 5/50\n",
            "69/69 [==============================] - 6s 93ms/step - loss: 0.1195 - mean_squared_error: 0.1195 - val_loss: 0.1065 - val_mean_squared_error: 0.1065\n",
            "Epoch 6/50\n",
            "69/69 [==============================] - 6s 93ms/step - loss: 0.1192 - mean_squared_error: 0.1192 - val_loss: 0.1061 - val_mean_squared_error: 0.1061\n",
            "Epoch 7/50\n",
            "69/69 [==============================] - 6s 93ms/step - loss: 0.1188 - mean_squared_error: 0.1188 - val_loss: 0.1058 - val_mean_squared_error: 0.1058\n",
            "Epoch 8/50\n",
            "69/69 [==============================] - 6s 93ms/step - loss: 0.1185 - mean_squared_error: 0.1185 - val_loss: 0.1055 - val_mean_squared_error: 0.1055\n",
            "Epoch 9/50\n",
            "69/69 [==============================] - 6s 93ms/step - loss: 0.1181 - mean_squared_error: 0.1181 - val_loss: 0.1052 - val_mean_squared_error: 0.1052\n",
            "Epoch 10/50\n",
            "69/69 [==============================] - 6s 93ms/step - loss: 0.1178 - mean_squared_error: 0.1178 - val_loss: 0.1048 - val_mean_squared_error: 0.1048\n",
            "Epoch 11/50\n",
            "69/69 [==============================] - 6s 94ms/step - loss: 0.1174 - mean_squared_error: 0.1174 - val_loss: 0.1045 - val_mean_squared_error: 0.1045\n",
            "Epoch 12/50\n",
            "69/69 [==============================] - 6s 93ms/step - loss: 0.1171 - mean_squared_error: 0.1171 - val_loss: 0.1042 - val_mean_squared_error: 0.1042\n",
            "Epoch 13/50\n",
            "69/69 [==============================] - 6s 94ms/step - loss: 0.1168 - mean_squared_error: 0.1168 - val_loss: 0.1039 - val_mean_squared_error: 0.1039\n",
            "Epoch 14/50\n",
            "69/69 [==============================] - 6s 93ms/step - loss: 0.1164 - mean_squared_error: 0.1164 - val_loss: 0.1036 - val_mean_squared_error: 0.1036\n",
            "Epoch 15/50\n",
            "69/69 [==============================] - 6s 93ms/step - loss: 0.1161 - mean_squared_error: 0.1161 - val_loss: 0.1033 - val_mean_squared_error: 0.1033\n",
            "Epoch 16/50\n",
            "69/69 [==============================] - 6s 92ms/step - loss: 0.1158 - mean_squared_error: 0.1158 - val_loss: 0.1030 - val_mean_squared_error: 0.1030\n",
            "Epoch 17/50\n",
            "69/69 [==============================] - 6s 93ms/step - loss: 0.1155 - mean_squared_error: 0.1155 - val_loss: 0.1027 - val_mean_squared_error: 0.1027\n",
            "Epoch 18/50\n",
            "69/69 [==============================] - 6s 93ms/step - loss: 0.1151 - mean_squared_error: 0.1151 - val_loss: 0.1024 - val_mean_squared_error: 0.1024\n",
            "Epoch 19/50\n",
            "69/69 [==============================] - 6s 94ms/step - loss: 0.1148 - mean_squared_error: 0.1148 - val_loss: 0.1021 - val_mean_squared_error: 0.1021\n",
            "Epoch 20/50\n",
            "69/69 [==============================] - 6s 94ms/step - loss: 0.1145 - mean_squared_error: 0.1145 - val_loss: 0.1018 - val_mean_squared_error: 0.1018\n",
            "Epoch 21/50\n",
            "69/69 [==============================] - 6s 93ms/step - loss: 0.1142 - mean_squared_error: 0.1142 - val_loss: 0.1015 - val_mean_squared_error: 0.1015\n",
            "Epoch 22/50\n",
            "69/69 [==============================] - 6s 93ms/step - loss: 0.1138 - mean_squared_error: 0.1138 - val_loss: 0.1012 - val_mean_squared_error: 0.1012\n",
            "Epoch 23/50\n",
            "69/69 [==============================] - 6s 93ms/step - loss: 0.1135 - mean_squared_error: 0.1135 - val_loss: 0.1009 - val_mean_squared_error: 0.1009\n",
            "Epoch 24/50\n",
            "69/69 [==============================] - 6s 94ms/step - loss: 0.1132 - mean_squared_error: 0.1132 - val_loss: 0.1006 - val_mean_squared_error: 0.1006\n",
            "Epoch 25/50\n",
            "69/69 [==============================] - 6s 93ms/step - loss: 0.1129 - mean_squared_error: 0.1129 - val_loss: 0.1003 - val_mean_squared_error: 0.1003\n",
            "Epoch 26/50\n",
            "69/69 [==============================] - 6s 93ms/step - loss: 0.1126 - mean_squared_error: 0.1126 - val_loss: 0.1000 - val_mean_squared_error: 0.1000\n",
            "Epoch 27/50\n",
            "69/69 [==============================] - 6s 93ms/step - loss: 0.1123 - mean_squared_error: 0.1123 - val_loss: 0.0998 - val_mean_squared_error: 0.0998\n",
            "Epoch 28/50\n",
            "69/69 [==============================] - 6s 93ms/step - loss: 0.1120 - mean_squared_error: 0.1120 - val_loss: 0.0995 - val_mean_squared_error: 0.0995\n",
            "Epoch 29/50\n",
            "69/69 [==============================] - 6s 93ms/step - loss: 0.1117 - mean_squared_error: 0.1117 - val_loss: 0.0992 - val_mean_squared_error: 0.0992\n",
            "Epoch 30/50\n",
            "69/69 [==============================] - 6s 93ms/step - loss: 0.1114 - mean_squared_error: 0.1114 - val_loss: 0.0989 - val_mean_squared_error: 0.0989\n",
            "Epoch 31/50\n",
            "69/69 [==============================] - 6s 93ms/step - loss: 0.1110 - mean_squared_error: 0.1110 - val_loss: 0.0986 - val_mean_squared_error: 0.0986\n",
            "Epoch 32/50\n",
            "69/69 [==============================] - 6s 93ms/step - loss: 0.1107 - mean_squared_error: 0.1107 - val_loss: 0.0983 - val_mean_squared_error: 0.0983\n",
            "Epoch 33/50\n",
            "69/69 [==============================] - 6s 94ms/step - loss: 0.1104 - mean_squared_error: 0.1104 - val_loss: 0.0981 - val_mean_squared_error: 0.0981\n",
            "Epoch 34/50\n",
            "69/69 [==============================] - 6s 93ms/step - loss: 0.1101 - mean_squared_error: 0.1101 - val_loss: 0.0978 - val_mean_squared_error: 0.0978\n",
            "Epoch 35/50\n",
            "69/69 [==============================] - 6s 93ms/step - loss: 0.1098 - mean_squared_error: 0.1098 - val_loss: 0.0975 - val_mean_squared_error: 0.0975\n",
            "Epoch 36/50\n",
            "69/69 [==============================] - 6s 93ms/step - loss: 0.1095 - mean_squared_error: 0.1095 - val_loss: 0.0972 - val_mean_squared_error: 0.0972\n",
            "Epoch 37/50\n",
            "69/69 [==============================] - 6s 93ms/step - loss: 0.1092 - mean_squared_error: 0.1092 - val_loss: 0.0969 - val_mean_squared_error: 0.0969\n",
            "Epoch 38/50\n",
            "69/69 [==============================] - 6s 94ms/step - loss: 0.1089 - mean_squared_error: 0.1089 - val_loss: 0.0967 - val_mean_squared_error: 0.0967\n",
            "Epoch 39/50\n",
            "69/69 [==============================] - 6s 93ms/step - loss: 0.1086 - mean_squared_error: 0.1086 - val_loss: 0.0964 - val_mean_squared_error: 0.0964\n",
            "Epoch 40/50\n",
            "69/69 [==============================] - 6s 92ms/step - loss: 0.1083 - mean_squared_error: 0.1083 - val_loss: 0.0961 - val_mean_squared_error: 0.0961\n",
            "Epoch 41/50\n",
            "69/69 [==============================] - 6s 93ms/step - loss: 0.1080 - mean_squared_error: 0.1080 - val_loss: 0.0958 - val_mean_squared_error: 0.0958\n",
            "Epoch 42/50\n",
            "69/69 [==============================] - 7s 94ms/step - loss: 0.1077 - mean_squared_error: 0.1077 - val_loss: 0.0956 - val_mean_squared_error: 0.0956\n",
            "Epoch 43/50\n",
            "69/69 [==============================] - 6s 94ms/step - loss: 0.1074 - mean_squared_error: 0.1074 - val_loss: 0.0953 - val_mean_squared_error: 0.0953\n",
            "Epoch 44/50\n",
            "69/69 [==============================] - 6s 93ms/step - loss: 0.1071 - mean_squared_error: 0.1071 - val_loss: 0.0950 - val_mean_squared_error: 0.0950\n",
            "Epoch 45/50\n",
            "69/69 [==============================] - 6s 93ms/step - loss: 0.1068 - mean_squared_error: 0.1068 - val_loss: 0.0947 - val_mean_squared_error: 0.0947\n",
            "Epoch 46/50\n",
            "69/69 [==============================] - 6s 93ms/step - loss: 0.1065 - mean_squared_error: 0.1065 - val_loss: 0.0944 - val_mean_squared_error: 0.0944\n",
            "Epoch 47/50\n",
            "69/69 [==============================] - 6s 92ms/step - loss: 0.1062 - mean_squared_error: 0.1062 - val_loss: 0.0941 - val_mean_squared_error: 0.0941\n",
            "Epoch 48/50\n",
            "69/69 [==============================] - 6s 93ms/step - loss: 0.1059 - mean_squared_error: 0.1059 - val_loss: 0.0939 - val_mean_squared_error: 0.0939\n",
            "Epoch 49/50\n",
            "69/69 [==============================] - 6s 93ms/step - loss: 0.1056 - mean_squared_error: 0.1056 - val_loss: 0.0936 - val_mean_squared_error: 0.0936\n",
            "Epoch 50/50\n",
            "69/69 [==============================] - 6s 93ms/step - loss: 0.1052 - mean_squared_error: 0.1052 - val_loss: 0.0933 - val_mean_squared_error: 0.0933\n"
          ],
          "name": "stdout"
        },
        {
          "output_type": "display_data",
          "data": {
            "text/html": [
              "<span style=\"color:#4527A0\"><h1 style=\"font-size:18px\">Trial complete</h1></span>"
            ],
            "text/plain": [
              "<IPython.core.display.HTML object>"
            ]
          },
          "metadata": {
            "tags": []
          }
        },
        {
          "output_type": "display_data",
          "data": {
            "text/html": [
              "<span style=\"color:#4527A0\"><h1 style=\"font-size:18px\">Trial summary</h1></span>"
            ],
            "text/plain": [
              "<IPython.core.display.HTML object>"
            ]
          },
          "metadata": {
            "tags": []
          }
        },
        {
          "output_type": "display_data",
          "data": {
            "text/html": [
              "<span style=\"color:cyan\"> |-Trial ID: ef6f7296620db74ad53d3d89cc1c4e43</span>"
            ],
            "text/plain": [
              "<IPython.core.display.HTML object>"
            ]
          },
          "metadata": {
            "tags": []
          }
        },
        {
          "output_type": "display_data",
          "data": {
            "text/html": [
              "<span style=\"color:cyan\"> |-Score: 0.10492848232388496</span>"
            ],
            "text/plain": [
              "<IPython.core.display.HTML object>"
            ]
          },
          "metadata": {
            "tags": []
          }
        },
        {
          "output_type": "display_data",
          "data": {
            "text/html": [
              "<span style=\"color:cyan\"> |-Best step: 0</span>"
            ],
            "text/plain": [
              "<IPython.core.display.HTML object>"
            ]
          },
          "metadata": {
            "tags": []
          }
        },
        {
          "output_type": "display_data",
          "data": {
            "text/html": [
              "<span style=\"color:#7E57C2\"><h2 style=\"font-size:16px\">Hyperparameters:</h2></span>"
            ],
            "text/plain": [
              "<IPython.core.display.HTML object>"
            ]
          },
          "metadata": {
            "tags": []
          }
        },
        {
          "output_type": "display_data",
          "data": {
            "text/html": [
              "<span style=\"color:cyan\"> |-kernel_size: 6</span>"
            ],
            "text/plain": [
              "<IPython.core.display.HTML object>"
            ]
          },
          "metadata": {
            "tags": []
          }
        },
        {
          "output_type": "display_data",
          "data": {
            "text/html": [
              "<span style=\"color:blue\"> |-num_channels: 100</span>"
            ],
            "text/plain": [
              "<IPython.core.display.HTML object>"
            ]
          },
          "metadata": {
            "tags": []
          }
        },
        {
          "output_type": "stream",
          "text": [
            "WARNING:tensorflow:Layer lstm will not use cuDNN kernel since it doesn't meet the cuDNN kernel criteria. It will use generic GPU kernel as fallback when running on GPU\n",
            "Epoch 1/50\n",
            "69/69 [==============================] - 9s 127ms/step - loss: 0.1201 - mean_squared_error: 0.1201 - val_loss: 0.1071 - val_mean_squared_error: 0.1071\n",
            "Epoch 2/50\n",
            "69/69 [==============================] - 9s 124ms/step - loss: 0.1199 - mean_squared_error: 0.1199 - val_loss: 0.1069 - val_mean_squared_error: 0.1069\n",
            "Epoch 3/50\n",
            "69/69 [==============================] - 9s 125ms/step - loss: 0.1198 - mean_squared_error: 0.1198 - val_loss: 0.1067 - val_mean_squared_error: 0.1067\n",
            "Epoch 4/50\n",
            "69/69 [==============================] - 9s 124ms/step - loss: 0.1196 - mean_squared_error: 0.1196 - val_loss: 0.1065 - val_mean_squared_error: 0.1065\n",
            "Epoch 5/50\n",
            "69/69 [==============================] - 9s 125ms/step - loss: 0.1194 - mean_squared_error: 0.1194 - val_loss: 0.1064 - val_mean_squared_error: 0.1064\n",
            "Epoch 6/50\n",
            "69/69 [==============================] - 9s 125ms/step - loss: 0.1192 - mean_squared_error: 0.1192 - val_loss: 0.1062 - val_mean_squared_error: 0.1062\n",
            "Epoch 7/50\n",
            "69/69 [==============================] - 9s 125ms/step - loss: 0.1190 - mean_squared_error: 0.1190 - val_loss: 0.1060 - val_mean_squared_error: 0.1060\n",
            "Epoch 8/50\n",
            "69/69 [==============================] - 9s 124ms/step - loss: 0.1188 - mean_squared_error: 0.1188 - val_loss: 0.1058 - val_mean_squared_error: 0.1058\n",
            "Epoch 9/50\n",
            "69/69 [==============================] - 9s 125ms/step - loss: 0.1186 - mean_squared_error: 0.1186 - val_loss: 0.1056 - val_mean_squared_error: 0.1056\n",
            "Epoch 10/50\n",
            "69/69 [==============================] - 9s 127ms/step - loss: 0.1184 - mean_squared_error: 0.1184 - val_loss: 0.1055 - val_mean_squared_error: 0.1055\n",
            "Epoch 11/50\n",
            "69/69 [==============================] - 9s 124ms/step - loss: 0.1182 - mean_squared_error: 0.1182 - val_loss: 0.1053 - val_mean_squared_error: 0.1053\n",
            "Epoch 12/50\n",
            "69/69 [==============================] - 9s 125ms/step - loss: 0.1181 - mean_squared_error: 0.1181 - val_loss: 0.1051 - val_mean_squared_error: 0.1051\n",
            "Epoch 13/50\n",
            "69/69 [==============================] - 9s 125ms/step - loss: 0.1179 - mean_squared_error: 0.1179 - val_loss: 0.1049 - val_mean_squared_error: 0.1049\n",
            "Epoch 14/50\n",
            "69/69 [==============================] - 9s 125ms/step - loss: 0.1177 - mean_squared_error: 0.1177 - val_loss: 0.1048 - val_mean_squared_error: 0.1048\n",
            "Epoch 15/50\n",
            "69/69 [==============================] - 9s 124ms/step - loss: 0.1175 - mean_squared_error: 0.1175 - val_loss: 0.1046 - val_mean_squared_error: 0.1046\n",
            "Epoch 16/50\n",
            "69/69 [==============================] - 9s 126ms/step - loss: 0.1173 - mean_squared_error: 0.1173 - val_loss: 0.1044 - val_mean_squared_error: 0.1044\n",
            "Epoch 17/50\n",
            "69/69 [==============================] - 9s 124ms/step - loss: 0.1172 - mean_squared_error: 0.1172 - val_loss: 0.1043 - val_mean_squared_error: 0.1043\n",
            "Epoch 18/50\n",
            "69/69 [==============================] - 9s 124ms/step - loss: 0.1170 - mean_squared_error: 0.1170 - val_loss: 0.1041 - val_mean_squared_error: 0.1041\n",
            "Epoch 19/50\n",
            "69/69 [==============================] - 9s 124ms/step - loss: 0.1168 - mean_squared_error: 0.1168 - val_loss: 0.1039 - val_mean_squared_error: 0.1039\n",
            "Epoch 20/50\n",
            "69/69 [==============================] - 9s 124ms/step - loss: 0.1166 - mean_squared_error: 0.1166 - val_loss: 0.1037 - val_mean_squared_error: 0.1037\n",
            "Epoch 21/50\n",
            "69/69 [==============================] - 9s 125ms/step - loss: 0.1164 - mean_squared_error: 0.1164 - val_loss: 0.1036 - val_mean_squared_error: 0.1036\n",
            "Epoch 22/50\n",
            "69/69 [==============================] - 9s 125ms/step - loss: 0.1163 - mean_squared_error: 0.1163 - val_loss: 0.1034 - val_mean_squared_error: 0.1034\n",
            "Epoch 23/50\n",
            "69/69 [==============================] - 9s 127ms/step - loss: 0.1161 - mean_squared_error: 0.1161 - val_loss: 0.1032 - val_mean_squared_error: 0.1032\n",
            "Epoch 24/50\n",
            "69/69 [==============================] - 9s 124ms/step - loss: 0.1159 - mean_squared_error: 0.1159 - val_loss: 0.1031 - val_mean_squared_error: 0.1031\n",
            "Epoch 25/50\n",
            "69/69 [==============================] - 9s 124ms/step - loss: 0.1157 - mean_squared_error: 0.1157 - val_loss: 0.1029 - val_mean_squared_error: 0.1029\n",
            "Epoch 26/50\n",
            "69/69 [==============================] - 9s 124ms/step - loss: 0.1156 - mean_squared_error: 0.1156 - val_loss: 0.1028 - val_mean_squared_error: 0.1028\n",
            "Epoch 27/50\n",
            "69/69 [==============================] - 9s 126ms/step - loss: 0.1154 - mean_squared_error: 0.1154 - val_loss: 0.1026 - val_mean_squared_error: 0.1026\n",
            "Epoch 28/50\n",
            "69/69 [==============================] - 9s 125ms/step - loss: 0.1152 - mean_squared_error: 0.1152 - val_loss: 0.1024 - val_mean_squared_error: 0.1024\n",
            "Epoch 29/50\n",
            "69/69 [==============================] - 9s 125ms/step - loss: 0.1150 - mean_squared_error: 0.1150 - val_loss: 0.1023 - val_mean_squared_error: 0.1023\n",
            "Epoch 30/50\n",
            "69/69 [==============================] - 9s 124ms/step - loss: 0.1149 - mean_squared_error: 0.1149 - val_loss: 0.1021 - val_mean_squared_error: 0.1021\n",
            "Epoch 31/50\n",
            "69/69 [==============================] - 9s 126ms/step - loss: 0.1147 - mean_squared_error: 0.1147 - val_loss: 0.1019 - val_mean_squared_error: 0.1019\n",
            "Epoch 32/50\n",
            "69/69 [==============================] - 9s 125ms/step - loss: 0.1145 - mean_squared_error: 0.1145 - val_loss: 0.1018 - val_mean_squared_error: 0.1018\n",
            "Epoch 33/50\n",
            "69/69 [==============================] - 9s 125ms/step - loss: 0.1144 - mean_squared_error: 0.1144 - val_loss: 0.1016 - val_mean_squared_error: 0.1016\n",
            "Epoch 34/50\n",
            "69/69 [==============================] - 9s 125ms/step - loss: 0.1142 - mean_squared_error: 0.1142 - val_loss: 0.1014 - val_mean_squared_error: 0.1014\n",
            "Epoch 35/50\n",
            "69/69 [==============================] - 9s 127ms/step - loss: 0.1140 - mean_squared_error: 0.1140 - val_loss: 0.1013 - val_mean_squared_error: 0.1013\n",
            "Epoch 36/50\n",
            "69/69 [==============================] - 9s 124ms/step - loss: 0.1138 - mean_squared_error: 0.1138 - val_loss: 0.1011 - val_mean_squared_error: 0.1011\n",
            "Epoch 37/50\n",
            "69/69 [==============================] - 9s 125ms/step - loss: 0.1137 - mean_squared_error: 0.1137 - val_loss: 0.1010 - val_mean_squared_error: 0.1010\n",
            "Epoch 38/50\n",
            "69/69 [==============================] - 9s 124ms/step - loss: 0.1135 - mean_squared_error: 0.1135 - val_loss: 0.1008 - val_mean_squared_error: 0.1008\n",
            "Epoch 39/50\n",
            "69/69 [==============================] - 9s 127ms/step - loss: 0.1133 - mean_squared_error: 0.1133 - val_loss: 0.1006 - val_mean_squared_error: 0.1006\n",
            "Epoch 40/50\n",
            "69/69 [==============================] - 9s 125ms/step - loss: 0.1132 - mean_squared_error: 0.1132 - val_loss: 0.1005 - val_mean_squared_error: 0.1005\n",
            "Epoch 41/50\n",
            "69/69 [==============================] - 9s 125ms/step - loss: 0.1130 - mean_squared_error: 0.1130 - val_loss: 0.1003 - val_mean_squared_error: 0.1003\n",
            "Epoch 42/50\n",
            "69/69 [==============================] - 9s 126ms/step - loss: 0.1128 - mean_squared_error: 0.1128 - val_loss: 0.1002 - val_mean_squared_error: 0.1002\n",
            "Epoch 43/50\n",
            "69/69 [==============================] - 9s 124ms/step - loss: 0.1126 - mean_squared_error: 0.1126 - val_loss: 0.1000 - val_mean_squared_error: 0.1000\n",
            "Epoch 44/50\n",
            "69/69 [==============================] - 9s 127ms/step - loss: 0.1125 - mean_squared_error: 0.1125 - val_loss: 0.0998 - val_mean_squared_error: 0.0998\n",
            "Epoch 45/50\n",
            "69/69 [==============================] - 9s 124ms/step - loss: 0.1123 - mean_squared_error: 0.1123 - val_loss: 0.0997 - val_mean_squared_error: 0.0997\n",
            "Epoch 46/50\n",
            "69/69 [==============================] - 9s 126ms/step - loss: 0.1121 - mean_squared_error: 0.1121 - val_loss: 0.0995 - val_mean_squared_error: 0.0995\n",
            "Epoch 47/50\n",
            "69/69 [==============================] - 9s 124ms/step - loss: 0.1120 - mean_squared_error: 0.1120 - val_loss: 0.0994 - val_mean_squared_error: 0.0994\n",
            "Epoch 48/50\n",
            "69/69 [==============================] - 9s 127ms/step - loss: 0.1118 - mean_squared_error: 0.1118 - val_loss: 0.0992 - val_mean_squared_error: 0.0992\n",
            "Epoch 49/50\n",
            "69/69 [==============================] - 9s 124ms/step - loss: 0.1116 - mean_squared_error: 0.1116 - val_loss: 0.0990 - val_mean_squared_error: 0.0990\n",
            "Epoch 50/50\n",
            "69/69 [==============================] - 9s 126ms/step - loss: 0.1115 - mean_squared_error: 0.1115 - val_loss: 0.0989 - val_mean_squared_error: 0.0989\n",
            "WARNING:tensorflow:Layer lstm will not use cuDNN kernel since it doesn't meet the cuDNN kernel criteria. It will use generic GPU kernel as fallback when running on GPU\n",
            "Epoch 1/50\n",
            "69/69 [==============================] - 9s 126ms/step - loss: 0.1220 - mean_squared_error: 0.1220 - val_loss: 0.1088 - val_mean_squared_error: 0.1088\n",
            "Epoch 2/50\n",
            "69/69 [==============================] - 9s 123ms/step - loss: 0.1218 - mean_squared_error: 0.1218 - val_loss: 0.1086 - val_mean_squared_error: 0.1086\n",
            "Epoch 3/50\n",
            "69/69 [==============================] - 8s 123ms/step - loss: 0.1216 - mean_squared_error: 0.1216 - val_loss: 0.1083 - val_mean_squared_error: 0.1083\n",
            "Epoch 4/50\n",
            "69/69 [==============================] - 9s 123ms/step - loss: 0.1213 - mean_squared_error: 0.1213 - val_loss: 0.1081 - val_mean_squared_error: 0.1081\n",
            "Epoch 5/50\n",
            "69/69 [==============================] - 8s 123ms/step - loss: 0.1211 - mean_squared_error: 0.1211 - val_loss: 0.1079 - val_mean_squared_error: 0.1079\n",
            "Epoch 6/50\n",
            "69/69 [==============================] - 8s 122ms/step - loss: 0.1209 - mean_squared_error: 0.1209 - val_loss: 0.1077 - val_mean_squared_error: 0.1077\n",
            "Epoch 7/50\n",
            "69/69 [==============================] - 9s 123ms/step - loss: 0.1207 - mean_squared_error: 0.1207 - val_loss: 0.1075 - val_mean_squared_error: 0.1075\n",
            "Epoch 8/50\n",
            "69/69 [==============================] - 9s 123ms/step - loss: 0.1205 - mean_squared_error: 0.1205 - val_loss: 0.1073 - val_mean_squared_error: 0.1073\n",
            "Epoch 9/50\n",
            "69/69 [==============================] - 8s 123ms/step - loss: 0.1203 - mean_squared_error: 0.1203 - val_loss: 0.1071 - val_mean_squared_error: 0.1071\n",
            "Epoch 10/50\n",
            "69/69 [==============================] - 9s 123ms/step - loss: 0.1201 - mean_squared_error: 0.1201 - val_loss: 0.1069 - val_mean_squared_error: 0.1069\n",
            "Epoch 11/50\n",
            "69/69 [==============================] - 9s 123ms/step - loss: 0.1198 - mean_squared_error: 0.1198 - val_loss: 0.1067 - val_mean_squared_error: 0.1067\n",
            "Epoch 12/50\n",
            "69/69 [==============================] - 9s 123ms/step - loss: 0.1196 - mean_squared_error: 0.1196 - val_loss: 0.1065 - val_mean_squared_error: 0.1065\n",
            "Epoch 13/50\n",
            "69/69 [==============================] - 9s 124ms/step - loss: 0.1194 - mean_squared_error: 0.1194 - val_loss: 0.1064 - val_mean_squared_error: 0.1064\n",
            "Epoch 14/50\n",
            "69/69 [==============================] - 9s 123ms/step - loss: 0.1192 - mean_squared_error: 0.1192 - val_loss: 0.1062 - val_mean_squared_error: 0.1062\n",
            "Epoch 15/50\n",
            "69/69 [==============================] - 9s 124ms/step - loss: 0.1190 - mean_squared_error: 0.1190 - val_loss: 0.1060 - val_mean_squared_error: 0.1060\n",
            "Epoch 16/50\n",
            "69/69 [==============================] - 9s 123ms/step - loss: 0.1189 - mean_squared_error: 0.1189 - val_loss: 0.1058 - val_mean_squared_error: 0.1058\n",
            "Epoch 17/50\n",
            "69/69 [==============================] - 8s 122ms/step - loss: 0.1187 - mean_squared_error: 0.1187 - val_loss: 0.1056 - val_mean_squared_error: 0.1056\n",
            "Epoch 18/50\n",
            "69/69 [==============================] - 8s 123ms/step - loss: 0.1185 - mean_squared_error: 0.1185 - val_loss: 0.1054 - val_mean_squared_error: 0.1054\n",
            "Epoch 19/50\n",
            "69/69 [==============================] - 9s 123ms/step - loss: 0.1183 - mean_squared_error: 0.1183 - val_loss: 0.1053 - val_mean_squared_error: 0.1053\n",
            "Epoch 20/50\n",
            "69/69 [==============================] - 9s 123ms/step - loss: 0.1181 - mean_squared_error: 0.1181 - val_loss: 0.1051 - val_mean_squared_error: 0.1051\n",
            "Epoch 21/50\n",
            "69/69 [==============================] - 9s 124ms/step - loss: 0.1179 - mean_squared_error: 0.1179 - val_loss: 0.1049 - val_mean_squared_error: 0.1049\n",
            "Epoch 22/50\n",
            "69/69 [==============================] - 8s 123ms/step - loss: 0.1177 - mean_squared_error: 0.1177 - val_loss: 0.1047 - val_mean_squared_error: 0.1047\n",
            "Epoch 23/50\n",
            "69/69 [==============================] - 9s 123ms/step - loss: 0.1175 - mean_squared_error: 0.1175 - val_loss: 0.1046 - val_mean_squared_error: 0.1046\n",
            "Epoch 24/50\n",
            "69/69 [==============================] - 8s 123ms/step - loss: 0.1174 - mean_squared_error: 0.1174 - val_loss: 0.1044 - val_mean_squared_error: 0.1044\n",
            "Epoch 25/50\n",
            "69/69 [==============================] - 8s 123ms/step - loss: 0.1172 - mean_squared_error: 0.1172 - val_loss: 0.1042 - val_mean_squared_error: 0.1042\n",
            "Epoch 26/50\n",
            "69/69 [==============================] - 8s 123ms/step - loss: 0.1170 - mean_squared_error: 0.1170 - val_loss: 0.1041 - val_mean_squared_error: 0.1041\n",
            "Epoch 27/50\n",
            "69/69 [==============================] - 9s 124ms/step - loss: 0.1168 - mean_squared_error: 0.1168 - val_loss: 0.1039 - val_mean_squared_error: 0.1039\n",
            "Epoch 28/50\n",
            "69/69 [==============================] - 9s 123ms/step - loss: 0.1166 - mean_squared_error: 0.1166 - val_loss: 0.1037 - val_mean_squared_error: 0.1037\n",
            "Epoch 29/50\n",
            "69/69 [==============================] - 9s 124ms/step - loss: 0.1165 - mean_squared_error: 0.1165 - val_loss: 0.1036 - val_mean_squared_error: 0.1036\n",
            "Epoch 30/50\n",
            "69/69 [==============================] - 8s 123ms/step - loss: 0.1163 - mean_squared_error: 0.1163 - val_loss: 0.1034 - val_mean_squared_error: 0.1034\n",
            "Epoch 31/50\n",
            "69/69 [==============================] - 8s 123ms/step - loss: 0.1161 - mean_squared_error: 0.1161 - val_loss: 0.1032 - val_mean_squared_error: 0.1032\n",
            "Epoch 32/50\n",
            "69/69 [==============================] - 9s 123ms/step - loss: 0.1160 - mean_squared_error: 0.1160 - val_loss: 0.1031 - val_mean_squared_error: 0.1031\n",
            "Epoch 33/50\n",
            "69/69 [==============================] - 9s 124ms/step - loss: 0.1158 - mean_squared_error: 0.1158 - val_loss: 0.1029 - val_mean_squared_error: 0.1029\n",
            "Epoch 34/50\n",
            "69/69 [==============================] - 8s 123ms/step - loss: 0.1156 - mean_squared_error: 0.1156 - val_loss: 0.1028 - val_mean_squared_error: 0.1028\n",
            "Epoch 35/50\n",
            "69/69 [==============================] - 9s 123ms/step - loss: 0.1154 - mean_squared_error: 0.1154 - val_loss: 0.1026 - val_mean_squared_error: 0.1026\n",
            "Epoch 36/50\n",
            "69/69 [==============================] - 8s 123ms/step - loss: 0.1153 - mean_squared_error: 0.1153 - val_loss: 0.1024 - val_mean_squared_error: 0.1024\n",
            "Epoch 37/50\n",
            "69/69 [==============================] - 8s 123ms/step - loss: 0.1151 - mean_squared_error: 0.1151 - val_loss: 0.1023 - val_mean_squared_error: 0.1023\n",
            "Epoch 38/50\n",
            "69/69 [==============================] - 9s 124ms/step - loss: 0.1149 - mean_squared_error: 0.1149 - val_loss: 0.1021 - val_mean_squared_error: 0.1021\n",
            "Epoch 39/50\n",
            "69/69 [==============================] - 8s 123ms/step - loss: 0.1148 - mean_squared_error: 0.1148 - val_loss: 0.1020 - val_mean_squared_error: 0.1020\n",
            "Epoch 40/50\n",
            "69/69 [==============================] - 8s 123ms/step - loss: 0.1146 - mean_squared_error: 0.1146 - val_loss: 0.1018 - val_mean_squared_error: 0.1018\n",
            "Epoch 41/50\n",
            "69/69 [==============================] - 9s 123ms/step - loss: 0.1144 - mean_squared_error: 0.1144 - val_loss: 0.1017 - val_mean_squared_error: 0.1017\n",
            "Epoch 42/50\n",
            "69/69 [==============================] - 9s 124ms/step - loss: 0.1143 - mean_squared_error: 0.1143 - val_loss: 0.1015 - val_mean_squared_error: 0.1015\n",
            "Epoch 43/50\n",
            "69/69 [==============================] - 8s 123ms/step - loss: 0.1141 - mean_squared_error: 0.1141 - val_loss: 0.1013 - val_mean_squared_error: 0.1013\n",
            "Epoch 44/50\n",
            "69/69 [==============================] - 9s 124ms/step - loss: 0.1139 - mean_squared_error: 0.1139 - val_loss: 0.1012 - val_mean_squared_error: 0.1012\n",
            "Epoch 45/50\n",
            "69/69 [==============================] - 8s 123ms/step - loss: 0.1138 - mean_squared_error: 0.1138 - val_loss: 0.1010 - val_mean_squared_error: 0.1010\n",
            "Epoch 46/50\n",
            "69/69 [==============================] - 8s 123ms/step - loss: 0.1136 - mean_squared_error: 0.1136 - val_loss: 0.1009 - val_mean_squared_error: 0.1009\n",
            "Epoch 47/50\n",
            "69/69 [==============================] - 9s 123ms/step - loss: 0.1135 - mean_squared_error: 0.1135 - val_loss: 0.1007 - val_mean_squared_error: 0.1007\n",
            "Epoch 48/50\n",
            "69/69 [==============================] - 9s 125ms/step - loss: 0.1133 - mean_squared_error: 0.1133 - val_loss: 0.1006 - val_mean_squared_error: 0.1006\n",
            "Epoch 49/50\n",
            "69/69 [==============================] - 8s 123ms/step - loss: 0.1131 - mean_squared_error: 0.1131 - val_loss: 0.1004 - val_mean_squared_error: 0.1004\n",
            "Epoch 50/50\n",
            "69/69 [==============================] - 9s 123ms/step - loss: 0.1130 - mean_squared_error: 0.1130 - val_loss: 0.1003 - val_mean_squared_error: 0.1003\n"
          ],
          "name": "stdout"
        },
        {
          "output_type": "display_data",
          "data": {
            "text/html": [
              "<span style=\"color:#4527A0\"><h1 style=\"font-size:18px\">Trial complete</h1></span>"
            ],
            "text/plain": [
              "<IPython.core.display.HTML object>"
            ]
          },
          "metadata": {
            "tags": []
          }
        },
        {
          "output_type": "display_data",
          "data": {
            "text/html": [
              "<span style=\"color:#4527A0\"><h1 style=\"font-size:18px\">Trial summary</h1></span>"
            ],
            "text/plain": [
              "<IPython.core.display.HTML object>"
            ]
          },
          "metadata": {
            "tags": []
          }
        },
        {
          "output_type": "display_data",
          "data": {
            "text/html": [
              "<span style=\"color:cyan\"> |-Trial ID: e828e0a25b9adbc27248604ba339cbb5</span>"
            ],
            "text/plain": [
              "<IPython.core.display.HTML object>"
            ]
          },
          "metadata": {
            "tags": []
          }
        },
        {
          "output_type": "display_data",
          "data": {
            "text/html": [
              "<span style=\"color:cyan\"> |-Score: 0.11221727356314659</span>"
            ],
            "text/plain": [
              "<IPython.core.display.HTML object>"
            ]
          },
          "metadata": {
            "tags": []
          }
        },
        {
          "output_type": "display_data",
          "data": {
            "text/html": [
              "<span style=\"color:cyan\"> |-Best step: 0</span>"
            ],
            "text/plain": [
              "<IPython.core.display.HTML object>"
            ]
          },
          "metadata": {
            "tags": []
          }
        },
        {
          "output_type": "display_data",
          "data": {
            "text/html": [
              "<span style=\"color:#7E57C2\"><h2 style=\"font-size:16px\">Hyperparameters:</h2></span>"
            ],
            "text/plain": [
              "<IPython.core.display.HTML object>"
            ]
          },
          "metadata": {
            "tags": []
          }
        },
        {
          "output_type": "display_data",
          "data": {
            "text/html": [
              "<span style=\"color:cyan\"> |-kernel_size: 24</span>"
            ],
            "text/plain": [
              "<IPython.core.display.HTML object>"
            ]
          },
          "metadata": {
            "tags": []
          }
        },
        {
          "output_type": "display_data",
          "data": {
            "text/html": [
              "<span style=\"color:blue\"> |-num_channels: 150</span>"
            ],
            "text/plain": [
              "<IPython.core.display.HTML object>"
            ]
          },
          "metadata": {
            "tags": []
          }
        },
        {
          "output_type": "stream",
          "text": [
            "WARNING:tensorflow:Layer lstm will not use cuDNN kernel since it doesn't meet the cuDNN kernel criteria. It will use generic GPU kernel as fallback when running on GPU\n",
            "Epoch 1/50\n",
            "69/69 [==============================] - 9s 130ms/step - loss: 0.1228 - mean_squared_error: 0.1228 - val_loss: 0.1094 - val_mean_squared_error: 0.1094\n",
            "Epoch 2/50\n",
            "69/69 [==============================] - 9s 127ms/step - loss: 0.1224 - mean_squared_error: 0.1224 - val_loss: 0.1090 - val_mean_squared_error: 0.1090\n",
            "Epoch 3/50\n",
            "69/69 [==============================] - 9s 129ms/step - loss: 0.1221 - mean_squared_error: 0.1221 - val_loss: 0.1087 - val_mean_squared_error: 0.1087\n",
            "Epoch 4/50\n",
            "69/69 [==============================] - 9s 128ms/step - loss: 0.1217 - mean_squared_error: 0.1217 - val_loss: 0.1084 - val_mean_squared_error: 0.1084\n",
            "Epoch 5/50\n",
            "69/69 [==============================] - 9s 127ms/step - loss: 0.1214 - mean_squared_error: 0.1214 - val_loss: 0.1081 - val_mean_squared_error: 0.1081\n",
            "Epoch 6/50\n",
            "69/69 [==============================] - 9s 128ms/step - loss: 0.1211 - mean_squared_error: 0.1211 - val_loss: 0.1078 - val_mean_squared_error: 0.1078\n",
            "Epoch 7/50\n",
            "69/69 [==============================] - 9s 128ms/step - loss: 0.1208 - mean_squared_error: 0.1208 - val_loss: 0.1075 - val_mean_squared_error: 0.1075\n",
            "Epoch 8/50\n",
            "69/69 [==============================] - 9s 127ms/step - loss: 0.1204 - mean_squared_error: 0.1204 - val_loss: 0.1072 - val_mean_squared_error: 0.1072\n",
            "Epoch 9/50\n",
            "69/69 [==============================] - 9s 127ms/step - loss: 0.1201 - mean_squared_error: 0.1201 - val_loss: 0.1069 - val_mean_squared_error: 0.1069\n",
            "Epoch 10/50\n",
            "69/69 [==============================] - 9s 127ms/step - loss: 0.1198 - mean_squared_error: 0.1198 - val_loss: 0.1067 - val_mean_squared_error: 0.1067\n",
            "Epoch 11/50\n",
            "69/69 [==============================] - 9s 127ms/step - loss: 0.1196 - mean_squared_error: 0.1196 - val_loss: 0.1064 - val_mean_squared_error: 0.1064\n",
            "Epoch 12/50\n",
            "69/69 [==============================] - 9s 128ms/step - loss: 0.1193 - mean_squared_error: 0.1193 - val_loss: 0.1062 - val_mean_squared_error: 0.1062\n",
            "Epoch 13/50\n",
            "69/69 [==============================] - 9s 127ms/step - loss: 0.1190 - mean_squared_error: 0.1190 - val_loss: 0.1059 - val_mean_squared_error: 0.1059\n",
            "Epoch 14/50\n",
            "69/69 [==============================] - 9s 128ms/step - loss: 0.1188 - mean_squared_error: 0.1188 - val_loss: 0.1057 - val_mean_squared_error: 0.1057\n",
            "Epoch 15/50\n",
            "69/69 [==============================] - 9s 128ms/step - loss: 0.1185 - mean_squared_error: 0.1185 - val_loss: 0.1055 - val_mean_squared_error: 0.1055\n",
            "Epoch 16/50\n",
            "69/69 [==============================] - 9s 128ms/step - loss: 0.1183 - mean_squared_error: 0.1183 - val_loss: 0.1052 - val_mean_squared_error: 0.1052\n",
            "Epoch 17/50\n",
            "69/69 [==============================] - 9s 129ms/step - loss: 0.1180 - mean_squared_error: 0.1180 - val_loss: 0.1050 - val_mean_squared_error: 0.1050\n",
            "Epoch 18/50\n",
            "69/69 [==============================] - 9s 128ms/step - loss: 0.1178 - mean_squared_error: 0.1178 - val_loss: 0.1048 - val_mean_squared_error: 0.1048\n",
            "Epoch 19/50\n",
            "69/69 [==============================] - 9s 128ms/step - loss: 0.1176 - mean_squared_error: 0.1176 - val_loss: 0.1046 - val_mean_squared_error: 0.1046\n",
            "Epoch 20/50\n",
            "69/69 [==============================] - 9s 128ms/step - loss: 0.1173 - mean_squared_error: 0.1173 - val_loss: 0.1044 - val_mean_squared_error: 0.1044\n",
            "Epoch 21/50\n",
            "69/69 [==============================] - 9s 128ms/step - loss: 0.1171 - mean_squared_error: 0.1171 - val_loss: 0.1042 - val_mean_squared_error: 0.1042\n",
            "Epoch 22/50\n",
            "69/69 [==============================] - 9s 128ms/step - loss: 0.1169 - mean_squared_error: 0.1169 - val_loss: 0.1040 - val_mean_squared_error: 0.1040\n",
            "Epoch 23/50\n",
            "69/69 [==============================] - 9s 127ms/step - loss: 0.1167 - mean_squared_error: 0.1167 - val_loss: 0.1038 - val_mean_squared_error: 0.1038\n",
            "Epoch 24/50\n",
            "69/69 [==============================] - 9s 128ms/step - loss: 0.1165 - mean_squared_error: 0.1165 - val_loss: 0.1036 - val_mean_squared_error: 0.1036\n",
            "Epoch 25/50\n",
            "69/69 [==============================] - 9s 127ms/step - loss: 0.1163 - mean_squared_error: 0.1163 - val_loss: 0.1034 - val_mean_squared_error: 0.1034\n",
            "Epoch 26/50\n",
            "69/69 [==============================] - 9s 127ms/step - loss: 0.1161 - mean_squared_error: 0.1161 - val_loss: 0.1033 - val_mean_squared_error: 0.1033\n",
            "Epoch 27/50\n",
            "69/69 [==============================] - 9s 128ms/step - loss: 0.1159 - mean_squared_error: 0.1159 - val_loss: 0.1031 - val_mean_squared_error: 0.1031\n",
            "Epoch 28/50\n",
            "69/69 [==============================] - 9s 128ms/step - loss: 0.1157 - mean_squared_error: 0.1157 - val_loss: 0.1029 - val_mean_squared_error: 0.1029\n",
            "Epoch 29/50\n",
            "69/69 [==============================] - 9s 128ms/step - loss: 0.1155 - mean_squared_error: 0.1155 - val_loss: 0.1027 - val_mean_squared_error: 0.1027\n",
            "Epoch 30/50\n",
            "69/69 [==============================] - 9s 127ms/step - loss: 0.1153 - mean_squared_error: 0.1153 - val_loss: 0.1025 - val_mean_squared_error: 0.1025\n",
            "Epoch 31/50\n",
            "69/69 [==============================] - 9s 127ms/step - loss: 0.1151 - mean_squared_error: 0.1151 - val_loss: 0.1023 - val_mean_squared_error: 0.1023\n",
            "Epoch 32/50\n",
            "69/69 [==============================] - 9s 128ms/step - loss: 0.1149 - mean_squared_error: 0.1149 - val_loss: 0.1022 - val_mean_squared_error: 0.1022\n",
            "Epoch 33/50\n",
            "69/69 [==============================] - 9s 127ms/step - loss: 0.1147 - mean_squared_error: 0.1147 - val_loss: 0.1020 - val_mean_squared_error: 0.1020\n",
            "Epoch 34/50\n",
            "69/69 [==============================] - 9s 127ms/step - loss: 0.1145 - mean_squared_error: 0.1145 - val_loss: 0.1018 - val_mean_squared_error: 0.1018\n",
            "Epoch 35/50\n",
            "69/69 [==============================] - 9s 127ms/step - loss: 0.1143 - mean_squared_error: 0.1143 - val_loss: 0.1016 - val_mean_squared_error: 0.1016\n",
            "Epoch 36/50\n",
            "69/69 [==============================] - 9s 127ms/step - loss: 0.1141 - mean_squared_error: 0.1141 - val_loss: 0.1014 - val_mean_squared_error: 0.1014\n",
            "Epoch 37/50\n",
            "69/69 [==============================] - 9s 127ms/step - loss: 0.1139 - mean_squared_error: 0.1139 - val_loss: 0.1013 - val_mean_squared_error: 0.1013\n",
            "Epoch 38/50\n",
            "69/69 [==============================] - 9s 128ms/step - loss: 0.1137 - mean_squared_error: 0.1137 - val_loss: 0.1011 - val_mean_squared_error: 0.1011\n",
            "Epoch 39/50\n",
            "69/69 [==============================] - 9s 127ms/step - loss: 0.1136 - mean_squared_error: 0.1136 - val_loss: 0.1009 - val_mean_squared_error: 0.1009\n",
            "Epoch 40/50\n",
            "69/69 [==============================] - 9s 129ms/step - loss: 0.1134 - mean_squared_error: 0.1134 - val_loss: 0.1007 - val_mean_squared_error: 0.1007\n",
            "Epoch 41/50\n",
            "69/69 [==============================] - 9s 129ms/step - loss: 0.1132 - mean_squared_error: 0.1132 - val_loss: 0.1005 - val_mean_squared_error: 0.1005\n",
            "Epoch 42/50\n",
            "69/69 [==============================] - 9s 127ms/step - loss: 0.1130 - mean_squared_error: 0.1130 - val_loss: 0.1004 - val_mean_squared_error: 0.1004\n",
            "Epoch 43/50\n",
            "69/69 [==============================] - 9s 128ms/step - loss: 0.1128 - mean_squared_error: 0.1128 - val_loss: 0.1002 - val_mean_squared_error: 0.1002\n",
            "Epoch 44/50\n",
            "69/69 [==============================] - 9s 127ms/step - loss: 0.1126 - mean_squared_error: 0.1126 - val_loss: 0.1000 - val_mean_squared_error: 0.1000\n",
            "Epoch 45/50\n",
            "69/69 [==============================] - 9s 128ms/step - loss: 0.1124 - mean_squared_error: 0.1124 - val_loss: 0.0998 - val_mean_squared_error: 0.0998\n",
            "Epoch 46/50\n",
            "69/69 [==============================] - 9s 127ms/step - loss: 0.1122 - mean_squared_error: 0.1122 - val_loss: 0.0997 - val_mean_squared_error: 0.0997\n",
            "Epoch 47/50\n",
            "69/69 [==============================] - 9s 128ms/step - loss: 0.1120 - mean_squared_error: 0.1120 - val_loss: 0.0995 - val_mean_squared_error: 0.0995\n",
            "Epoch 48/50\n",
            "69/69 [==============================] - 9s 128ms/step - loss: 0.1118 - mean_squared_error: 0.1118 - val_loss: 0.0993 - val_mean_squared_error: 0.0993\n",
            "Epoch 49/50\n",
            "69/69 [==============================] - 9s 128ms/step - loss: 0.1116 - mean_squared_error: 0.1116 - val_loss: 0.0991 - val_mean_squared_error: 0.0991\n",
            "Epoch 50/50\n",
            "69/69 [==============================] - 9s 127ms/step - loss: 0.1115 - mean_squared_error: 0.1115 - val_loss: 0.0989 - val_mean_squared_error: 0.0989\n",
            "WARNING:tensorflow:Layer lstm will not use cuDNN kernel since it doesn't meet the cuDNN kernel criteria. It will use generic GPU kernel as fallback when running on GPU\n",
            "Epoch 1/50\n",
            "69/69 [==============================] - 9s 129ms/step - loss: 0.1203 - mean_squared_error: 0.1203 - val_loss: 0.1073 - val_mean_squared_error: 0.1073\n",
            "Epoch 2/50\n",
            "69/69 [==============================] - 9s 126ms/step - loss: 0.1201 - mean_squared_error: 0.1201 - val_loss: 0.1071 - val_mean_squared_error: 0.1071\n",
            "Epoch 3/50\n",
            "69/69 [==============================] - 9s 126ms/step - loss: 0.1199 - mean_squared_error: 0.1199 - val_loss: 0.1069 - val_mean_squared_error: 0.1069\n",
            "Epoch 4/50\n",
            "69/69 [==============================] - 9s 125ms/step - loss: 0.1197 - mean_squared_error: 0.1197 - val_loss: 0.1067 - val_mean_squared_error: 0.1067\n",
            "Epoch 5/50\n",
            "69/69 [==============================] - 9s 125ms/step - loss: 0.1196 - mean_squared_error: 0.1196 - val_loss: 0.1066 - val_mean_squared_error: 0.1066\n",
            "Epoch 6/50\n",
            "69/69 [==============================] - 9s 125ms/step - loss: 0.1194 - mean_squared_error: 0.1194 - val_loss: 0.1064 - val_mean_squared_error: 0.1064\n",
            "Epoch 7/50\n",
            "69/69 [==============================] - 9s 125ms/step - loss: 0.1192 - mean_squared_error: 0.1192 - val_loss: 0.1062 - val_mean_squared_error: 0.1062\n",
            "Epoch 8/50\n",
            "69/69 [==============================] - 9s 125ms/step - loss: 0.1190 - mean_squared_error: 0.1190 - val_loss: 0.1060 - val_mean_squared_error: 0.1060\n",
            "Epoch 9/50\n",
            "69/69 [==============================] - 9s 126ms/step - loss: 0.1188 - mean_squared_error: 0.1188 - val_loss: 0.1058 - val_mean_squared_error: 0.1058\n",
            "Epoch 10/50\n",
            "69/69 [==============================] - 9s 126ms/step - loss: 0.1186 - mean_squared_error: 0.1186 - val_loss: 0.1057 - val_mean_squared_error: 0.1057\n",
            "Epoch 11/50\n",
            "69/69 [==============================] - 9s 125ms/step - loss: 0.1184 - mean_squared_error: 0.1184 - val_loss: 0.1055 - val_mean_squared_error: 0.1055\n",
            "Epoch 12/50\n",
            "69/69 [==============================] - 9s 125ms/step - loss: 0.1182 - mean_squared_error: 0.1182 - val_loss: 0.1053 - val_mean_squared_error: 0.1053\n",
            "Epoch 13/50\n",
            "69/69 [==============================] - 9s 125ms/step - loss: 0.1181 - mean_squared_error: 0.1181 - val_loss: 0.1051 - val_mean_squared_error: 0.1051\n",
            "Epoch 14/50\n",
            "69/69 [==============================] - 9s 125ms/step - loss: 0.1179 - mean_squared_error: 0.1179 - val_loss: 0.1050 - val_mean_squared_error: 0.1050\n",
            "Epoch 15/50\n",
            "69/69 [==============================] - 9s 126ms/step - loss: 0.1177 - mean_squared_error: 0.1177 - val_loss: 0.1048 - val_mean_squared_error: 0.1048\n",
            "Epoch 16/50\n",
            "69/69 [==============================] - 9s 126ms/step - loss: 0.1175 - mean_squared_error: 0.1175 - val_loss: 0.1046 - val_mean_squared_error: 0.1046\n",
            "Epoch 17/50\n",
            "69/69 [==============================] - 9s 125ms/step - loss: 0.1173 - mean_squared_error: 0.1173 - val_loss: 0.1045 - val_mean_squared_error: 0.1045\n",
            "Epoch 18/50\n",
            "69/69 [==============================] - 9s 125ms/step - loss: 0.1171 - mean_squared_error: 0.1171 - val_loss: 0.1043 - val_mean_squared_error: 0.1043\n",
            "Epoch 19/50\n",
            "69/69 [==============================] - 9s 126ms/step - loss: 0.1170 - mean_squared_error: 0.1170 - val_loss: 0.1041 - val_mean_squared_error: 0.1041\n",
            "Epoch 20/50\n",
            "69/69 [==============================] - 9s 126ms/step - loss: 0.1168 - mean_squared_error: 0.1168 - val_loss: 0.1039 - val_mean_squared_error: 0.1039\n",
            "Epoch 21/50\n",
            "69/69 [==============================] - 9s 125ms/step - loss: 0.1166 - mean_squared_error: 0.1166 - val_loss: 0.1038 - val_mean_squared_error: 0.1038\n",
            "Epoch 22/50\n",
            "69/69 [==============================] - 9s 125ms/step - loss: 0.1164 - mean_squared_error: 0.1164 - val_loss: 0.1036 - val_mean_squared_error: 0.1036\n",
            "Epoch 23/50\n",
            "69/69 [==============================] - 9s 125ms/step - loss: 0.1162 - mean_squared_error: 0.1162 - val_loss: 0.1034 - val_mean_squared_error: 0.1034\n",
            "Epoch 24/50\n",
            "69/69 [==============================] - 9s 125ms/step - loss: 0.1161 - mean_squared_error: 0.1161 - val_loss: 0.1033 - val_mean_squared_error: 0.1033\n",
            "Epoch 25/50\n",
            "69/69 [==============================] - 9s 124ms/step - loss: 0.1159 - mean_squared_error: 0.1159 - val_loss: 0.1031 - val_mean_squared_error: 0.1031\n",
            "Epoch 26/50\n",
            "69/69 [==============================] - 9s 125ms/step - loss: 0.1157 - mean_squared_error: 0.1157 - val_loss: 0.1029 - val_mean_squared_error: 0.1029\n",
            "Epoch 27/50\n",
            "69/69 [==============================] - 9s 125ms/step - loss: 0.1155 - mean_squared_error: 0.1155 - val_loss: 0.1028 - val_mean_squared_error: 0.1028\n",
            "Epoch 28/50\n",
            "69/69 [==============================] - 9s 125ms/step - loss: 0.1154 - mean_squared_error: 0.1154 - val_loss: 0.1026 - val_mean_squared_error: 0.1026\n",
            "Epoch 29/50\n",
            "69/69 [==============================] - 9s 126ms/step - loss: 0.1152 - mean_squared_error: 0.1152 - val_loss: 0.1025 - val_mean_squared_error: 0.1025\n",
            "Epoch 30/50\n",
            "69/69 [==============================] - 9s 126ms/step - loss: 0.1150 - mean_squared_error: 0.1150 - val_loss: 0.1023 - val_mean_squared_error: 0.1023\n",
            "Epoch 31/50\n",
            "69/69 [==============================] - 9s 126ms/step - loss: 0.1148 - mean_squared_error: 0.1148 - val_loss: 0.1021 - val_mean_squared_error: 0.1021\n",
            "Epoch 32/50\n",
            "69/69 [==============================] - 9s 127ms/step - loss: 0.1147 - mean_squared_error: 0.1147 - val_loss: 0.1020 - val_mean_squared_error: 0.1020\n",
            "Epoch 33/50\n",
            "69/69 [==============================] - 9s 126ms/step - loss: 0.1145 - mean_squared_error: 0.1145 - val_loss: 0.1018 - val_mean_squared_error: 0.1018\n",
            "Epoch 34/50\n",
            "69/69 [==============================] - 9s 125ms/step - loss: 0.1143 - mean_squared_error: 0.1143 - val_loss: 0.1016 - val_mean_squared_error: 0.1016\n",
            "Epoch 35/50\n",
            "69/69 [==============================] - 9s 125ms/step - loss: 0.1141 - mean_squared_error: 0.1141 - val_loss: 0.1015 - val_mean_squared_error: 0.1015\n",
            "Epoch 36/50\n",
            "69/69 [==============================] - 9s 125ms/step - loss: 0.1140 - mean_squared_error: 0.1140 - val_loss: 0.1013 - val_mean_squared_error: 0.1013\n",
            "Epoch 37/50\n",
            "69/69 [==============================] - 9s 125ms/step - loss: 0.1138 - mean_squared_error: 0.1138 - val_loss: 0.1011 - val_mean_squared_error: 0.1011\n",
            "Epoch 38/50\n",
            "69/69 [==============================] - 9s 126ms/step - loss: 0.1136 - mean_squared_error: 0.1136 - val_loss: 0.1010 - val_mean_squared_error: 0.1010\n",
            "Epoch 39/50\n",
            "69/69 [==============================] - 9s 125ms/step - loss: 0.1134 - mean_squared_error: 0.1134 - val_loss: 0.1008 - val_mean_squared_error: 0.1008\n",
            "Epoch 40/50\n",
            "69/69 [==============================] - 9s 125ms/step - loss: 0.1133 - mean_squared_error: 0.1133 - val_loss: 0.1006 - val_mean_squared_error: 0.1006\n",
            "Epoch 41/50\n",
            "69/69 [==============================] - 9s 126ms/step - loss: 0.1131 - mean_squared_error: 0.1131 - val_loss: 0.1005 - val_mean_squared_error: 0.1005\n",
            "Epoch 42/50\n",
            "69/69 [==============================] - 9s 126ms/step - loss: 0.1129 - mean_squared_error: 0.1129 - val_loss: 0.1003 - val_mean_squared_error: 0.1003\n",
            "Epoch 43/50\n",
            "69/69 [==============================] - 9s 125ms/step - loss: 0.1127 - mean_squared_error: 0.1127 - val_loss: 0.1002 - val_mean_squared_error: 0.1002\n",
            "Epoch 44/50\n",
            "69/69 [==============================] - 9s 125ms/step - loss: 0.1125 - mean_squared_error: 0.1125 - val_loss: 0.1000 - val_mean_squared_error: 0.1000\n",
            "Epoch 45/50\n",
            "69/69 [==============================] - 9s 126ms/step - loss: 0.1124 - mean_squared_error: 0.1124 - val_loss: 0.0998 - val_mean_squared_error: 0.0998\n",
            "Epoch 46/50\n",
            "69/69 [==============================] - 9s 125ms/step - loss: 0.1122 - mean_squared_error: 0.1122 - val_loss: 0.0997 - val_mean_squared_error: 0.0997\n",
            "Epoch 47/50\n",
            "69/69 [==============================] - 9s 126ms/step - loss: 0.1120 - mean_squared_error: 0.1120 - val_loss: 0.0995 - val_mean_squared_error: 0.0995\n",
            "Epoch 48/50\n",
            "69/69 [==============================] - 9s 126ms/step - loss: 0.1118 - mean_squared_error: 0.1118 - val_loss: 0.0993 - val_mean_squared_error: 0.0993\n",
            "Epoch 49/50\n",
            "69/69 [==============================] - 9s 126ms/step - loss: 0.1117 - mean_squared_error: 0.1117 - val_loss: 0.0992 - val_mean_squared_error: 0.0992\n",
            "Epoch 50/50\n",
            "69/69 [==============================] - 9s 125ms/step - loss: 0.1115 - mean_squared_error: 0.1115 - val_loss: 0.0990 - val_mean_squared_error: 0.0990\n"
          ],
          "name": "stdout"
        },
        {
          "output_type": "display_data",
          "data": {
            "text/html": [
              "<span style=\"color:#4527A0\"><h1 style=\"font-size:18px\">Trial complete</h1></span>"
            ],
            "text/plain": [
              "<IPython.core.display.HTML object>"
            ]
          },
          "metadata": {
            "tags": []
          }
        },
        {
          "output_type": "display_data",
          "data": {
            "text/html": [
              "<span style=\"color:#4527A0\"><h1 style=\"font-size:18px\">Trial summary</h1></span>"
            ],
            "text/plain": [
              "<IPython.core.display.HTML object>"
            ]
          },
          "metadata": {
            "tags": []
          }
        },
        {
          "output_type": "display_data",
          "data": {
            "text/html": [
              "<span style=\"color:cyan\"> |-Trial ID: b70137fd6211f44e48b0e4c1a4a9f61c</span>"
            ],
            "text/plain": [
              "<IPython.core.display.HTML object>"
            ]
          },
          "metadata": {
            "tags": []
          }
        },
        {
          "output_type": "display_data",
          "data": {
            "text/html": [
              "<span style=\"color:cyan\"> |-Score: 0.11146264523267746</span>"
            ],
            "text/plain": [
              "<IPython.core.display.HTML object>"
            ]
          },
          "metadata": {
            "tags": []
          }
        },
        {
          "output_type": "display_data",
          "data": {
            "text/html": [
              "<span style=\"color:cyan\"> |-Best step: 0</span>"
            ],
            "text/plain": [
              "<IPython.core.display.HTML object>"
            ]
          },
          "metadata": {
            "tags": []
          }
        },
        {
          "output_type": "display_data",
          "data": {
            "text/html": [
              "<span style=\"color:#7E57C2\"><h2 style=\"font-size:16px\">Hyperparameters:</h2></span>"
            ],
            "text/plain": [
              "<IPython.core.display.HTML object>"
            ]
          },
          "metadata": {
            "tags": []
          }
        },
        {
          "output_type": "display_data",
          "data": {
            "text/html": [
              "<span style=\"color:cyan\"> |-kernel_size: 6</span>"
            ],
            "text/plain": [
              "<IPython.core.display.HTML object>"
            ]
          },
          "metadata": {
            "tags": []
          }
        },
        {
          "output_type": "display_data",
          "data": {
            "text/html": [
              "<span style=\"color:blue\"> |-num_channels: 150</span>"
            ],
            "text/plain": [
              "<IPython.core.display.HTML object>"
            ]
          },
          "metadata": {
            "tags": []
          }
        },
        {
          "output_type": "stream",
          "text": [
            "WARNING:tensorflow:Layer lstm will not use cuDNN kernel since it doesn't meet the cuDNN kernel criteria. It will use generic GPU kernel as fallback when running on GPU\n",
            "Epoch 1/50\n",
            "69/69 [==============================] - 9s 137ms/step - loss: 0.1201 - mean_squared_error: 0.1201 - val_loss: 0.1071 - val_mean_squared_error: 0.1071\n",
            "Epoch 2/50\n",
            "69/69 [==============================] - 9s 137ms/step - loss: 0.1200 - mean_squared_error: 0.1200 - val_loss: 0.1069 - val_mean_squared_error: 0.1069\n",
            "Epoch 3/50\n",
            "69/69 [==============================] - 9s 135ms/step - loss: 0.1198 - mean_squared_error: 0.1198 - val_loss: 0.1067 - val_mean_squared_error: 0.1067\n",
            "Epoch 4/50\n",
            "69/69 [==============================] - 9s 135ms/step - loss: 0.1196 - mean_squared_error: 0.1196 - val_loss: 0.1066 - val_mean_squared_error: 0.1066\n",
            "Epoch 5/50\n",
            "69/69 [==============================] - 9s 135ms/step - loss: 0.1194 - mean_squared_error: 0.1194 - val_loss: 0.1064 - val_mean_squared_error: 0.1064\n",
            "Epoch 6/50\n",
            "69/69 [==============================] - 9s 138ms/step - loss: 0.1192 - mean_squared_error: 0.1192 - val_loss: 0.1062 - val_mean_squared_error: 0.1062\n",
            "Epoch 7/50\n",
            "69/69 [==============================] - 9s 135ms/step - loss: 0.1190 - mean_squared_error: 0.1190 - val_loss: 0.1060 - val_mean_squared_error: 0.1060\n",
            "Epoch 8/50\n",
            "69/69 [==============================] - 9s 135ms/step - loss: 0.1188 - mean_squared_error: 0.1188 - val_loss: 0.1059 - val_mean_squared_error: 0.1059\n",
            "Epoch 9/50\n",
            "69/69 [==============================] - 9s 135ms/step - loss: 0.1186 - mean_squared_error: 0.1186 - val_loss: 0.1057 - val_mean_squared_error: 0.1057\n",
            "Epoch 10/50\n",
            "69/69 [==============================] - 9s 136ms/step - loss: 0.1185 - mean_squared_error: 0.1185 - val_loss: 0.1055 - val_mean_squared_error: 0.1055\n",
            "Epoch 11/50\n",
            "69/69 [==============================] - 9s 136ms/step - loss: 0.1183 - mean_squared_error: 0.1183 - val_loss: 0.1053 - val_mean_squared_error: 0.1053\n",
            "Epoch 12/50\n",
            "69/69 [==============================] - 9s 137ms/step - loss: 0.1181 - mean_squared_error: 0.1181 - val_loss: 0.1052 - val_mean_squared_error: 0.1052\n",
            "Epoch 13/50\n",
            "69/69 [==============================] - 9s 136ms/step - loss: 0.1179 - mean_squared_error: 0.1179 - val_loss: 0.1050 - val_mean_squared_error: 0.1050\n",
            "Epoch 14/50\n",
            "69/69 [==============================] - 9s 135ms/step - loss: 0.1177 - mean_squared_error: 0.1177 - val_loss: 0.1048 - val_mean_squared_error: 0.1048\n",
            "Epoch 15/50\n",
            "69/69 [==============================] - 9s 135ms/step - loss: 0.1176 - mean_squared_error: 0.1176 - val_loss: 0.1047 - val_mean_squared_error: 0.1047\n",
            "Epoch 16/50\n",
            "69/69 [==============================] - 9s 137ms/step - loss: 0.1174 - mean_squared_error: 0.1174 - val_loss: 0.1045 - val_mean_squared_error: 0.1045\n",
            "Epoch 17/50\n",
            "69/69 [==============================] - 9s 135ms/step - loss: 0.1172 - mean_squared_error: 0.1172 - val_loss: 0.1043 - val_mean_squared_error: 0.1043\n",
            "Epoch 18/50\n",
            "69/69 [==============================] - 9s 135ms/step - loss: 0.1170 - mean_squared_error: 0.1170 - val_loss: 0.1042 - val_mean_squared_error: 0.1042\n",
            "Epoch 19/50\n",
            "69/69 [==============================] - 9s 135ms/step - loss: 0.1169 - mean_squared_error: 0.1169 - val_loss: 0.1040 - val_mean_squared_error: 0.1040\n",
            "Epoch 20/50\n",
            "69/69 [==============================] - 9s 137ms/step - loss: 0.1167 - mean_squared_error: 0.1167 - val_loss: 0.1038 - val_mean_squared_error: 0.1038\n",
            "Epoch 21/50\n",
            "69/69 [==============================] - 9s 135ms/step - loss: 0.1165 - mean_squared_error: 0.1165 - val_loss: 0.1037 - val_mean_squared_error: 0.1037\n",
            "Epoch 22/50\n",
            "69/69 [==============================] - 9s 135ms/step - loss: 0.1163 - mean_squared_error: 0.1163 - val_loss: 0.1035 - val_mean_squared_error: 0.1035\n",
            "Epoch 23/50\n",
            "69/69 [==============================] - 9s 136ms/step - loss: 0.1162 - mean_squared_error: 0.1162 - val_loss: 0.1034 - val_mean_squared_error: 0.1034\n",
            "Epoch 24/50\n",
            "69/69 [==============================] - 9s 137ms/step - loss: 0.1160 - mean_squared_error: 0.1160 - val_loss: 0.1032 - val_mean_squared_error: 0.1032\n",
            "Epoch 25/50\n",
            "69/69 [==============================] - 9s 135ms/step - loss: 0.1158 - mean_squared_error: 0.1158 - val_loss: 0.1030 - val_mean_squared_error: 0.1030\n",
            "Epoch 26/50\n",
            "69/69 [==============================] - 9s 135ms/step - loss: 0.1157 - mean_squared_error: 0.1157 - val_loss: 0.1029 - val_mean_squared_error: 0.1029\n",
            "Epoch 27/50\n",
            "69/69 [==============================] - 9s 135ms/step - loss: 0.1155 - mean_squared_error: 0.1155 - val_loss: 0.1027 - val_mean_squared_error: 0.1027\n",
            "Epoch 28/50\n",
            "69/69 [==============================] - 9s 135ms/step - loss: 0.1153 - mean_squared_error: 0.1153 - val_loss: 0.1026 - val_mean_squared_error: 0.1026\n",
            "Epoch 29/50\n",
            "69/69 [==============================] - 9s 137ms/step - loss: 0.1152 - mean_squared_error: 0.1152 - val_loss: 0.1024 - val_mean_squared_error: 0.1024\n",
            "Epoch 30/50\n",
            "69/69 [==============================] - 9s 136ms/step - loss: 0.1150 - mean_squared_error: 0.1150 - val_loss: 0.1022 - val_mean_squared_error: 0.1022\n",
            "Epoch 31/50\n",
            "69/69 [==============================] - 9s 136ms/step - loss: 0.1148 - mean_squared_error: 0.1148 - val_loss: 0.1021 - val_mean_squared_error: 0.1021\n",
            "Epoch 32/50\n",
            "69/69 [==============================] - 9s 135ms/step - loss: 0.1147 - mean_squared_error: 0.1147 - val_loss: 0.1019 - val_mean_squared_error: 0.1019\n",
            "Epoch 33/50\n",
            "69/69 [==============================] - 9s 137ms/step - loss: 0.1145 - mean_squared_error: 0.1145 - val_loss: 0.1018 - val_mean_squared_error: 0.1018\n",
            "Epoch 34/50\n",
            "69/69 [==============================] - 9s 135ms/step - loss: 0.1143 - mean_squared_error: 0.1143 - val_loss: 0.1016 - val_mean_squared_error: 0.1016\n",
            "Epoch 35/50\n",
            "69/69 [==============================] - 9s 134ms/step - loss: 0.1142 - mean_squared_error: 0.1142 - val_loss: 0.1015 - val_mean_squared_error: 0.1015\n",
            "Epoch 36/50\n",
            "69/69 [==============================] - 9s 135ms/step - loss: 0.1140 - mean_squared_error: 0.1140 - val_loss: 0.1013 - val_mean_squared_error: 0.1013\n",
            "Epoch 37/50\n",
            "69/69 [==============================] - 9s 137ms/step - loss: 0.1139 - mean_squared_error: 0.1139 - val_loss: 0.1012 - val_mean_squared_error: 0.1012\n",
            "Epoch 38/50\n",
            "69/69 [==============================] - 9s 135ms/step - loss: 0.1137 - mean_squared_error: 0.1137 - val_loss: 0.1010 - val_mean_squared_error: 0.1010\n",
            "Epoch 39/50\n",
            "69/69 [==============================] - 9s 136ms/step - loss: 0.1135 - mean_squared_error: 0.1135 - val_loss: 0.1009 - val_mean_squared_error: 0.1009\n",
            "Epoch 40/50\n",
            "69/69 [==============================] - 9s 136ms/step - loss: 0.1134 - mean_squared_error: 0.1134 - val_loss: 0.1007 - val_mean_squared_error: 0.1007\n",
            "Epoch 41/50\n",
            "69/69 [==============================] - 9s 137ms/step - loss: 0.1132 - mean_squared_error: 0.1132 - val_loss: 0.1006 - val_mean_squared_error: 0.1006\n",
            "Epoch 42/50\n",
            "69/69 [==============================] - 9s 135ms/step - loss: 0.1130 - mean_squared_error: 0.1130 - val_loss: 0.1004 - val_mean_squared_error: 0.1004\n",
            "Epoch 43/50\n",
            "69/69 [==============================] - 9s 136ms/step - loss: 0.1129 - mean_squared_error: 0.1129 - val_loss: 0.1003 - val_mean_squared_error: 0.1003\n",
            "Epoch 44/50\n",
            "69/69 [==============================] - 9s 135ms/step - loss: 0.1127 - mean_squared_error: 0.1127 - val_loss: 0.1001 - val_mean_squared_error: 0.1001\n",
            "Epoch 45/50\n",
            "69/69 [==============================] - 9s 137ms/step - loss: 0.1126 - mean_squared_error: 0.1126 - val_loss: 0.1000 - val_mean_squared_error: 0.1000\n",
            "Epoch 46/50\n",
            "69/69 [==============================] - 9s 136ms/step - loss: 0.1124 - mean_squared_error: 0.1124 - val_loss: 0.0998 - val_mean_squared_error: 0.0998\n",
            "Epoch 47/50\n",
            "69/69 [==============================] - 9s 135ms/step - loss: 0.1123 - mean_squared_error: 0.1123 - val_loss: 0.0997 - val_mean_squared_error: 0.0997\n",
            "Epoch 48/50\n",
            "69/69 [==============================] - 10s 138ms/step - loss: 0.1121 - mean_squared_error: 0.1121 - val_loss: 0.0995 - val_mean_squared_error: 0.0995\n",
            "Epoch 49/50\n",
            "69/69 [==============================] - 9s 135ms/step - loss: 0.1119 - mean_squared_error: 0.1119 - val_loss: 0.0994 - val_mean_squared_error: 0.0994\n",
            "Epoch 50/50\n",
            "69/69 [==============================] - 9s 136ms/step - loss: 0.1118 - mean_squared_error: 0.1118 - val_loss: 0.0992 - val_mean_squared_error: 0.0992\n",
            "WARNING:tensorflow:Layer lstm will not use cuDNN kernel since it doesn't meet the cuDNN kernel criteria. It will use generic GPU kernel as fallback when running on GPU\n",
            "Epoch 1/50\n",
            "69/69 [==============================] - 9s 137ms/step - loss: 0.1213 - mean_squared_error: 0.1213 - val_loss: 0.1081 - val_mean_squared_error: 0.1081\n",
            "Epoch 2/50\n",
            "69/69 [==============================] - 9s 134ms/step - loss: 0.1211 - mean_squared_error: 0.1211 - val_loss: 0.1080 - val_mean_squared_error: 0.1080\n",
            "Epoch 3/50\n",
            "69/69 [==============================] - 9s 134ms/step - loss: 0.1209 - mean_squared_error: 0.1209 - val_loss: 0.1078 - val_mean_squared_error: 0.1078\n",
            "Epoch 4/50\n",
            "69/69 [==============================] - 9s 134ms/step - loss: 0.1207 - mean_squared_error: 0.1207 - val_loss: 0.1076 - val_mean_squared_error: 0.1076\n",
            "Epoch 5/50\n",
            "69/69 [==============================] - 9s 134ms/step - loss: 0.1206 - mean_squared_error: 0.1206 - val_loss: 0.1075 - val_mean_squared_error: 0.1075\n",
            "Epoch 6/50\n",
            "69/69 [==============================] - 9s 135ms/step - loss: 0.1204 - mean_squared_error: 0.1204 - val_loss: 0.1073 - val_mean_squared_error: 0.1073\n",
            "Epoch 7/50\n",
            "69/69 [==============================] - 9s 134ms/step - loss: 0.1202 - mean_squared_error: 0.1202 - val_loss: 0.1071 - val_mean_squared_error: 0.1071\n",
            "Epoch 8/50\n",
            "69/69 [==============================] - 9s 134ms/step - loss: 0.1200 - mean_squared_error: 0.1200 - val_loss: 0.1070 - val_mean_squared_error: 0.1070\n",
            "Epoch 9/50\n",
            "69/69 [==============================] - 9s 134ms/step - loss: 0.1199 - mean_squared_error: 0.1199 - val_loss: 0.1068 - val_mean_squared_error: 0.1068\n",
            "Epoch 10/50\n",
            "69/69 [==============================] - 9s 134ms/step - loss: 0.1197 - mean_squared_error: 0.1197 - val_loss: 0.1066 - val_mean_squared_error: 0.1066\n",
            "Epoch 11/50\n",
            "69/69 [==============================] - 9s 134ms/step - loss: 0.1195 - mean_squared_error: 0.1195 - val_loss: 0.1065 - val_mean_squared_error: 0.1065\n",
            "Epoch 12/50\n",
            "69/69 [==============================] - 9s 135ms/step - loss: 0.1194 - mean_squared_error: 0.1194 - val_loss: 0.1063 - val_mean_squared_error: 0.1063\n",
            "Epoch 13/50\n",
            "69/69 [==============================] - 9s 134ms/step - loss: 0.1192 - mean_squared_error: 0.1192 - val_loss: 0.1061 - val_mean_squared_error: 0.1061\n",
            "Epoch 14/50\n",
            "69/69 [==============================] - 9s 135ms/step - loss: 0.1190 - mean_squared_error: 0.1190 - val_loss: 0.1060 - val_mean_squared_error: 0.1060\n",
            "Epoch 15/50\n",
            "69/69 [==============================] - 9s 134ms/step - loss: 0.1188 - mean_squared_error: 0.1188 - val_loss: 0.1058 - val_mean_squared_error: 0.1058\n",
            "Epoch 16/50\n",
            "69/69 [==============================] - 9s 134ms/step - loss: 0.1187 - mean_squared_error: 0.1187 - val_loss: 0.1057 - val_mean_squared_error: 0.1057\n",
            "Epoch 17/50\n",
            "69/69 [==============================] - 9s 134ms/step - loss: 0.1185 - mean_squared_error: 0.1185 - val_loss: 0.1055 - val_mean_squared_error: 0.1055\n",
            "Epoch 18/50\n",
            "69/69 [==============================] - 9s 134ms/step - loss: 0.1183 - mean_squared_error: 0.1183 - val_loss: 0.1054 - val_mean_squared_error: 0.1054\n",
            "Epoch 19/50\n",
            "69/69 [==============================] - 9s 134ms/step - loss: 0.1182 - mean_squared_error: 0.1182 - val_loss: 0.1052 - val_mean_squared_error: 0.1052\n",
            "Epoch 20/50\n",
            "69/69 [==============================] - 9s 134ms/step - loss: 0.1180 - mean_squared_error: 0.1180 - val_loss: 0.1050 - val_mean_squared_error: 0.1050\n",
            "Epoch 21/50\n",
            "69/69 [==============================] - 9s 134ms/step - loss: 0.1179 - mean_squared_error: 0.1179 - val_loss: 0.1049 - val_mean_squared_error: 0.1049\n",
            "Epoch 22/50\n",
            "69/69 [==============================] - 9s 135ms/step - loss: 0.1177 - mean_squared_error: 0.1177 - val_loss: 0.1047 - val_mean_squared_error: 0.1047\n",
            "Epoch 23/50\n",
            "69/69 [==============================] - 9s 134ms/step - loss: 0.1175 - mean_squared_error: 0.1175 - val_loss: 0.1046 - val_mean_squared_error: 0.1046\n",
            "Epoch 24/50\n",
            "69/69 [==============================] - 9s 134ms/step - loss: 0.1174 - mean_squared_error: 0.1174 - val_loss: 0.1044 - val_mean_squared_error: 0.1044\n",
            "Epoch 25/50\n",
            "69/69 [==============================] - 9s 134ms/step - loss: 0.1172 - mean_squared_error: 0.1172 - val_loss: 0.1043 - val_mean_squared_error: 0.1043\n",
            "Epoch 26/50\n",
            "69/69 [==============================] - 9s 135ms/step - loss: 0.1170 - mean_squared_error: 0.1170 - val_loss: 0.1041 - val_mean_squared_error: 0.1041\n",
            "Epoch 27/50\n",
            "69/69 [==============================] - 9s 134ms/step - loss: 0.1169 - mean_squared_error: 0.1169 - val_loss: 0.1040 - val_mean_squared_error: 0.1040\n",
            "Epoch 28/50\n",
            "69/69 [==============================] - 9s 134ms/step - loss: 0.1167 - mean_squared_error: 0.1167 - val_loss: 0.1038 - val_mean_squared_error: 0.1038\n",
            "Epoch 29/50\n",
            "69/69 [==============================] - 9s 134ms/step - loss: 0.1166 - mean_squared_error: 0.1166 - val_loss: 0.1037 - val_mean_squared_error: 0.1037\n",
            "Epoch 30/50\n",
            "69/69 [==============================] - 9s 134ms/step - loss: 0.1164 - mean_squared_error: 0.1164 - val_loss: 0.1035 - val_mean_squared_error: 0.1035\n",
            "Epoch 31/50\n",
            "69/69 [==============================] - 9s 134ms/step - loss: 0.1162 - mean_squared_error: 0.1162 - val_loss: 0.1034 - val_mean_squared_error: 0.1034\n",
            "Epoch 32/50\n",
            "69/69 [==============================] - 9s 135ms/step - loss: 0.1161 - mean_squared_error: 0.1161 - val_loss: 0.1032 - val_mean_squared_error: 0.1032\n",
            "Epoch 33/50\n",
            "69/69 [==============================] - 9s 134ms/step - loss: 0.1159 - mean_squared_error: 0.1159 - val_loss: 0.1031 - val_mean_squared_error: 0.1031\n",
            "Epoch 34/50\n",
            "69/69 [==============================] - 9s 134ms/step - loss: 0.1158 - mean_squared_error: 0.1158 - val_loss: 0.1029 - val_mean_squared_error: 0.1029\n",
            "Epoch 35/50\n",
            "69/69 [==============================] - 9s 134ms/step - loss: 0.1156 - mean_squared_error: 0.1156 - val_loss: 0.1028 - val_mean_squared_error: 0.1028\n",
            "Epoch 36/50\n",
            "69/69 [==============================] - 9s 134ms/step - loss: 0.1155 - mean_squared_error: 0.1155 - val_loss: 0.1026 - val_mean_squared_error: 0.1026\n",
            "Epoch 37/50\n",
            "69/69 [==============================] - 9s 134ms/step - loss: 0.1153 - mean_squared_error: 0.1153 - val_loss: 0.1025 - val_mean_squared_error: 0.1025\n",
            "Epoch 38/50\n",
            "69/69 [==============================] - 9s 134ms/step - loss: 0.1151 - mean_squared_error: 0.1151 - val_loss: 0.1023 - val_mean_squared_error: 0.1023\n",
            "Epoch 39/50\n",
            "69/69 [==============================] - 9s 134ms/step - loss: 0.1150 - mean_squared_error: 0.1150 - val_loss: 0.1022 - val_mean_squared_error: 0.1022\n",
            "Epoch 40/50\n",
            "69/69 [==============================] - 9s 134ms/step - loss: 0.1148 - mean_squared_error: 0.1148 - val_loss: 0.1020 - val_mean_squared_error: 0.1020\n",
            "Epoch 41/50\n",
            "69/69 [==============================] - 9s 134ms/step - loss: 0.1147 - mean_squared_error: 0.1147 - val_loss: 0.1019 - val_mean_squared_error: 0.1019\n",
            "Epoch 42/50\n",
            "69/69 [==============================] - 9s 134ms/step - loss: 0.1145 - mean_squared_error: 0.1145 - val_loss: 0.1017 - val_mean_squared_error: 0.1017\n",
            "Epoch 43/50\n",
            "69/69 [==============================] - 9s 134ms/step - loss: 0.1144 - mean_squared_error: 0.1144 - val_loss: 0.1016 - val_mean_squared_error: 0.1016\n",
            "Epoch 44/50\n",
            "69/69 [==============================] - 9s 134ms/step - loss: 0.1142 - mean_squared_error: 0.1142 - val_loss: 0.1015 - val_mean_squared_error: 0.1015\n",
            "Epoch 45/50\n",
            "69/69 [==============================] - 9s 134ms/step - loss: 0.1141 - mean_squared_error: 0.1141 - val_loss: 0.1013 - val_mean_squared_error: 0.1013\n",
            "Epoch 46/50\n",
            "69/69 [==============================] - 9s 134ms/step - loss: 0.1139 - mean_squared_error: 0.1139 - val_loss: 0.1012 - val_mean_squared_error: 0.1012\n",
            "Epoch 47/50\n",
            "69/69 [==============================] - 9s 133ms/step - loss: 0.1138 - mean_squared_error: 0.1138 - val_loss: 0.1010 - val_mean_squared_error: 0.1010\n",
            "Epoch 48/50\n",
            "69/69 [==============================] - 9s 134ms/step - loss: 0.1136 - mean_squared_error: 0.1136 - val_loss: 0.1009 - val_mean_squared_error: 0.1009\n",
            "Epoch 49/50\n",
            "69/69 [==============================] - 9s 134ms/step - loss: 0.1135 - mean_squared_error: 0.1135 - val_loss: 0.1008 - val_mean_squared_error: 0.1008\n",
            "Epoch 50/50\n",
            "69/69 [==============================] - 9s 134ms/step - loss: 0.1133 - mean_squared_error: 0.1133 - val_loss: 0.1006 - val_mean_squared_error: 0.1006\n"
          ],
          "name": "stdout"
        },
        {
          "output_type": "display_data",
          "data": {
            "text/html": [
              "<span style=\"color:#4527A0\"><h1 style=\"font-size:18px\">Trial complete</h1></span>"
            ],
            "text/plain": [
              "<IPython.core.display.HTML object>"
            ]
          },
          "metadata": {
            "tags": []
          }
        },
        {
          "output_type": "display_data",
          "data": {
            "text/html": [
              "<span style=\"color:#4527A0\"><h1 style=\"font-size:18px\">Trial summary</h1></span>"
            ],
            "text/plain": [
              "<IPython.core.display.HTML object>"
            ]
          },
          "metadata": {
            "tags": []
          }
        },
        {
          "output_type": "display_data",
          "data": {
            "text/html": [
              "<span style=\"color:cyan\"> |-Trial ID: e42e5a918f8bbaa09dd031aaaca3fcb2</span>"
            ],
            "text/plain": [
              "<IPython.core.display.HTML object>"
            ]
          },
          "metadata": {
            "tags": []
          }
        },
        {
          "output_type": "display_data",
          "data": {
            "text/html": [
              "<span style=\"color:cyan\"> |-Score: 0.11255808547139168</span>"
            ],
            "text/plain": [
              "<IPython.core.display.HTML object>"
            ]
          },
          "metadata": {
            "tags": []
          }
        },
        {
          "output_type": "display_data",
          "data": {
            "text/html": [
              "<span style=\"color:cyan\"> |-Best step: 0</span>"
            ],
            "text/plain": [
              "<IPython.core.display.HTML object>"
            ]
          },
          "metadata": {
            "tags": []
          }
        },
        {
          "output_type": "display_data",
          "data": {
            "text/html": [
              "<span style=\"color:#7E57C2\"><h2 style=\"font-size:16px\">Hyperparameters:</h2></span>"
            ],
            "text/plain": [
              "<IPython.core.display.HTML object>"
            ]
          },
          "metadata": {
            "tags": []
          }
        },
        {
          "output_type": "display_data",
          "data": {
            "text/html": [
              "<span style=\"color:cyan\"> |-kernel_size: 36</span>"
            ],
            "text/plain": [
              "<IPython.core.display.HTML object>"
            ]
          },
          "metadata": {
            "tags": []
          }
        },
        {
          "output_type": "display_data",
          "data": {
            "text/html": [
              "<span style=\"color:blue\"> |-num_channels: 150</span>"
            ],
            "text/plain": [
              "<IPython.core.display.HTML object>"
            ]
          },
          "metadata": {
            "tags": []
          }
        },
        {
          "output_type": "stream",
          "text": [
            "WARNING:tensorflow:Layer lstm will not use cuDNN kernel since it doesn't meet the cuDNN kernel criteria. It will use generic GPU kernel as fallback when running on GPU\n",
            "Epoch 1/50\n",
            "69/69 [==============================] - 6s 92ms/step - loss: 0.1208 - mean_squared_error: 0.1208 - val_loss: 0.1077 - val_mean_squared_error: 0.1077\n",
            "Epoch 2/50\n",
            "69/69 [==============================] - 6s 89ms/step - loss: 0.1206 - mean_squared_error: 0.1206 - val_loss: 0.1075 - val_mean_squared_error: 0.1075\n",
            "Epoch 3/50\n",
            "69/69 [==============================] - 6s 91ms/step - loss: 0.1204 - mean_squared_error: 0.1204 - val_loss: 0.1074 - val_mean_squared_error: 0.1074\n",
            "Epoch 4/50\n",
            "69/69 [==============================] - 6s 89ms/step - loss: 0.1203 - mean_squared_error: 0.1203 - val_loss: 0.1072 - val_mean_squared_error: 0.1072\n",
            "Epoch 5/50\n",
            "69/69 [==============================] - 6s 90ms/step - loss: 0.1201 - mean_squared_error: 0.1201 - val_loss: 0.1071 - val_mean_squared_error: 0.1071\n",
            "Epoch 6/50\n",
            "69/69 [==============================] - 6s 89ms/step - loss: 0.1199 - mean_squared_error: 0.1199 - val_loss: 0.1069 - val_mean_squared_error: 0.1069\n",
            "Epoch 7/50\n",
            "69/69 [==============================] - 6s 91ms/step - loss: 0.1198 - mean_squared_error: 0.1198 - val_loss: 0.1068 - val_mean_squared_error: 0.1068\n",
            "Epoch 8/50\n",
            "69/69 [==============================] - 6s 90ms/step - loss: 0.1196 - mean_squared_error: 0.1196 - val_loss: 0.1066 - val_mean_squared_error: 0.1066\n",
            "Epoch 9/50\n",
            "69/69 [==============================] - 6s 89ms/step - loss: 0.1195 - mean_squared_error: 0.1195 - val_loss: 0.1065 - val_mean_squared_error: 0.1065\n",
            "Epoch 10/50\n",
            "69/69 [==============================] - 6s 89ms/step - loss: 0.1193 - mean_squared_error: 0.1193 - val_loss: 0.1063 - val_mean_squared_error: 0.1063\n",
            "Epoch 11/50\n",
            "69/69 [==============================] - 6s 92ms/step - loss: 0.1191 - mean_squared_error: 0.1191 - val_loss: 0.1062 - val_mean_squared_error: 0.1062\n",
            "Epoch 12/50\n",
            "69/69 [==============================] - 6s 90ms/step - loss: 0.1190 - mean_squared_error: 0.1190 - val_loss: 0.1060 - val_mean_squared_error: 0.1060\n",
            "Epoch 13/50\n",
            "69/69 [==============================] - 6s 92ms/step - loss: 0.1188 - mean_squared_error: 0.1188 - val_loss: 0.1059 - val_mean_squared_error: 0.1059\n",
            "Epoch 14/50\n",
            "69/69 [==============================] - 6s 89ms/step - loss: 0.1187 - mean_squared_error: 0.1187 - val_loss: 0.1057 - val_mean_squared_error: 0.1057\n",
            "Epoch 15/50\n",
            "69/69 [==============================] - 6s 92ms/step - loss: 0.1185 - mean_squared_error: 0.1185 - val_loss: 0.1056 - val_mean_squared_error: 0.1056\n",
            "Epoch 16/50\n",
            "69/69 [==============================] - 6s 90ms/step - loss: 0.1184 - mean_squared_error: 0.1184 - val_loss: 0.1054 - val_mean_squared_error: 0.1054\n",
            "Epoch 17/50\n",
            "69/69 [==============================] - 6s 91ms/step - loss: 0.1182 - mean_squared_error: 0.1182 - val_loss: 0.1053 - val_mean_squared_error: 0.1053\n",
            "Epoch 18/50\n",
            "69/69 [==============================] - 6s 89ms/step - loss: 0.1180 - mean_squared_error: 0.1180 - val_loss: 0.1051 - val_mean_squared_error: 0.1051\n",
            "Epoch 19/50\n",
            "69/69 [==============================] - 6s 89ms/step - loss: 0.1179 - mean_squared_error: 0.1179 - val_loss: 0.1050 - val_mean_squared_error: 0.1050\n",
            "Epoch 20/50\n",
            "69/69 [==============================] - 6s 90ms/step - loss: 0.1177 - mean_squared_error: 0.1177 - val_loss: 0.1048 - val_mean_squared_error: 0.1048\n",
            "Epoch 21/50\n",
            "69/69 [==============================] - 6s 92ms/step - loss: 0.1176 - mean_squared_error: 0.1176 - val_loss: 0.1047 - val_mean_squared_error: 0.1047\n",
            "Epoch 22/50\n",
            "69/69 [==============================] - 6s 90ms/step - loss: 0.1174 - mean_squared_error: 0.1174 - val_loss: 0.1045 - val_mean_squared_error: 0.1045\n",
            "Epoch 23/50\n",
            "69/69 [==============================] - 6s 92ms/step - loss: 0.1173 - mean_squared_error: 0.1173 - val_loss: 0.1044 - val_mean_squared_error: 0.1044\n",
            "Epoch 24/50\n",
            "69/69 [==============================] - 6s 90ms/step - loss: 0.1171 - mean_squared_error: 0.1171 - val_loss: 0.1043 - val_mean_squared_error: 0.1043\n",
            "Epoch 25/50\n",
            "69/69 [==============================] - 6s 90ms/step - loss: 0.1170 - mean_squared_error: 0.1170 - val_loss: 0.1041 - val_mean_squared_error: 0.1041\n",
            "Epoch 26/50\n",
            "69/69 [==============================] - 6s 90ms/step - loss: 0.1168 - mean_squared_error: 0.1168 - val_loss: 0.1040 - val_mean_squared_error: 0.1040\n",
            "Epoch 27/50\n",
            "69/69 [==============================] - 6s 90ms/step - loss: 0.1167 - mean_squared_error: 0.1167 - val_loss: 0.1038 - val_mean_squared_error: 0.1038\n",
            "Epoch 28/50\n",
            "69/69 [==============================] - 6s 89ms/step - loss: 0.1165 - mean_squared_error: 0.1165 - val_loss: 0.1037 - val_mean_squared_error: 0.1037\n",
            "Epoch 29/50\n",
            "69/69 [==============================] - 6s 91ms/step - loss: 0.1164 - mean_squared_error: 0.1164 - val_loss: 0.1035 - val_mean_squared_error: 0.1035\n",
            "Epoch 30/50\n",
            "69/69 [==============================] - 6s 89ms/step - loss: 0.1162 - mean_squared_error: 0.1162 - val_loss: 0.1034 - val_mean_squared_error: 0.1034\n",
            "Epoch 31/50\n",
            "69/69 [==============================] - 6s 91ms/step - loss: 0.1161 - mean_squared_error: 0.1161 - val_loss: 0.1033 - val_mean_squared_error: 0.1033\n",
            "Epoch 32/50\n",
            "69/69 [==============================] - 6s 90ms/step - loss: 0.1159 - mean_squared_error: 0.1159 - val_loss: 0.1031 - val_mean_squared_error: 0.1031\n",
            "Epoch 33/50\n",
            "69/69 [==============================] - 6s 90ms/step - loss: 0.1158 - mean_squared_error: 0.1158 - val_loss: 0.1030 - val_mean_squared_error: 0.1030\n",
            "Epoch 34/50\n",
            "69/69 [==============================] - 6s 90ms/step - loss: 0.1156 - mean_squared_error: 0.1156 - val_loss: 0.1028 - val_mean_squared_error: 0.1028\n",
            "Epoch 35/50\n",
            "69/69 [==============================] - 6s 89ms/step - loss: 0.1155 - mean_squared_error: 0.1155 - val_loss: 0.1027 - val_mean_squared_error: 0.1027\n",
            "Epoch 36/50\n",
            "69/69 [==============================] - 6s 90ms/step - loss: 0.1153 - mean_squared_error: 0.1153 - val_loss: 0.1026 - val_mean_squared_error: 0.1026\n",
            "Epoch 37/50\n",
            "69/69 [==============================] - 6s 92ms/step - loss: 0.1152 - mean_squared_error: 0.1152 - val_loss: 0.1024 - val_mean_squared_error: 0.1024\n",
            "Epoch 38/50\n",
            "69/69 [==============================] - 6s 90ms/step - loss: 0.1150 - mean_squared_error: 0.1150 - val_loss: 0.1023 - val_mean_squared_error: 0.1023\n",
            "Epoch 39/50\n",
            "69/69 [==============================] - 6s 90ms/step - loss: 0.1149 - mean_squared_error: 0.1149 - val_loss: 0.1022 - val_mean_squared_error: 0.1022\n",
            "Epoch 40/50\n",
            "69/69 [==============================] - 6s 90ms/step - loss: 0.1148 - mean_squared_error: 0.1148 - val_loss: 0.1020 - val_mean_squared_error: 0.1020\n",
            "Epoch 41/50\n",
            "69/69 [==============================] - 6s 92ms/step - loss: 0.1146 - mean_squared_error: 0.1146 - val_loss: 0.1019 - val_mean_squared_error: 0.1019\n",
            "Epoch 42/50\n",
            "69/69 [==============================] - 6s 90ms/step - loss: 0.1145 - mean_squared_error: 0.1145 - val_loss: 0.1018 - val_mean_squared_error: 0.1018\n",
            "Epoch 43/50\n",
            "69/69 [==============================] - 6s 91ms/step - loss: 0.1143 - mean_squared_error: 0.1143 - val_loss: 0.1016 - val_mean_squared_error: 0.1016\n",
            "Epoch 44/50\n",
            "69/69 [==============================] - 6s 90ms/step - loss: 0.1142 - mean_squared_error: 0.1142 - val_loss: 0.1015 - val_mean_squared_error: 0.1015\n",
            "Epoch 45/50\n",
            "69/69 [==============================] - 6s 90ms/step - loss: 0.1140 - mean_squared_error: 0.1140 - val_loss: 0.1014 - val_mean_squared_error: 0.1014\n",
            "Epoch 46/50\n",
            "69/69 [==============================] - 6s 89ms/step - loss: 0.1139 - mean_squared_error: 0.1139 - val_loss: 0.1012 - val_mean_squared_error: 0.1012\n",
            "Epoch 47/50\n",
            "69/69 [==============================] - 6s 92ms/step - loss: 0.1138 - mean_squared_error: 0.1138 - val_loss: 0.1011 - val_mean_squared_error: 0.1011\n",
            "Epoch 48/50\n",
            "69/69 [==============================] - 6s 89ms/step - loss: 0.1136 - mean_squared_error: 0.1136 - val_loss: 0.1010 - val_mean_squared_error: 0.1010\n",
            "Epoch 49/50\n",
            "69/69 [==============================] - 6s 90ms/step - loss: 0.1135 - mean_squared_error: 0.1135 - val_loss: 0.1008 - val_mean_squared_error: 0.1008\n",
            "Epoch 50/50\n",
            "69/69 [==============================] - 6s 91ms/step - loss: 0.1133 - mean_squared_error: 0.1133 - val_loss: 0.1007 - val_mean_squared_error: 0.1007\n",
            "WARNING:tensorflow:Layer lstm will not use cuDNN kernel since it doesn't meet the cuDNN kernel criteria. It will use generic GPU kernel as fallback when running on GPU\n",
            "Epoch 1/50\n",
            "69/69 [==============================] - 6s 91ms/step - loss: 0.1215 - mean_squared_error: 0.1215 - val_loss: 0.1083 - val_mean_squared_error: 0.1083\n",
            "Epoch 2/50\n",
            "69/69 [==============================] - 6s 88ms/step - loss: 0.1213 - mean_squared_error: 0.1213 - val_loss: 0.1081 - val_mean_squared_error: 0.1081\n",
            "Epoch 3/50\n",
            "69/69 [==============================] - 6s 89ms/step - loss: 0.1211 - mean_squared_error: 0.1211 - val_loss: 0.1080 - val_mean_squared_error: 0.1080\n",
            "Epoch 4/50\n",
            "69/69 [==============================] - 6s 89ms/step - loss: 0.1210 - mean_squared_error: 0.1210 - val_loss: 0.1078 - val_mean_squared_error: 0.1078\n",
            "Epoch 5/50\n",
            "69/69 [==============================] - 6s 89ms/step - loss: 0.1208 - mean_squared_error: 0.1208 - val_loss: 0.1077 - val_mean_squared_error: 0.1077\n",
            "Epoch 6/50\n",
            "69/69 [==============================] - 6s 88ms/step - loss: 0.1207 - mean_squared_error: 0.1207 - val_loss: 0.1075 - val_mean_squared_error: 0.1075\n",
            "Epoch 7/50\n",
            "69/69 [==============================] - 6s 88ms/step - loss: 0.1205 - mean_squared_error: 0.1205 - val_loss: 0.1074 - val_mean_squared_error: 0.1074\n",
            "Epoch 8/50\n",
            "69/69 [==============================] - 6s 88ms/step - loss: 0.1204 - mean_squared_error: 0.1204 - val_loss: 0.1073 - val_mean_squared_error: 0.1073\n",
            "Epoch 9/50\n",
            "69/69 [==============================] - 6s 88ms/step - loss: 0.1202 - mean_squared_error: 0.1202 - val_loss: 0.1071 - val_mean_squared_error: 0.1071\n",
            "Epoch 10/50\n",
            "69/69 [==============================] - 6s 88ms/step - loss: 0.1201 - mean_squared_error: 0.1201 - val_loss: 0.1070 - val_mean_squared_error: 0.1070\n",
            "Epoch 11/50\n",
            "69/69 [==============================] - 6s 89ms/step - loss: 0.1200 - mean_squared_error: 0.1200 - val_loss: 0.1069 - val_mean_squared_error: 0.1069\n",
            "Epoch 12/50\n",
            "69/69 [==============================] - 6s 89ms/step - loss: 0.1198 - mean_squared_error: 0.1198 - val_loss: 0.1067 - val_mean_squared_error: 0.1067\n",
            "Epoch 13/50\n",
            "69/69 [==============================] - 6s 89ms/step - loss: 0.1197 - mean_squared_error: 0.1197 - val_loss: 0.1066 - val_mean_squared_error: 0.1066\n",
            "Epoch 14/50\n",
            "69/69 [==============================] - 6s 88ms/step - loss: 0.1195 - mean_squared_error: 0.1195 - val_loss: 0.1065 - val_mean_squared_error: 0.1065\n",
            "Epoch 15/50\n",
            "69/69 [==============================] - 6s 88ms/step - loss: 0.1194 - mean_squared_error: 0.1194 - val_loss: 0.1063 - val_mean_squared_error: 0.1063\n",
            "Epoch 16/50\n",
            "69/69 [==============================] - 6s 89ms/step - loss: 0.1192 - mean_squared_error: 0.1192 - val_loss: 0.1062 - val_mean_squared_error: 0.1062\n",
            "Epoch 17/50\n",
            "69/69 [==============================] - 6s 88ms/step - loss: 0.1191 - mean_squared_error: 0.1191 - val_loss: 0.1061 - val_mean_squared_error: 0.1061\n",
            "Epoch 18/50\n",
            "69/69 [==============================] - 6s 88ms/step - loss: 0.1190 - mean_squared_error: 0.1190 - val_loss: 0.1059 - val_mean_squared_error: 0.1059\n",
            "Epoch 19/50\n",
            "69/69 [==============================] - 6s 88ms/step - loss: 0.1188 - mean_squared_error: 0.1188 - val_loss: 0.1058 - val_mean_squared_error: 0.1058\n",
            "Epoch 20/50\n",
            "69/69 [==============================] - 6s 88ms/step - loss: 0.1187 - mean_squared_error: 0.1187 - val_loss: 0.1057 - val_mean_squared_error: 0.1057\n",
            "Epoch 21/50\n",
            "69/69 [==============================] - 6s 89ms/step - loss: 0.1186 - mean_squared_error: 0.1186 - val_loss: 0.1055 - val_mean_squared_error: 0.1055\n",
            "Epoch 22/50\n",
            "69/69 [==============================] - 6s 89ms/step - loss: 0.1184 - mean_squared_error: 0.1184 - val_loss: 0.1054 - val_mean_squared_error: 0.1054\n",
            "Epoch 23/50\n",
            "69/69 [==============================] - 6s 88ms/step - loss: 0.1183 - mean_squared_error: 0.1183 - val_loss: 0.1053 - val_mean_squared_error: 0.1053\n",
            "Epoch 24/50\n",
            "69/69 [==============================] - 6s 89ms/step - loss: 0.1181 - mean_squared_error: 0.1181 - val_loss: 0.1052 - val_mean_squared_error: 0.1052\n",
            "Epoch 25/50\n",
            "69/69 [==============================] - 6s 89ms/step - loss: 0.1180 - mean_squared_error: 0.1180 - val_loss: 0.1050 - val_mean_squared_error: 0.1050\n",
            "Epoch 26/50\n",
            "69/69 [==============================] - 6s 89ms/step - loss: 0.1179 - mean_squared_error: 0.1179 - val_loss: 0.1049 - val_mean_squared_error: 0.1049\n",
            "Epoch 27/50\n",
            "69/69 [==============================] - 6s 89ms/step - loss: 0.1177 - mean_squared_error: 0.1177 - val_loss: 0.1048 - val_mean_squared_error: 0.1048\n",
            "Epoch 28/50\n",
            "69/69 [==============================] - 6s 89ms/step - loss: 0.1176 - mean_squared_error: 0.1176 - val_loss: 0.1047 - val_mean_squared_error: 0.1047\n",
            "Epoch 29/50\n",
            "69/69 [==============================] - 6s 89ms/step - loss: 0.1175 - mean_squared_error: 0.1175 - val_loss: 0.1045 - val_mean_squared_error: 0.1045\n",
            "Epoch 30/50\n",
            "69/69 [==============================] - 6s 89ms/step - loss: 0.1174 - mean_squared_error: 0.1174 - val_loss: 0.1044 - val_mean_squared_error: 0.1044\n",
            "Epoch 31/50\n",
            "69/69 [==============================] - 6s 88ms/step - loss: 0.1172 - mean_squared_error: 0.1172 - val_loss: 0.1043 - val_mean_squared_error: 0.1043\n",
            "Epoch 32/50\n",
            "69/69 [==============================] - 6s 89ms/step - loss: 0.1171 - mean_squared_error: 0.1171 - val_loss: 0.1042 - val_mean_squared_error: 0.1042\n",
            "Epoch 33/50\n",
            "69/69 [==============================] - 6s 88ms/step - loss: 0.1170 - mean_squared_error: 0.1170 - val_loss: 0.1040 - val_mean_squared_error: 0.1040\n",
            "Epoch 34/50\n",
            "69/69 [==============================] - 6s 89ms/step - loss: 0.1168 - mean_squared_error: 0.1168 - val_loss: 0.1039 - val_mean_squared_error: 0.1039\n",
            "Epoch 35/50\n",
            "69/69 [==============================] - 6s 88ms/step - loss: 0.1167 - mean_squared_error: 0.1167 - val_loss: 0.1038 - val_mean_squared_error: 0.1038\n",
            "Epoch 36/50\n",
            "69/69 [==============================] - 6s 89ms/step - loss: 0.1166 - mean_squared_error: 0.1166 - val_loss: 0.1037 - val_mean_squared_error: 0.1037\n",
            "Epoch 37/50\n",
            "69/69 [==============================] - 6s 89ms/step - loss: 0.1164 - mean_squared_error: 0.1164 - val_loss: 0.1036 - val_mean_squared_error: 0.1036\n",
            "Epoch 38/50\n",
            "69/69 [==============================] - 6s 89ms/step - loss: 0.1163 - mean_squared_error: 0.1163 - val_loss: 0.1034 - val_mean_squared_error: 0.1034\n",
            "Epoch 39/50\n",
            "69/69 [==============================] - 6s 88ms/step - loss: 0.1162 - mean_squared_error: 0.1162 - val_loss: 0.1033 - val_mean_squared_error: 0.1033\n",
            "Epoch 40/50\n",
            "69/69 [==============================] - 6s 89ms/step - loss: 0.1161 - mean_squared_error: 0.1161 - val_loss: 0.1032 - val_mean_squared_error: 0.1032\n",
            "Epoch 41/50\n",
            "69/69 [==============================] - 6s 90ms/step - loss: 0.1159 - mean_squared_error: 0.1159 - val_loss: 0.1031 - val_mean_squared_error: 0.1031\n",
            "Epoch 42/50\n",
            "69/69 [==============================] - 6s 89ms/step - loss: 0.1158 - mean_squared_error: 0.1158 - val_loss: 0.1030 - val_mean_squared_error: 0.1030\n",
            "Epoch 43/50\n",
            "69/69 [==============================] - 6s 89ms/step - loss: 0.1157 - mean_squared_error: 0.1157 - val_loss: 0.1028 - val_mean_squared_error: 0.1028\n",
            "Epoch 44/50\n",
            "69/69 [==============================] - 6s 88ms/step - loss: 0.1156 - mean_squared_error: 0.1156 - val_loss: 0.1027 - val_mean_squared_error: 0.1027\n",
            "Epoch 45/50\n",
            "69/69 [==============================] - 6s 88ms/step - loss: 0.1154 - mean_squared_error: 0.1154 - val_loss: 0.1026 - val_mean_squared_error: 0.1026\n",
            "Epoch 46/50\n",
            "69/69 [==============================] - 6s 89ms/step - loss: 0.1153 - mean_squared_error: 0.1153 - val_loss: 0.1025 - val_mean_squared_error: 0.1025\n",
            "Epoch 47/50\n",
            "69/69 [==============================] - 6s 89ms/step - loss: 0.1152 - mean_squared_error: 0.1152 - val_loss: 0.1024 - val_mean_squared_error: 0.1024\n",
            "Epoch 48/50\n",
            "69/69 [==============================] - 6s 89ms/step - loss: 0.1151 - mean_squared_error: 0.1151 - val_loss: 0.1023 - val_mean_squared_error: 0.1023\n",
            "Epoch 49/50\n",
            "69/69 [==============================] - 6s 88ms/step - loss: 0.1149 - mean_squared_error: 0.1149 - val_loss: 0.1021 - val_mean_squared_error: 0.1021\n",
            "Epoch 50/50\n",
            "69/69 [==============================] - 6s 89ms/step - loss: 0.1148 - mean_squared_error: 0.1148 - val_loss: 0.1020 - val_mean_squared_error: 0.1020\n"
          ],
          "name": "stdout"
        },
        {
          "output_type": "display_data",
          "data": {
            "text/html": [
              "<span style=\"color:#4527A0\"><h1 style=\"font-size:18px\">Trial complete</h1></span>"
            ],
            "text/plain": [
              "<IPython.core.display.HTML object>"
            ]
          },
          "metadata": {
            "tags": []
          }
        },
        {
          "output_type": "display_data",
          "data": {
            "text/html": [
              "<span style=\"color:#4527A0\"><h1 style=\"font-size:18px\">Trial summary</h1></span>"
            ],
            "text/plain": [
              "<IPython.core.display.HTML object>"
            ]
          },
          "metadata": {
            "tags": []
          }
        },
        {
          "output_type": "display_data",
          "data": {
            "text/html": [
              "<span style=\"color:cyan\"> |-Trial ID: 05204691e699d3e15bfbceb574d25bb5</span>"
            ],
            "text/plain": [
              "<IPython.core.display.HTML object>"
            ]
          },
          "metadata": {
            "tags": []
          }
        },
        {
          "output_type": "display_data",
          "data": {
            "text/html": [
              "<span style=\"color:cyan\"> |-Score: 0.11407532542943954</span>"
            ],
            "text/plain": [
              "<IPython.core.display.HTML object>"
            ]
          },
          "metadata": {
            "tags": []
          }
        },
        {
          "output_type": "display_data",
          "data": {
            "text/html": [
              "<span style=\"color:cyan\"> |-Best step: 0</span>"
            ],
            "text/plain": [
              "<IPython.core.display.HTML object>"
            ]
          },
          "metadata": {
            "tags": []
          }
        },
        {
          "output_type": "display_data",
          "data": {
            "text/html": [
              "<span style=\"color:#7E57C2\"><h2 style=\"font-size:16px\">Hyperparameters:</h2></span>"
            ],
            "text/plain": [
              "<IPython.core.display.HTML object>"
            ]
          },
          "metadata": {
            "tags": []
          }
        },
        {
          "output_type": "display_data",
          "data": {
            "text/html": [
              "<span style=\"color:cyan\"> |-kernel_size: 18</span>"
            ],
            "text/plain": [
              "<IPython.core.display.HTML object>"
            ]
          },
          "metadata": {
            "tags": []
          }
        },
        {
          "output_type": "display_data",
          "data": {
            "text/html": [
              "<span style=\"color:blue\"> |-num_channels: 100</span>"
            ],
            "text/plain": [
              "<IPython.core.display.HTML object>"
            ]
          },
          "metadata": {
            "tags": []
          }
        },
        {
          "output_type": "stream",
          "text": [
            "WARNING:tensorflow:Layer lstm will not use cuDNN kernel since it doesn't meet the cuDNN kernel criteria. It will use generic GPU kernel as fallback when running on GPU\n",
            "Epoch 1/50\n",
            "69/69 [==============================] - 11s 157ms/step - loss: 0.1212 - mean_squared_error: 0.1212 - val_loss: 0.1081 - val_mean_squared_error: 0.1081\n",
            "Epoch 2/50\n",
            "69/69 [==============================] - 11s 155ms/step - loss: 0.1211 - mean_squared_error: 0.1211 - val_loss: 0.1079 - val_mean_squared_error: 0.1079\n",
            "Epoch 3/50\n",
            "69/69 [==============================] - 11s 154ms/step - loss: 0.1209 - mean_squared_error: 0.1209 - val_loss: 0.1078 - val_mean_squared_error: 0.1078\n",
            "Epoch 4/50\n",
            "69/69 [==============================] - 11s 155ms/step - loss: 0.1207 - mean_squared_error: 0.1207 - val_loss: 0.1076 - val_mean_squared_error: 0.1076\n",
            "Epoch 5/50\n",
            "69/69 [==============================] - 11s 155ms/step - loss: 0.1206 - mean_squared_error: 0.1206 - val_loss: 0.1075 - val_mean_squared_error: 0.1075\n",
            "Epoch 6/50\n",
            "69/69 [==============================] - 11s 156ms/step - loss: 0.1204 - mean_squared_error: 0.1204 - val_loss: 0.1073 - val_mean_squared_error: 0.1073\n",
            "Epoch 7/50\n",
            "69/69 [==============================] - 11s 155ms/step - loss: 0.1202 - mean_squared_error: 0.1202 - val_loss: 0.1071 - val_mean_squared_error: 0.1071\n",
            "Epoch 8/50\n",
            "69/69 [==============================] - 11s 156ms/step - loss: 0.1201 - mean_squared_error: 0.1201 - val_loss: 0.1070 - val_mean_squared_error: 0.1070\n",
            "Epoch 9/50\n",
            "69/69 [==============================] - 11s 154ms/step - loss: 0.1199 - mean_squared_error: 0.1199 - val_loss: 0.1069 - val_mean_squared_error: 0.1069\n",
            "Epoch 10/50\n",
            "69/69 [==============================] - 11s 157ms/step - loss: 0.1198 - mean_squared_error: 0.1198 - val_loss: 0.1067 - val_mean_squared_error: 0.1067\n",
            "Epoch 11/50\n",
            "69/69 [==============================] - 11s 155ms/step - loss: 0.1196 - mean_squared_error: 0.1196 - val_loss: 0.1066 - val_mean_squared_error: 0.1066\n",
            "Epoch 12/50\n",
            "69/69 [==============================] - 11s 155ms/step - loss: 0.1195 - mean_squared_error: 0.1195 - val_loss: 0.1064 - val_mean_squared_error: 0.1064\n",
            "Epoch 13/50\n",
            "69/69 [==============================] - 11s 154ms/step - loss: 0.1193 - mean_squared_error: 0.1193 - val_loss: 0.1063 - val_mean_squared_error: 0.1063\n",
            "Epoch 14/50\n",
            "69/69 [==============================] - 11s 155ms/step - loss: 0.1192 - mean_squared_error: 0.1192 - val_loss: 0.1061 - val_mean_squared_error: 0.1061\n",
            "Epoch 15/50\n",
            "69/69 [==============================] - 11s 155ms/step - loss: 0.1190 - mean_squared_error: 0.1190 - val_loss: 0.1060 - val_mean_squared_error: 0.1060\n",
            "Epoch 16/50\n",
            "69/69 [==============================] - 11s 155ms/step - loss: 0.1189 - mean_squared_error: 0.1189 - val_loss: 0.1059 - val_mean_squared_error: 0.1059\n",
            "Epoch 17/50\n",
            "69/69 [==============================] - 11s 154ms/step - loss: 0.1187 - mean_squared_error: 0.1187 - val_loss: 0.1057 - val_mean_squared_error: 0.1057\n",
            "Epoch 18/50\n",
            "69/69 [==============================] - 11s 156ms/step - loss: 0.1186 - mean_squared_error: 0.1186 - val_loss: 0.1056 - val_mean_squared_error: 0.1056\n",
            "Epoch 19/50\n",
            "69/69 [==============================] - 11s 155ms/step - loss: 0.1184 - mean_squared_error: 0.1184 - val_loss: 0.1055 - val_mean_squared_error: 0.1055\n",
            "Epoch 20/50\n",
            "69/69 [==============================] - 11s 155ms/step - loss: 0.1183 - mean_squared_error: 0.1183 - val_loss: 0.1053 - val_mean_squared_error: 0.1053\n",
            "Epoch 21/50\n",
            "69/69 [==============================] - 11s 155ms/step - loss: 0.1181 - mean_squared_error: 0.1181 - val_loss: 0.1052 - val_mean_squared_error: 0.1052\n",
            "Epoch 22/50\n",
            "69/69 [==============================] - 11s 155ms/step - loss: 0.1180 - mean_squared_error: 0.1180 - val_loss: 0.1051 - val_mean_squared_error: 0.1051\n",
            "Epoch 23/50\n",
            "69/69 [==============================] - 11s 155ms/step - loss: 0.1179 - mean_squared_error: 0.1179 - val_loss: 0.1049 - val_mean_squared_error: 0.1049\n",
            "Epoch 24/50\n",
            "69/69 [==============================] - 11s 155ms/step - loss: 0.1177 - mean_squared_error: 0.1177 - val_loss: 0.1048 - val_mean_squared_error: 0.1048\n",
            "Epoch 25/50\n",
            "69/69 [==============================] - 11s 154ms/step - loss: 0.1176 - mean_squared_error: 0.1176 - val_loss: 0.1047 - val_mean_squared_error: 0.1047\n",
            "Epoch 26/50\n",
            "69/69 [==============================] - 11s 154ms/step - loss: 0.1174 - mean_squared_error: 0.1174 - val_loss: 0.1045 - val_mean_squared_error: 0.1045\n",
            "Epoch 27/50\n",
            "69/69 [==============================] - 11s 155ms/step - loss: 0.1173 - mean_squared_error: 0.1173 - val_loss: 0.1044 - val_mean_squared_error: 0.1044\n",
            "Epoch 28/50\n",
            "69/69 [==============================] - 11s 156ms/step - loss: 0.1172 - mean_squared_error: 0.1172 - val_loss: 0.1043 - val_mean_squared_error: 0.1043\n",
            "Epoch 29/50\n",
            "69/69 [==============================] - 11s 155ms/step - loss: 0.1170 - mean_squared_error: 0.1170 - val_loss: 0.1041 - val_mean_squared_error: 0.1041\n",
            "Epoch 30/50\n",
            "69/69 [==============================] - 11s 155ms/step - loss: 0.1169 - mean_squared_error: 0.1169 - val_loss: 0.1040 - val_mean_squared_error: 0.1040\n",
            "Epoch 31/50\n",
            "69/69 [==============================] - 11s 155ms/step - loss: 0.1168 - mean_squared_error: 0.1168 - val_loss: 0.1039 - val_mean_squared_error: 0.1039\n",
            "Epoch 32/50\n",
            "69/69 [==============================] - 11s 155ms/step - loss: 0.1166 - mean_squared_error: 0.1166 - val_loss: 0.1038 - val_mean_squared_error: 0.1038\n",
            "Epoch 33/50\n",
            "69/69 [==============================] - 11s 155ms/step - loss: 0.1165 - mean_squared_error: 0.1165 - val_loss: 0.1036 - val_mean_squared_error: 0.1036\n",
            "Epoch 34/50\n",
            "69/69 [==============================] - 11s 154ms/step - loss: 0.1164 - mean_squared_error: 0.1164 - val_loss: 0.1035 - val_mean_squared_error: 0.1035\n",
            "Epoch 35/50\n",
            "69/69 [==============================] - 11s 155ms/step - loss: 0.1162 - mean_squared_error: 0.1162 - val_loss: 0.1034 - val_mean_squared_error: 0.1034\n",
            "Epoch 36/50\n",
            "69/69 [==============================] - 11s 155ms/step - loss: 0.1161 - mean_squared_error: 0.1161 - val_loss: 0.1033 - val_mean_squared_error: 0.1033\n",
            "Epoch 37/50\n",
            "69/69 [==============================] - 11s 155ms/step - loss: 0.1160 - mean_squared_error: 0.1160 - val_loss: 0.1031 - val_mean_squared_error: 0.1031\n",
            "Epoch 38/50\n",
            "69/69 [==============================] - 11s 154ms/step - loss: 0.1158 - mean_squared_error: 0.1158 - val_loss: 0.1030 - val_mean_squared_error: 0.1030\n",
            "Epoch 39/50\n",
            "69/69 [==============================] - 11s 155ms/step - loss: 0.1157 - mean_squared_error: 0.1157 - val_loss: 0.1029 - val_mean_squared_error: 0.1029\n",
            "Epoch 40/50\n",
            "69/69 [==============================] - 11s 154ms/step - loss: 0.1156 - mean_squared_error: 0.1156 - val_loss: 0.1028 - val_mean_squared_error: 0.1028\n",
            "Epoch 41/50\n",
            "69/69 [==============================] - 11s 158ms/step - loss: 0.1155 - mean_squared_error: 0.1155 - val_loss: 0.1027 - val_mean_squared_error: 0.1027\n",
            "Epoch 42/50\n",
            "69/69 [==============================] - 11s 155ms/step - loss: 0.1153 - mean_squared_error: 0.1153 - val_loss: 0.1025 - val_mean_squared_error: 0.1025\n",
            "Epoch 43/50\n",
            "69/69 [==============================] - 11s 155ms/step - loss: 0.1152 - mean_squared_error: 0.1152 - val_loss: 0.1024 - val_mean_squared_error: 0.1024\n",
            "Epoch 44/50\n",
            "69/69 [==============================] - 11s 155ms/step - loss: 0.1151 - mean_squared_error: 0.1151 - val_loss: 0.1023 - val_mean_squared_error: 0.1023\n",
            "Epoch 45/50\n",
            "69/69 [==============================] - 11s 154ms/step - loss: 0.1149 - mean_squared_error: 0.1149 - val_loss: 0.1022 - val_mean_squared_error: 0.1022\n",
            "Epoch 46/50\n",
            "69/69 [==============================] - 11s 156ms/step - loss: 0.1148 - mean_squared_error: 0.1148 - val_loss: 0.1021 - val_mean_squared_error: 0.1021\n",
            "Epoch 47/50\n",
            "69/69 [==============================] - 11s 155ms/step - loss: 0.1147 - mean_squared_error: 0.1147 - val_loss: 0.1019 - val_mean_squared_error: 0.1019\n",
            "Epoch 48/50\n",
            "69/69 [==============================] - 11s 155ms/step - loss: 0.1146 - mean_squared_error: 0.1146 - val_loss: 0.1018 - val_mean_squared_error: 0.1018\n",
            "Epoch 49/50\n",
            "69/69 [==============================] - 11s 154ms/step - loss: 0.1144 - mean_squared_error: 0.1144 - val_loss: 0.1017 - val_mean_squared_error: 0.1017\n",
            "Epoch 50/50\n",
            "69/69 [==============================] - 11s 157ms/step - loss: 0.1143 - mean_squared_error: 0.1143 - val_loss: 0.1016 - val_mean_squared_error: 0.1016\n",
            "WARNING:tensorflow:Layer lstm will not use cuDNN kernel since it doesn't meet the cuDNN kernel criteria. It will use generic GPU kernel as fallback when running on GPU\n",
            "Epoch 1/50\n",
            "69/69 [==============================] - 11s 156ms/step - loss: 0.1212 - mean_squared_error: 0.1212 - val_loss: 0.1080 - val_mean_squared_error: 0.1080\n",
            "Epoch 2/50\n",
            "69/69 [==============================] - 11s 153ms/step - loss: 0.1210 - mean_squared_error: 0.1210 - val_loss: 0.1079 - val_mean_squared_error: 0.1079\n",
            "Epoch 3/50\n",
            "69/69 [==============================] - 11s 153ms/step - loss: 0.1209 - mean_squared_error: 0.1209 - val_loss: 0.1077 - val_mean_squared_error: 0.1077\n",
            "Epoch 4/50\n",
            "69/69 [==============================] - 11s 153ms/step - loss: 0.1207 - mean_squared_error: 0.1207 - val_loss: 0.1076 - val_mean_squared_error: 0.1076\n",
            "Epoch 5/50\n",
            "69/69 [==============================] - 11s 153ms/step - loss: 0.1206 - mean_squared_error: 0.1206 - val_loss: 0.1075 - val_mean_squared_error: 0.1075\n",
            "Epoch 6/50\n",
            "69/69 [==============================] - 11s 153ms/step - loss: 0.1204 - mean_squared_error: 0.1204 - val_loss: 0.1073 - val_mean_squared_error: 0.1073\n",
            "Epoch 7/50\n",
            "69/69 [==============================] - 11s 153ms/step - loss: 0.1203 - mean_squared_error: 0.1203 - val_loss: 0.1072 - val_mean_squared_error: 0.1072\n",
            "Epoch 8/50\n",
            "69/69 [==============================] - 11s 153ms/step - loss: 0.1201 - mean_squared_error: 0.1201 - val_loss: 0.1071 - val_mean_squared_error: 0.1071\n",
            "Epoch 9/50\n",
            "69/69 [==============================] - 11s 153ms/step - loss: 0.1200 - mean_squared_error: 0.1200 - val_loss: 0.1069 - val_mean_squared_error: 0.1069\n",
            "Epoch 10/50\n",
            "69/69 [==============================] - 11s 153ms/step - loss: 0.1199 - mean_squared_error: 0.1199 - val_loss: 0.1068 - val_mean_squared_error: 0.1068\n",
            "Epoch 11/50\n",
            "69/69 [==============================] - 11s 153ms/step - loss: 0.1197 - mean_squared_error: 0.1197 - val_loss: 0.1067 - val_mean_squared_error: 0.1067\n",
            "Epoch 12/50\n",
            "69/69 [==============================] - 11s 154ms/step - loss: 0.1196 - mean_squared_error: 0.1196 - val_loss: 0.1065 - val_mean_squared_error: 0.1065\n",
            "Epoch 13/50\n",
            "69/69 [==============================] - 11s 154ms/step - loss: 0.1195 - mean_squared_error: 0.1195 - val_loss: 0.1064 - val_mean_squared_error: 0.1064\n",
            "Epoch 14/50\n",
            "69/69 [==============================] - 11s 154ms/step - loss: 0.1193 - mean_squared_error: 0.1193 - val_loss: 0.1063 - val_mean_squared_error: 0.1063\n",
            "Epoch 15/50\n",
            "69/69 [==============================] - 11s 153ms/step - loss: 0.1192 - mean_squared_error: 0.1192 - val_loss: 0.1062 - val_mean_squared_error: 0.1062\n",
            "Epoch 16/50\n",
            "69/69 [==============================] - 11s 153ms/step - loss: 0.1190 - mean_squared_error: 0.1190 - val_loss: 0.1060 - val_mean_squared_error: 0.1060\n",
            "Epoch 17/50\n",
            "69/69 [==============================] - 11s 153ms/step - loss: 0.1189 - mean_squared_error: 0.1189 - val_loss: 0.1059 - val_mean_squared_error: 0.1059\n",
            "Epoch 18/50\n",
            "69/69 [==============================] - 10s 152ms/step - loss: 0.1188 - mean_squared_error: 0.1188 - val_loss: 0.1058 - val_mean_squared_error: 0.1058\n",
            "Epoch 19/50\n",
            "69/69 [==============================] - 11s 153ms/step - loss: 0.1187 - mean_squared_error: 0.1187 - val_loss: 0.1057 - val_mean_squared_error: 0.1057\n",
            "Epoch 20/50\n",
            "69/69 [==============================] - 11s 153ms/step - loss: 0.1185 - mean_squared_error: 0.1185 - val_loss: 0.1055 - val_mean_squared_error: 0.1055\n",
            "Epoch 21/50\n",
            "69/69 [==============================] - 11s 153ms/step - loss: 0.1184 - mean_squared_error: 0.1184 - val_loss: 0.1054 - val_mean_squared_error: 0.1054\n",
            "Epoch 22/50\n",
            "69/69 [==============================] - 11s 153ms/step - loss: 0.1183 - mean_squared_error: 0.1183 - val_loss: 0.1053 - val_mean_squared_error: 0.1053\n",
            "Epoch 23/50\n",
            "69/69 [==============================] - 11s 153ms/step - loss: 0.1181 - mean_squared_error: 0.1181 - val_loss: 0.1052 - val_mean_squared_error: 0.1052\n",
            "Epoch 24/50\n",
            "69/69 [==============================] - 11s 153ms/step - loss: 0.1180 - mean_squared_error: 0.1180 - val_loss: 0.1051 - val_mean_squared_error: 0.1051\n",
            "Epoch 25/50\n",
            "69/69 [==============================] - 11s 153ms/step - loss: 0.1179 - mean_squared_error: 0.1179 - val_loss: 0.1049 - val_mean_squared_error: 0.1049\n",
            "Epoch 26/50\n",
            "69/69 [==============================] - 11s 153ms/step - loss: 0.1178 - mean_squared_error: 0.1178 - val_loss: 0.1048 - val_mean_squared_error: 0.1048\n",
            "Epoch 27/50\n",
            "69/69 [==============================] - 11s 153ms/step - loss: 0.1176 - mean_squared_error: 0.1176 - val_loss: 0.1047 - val_mean_squared_error: 0.1047\n",
            "Epoch 28/50\n",
            "69/69 [==============================] - 11s 153ms/step - loss: 0.1175 - mean_squared_error: 0.1175 - val_loss: 0.1046 - val_mean_squared_error: 0.1046\n",
            "Epoch 29/50\n",
            "69/69 [==============================] - 11s 153ms/step - loss: 0.1174 - mean_squared_error: 0.1174 - val_loss: 0.1045 - val_mean_squared_error: 0.1045\n",
            "Epoch 30/50\n",
            "69/69 [==============================] - 11s 153ms/step - loss: 0.1173 - mean_squared_error: 0.1173 - val_loss: 0.1043 - val_mean_squared_error: 0.1043\n",
            "Epoch 31/50\n",
            "69/69 [==============================] - 11s 153ms/step - loss: 0.1171 - mean_squared_error: 0.1171 - val_loss: 0.1042 - val_mean_squared_error: 0.1042\n",
            "Epoch 32/50\n",
            "69/69 [==============================] - 11s 154ms/step - loss: 0.1170 - mean_squared_error: 0.1170 - val_loss: 0.1041 - val_mean_squared_error: 0.1041\n",
            "Epoch 33/50\n",
            "69/69 [==============================] - 11s 153ms/step - loss: 0.1169 - mean_squared_error: 0.1169 - val_loss: 0.1040 - val_mean_squared_error: 0.1040\n",
            "Epoch 34/50\n",
            "69/69 [==============================] - 11s 153ms/step - loss: 0.1168 - mean_squared_error: 0.1168 - val_loss: 0.1039 - val_mean_squared_error: 0.1039\n",
            "Epoch 35/50\n",
            "69/69 [==============================] - 11s 153ms/step - loss: 0.1166 - mean_squared_error: 0.1166 - val_loss: 0.1038 - val_mean_squared_error: 0.1038\n",
            "Epoch 36/50\n",
            "69/69 [==============================] - 11s 153ms/step - loss: 0.1165 - mean_squared_error: 0.1165 - val_loss: 0.1036 - val_mean_squared_error: 0.1036\n",
            "Epoch 37/50\n",
            "69/69 [==============================] - 11s 153ms/step - loss: 0.1164 - mean_squared_error: 0.1164 - val_loss: 0.1035 - val_mean_squared_error: 0.1035\n",
            "Epoch 38/50\n",
            "69/69 [==============================] - 11s 154ms/step - loss: 0.1163 - mean_squared_error: 0.1163 - val_loss: 0.1034 - val_mean_squared_error: 0.1034\n",
            "Epoch 39/50\n",
            "69/69 [==============================] - 11s 153ms/step - loss: 0.1161 - mean_squared_error: 0.1161 - val_loss: 0.1033 - val_mean_squared_error: 0.1033\n",
            "Epoch 40/50\n",
            "69/69 [==============================] - 11s 153ms/step - loss: 0.1160 - mean_squared_error: 0.1160 - val_loss: 0.1032 - val_mean_squared_error: 0.1032\n",
            "Epoch 41/50\n",
            "69/69 [==============================] - 11s 154ms/step - loss: 0.1159 - mean_squared_error: 0.1159 - val_loss: 0.1031 - val_mean_squared_error: 0.1031\n",
            "Epoch 42/50\n",
            "69/69 [==============================] - 11s 154ms/step - loss: 0.1158 - mean_squared_error: 0.1158 - val_loss: 0.1029 - val_mean_squared_error: 0.1029\n",
            "Epoch 43/50\n",
            "69/69 [==============================] - 11s 154ms/step - loss: 0.1156 - mean_squared_error: 0.1156 - val_loss: 0.1028 - val_mean_squared_error: 0.1028\n",
            "Epoch 44/50\n",
            "69/69 [==============================] - 11s 153ms/step - loss: 0.1155 - mean_squared_error: 0.1155 - val_loss: 0.1027 - val_mean_squared_error: 0.1027\n",
            "Epoch 45/50\n",
            "69/69 [==============================] - 11s 153ms/step - loss: 0.1154 - mean_squared_error: 0.1154 - val_loss: 0.1026 - val_mean_squared_error: 0.1026\n",
            "Epoch 46/50\n",
            "69/69 [==============================] - 11s 153ms/step - loss: 0.1153 - mean_squared_error: 0.1153 - val_loss: 0.1025 - val_mean_squared_error: 0.1025\n",
            "Epoch 47/50\n",
            "69/69 [==============================] - 11s 154ms/step - loss: 0.1151 - mean_squared_error: 0.1151 - val_loss: 0.1023 - val_mean_squared_error: 0.1023\n",
            "Epoch 48/50\n",
            "69/69 [==============================] - 11s 153ms/step - loss: 0.1150 - mean_squared_error: 0.1150 - val_loss: 0.1022 - val_mean_squared_error: 0.1022\n",
            "Epoch 49/50\n",
            "69/69 [==============================] - 11s 153ms/step - loss: 0.1149 - mean_squared_error: 0.1149 - val_loss: 0.1021 - val_mean_squared_error: 0.1021\n",
            "Epoch 50/50\n",
            "69/69 [==============================] - 11s 153ms/step - loss: 0.1148 - mean_squared_error: 0.1148 - val_loss: 0.1020 - val_mean_squared_error: 0.1020\n"
          ],
          "name": "stdout"
        },
        {
          "output_type": "display_data",
          "data": {
            "text/html": [
              "<span style=\"color:#4527A0\"><h1 style=\"font-size:18px\">Trial complete</h1></span>"
            ],
            "text/plain": [
              "<IPython.core.display.HTML object>"
            ]
          },
          "metadata": {
            "tags": []
          }
        },
        {
          "output_type": "display_data",
          "data": {
            "text/html": [
              "<span style=\"color:#4527A0\"><h1 style=\"font-size:18px\">Trial summary</h1></span>"
            ],
            "text/plain": [
              "<IPython.core.display.HTML object>"
            ]
          },
          "metadata": {
            "tags": []
          }
        },
        {
          "output_type": "display_data",
          "data": {
            "text/html": [
              "<span style=\"color:cyan\"> |-Trial ID: 1ea2b2383abfc66e900b431747f67cc5</span>"
            ],
            "text/plain": [
              "<IPython.core.display.HTML object>"
            ]
          },
          "metadata": {
            "tags": []
          }
        },
        {
          "output_type": "display_data",
          "data": {
            "text/html": [
              "<span style=\"color:cyan\"> |-Score: 0.11454101651906967</span>"
            ],
            "text/plain": [
              "<IPython.core.display.HTML object>"
            ]
          },
          "metadata": {
            "tags": []
          }
        },
        {
          "output_type": "display_data",
          "data": {
            "text/html": [
              "<span style=\"color:cyan\"> |-Best step: 0</span>"
            ],
            "text/plain": [
              "<IPython.core.display.HTML object>"
            ]
          },
          "metadata": {
            "tags": []
          }
        },
        {
          "output_type": "display_data",
          "data": {
            "text/html": [
              "<span style=\"color:#7E57C2\"><h2 style=\"font-size:16px\">Hyperparameters:</h2></span>"
            ],
            "text/plain": [
              "<IPython.core.display.HTML object>"
            ]
          },
          "metadata": {
            "tags": []
          }
        },
        {
          "output_type": "display_data",
          "data": {
            "text/html": [
              "<span style=\"color:cyan\"> |-kernel_size: 12</span>"
            ],
            "text/plain": [
              "<IPython.core.display.HTML object>"
            ]
          },
          "metadata": {
            "tags": []
          }
        },
        {
          "output_type": "display_data",
          "data": {
            "text/html": [
              "<span style=\"color:blue\"> |-num_channels: 200</span>"
            ],
            "text/plain": [
              "<IPython.core.display.HTML object>"
            ]
          },
          "metadata": {
            "tags": []
          }
        },
        {
          "output_type": "stream",
          "text": [
            "WARNING:tensorflow:Layer lstm will not use cuDNN kernel since it doesn't meet the cuDNN kernel criteria. It will use generic GPU kernel as fallback when running on GPU\n",
            "Epoch 1/50\n",
            "69/69 [==============================] - 4s 57ms/step - loss: 0.1213 - mean_squared_error: 0.1213 - val_loss: 0.1081 - val_mean_squared_error: 0.1081\n",
            "Epoch 2/50\n",
            "69/69 [==============================] - 4s 55ms/step - loss: 0.1211 - mean_squared_error: 0.1211 - val_loss: 0.1080 - val_mean_squared_error: 0.1080\n",
            "Epoch 3/50\n",
            "69/69 [==============================] - 4s 56ms/step - loss: 0.1210 - mean_squared_error: 0.1210 - val_loss: 0.1079 - val_mean_squared_error: 0.1079\n",
            "Epoch 4/50\n",
            "69/69 [==============================] - 4s 55ms/step - loss: 0.1208 - mean_squared_error: 0.1208 - val_loss: 0.1077 - val_mean_squared_error: 0.1077\n",
            "Epoch 5/50\n",
            "69/69 [==============================] - 4s 55ms/step - loss: 0.1207 - mean_squared_error: 0.1207 - val_loss: 0.1076 - val_mean_squared_error: 0.1076\n",
            "Epoch 6/50\n",
            "69/69 [==============================] - 4s 54ms/step - loss: 0.1206 - mean_squared_error: 0.1206 - val_loss: 0.1075 - val_mean_squared_error: 0.1075\n",
            "Epoch 7/50\n",
            "69/69 [==============================] - 4s 57ms/step - loss: 0.1204 - mean_squared_error: 0.1204 - val_loss: 0.1073 - val_mean_squared_error: 0.1073\n",
            "Epoch 8/50\n",
            "69/69 [==============================] - 4s 55ms/step - loss: 0.1203 - mean_squared_error: 0.1203 - val_loss: 0.1072 - val_mean_squared_error: 0.1072\n",
            "Epoch 9/50\n",
            "69/69 [==============================] - 4s 55ms/step - loss: 0.1201 - mean_squared_error: 0.1201 - val_loss: 0.1071 - val_mean_squared_error: 0.1071\n",
            "Epoch 10/50\n",
            "69/69 [==============================] - 4s 56ms/step - loss: 0.1200 - mean_squared_error: 0.1200 - val_loss: 0.1069 - val_mean_squared_error: 0.1069\n",
            "Epoch 11/50\n",
            "69/69 [==============================] - 4s 55ms/step - loss: 0.1198 - mean_squared_error: 0.1198 - val_loss: 0.1068 - val_mean_squared_error: 0.1068\n",
            "Epoch 12/50\n",
            "69/69 [==============================] - 4s 57ms/step - loss: 0.1197 - mean_squared_error: 0.1197 - val_loss: 0.1067 - val_mean_squared_error: 0.1067\n",
            "Epoch 13/50\n",
            "69/69 [==============================] - 4s 55ms/step - loss: 0.1196 - mean_squared_error: 0.1196 - val_loss: 0.1065 - val_mean_squared_error: 0.1065\n",
            "Epoch 14/50\n",
            "69/69 [==============================] - 4s 57ms/step - loss: 0.1194 - mean_squared_error: 0.1194 - val_loss: 0.1064 - val_mean_squared_error: 0.1064\n",
            "Epoch 15/50\n",
            "69/69 [==============================] - 4s 55ms/step - loss: 0.1193 - mean_squared_error: 0.1193 - val_loss: 0.1063 - val_mean_squared_error: 0.1063\n",
            "Epoch 16/50\n",
            "69/69 [==============================] - 4s 57ms/step - loss: 0.1191 - mean_squared_error: 0.1191 - val_loss: 0.1061 - val_mean_squared_error: 0.1061\n",
            "Epoch 17/50\n",
            "69/69 [==============================] - 4s 54ms/step - loss: 0.1190 - mean_squared_error: 0.1190 - val_loss: 0.1060 - val_mean_squared_error: 0.1060\n",
            "Epoch 18/50\n",
            "69/69 [==============================] - 4s 57ms/step - loss: 0.1189 - mean_squared_error: 0.1189 - val_loss: 0.1059 - val_mean_squared_error: 0.1059\n",
            "Epoch 19/50\n",
            "69/69 [==============================] - 4s 54ms/step - loss: 0.1187 - mean_squared_error: 0.1187 - val_loss: 0.1058 - val_mean_squared_error: 0.1058\n",
            "Epoch 20/50\n",
            "69/69 [==============================] - 4s 57ms/step - loss: 0.1186 - mean_squared_error: 0.1186 - val_loss: 0.1056 - val_mean_squared_error: 0.1056\n",
            "Epoch 21/50\n",
            "69/69 [==============================] - 4s 54ms/step - loss: 0.1185 - mean_squared_error: 0.1185 - val_loss: 0.1055 - val_mean_squared_error: 0.1055\n",
            "Epoch 22/50\n",
            "69/69 [==============================] - 4s 55ms/step - loss: 0.1183 - mean_squared_error: 0.1183 - val_loss: 0.1054 - val_mean_squared_error: 0.1054\n",
            "Epoch 23/50\n",
            "69/69 [==============================] - 4s 55ms/step - loss: 0.1182 - mean_squared_error: 0.1182 - val_loss: 0.1052 - val_mean_squared_error: 0.1052\n",
            "Epoch 24/50\n",
            "69/69 [==============================] - 4s 56ms/step - loss: 0.1180 - mean_squared_error: 0.1180 - val_loss: 0.1051 - val_mean_squared_error: 0.1051\n",
            "Epoch 25/50\n",
            "69/69 [==============================] - 4s 55ms/step - loss: 0.1179 - mean_squared_error: 0.1179 - val_loss: 0.1050 - val_mean_squared_error: 0.1050\n",
            "Epoch 26/50\n",
            "69/69 [==============================] - 4s 56ms/step - loss: 0.1178 - mean_squared_error: 0.1178 - val_loss: 0.1049 - val_mean_squared_error: 0.1049\n",
            "Epoch 27/50\n",
            "69/69 [==============================] - 4s 55ms/step - loss: 0.1176 - mean_squared_error: 0.1176 - val_loss: 0.1047 - val_mean_squared_error: 0.1047\n",
            "Epoch 28/50\n",
            "69/69 [==============================] - 4s 57ms/step - loss: 0.1175 - mean_squared_error: 0.1175 - val_loss: 0.1046 - val_mean_squared_error: 0.1046\n",
            "Epoch 29/50\n",
            "69/69 [==============================] - 4s 55ms/step - loss: 0.1174 - mean_squared_error: 0.1174 - val_loss: 0.1045 - val_mean_squared_error: 0.1045\n",
            "Epoch 30/50\n",
            "69/69 [==============================] - 4s 55ms/step - loss: 0.1172 - mean_squared_error: 0.1172 - val_loss: 0.1044 - val_mean_squared_error: 0.1044\n",
            "Epoch 31/50\n",
            "69/69 [==============================] - 4s 54ms/step - loss: 0.1171 - mean_squared_error: 0.1171 - val_loss: 0.1042 - val_mean_squared_error: 0.1042\n",
            "Epoch 32/50\n",
            "69/69 [==============================] - 4s 57ms/step - loss: 0.1170 - mean_squared_error: 0.1170 - val_loss: 0.1041 - val_mean_squared_error: 0.1041\n",
            "Epoch 33/50\n",
            "69/69 [==============================] - 4s 54ms/step - loss: 0.1169 - mean_squared_error: 0.1169 - val_loss: 0.1040 - val_mean_squared_error: 0.1040\n",
            "Epoch 34/50\n",
            "69/69 [==============================] - 4s 57ms/step - loss: 0.1167 - mean_squared_error: 0.1167 - val_loss: 0.1039 - val_mean_squared_error: 0.1039\n",
            "Epoch 35/50\n",
            "69/69 [==============================] - 4s 54ms/step - loss: 0.1166 - mean_squared_error: 0.1166 - val_loss: 0.1037 - val_mean_squared_error: 0.1037\n",
            "Epoch 36/50\n",
            "69/69 [==============================] - 4s 57ms/step - loss: 0.1165 - mean_squared_error: 0.1165 - val_loss: 0.1036 - val_mean_squared_error: 0.1036\n",
            "Epoch 37/50\n",
            "69/69 [==============================] - 4s 55ms/step - loss: 0.1163 - mean_squared_error: 0.1163 - val_loss: 0.1035 - val_mean_squared_error: 0.1035\n",
            "Epoch 38/50\n",
            "69/69 [==============================] - 4s 54ms/step - loss: 0.1162 - mean_squared_error: 0.1162 - val_loss: 0.1034 - val_mean_squared_error: 0.1034\n",
            "Epoch 39/50\n",
            "69/69 [==============================] - 4s 56ms/step - loss: 0.1161 - mean_squared_error: 0.1161 - val_loss: 0.1033 - val_mean_squared_error: 0.1033\n",
            "Epoch 40/50\n",
            "69/69 [==============================] - 4s 56ms/step - loss: 0.1159 - mean_squared_error: 0.1159 - val_loss: 0.1031 - val_mean_squared_error: 0.1031\n",
            "Epoch 41/50\n",
            "69/69 [==============================] - 4s 56ms/step - loss: 0.1158 - mean_squared_error: 0.1158 - val_loss: 0.1030 - val_mean_squared_error: 0.1030\n",
            "Epoch 42/50\n",
            "69/69 [==============================] - 4s 55ms/step - loss: 0.1157 - mean_squared_error: 0.1157 - val_loss: 0.1029 - val_mean_squared_error: 0.1029\n",
            "Epoch 43/50\n",
            "69/69 [==============================] - 4s 57ms/step - loss: 0.1156 - mean_squared_error: 0.1156 - val_loss: 0.1028 - val_mean_squared_error: 0.1028\n",
            "Epoch 44/50\n",
            "69/69 [==============================] - 4s 55ms/step - loss: 0.1154 - mean_squared_error: 0.1154 - val_loss: 0.1026 - val_mean_squared_error: 0.1026\n",
            "Epoch 45/50\n",
            "69/69 [==============================] - 4s 56ms/step - loss: 0.1153 - mean_squared_error: 0.1153 - val_loss: 0.1025 - val_mean_squared_error: 0.1025\n",
            "Epoch 46/50\n",
            "69/69 [==============================] - 4s 55ms/step - loss: 0.1152 - mean_squared_error: 0.1152 - val_loss: 0.1024 - val_mean_squared_error: 0.1024\n",
            "Epoch 47/50\n",
            "69/69 [==============================] - 4s 58ms/step - loss: 0.1150 - mean_squared_error: 0.1150 - val_loss: 0.1023 - val_mean_squared_error: 0.1023\n",
            "Epoch 48/50\n",
            "69/69 [==============================] - 4s 55ms/step - loss: 0.1149 - mean_squared_error: 0.1149 - val_loss: 0.1022 - val_mean_squared_error: 0.1022\n",
            "Epoch 49/50\n",
            "69/69 [==============================] - 4s 56ms/step - loss: 0.1148 - mean_squared_error: 0.1148 - val_loss: 0.1020 - val_mean_squared_error: 0.1020\n",
            "Epoch 50/50\n",
            "69/69 [==============================] - 4s 58ms/step - loss: 0.1147 - mean_squared_error: 0.1147 - val_loss: 0.1019 - val_mean_squared_error: 0.1019\n",
            "WARNING:tensorflow:Layer lstm will not use cuDNN kernel since it doesn't meet the cuDNN kernel criteria. It will use generic GPU kernel as fallback when running on GPU\n",
            "Epoch 1/50\n",
            "69/69 [==============================] - 4s 57ms/step - loss: 0.1215 - mean_squared_error: 0.1215 - val_loss: 0.1083 - val_mean_squared_error: 0.1083\n",
            "Epoch 2/50\n",
            "69/69 [==============================] - 4s 55ms/step - loss: 0.1213 - mean_squared_error: 0.1213 - val_loss: 0.1082 - val_mean_squared_error: 0.1082\n",
            "Epoch 3/50\n",
            "69/69 [==============================] - 4s 55ms/step - loss: 0.1211 - mean_squared_error: 0.1211 - val_loss: 0.1080 - val_mean_squared_error: 0.1080\n",
            "Epoch 4/50\n",
            "69/69 [==============================] - 4s 54ms/step - loss: 0.1210 - mean_squared_error: 0.1210 - val_loss: 0.1079 - val_mean_squared_error: 0.1079\n",
            "Epoch 5/50\n",
            "69/69 [==============================] - 4s 53ms/step - loss: 0.1208 - mean_squared_error: 0.1208 - val_loss: 0.1077 - val_mean_squared_error: 0.1077\n",
            "Epoch 6/50\n",
            "69/69 [==============================] - 4s 54ms/step - loss: 0.1206 - mean_squared_error: 0.1206 - val_loss: 0.1076 - val_mean_squared_error: 0.1076\n",
            "Epoch 7/50\n",
            "69/69 [==============================] - 4s 54ms/step - loss: 0.1205 - mean_squared_error: 0.1205 - val_loss: 0.1074 - val_mean_squared_error: 0.1074\n",
            "Epoch 8/50\n",
            "69/69 [==============================] - 4s 54ms/step - loss: 0.1203 - mean_squared_error: 0.1203 - val_loss: 0.1073 - val_mean_squared_error: 0.1073\n",
            "Epoch 9/50\n",
            "69/69 [==============================] - 4s 54ms/step - loss: 0.1202 - mean_squared_error: 0.1202 - val_loss: 0.1071 - val_mean_squared_error: 0.1071\n",
            "Epoch 10/50\n",
            "69/69 [==============================] - 4s 54ms/step - loss: 0.1200 - mean_squared_error: 0.1200 - val_loss: 0.1070 - val_mean_squared_error: 0.1070\n",
            "Epoch 11/50\n",
            "69/69 [==============================] - 4s 54ms/step - loss: 0.1199 - mean_squared_error: 0.1199 - val_loss: 0.1068 - val_mean_squared_error: 0.1068\n",
            "Epoch 12/50\n",
            "69/69 [==============================] - 4s 53ms/step - loss: 0.1197 - mean_squared_error: 0.1197 - val_loss: 0.1067 - val_mean_squared_error: 0.1067\n",
            "Epoch 13/50\n",
            "69/69 [==============================] - 4s 54ms/step - loss: 0.1196 - mean_squared_error: 0.1196 - val_loss: 0.1065 - val_mean_squared_error: 0.1065\n",
            "Epoch 14/50\n",
            "69/69 [==============================] - 4s 53ms/step - loss: 0.1194 - mean_squared_error: 0.1194 - val_loss: 0.1064 - val_mean_squared_error: 0.1064\n",
            "Epoch 15/50\n",
            "69/69 [==============================] - 4s 53ms/step - loss: 0.1193 - mean_squared_error: 0.1193 - val_loss: 0.1063 - val_mean_squared_error: 0.1063\n",
            "Epoch 16/50\n",
            "69/69 [==============================] - 4s 53ms/step - loss: 0.1191 - mean_squared_error: 0.1191 - val_loss: 0.1061 - val_mean_squared_error: 0.1061\n",
            "Epoch 17/50\n",
            "69/69 [==============================] - 4s 53ms/step - loss: 0.1190 - mean_squared_error: 0.1190 - val_loss: 0.1060 - val_mean_squared_error: 0.1060\n",
            "Epoch 18/50\n",
            "69/69 [==============================] - 4s 53ms/step - loss: 0.1188 - mean_squared_error: 0.1188 - val_loss: 0.1058 - val_mean_squared_error: 0.1058\n",
            "Epoch 19/50\n",
            "69/69 [==============================] - 4s 54ms/step - loss: 0.1187 - mean_squared_error: 0.1187 - val_loss: 0.1057 - val_mean_squared_error: 0.1057\n",
            "Epoch 20/50\n",
            "69/69 [==============================] - 4s 54ms/step - loss: 0.1185 - mean_squared_error: 0.1185 - val_loss: 0.1056 - val_mean_squared_error: 0.1056\n",
            "Epoch 21/50\n",
            "69/69 [==============================] - 4s 54ms/step - loss: 0.1184 - mean_squared_error: 0.1184 - val_loss: 0.1054 - val_mean_squared_error: 0.1054\n",
            "Epoch 22/50\n",
            "69/69 [==============================] - 4s 53ms/step - loss: 0.1182 - mean_squared_error: 0.1182 - val_loss: 0.1053 - val_mean_squared_error: 0.1053\n",
            "Epoch 23/50\n",
            "69/69 [==============================] - 4s 54ms/step - loss: 0.1181 - mean_squared_error: 0.1181 - val_loss: 0.1052 - val_mean_squared_error: 0.1052\n",
            "Epoch 24/50\n",
            "69/69 [==============================] - 4s 54ms/step - loss: 0.1179 - mean_squared_error: 0.1179 - val_loss: 0.1050 - val_mean_squared_error: 0.1050\n",
            "Epoch 25/50\n",
            "69/69 [==============================] - 4s 54ms/step - loss: 0.1178 - mean_squared_error: 0.1178 - val_loss: 0.1049 - val_mean_squared_error: 0.1049\n",
            "Epoch 26/50\n",
            "69/69 [==============================] - 4s 54ms/step - loss: 0.1177 - mean_squared_error: 0.1177 - val_loss: 0.1048 - val_mean_squared_error: 0.1048\n",
            "Epoch 27/50\n",
            "69/69 [==============================] - 4s 54ms/step - loss: 0.1175 - mean_squared_error: 0.1175 - val_loss: 0.1046 - val_mean_squared_error: 0.1046\n",
            "Epoch 28/50\n",
            "69/69 [==============================] - 4s 54ms/step - loss: 0.1174 - mean_squared_error: 0.1174 - val_loss: 0.1045 - val_mean_squared_error: 0.1045\n",
            "Epoch 29/50\n",
            "69/69 [==============================] - 4s 53ms/step - loss: 0.1172 - mean_squared_error: 0.1172 - val_loss: 0.1044 - val_mean_squared_error: 0.1044\n",
            "Epoch 30/50\n",
            "69/69 [==============================] - 4s 53ms/step - loss: 0.1171 - mean_squared_error: 0.1171 - val_loss: 0.1043 - val_mean_squared_error: 0.1043\n",
            "Epoch 31/50\n",
            "69/69 [==============================] - 4s 54ms/step - loss: 0.1170 - mean_squared_error: 0.1170 - val_loss: 0.1041 - val_mean_squared_error: 0.1041\n",
            "Epoch 32/50\n",
            "69/69 [==============================] - 4s 54ms/step - loss: 0.1168 - mean_squared_error: 0.1168 - val_loss: 0.1040 - val_mean_squared_error: 0.1040\n",
            "Epoch 33/50\n",
            "69/69 [==============================] - 4s 53ms/step - loss: 0.1167 - mean_squared_error: 0.1167 - val_loss: 0.1039 - val_mean_squared_error: 0.1039\n",
            "Epoch 34/50\n",
            "69/69 [==============================] - 4s 54ms/step - loss: 0.1166 - mean_squared_error: 0.1166 - val_loss: 0.1038 - val_mean_squared_error: 0.1038\n",
            "Epoch 35/50\n",
            "69/69 [==============================] - 4s 53ms/step - loss: 0.1164 - mean_squared_error: 0.1164 - val_loss: 0.1036 - val_mean_squared_error: 0.1036\n",
            "Epoch 36/50\n",
            "69/69 [==============================] - 4s 53ms/step - loss: 0.1163 - mean_squared_error: 0.1163 - val_loss: 0.1035 - val_mean_squared_error: 0.1035\n",
            "Epoch 37/50\n",
            "69/69 [==============================] - 4s 54ms/step - loss: 0.1162 - mean_squared_error: 0.1162 - val_loss: 0.1034 - val_mean_squared_error: 0.1034\n",
            "Epoch 38/50\n",
            "69/69 [==============================] - 4s 54ms/step - loss: 0.1160 - mean_squared_error: 0.1160 - val_loss: 0.1033 - val_mean_squared_error: 0.1033\n",
            "Epoch 39/50\n",
            "69/69 [==============================] - 4s 55ms/step - loss: 0.1159 - mean_squared_error: 0.1159 - val_loss: 0.1031 - val_mean_squared_error: 0.1031\n",
            "Epoch 40/50\n",
            "69/69 [==============================] - 4s 54ms/step - loss: 0.1158 - mean_squared_error: 0.1158 - val_loss: 0.1030 - val_mean_squared_error: 0.1030\n",
            "Epoch 41/50\n",
            "69/69 [==============================] - 4s 54ms/step - loss: 0.1156 - mean_squared_error: 0.1156 - val_loss: 0.1029 - val_mean_squared_error: 0.1029\n",
            "Epoch 42/50\n",
            "69/69 [==============================] - 4s 54ms/step - loss: 0.1155 - mean_squared_error: 0.1155 - val_loss: 0.1028 - val_mean_squared_error: 0.1028\n",
            "Epoch 43/50\n",
            "69/69 [==============================] - 4s 54ms/step - loss: 0.1154 - mean_squared_error: 0.1154 - val_loss: 0.1026 - val_mean_squared_error: 0.1026\n",
            "Epoch 44/50\n",
            "69/69 [==============================] - 4s 53ms/step - loss: 0.1153 - mean_squared_error: 0.1153 - val_loss: 0.1025 - val_mean_squared_error: 0.1025\n",
            "Epoch 45/50\n",
            "69/69 [==============================] - 4s 54ms/step - loss: 0.1151 - mean_squared_error: 0.1151 - val_loss: 0.1024 - val_mean_squared_error: 0.1024\n",
            "Epoch 46/50\n",
            "69/69 [==============================] - 4s 54ms/step - loss: 0.1150 - mean_squared_error: 0.1150 - val_loss: 0.1023 - val_mean_squared_error: 0.1023\n",
            "Epoch 47/50\n",
            "69/69 [==============================] - 4s 54ms/step - loss: 0.1149 - mean_squared_error: 0.1149 - val_loss: 0.1022 - val_mean_squared_error: 0.1022\n",
            "Epoch 48/50\n",
            "69/69 [==============================] - 4s 53ms/step - loss: 0.1147 - mean_squared_error: 0.1147 - val_loss: 0.1020 - val_mean_squared_error: 0.1020\n",
            "Epoch 49/50\n",
            "69/69 [==============================] - 4s 55ms/step - loss: 0.1146 - mean_squared_error: 0.1146 - val_loss: 0.1019 - val_mean_squared_error: 0.1019\n",
            "Epoch 50/50\n",
            "69/69 [==============================] - 4s 55ms/step - loss: 0.1145 - mean_squared_error: 0.1145 - val_loss: 0.1018 - val_mean_squared_error: 0.1018\n"
          ],
          "name": "stdout"
        },
        {
          "output_type": "display_data",
          "data": {
            "text/html": [
              "<span style=\"color:#4527A0\"><h1 style=\"font-size:18px\">Trial complete</h1></span>"
            ],
            "text/plain": [
              "<IPython.core.display.HTML object>"
            ]
          },
          "metadata": {
            "tags": []
          }
        },
        {
          "output_type": "display_data",
          "data": {
            "text/html": [
              "<span style=\"color:#4527A0\"><h1 style=\"font-size:18px\">Trial summary</h1></span>"
            ],
            "text/plain": [
              "<IPython.core.display.HTML object>"
            ]
          },
          "metadata": {
            "tags": []
          }
        },
        {
          "output_type": "display_data",
          "data": {
            "text/html": [
              "<span style=\"color:cyan\"> |-Trial ID: 50f7762b3d6572cca7da99fcded87642</span>"
            ],
            "text/plain": [
              "<IPython.core.display.HTML object>"
            ]
          },
          "metadata": {
            "tags": []
          }
        },
        {
          "output_type": "display_data",
          "data": {
            "text/html": [
              "<span style=\"color:cyan\"> |-Score: 0.11456693336367607</span>"
            ],
            "text/plain": [
              "<IPython.core.display.HTML object>"
            ]
          },
          "metadata": {
            "tags": []
          }
        },
        {
          "output_type": "display_data",
          "data": {
            "text/html": [
              "<span style=\"color:cyan\"> |-Best step: 0</span>"
            ],
            "text/plain": [
              "<IPython.core.display.HTML object>"
            ]
          },
          "metadata": {
            "tags": []
          }
        },
        {
          "output_type": "display_data",
          "data": {
            "text/html": [
              "<span style=\"color:#7E57C2\"><h2 style=\"font-size:16px\">Hyperparameters:</h2></span>"
            ],
            "text/plain": [
              "<IPython.core.display.HTML object>"
            ]
          },
          "metadata": {
            "tags": []
          }
        },
        {
          "output_type": "display_data",
          "data": {
            "text/html": [
              "<span style=\"color:cyan\"> |-kernel_size: 12</span>"
            ],
            "text/plain": [
              "<IPython.core.display.HTML object>"
            ]
          },
          "metadata": {
            "tags": []
          }
        },
        {
          "output_type": "display_data",
          "data": {
            "text/html": [
              "<span style=\"color:blue\"> |-num_channels: 50</span>"
            ],
            "text/plain": [
              "<IPython.core.display.HTML object>"
            ]
          },
          "metadata": {
            "tags": []
          }
        },
        {
          "output_type": "stream",
          "text": [
            "WARNING:tensorflow:Layer lstm will not use cuDNN kernel since it doesn't meet the cuDNN kernel criteria. It will use generic GPU kernel as fallback when running on GPU\n",
            "Epoch 1/50\n",
            "69/69 [==============================] - 7s 100ms/step - loss: 0.1205 - mean_squared_error: 0.1205 - val_loss: 0.1074 - val_mean_squared_error: 0.1074\n",
            "Epoch 2/50\n",
            "69/69 [==============================] - 7s 97ms/step - loss: 0.1204 - mean_squared_error: 0.1204 - val_loss: 0.1073 - val_mean_squared_error: 0.1073\n",
            "Epoch 3/50\n",
            "69/69 [==============================] - 7s 98ms/step - loss: 0.1202 - mean_squared_error: 0.1202 - val_loss: 0.1072 - val_mean_squared_error: 0.1072\n",
            "Epoch 4/50\n",
            "69/69 [==============================] - 7s 96ms/step - loss: 0.1201 - mean_squared_error: 0.1201 - val_loss: 0.1071 - val_mean_squared_error: 0.1071\n",
            "Epoch 5/50\n",
            "69/69 [==============================] - 7s 97ms/step - loss: 0.1200 - mean_squared_error: 0.1200 - val_loss: 0.1069 - val_mean_squared_error: 0.1069\n",
            "Epoch 6/50\n",
            "69/69 [==============================] - 7s 96ms/step - loss: 0.1198 - mean_squared_error: 0.1198 - val_loss: 0.1068 - val_mean_squared_error: 0.1068\n",
            "Epoch 7/50\n",
            "69/69 [==============================] - 7s 98ms/step - loss: 0.1197 - mean_squared_error: 0.1197 - val_loss: 0.1067 - val_mean_squared_error: 0.1067\n",
            "Epoch 8/50\n",
            "69/69 [==============================] - 7s 99ms/step - loss: 0.1196 - mean_squared_error: 0.1196 - val_loss: 0.1066 - val_mean_squared_error: 0.1066\n",
            "Epoch 9/50\n",
            "69/69 [==============================] - 7s 96ms/step - loss: 0.1195 - mean_squared_error: 0.1195 - val_loss: 0.1065 - val_mean_squared_error: 0.1065\n",
            "Epoch 10/50\n",
            "69/69 [==============================] - 7s 97ms/step - loss: 0.1193 - mean_squared_error: 0.1193 - val_loss: 0.1063 - val_mean_squared_error: 0.1063\n",
            "Epoch 11/50\n",
            "69/69 [==============================] - 7s 97ms/step - loss: 0.1192 - mean_squared_error: 0.1192 - val_loss: 0.1062 - val_mean_squared_error: 0.1062\n",
            "Epoch 12/50\n",
            "69/69 [==============================] - 7s 98ms/step - loss: 0.1191 - mean_squared_error: 0.1191 - val_loss: 0.1061 - val_mean_squared_error: 0.1061\n",
            "Epoch 13/50\n",
            "69/69 [==============================] - 7s 96ms/step - loss: 0.1189 - mean_squared_error: 0.1189 - val_loss: 0.1060 - val_mean_squared_error: 0.1060\n",
            "Epoch 14/50\n",
            "69/69 [==============================] - 7s 99ms/step - loss: 0.1188 - mean_squared_error: 0.1188 - val_loss: 0.1058 - val_mean_squared_error: 0.1058\n",
            "Epoch 15/50\n",
            "69/69 [==============================] - 7s 96ms/step - loss: 0.1187 - mean_squared_error: 0.1187 - val_loss: 0.1057 - val_mean_squared_error: 0.1057\n",
            "Epoch 16/50\n",
            "69/69 [==============================] - 7s 98ms/step - loss: 0.1186 - mean_squared_error: 0.1186 - val_loss: 0.1056 - val_mean_squared_error: 0.1056\n",
            "Epoch 17/50\n",
            "69/69 [==============================] - 7s 96ms/step - loss: 0.1184 - mean_squared_error: 0.1184 - val_loss: 0.1055 - val_mean_squared_error: 0.1055\n",
            "Epoch 18/50\n",
            "69/69 [==============================] - 7s 98ms/step - loss: 0.1183 - mean_squared_error: 0.1183 - val_loss: 0.1054 - val_mean_squared_error: 0.1054\n",
            "Epoch 19/50\n",
            "69/69 [==============================] - 7s 97ms/step - loss: 0.1182 - mean_squared_error: 0.1182 - val_loss: 0.1052 - val_mean_squared_error: 0.1052\n",
            "Epoch 20/50\n",
            "69/69 [==============================] - 7s 97ms/step - loss: 0.1180 - mean_squared_error: 0.1180 - val_loss: 0.1051 - val_mean_squared_error: 0.1051\n",
            "Epoch 21/50\n",
            "69/69 [==============================] - 7s 97ms/step - loss: 0.1179 - mean_squared_error: 0.1179 - val_loss: 0.1050 - val_mean_squared_error: 0.1050\n",
            "Epoch 22/50\n",
            "69/69 [==============================] - 7s 99ms/step - loss: 0.1178 - mean_squared_error: 0.1178 - val_loss: 0.1049 - val_mean_squared_error: 0.1049\n",
            "Epoch 23/50\n",
            "69/69 [==============================] - 7s 97ms/step - loss: 0.1177 - mean_squared_error: 0.1177 - val_loss: 0.1048 - val_mean_squared_error: 0.1048\n",
            "Epoch 24/50\n",
            "69/69 [==============================] - 7s 98ms/step - loss: 0.1175 - mean_squared_error: 0.1175 - val_loss: 0.1046 - val_mean_squared_error: 0.1046\n",
            "Epoch 25/50\n",
            "69/69 [==============================] - 7s 97ms/step - loss: 0.1174 - mean_squared_error: 0.1174 - val_loss: 0.1045 - val_mean_squared_error: 0.1045\n",
            "Epoch 26/50\n",
            "69/69 [==============================] - 7s 98ms/step - loss: 0.1173 - mean_squared_error: 0.1173 - val_loss: 0.1044 - val_mean_squared_error: 0.1044\n",
            "Epoch 27/50\n",
            "69/69 [==============================] - 7s 97ms/step - loss: 0.1172 - mean_squared_error: 0.1172 - val_loss: 0.1043 - val_mean_squared_error: 0.1043\n",
            "Epoch 28/50\n",
            "69/69 [==============================] - 7s 99ms/step - loss: 0.1170 - mean_squared_error: 0.1170 - val_loss: 0.1042 - val_mean_squared_error: 0.1042\n",
            "Epoch 29/50\n",
            "69/69 [==============================] - 7s 97ms/step - loss: 0.1169 - mean_squared_error: 0.1169 - val_loss: 0.1041 - val_mean_squared_error: 0.1041\n",
            "Epoch 30/50\n",
            "69/69 [==============================] - 7s 99ms/step - loss: 0.1168 - mean_squared_error: 0.1168 - val_loss: 0.1040 - val_mean_squared_error: 0.1040\n",
            "Epoch 31/50\n",
            "69/69 [==============================] - 7s 97ms/step - loss: 0.1167 - mean_squared_error: 0.1167 - val_loss: 0.1038 - val_mean_squared_error: 0.1038\n",
            "Epoch 32/50\n",
            "69/69 [==============================] - 7s 97ms/step - loss: 0.1166 - mean_squared_error: 0.1166 - val_loss: 0.1037 - val_mean_squared_error: 0.1037\n",
            "Epoch 33/50\n",
            "69/69 [==============================] - 7s 97ms/step - loss: 0.1164 - mean_squared_error: 0.1164 - val_loss: 0.1036 - val_mean_squared_error: 0.1036\n",
            "Epoch 34/50\n",
            "69/69 [==============================] - 7s 98ms/step - loss: 0.1163 - mean_squared_error: 0.1163 - val_loss: 0.1035 - val_mean_squared_error: 0.1035\n",
            "Epoch 35/50\n",
            "69/69 [==============================] - 7s 96ms/step - loss: 0.1162 - mean_squared_error: 0.1162 - val_loss: 0.1034 - val_mean_squared_error: 0.1034\n",
            "Epoch 36/50\n",
            "69/69 [==============================] - 7s 96ms/step - loss: 0.1161 - mean_squared_error: 0.1161 - val_loss: 0.1033 - val_mean_squared_error: 0.1033\n",
            "Epoch 37/50\n",
            "69/69 [==============================] - 7s 96ms/step - loss: 0.1160 - mean_squared_error: 0.1160 - val_loss: 0.1032 - val_mean_squared_error: 0.1032\n",
            "Epoch 38/50\n",
            "69/69 [==============================] - 7s 97ms/step - loss: 0.1158 - mean_squared_error: 0.1158 - val_loss: 0.1030 - val_mean_squared_error: 0.1030\n",
            "Epoch 39/50\n",
            "69/69 [==============================] - 7s 99ms/step - loss: 0.1157 - mean_squared_error: 0.1157 - val_loss: 0.1029 - val_mean_squared_error: 0.1029\n",
            "Epoch 40/50\n",
            "69/69 [==============================] - 7s 97ms/step - loss: 0.1156 - mean_squared_error: 0.1156 - val_loss: 0.1028 - val_mean_squared_error: 0.1028\n",
            "Epoch 41/50\n",
            "69/69 [==============================] - 7s 99ms/step - loss: 0.1155 - mean_squared_error: 0.1155 - val_loss: 0.1027 - val_mean_squared_error: 0.1027\n",
            "Epoch 42/50\n",
            "69/69 [==============================] - 7s 97ms/step - loss: 0.1154 - mean_squared_error: 0.1154 - val_loss: 0.1026 - val_mean_squared_error: 0.1026\n",
            "Epoch 43/50\n",
            "69/69 [==============================] - 7s 98ms/step - loss: 0.1152 - mean_squared_error: 0.1152 - val_loss: 0.1025 - val_mean_squared_error: 0.1025\n",
            "Epoch 44/50\n",
            "69/69 [==============================] - 7s 96ms/step - loss: 0.1151 - mean_squared_error: 0.1151 - val_loss: 0.1024 - val_mean_squared_error: 0.1024\n",
            "Epoch 45/50\n",
            "69/69 [==============================] - 7s 97ms/step - loss: 0.1150 - mean_squared_error: 0.1150 - val_loss: 0.1023 - val_mean_squared_error: 0.1023\n",
            "Epoch 46/50\n",
            "69/69 [==============================] - 7s 97ms/step - loss: 0.1149 - mean_squared_error: 0.1149 - val_loss: 0.1022 - val_mean_squared_error: 0.1022\n",
            "Epoch 47/50\n",
            "69/69 [==============================] - 7s 98ms/step - loss: 0.1148 - mean_squared_error: 0.1148 - val_loss: 0.1020 - val_mean_squared_error: 0.1020\n",
            "Epoch 48/50\n",
            "69/69 [==============================] - 7s 97ms/step - loss: 0.1147 - mean_squared_error: 0.1147 - val_loss: 0.1019 - val_mean_squared_error: 0.1019\n",
            "Epoch 49/50\n",
            "69/69 [==============================] - 7s 97ms/step - loss: 0.1145 - mean_squared_error: 0.1145 - val_loss: 0.1018 - val_mean_squared_error: 0.1018\n",
            "Epoch 50/50\n",
            "69/69 [==============================] - 7s 97ms/step - loss: 0.1144 - mean_squared_error: 0.1144 - val_loss: 0.1017 - val_mean_squared_error: 0.1017\n",
            "WARNING:tensorflow:Layer lstm will not use cuDNN kernel since it doesn't meet the cuDNN kernel criteria. It will use generic GPU kernel as fallback when running on GPU\n",
            "Epoch 1/50\n",
            "69/69 [==============================] - 7s 98ms/step - loss: 0.1216 - mean_squared_error: 0.1216 - val_loss: 0.1084 - val_mean_squared_error: 0.1084\n",
            "Epoch 2/50\n",
            "69/69 [==============================] - 7s 95ms/step - loss: 0.1215 - mean_squared_error: 0.1215 - val_loss: 0.1083 - val_mean_squared_error: 0.1083\n",
            "Epoch 3/50\n",
            "69/69 [==============================] - 7s 95ms/step - loss: 0.1214 - mean_squared_error: 0.1214 - val_loss: 0.1082 - val_mean_squared_error: 0.1082\n",
            "Epoch 4/50\n",
            "69/69 [==============================] - 7s 96ms/step - loss: 0.1212 - mean_squared_error: 0.1212 - val_loss: 0.1081 - val_mean_squared_error: 0.1081\n",
            "Epoch 5/50\n",
            "69/69 [==============================] - 7s 96ms/step - loss: 0.1211 - mean_squared_error: 0.1211 - val_loss: 0.1080 - val_mean_squared_error: 0.1080\n",
            "Epoch 6/50\n",
            "69/69 [==============================] - 7s 96ms/step - loss: 0.1210 - mean_squared_error: 0.1210 - val_loss: 0.1079 - val_mean_squared_error: 0.1079\n",
            "Epoch 7/50\n",
            "69/69 [==============================] - 7s 96ms/step - loss: 0.1209 - mean_squared_error: 0.1209 - val_loss: 0.1077 - val_mean_squared_error: 0.1077\n",
            "Epoch 8/50\n",
            "69/69 [==============================] - 7s 95ms/step - loss: 0.1208 - mean_squared_error: 0.1208 - val_loss: 0.1076 - val_mean_squared_error: 0.1076\n",
            "Epoch 9/50\n",
            "69/69 [==============================] - 7s 96ms/step - loss: 0.1206 - mean_squared_error: 0.1206 - val_loss: 0.1075 - val_mean_squared_error: 0.1075\n",
            "Epoch 10/50\n",
            "69/69 [==============================] - 7s 95ms/step - loss: 0.1205 - mean_squared_error: 0.1205 - val_loss: 0.1074 - val_mean_squared_error: 0.1074\n",
            "Epoch 11/50\n",
            "69/69 [==============================] - 7s 95ms/step - loss: 0.1204 - mean_squared_error: 0.1204 - val_loss: 0.1073 - val_mean_squared_error: 0.1073\n",
            "Epoch 12/50\n",
            "69/69 [==============================] - 7s 96ms/step - loss: 0.1203 - mean_squared_error: 0.1203 - val_loss: 0.1072 - val_mean_squared_error: 0.1072\n",
            "Epoch 13/50\n",
            "69/69 [==============================] - 7s 95ms/step - loss: 0.1202 - mean_squared_error: 0.1202 - val_loss: 0.1071 - val_mean_squared_error: 0.1071\n",
            "Epoch 14/50\n",
            "69/69 [==============================] - 7s 96ms/step - loss: 0.1201 - mean_squared_error: 0.1201 - val_loss: 0.1070 - val_mean_squared_error: 0.1070\n",
            "Epoch 15/50\n",
            "69/69 [==============================] - 7s 95ms/step - loss: 0.1199 - mean_squared_error: 0.1199 - val_loss: 0.1069 - val_mean_squared_error: 0.1069\n",
            "Epoch 16/50\n",
            "69/69 [==============================] - 7s 96ms/step - loss: 0.1198 - mean_squared_error: 0.1198 - val_loss: 0.1067 - val_mean_squared_error: 0.1067\n",
            "Epoch 17/50\n",
            "69/69 [==============================] - 7s 95ms/step - loss: 0.1197 - mean_squared_error: 0.1197 - val_loss: 0.1066 - val_mean_squared_error: 0.1066\n",
            "Epoch 18/50\n",
            "69/69 [==============================] - 7s 96ms/step - loss: 0.1196 - mean_squared_error: 0.1196 - val_loss: 0.1065 - val_mean_squared_error: 0.1065\n",
            "Epoch 19/50\n",
            "69/69 [==============================] - 7s 95ms/step - loss: 0.1195 - mean_squared_error: 0.1195 - val_loss: 0.1064 - val_mean_squared_error: 0.1064\n",
            "Epoch 20/50\n",
            "69/69 [==============================] - 7s 95ms/step - loss: 0.1194 - mean_squared_error: 0.1194 - val_loss: 0.1063 - val_mean_squared_error: 0.1063\n",
            "Epoch 21/50\n",
            "69/69 [==============================] - 7s 95ms/step - loss: 0.1192 - mean_squared_error: 0.1192 - val_loss: 0.1062 - val_mean_squared_error: 0.1062\n",
            "Epoch 22/50\n",
            "69/69 [==============================] - 7s 95ms/step - loss: 0.1191 - mean_squared_error: 0.1191 - val_loss: 0.1061 - val_mean_squared_error: 0.1061\n",
            "Epoch 23/50\n",
            "69/69 [==============================] - 7s 96ms/step - loss: 0.1190 - mean_squared_error: 0.1190 - val_loss: 0.1060 - val_mean_squared_error: 0.1060\n",
            "Epoch 24/50\n",
            "69/69 [==============================] - 7s 95ms/step - loss: 0.1189 - mean_squared_error: 0.1189 - val_loss: 0.1059 - val_mean_squared_error: 0.1059\n",
            "Epoch 25/50\n",
            "69/69 [==============================] - 7s 95ms/step - loss: 0.1188 - mean_squared_error: 0.1188 - val_loss: 0.1058 - val_mean_squared_error: 0.1058\n",
            "Epoch 26/50\n",
            "69/69 [==============================] - 7s 95ms/step - loss: 0.1187 - mean_squared_error: 0.1187 - val_loss: 0.1056 - val_mean_squared_error: 0.1056\n",
            "Epoch 27/50\n",
            "69/69 [==============================] - 7s 96ms/step - loss: 0.1186 - mean_squared_error: 0.1186 - val_loss: 0.1055 - val_mean_squared_error: 0.1055\n",
            "Epoch 28/50\n",
            "69/69 [==============================] - 7s 95ms/step - loss: 0.1184 - mean_squared_error: 0.1184 - val_loss: 0.1054 - val_mean_squared_error: 0.1054\n",
            "Epoch 29/50\n",
            "69/69 [==============================] - 7s 96ms/step - loss: 0.1183 - mean_squared_error: 0.1183 - val_loss: 0.1053 - val_mean_squared_error: 0.1053\n",
            "Epoch 30/50\n",
            "69/69 [==============================] - 7s 96ms/step - loss: 0.1182 - mean_squared_error: 0.1182 - val_loss: 0.1052 - val_mean_squared_error: 0.1052\n",
            "Epoch 31/50\n",
            "69/69 [==============================] - 7s 96ms/step - loss: 0.1181 - mean_squared_error: 0.1181 - val_loss: 0.1051 - val_mean_squared_error: 0.1051\n",
            "Epoch 32/50\n",
            "69/69 [==============================] - 7s 95ms/step - loss: 0.1180 - mean_squared_error: 0.1180 - val_loss: 0.1050 - val_mean_squared_error: 0.1050\n",
            "Epoch 33/50\n",
            "69/69 [==============================] - 7s 95ms/step - loss: 0.1179 - mean_squared_error: 0.1179 - val_loss: 0.1049 - val_mean_squared_error: 0.1049\n",
            "Epoch 34/50\n",
            "69/69 [==============================] - 7s 96ms/step - loss: 0.1178 - mean_squared_error: 0.1178 - val_loss: 0.1048 - val_mean_squared_error: 0.1048\n",
            "Epoch 35/50\n",
            "69/69 [==============================] - 7s 96ms/step - loss: 0.1177 - mean_squared_error: 0.1177 - val_loss: 0.1047 - val_mean_squared_error: 0.1047\n",
            "Epoch 36/50\n",
            "69/69 [==============================] - 7s 95ms/step - loss: 0.1176 - mean_squared_error: 0.1176 - val_loss: 0.1046 - val_mean_squared_error: 0.1046\n",
            "Epoch 37/50\n",
            "69/69 [==============================] - 7s 95ms/step - loss: 0.1174 - mean_squared_error: 0.1174 - val_loss: 0.1045 - val_mean_squared_error: 0.1045\n",
            "Epoch 38/50\n",
            "69/69 [==============================] - 7s 96ms/step - loss: 0.1173 - mean_squared_error: 0.1173 - val_loss: 0.1044 - val_mean_squared_error: 0.1044\n",
            "Epoch 39/50\n",
            "69/69 [==============================] - 7s 95ms/step - loss: 0.1172 - mean_squared_error: 0.1172 - val_loss: 0.1043 - val_mean_squared_error: 0.1043\n",
            "Epoch 40/50\n",
            "69/69 [==============================] - 7s 95ms/step - loss: 0.1171 - mean_squared_error: 0.1171 - val_loss: 0.1042 - val_mean_squared_error: 0.1042\n",
            "Epoch 41/50\n",
            "69/69 [==============================] - 7s 96ms/step - loss: 0.1170 - mean_squared_error: 0.1170 - val_loss: 0.1041 - val_mean_squared_error: 0.1041\n",
            "Epoch 42/50\n",
            "69/69 [==============================] - 7s 96ms/step - loss: 0.1169 - mean_squared_error: 0.1169 - val_loss: 0.1040 - val_mean_squared_error: 0.1040\n",
            "Epoch 43/50\n",
            "69/69 [==============================] - 7s 96ms/step - loss: 0.1168 - mean_squared_error: 0.1168 - val_loss: 0.1039 - val_mean_squared_error: 0.1039\n",
            "Epoch 44/50\n",
            "69/69 [==============================] - 7s 96ms/step - loss: 0.1167 - mean_squared_error: 0.1167 - val_loss: 0.1038 - val_mean_squared_error: 0.1038\n",
            "Epoch 45/50\n",
            "69/69 [==============================] - 7s 95ms/step - loss: 0.1166 - mean_squared_error: 0.1166 - val_loss: 0.1037 - val_mean_squared_error: 0.1037\n",
            "Epoch 46/50\n",
            "69/69 [==============================] - 7s 95ms/step - loss: 0.1165 - mean_squared_error: 0.1165 - val_loss: 0.1036 - val_mean_squared_error: 0.1036\n",
            "Epoch 47/50\n",
            "69/69 [==============================] - 7s 95ms/step - loss: 0.1164 - mean_squared_error: 0.1164 - val_loss: 0.1035 - val_mean_squared_error: 0.1035\n",
            "Epoch 48/50\n",
            "69/69 [==============================] - 7s 95ms/step - loss: 0.1163 - mean_squared_error: 0.1163 - val_loss: 0.1034 - val_mean_squared_error: 0.1034\n",
            "Epoch 49/50\n",
            "69/69 [==============================] - 7s 96ms/step - loss: 0.1162 - mean_squared_error: 0.1162 - val_loss: 0.1033 - val_mean_squared_error: 0.1033\n",
            "Epoch 50/50\n",
            "69/69 [==============================] - 7s 95ms/step - loss: 0.1161 - mean_squared_error: 0.1161 - val_loss: 0.1032 - val_mean_squared_error: 0.1032\n"
          ],
          "name": "stdout"
        },
        {
          "output_type": "display_data",
          "data": {
            "text/html": [
              "<span style=\"color:#4527A0\"><h1 style=\"font-size:18px\">Trial complete</h1></span>"
            ],
            "text/plain": [
              "<IPython.core.display.HTML object>"
            ]
          },
          "metadata": {
            "tags": []
          }
        },
        {
          "output_type": "display_data",
          "data": {
            "text/html": [
              "<span style=\"color:#4527A0\"><h1 style=\"font-size:18px\">Trial summary</h1></span>"
            ],
            "text/plain": [
              "<IPython.core.display.HTML object>"
            ]
          },
          "metadata": {
            "tags": []
          }
        },
        {
          "output_type": "display_data",
          "data": {
            "text/html": [
              "<span style=\"color:cyan\"> |-Trial ID: 3ec9c9de2e6c51df488e6132db54375c</span>"
            ],
            "text/plain": [
              "<IPython.core.display.HTML object>"
            ]
          },
          "metadata": {
            "tags": []
          }
        },
        {
          "output_type": "display_data",
          "data": {
            "text/html": [
              "<span style=\"color:cyan\"> |-Score: 0.11525025591254234</span>"
            ],
            "text/plain": [
              "<IPython.core.display.HTML object>"
            ]
          },
          "metadata": {
            "tags": []
          }
        },
        {
          "output_type": "display_data",
          "data": {
            "text/html": [
              "<span style=\"color:cyan\"> |-Best step: 0</span>"
            ],
            "text/plain": [
              "<IPython.core.display.HTML object>"
            ]
          },
          "metadata": {
            "tags": []
          }
        },
        {
          "output_type": "display_data",
          "data": {
            "text/html": [
              "<span style=\"color:#7E57C2\"><h2 style=\"font-size:16px\">Hyperparameters:</h2></span>"
            ],
            "text/plain": [
              "<IPython.core.display.HTML object>"
            ]
          },
          "metadata": {
            "tags": []
          }
        },
        {
          "output_type": "display_data",
          "data": {
            "text/html": [
              "<span style=\"color:cyan\"> |-kernel_size: 30</span>"
            ],
            "text/plain": [
              "<IPython.core.display.HTML object>"
            ]
          },
          "metadata": {
            "tags": []
          }
        },
        {
          "output_type": "display_data",
          "data": {
            "text/html": [
              "<span style=\"color:blue\"> |-num_channels: 100</span>"
            ],
            "text/plain": [
              "<IPython.core.display.HTML object>"
            ]
          },
          "metadata": {
            "tags": []
          }
        },
        {
          "output_type": "stream",
          "text": [
            "WARNING:tensorflow:Layer lstm will not use cuDNN kernel since it doesn't meet the cuDNN kernel criteria. It will use generic GPU kernel as fallback when running on GPU\n",
            "Epoch 1/50\n",
            "69/69 [==============================] - 9s 127ms/step - loss: 0.1210 - mean_squared_error: 0.1210 - val_loss: 0.1079 - val_mean_squared_error: 0.1079\n",
            "Epoch 2/50\n",
            "69/69 [==============================] - 8s 123ms/step - loss: 0.1209 - mean_squared_error: 0.1209 - val_loss: 0.1078 - val_mean_squared_error: 0.1078\n",
            "Epoch 3/50\n",
            "69/69 [==============================] - 8s 123ms/step - loss: 0.1208 - mean_squared_error: 0.1208 - val_loss: 0.1076 - val_mean_squared_error: 0.1076\n",
            "Epoch 4/50\n",
            "69/69 [==============================] - 8s 123ms/step - loss: 0.1206 - mean_squared_error: 0.1206 - val_loss: 0.1075 - val_mean_squared_error: 0.1075\n",
            "Epoch 5/50\n",
            "69/69 [==============================] - 9s 123ms/step - loss: 0.1205 - mean_squared_error: 0.1205 - val_loss: 0.1074 - val_mean_squared_error: 0.1074\n",
            "Epoch 6/50\n",
            "69/69 [==============================] - 8s 123ms/step - loss: 0.1203 - mean_squared_error: 0.1203 - val_loss: 0.1072 - val_mean_squared_error: 0.1072\n",
            "Epoch 7/50\n",
            "69/69 [==============================] - 9s 125ms/step - loss: 0.1202 - mean_squared_error: 0.1202 - val_loss: 0.1071 - val_mean_squared_error: 0.1071\n",
            "Epoch 8/50\n",
            "69/69 [==============================] - 9s 123ms/step - loss: 0.1200 - mean_squared_error: 0.1200 - val_loss: 0.1070 - val_mean_squared_error: 0.1070\n",
            "Epoch 9/50\n",
            "69/69 [==============================] - 9s 124ms/step - loss: 0.1199 - mean_squared_error: 0.1199 - val_loss: 0.1068 - val_mean_squared_error: 0.1068\n",
            "Epoch 10/50\n",
            "69/69 [==============================] - 8s 123ms/step - loss: 0.1197 - mean_squared_error: 0.1197 - val_loss: 0.1067 - val_mean_squared_error: 0.1067\n",
            "Epoch 11/50\n",
            "69/69 [==============================] - 9s 127ms/step - loss: 0.1196 - mean_squared_error: 0.1196 - val_loss: 0.1066 - val_mean_squared_error: 0.1066\n",
            "Epoch 12/50\n",
            "69/69 [==============================] - 9s 124ms/step - loss: 0.1195 - mean_squared_error: 0.1195 - val_loss: 0.1064 - val_mean_squared_error: 0.1064\n",
            "Epoch 13/50\n",
            "69/69 [==============================] - 9s 123ms/step - loss: 0.1193 - mean_squared_error: 0.1193 - val_loss: 0.1063 - val_mean_squared_error: 0.1063\n",
            "Epoch 14/50\n",
            "69/69 [==============================] - 8s 123ms/step - loss: 0.1192 - mean_squared_error: 0.1192 - val_loss: 0.1062 - val_mean_squared_error: 0.1062\n",
            "Epoch 15/50\n",
            "69/69 [==============================] - 9s 126ms/step - loss: 0.1190 - mean_squared_error: 0.1190 - val_loss: 0.1060 - val_mean_squared_error: 0.1060\n",
            "Epoch 16/50\n",
            "69/69 [==============================] - 9s 123ms/step - loss: 0.1189 - mean_squared_error: 0.1189 - val_loss: 0.1059 - val_mean_squared_error: 0.1059\n",
            "Epoch 17/50\n",
            "69/69 [==============================] - 9s 123ms/step - loss: 0.1187 - mean_squared_error: 0.1187 - val_loss: 0.1057 - val_mean_squared_error: 0.1057\n",
            "Epoch 18/50\n",
            "69/69 [==============================] - 9s 125ms/step - loss: 0.1186 - mean_squared_error: 0.1186 - val_loss: 0.1056 - val_mean_squared_error: 0.1056\n",
            "Epoch 19/50\n",
            "69/69 [==============================] - 9s 124ms/step - loss: 0.1184 - mean_squared_error: 0.1184 - val_loss: 0.1055 - val_mean_squared_error: 0.1055\n",
            "Epoch 20/50\n",
            "69/69 [==============================] - 9s 124ms/step - loss: 0.1183 - mean_squared_error: 0.1183 - val_loss: 0.1053 - val_mean_squared_error: 0.1053\n",
            "Epoch 21/50\n",
            "69/69 [==============================] - 9s 124ms/step - loss: 0.1182 - mean_squared_error: 0.1182 - val_loss: 0.1052 - val_mean_squared_error: 0.1052\n",
            "Epoch 22/50\n",
            "69/69 [==============================] - 9s 124ms/step - loss: 0.1180 - mean_squared_error: 0.1180 - val_loss: 0.1051 - val_mean_squared_error: 0.1051\n",
            "Epoch 23/50\n",
            "69/69 [==============================] - 9s 124ms/step - loss: 0.1179 - mean_squared_error: 0.1179 - val_loss: 0.1049 - val_mean_squared_error: 0.1049\n",
            "Epoch 24/50\n",
            "69/69 [==============================] - 9s 124ms/step - loss: 0.1177 - mean_squared_error: 0.1177 - val_loss: 0.1048 - val_mean_squared_error: 0.1048\n",
            "Epoch 25/50\n",
            "69/69 [==============================] - 9s 123ms/step - loss: 0.1176 - mean_squared_error: 0.1176 - val_loss: 0.1047 - val_mean_squared_error: 0.1047\n",
            "Epoch 26/50\n",
            "69/69 [==============================] - 9s 125ms/step - loss: 0.1174 - mean_squared_error: 0.1174 - val_loss: 0.1045 - val_mean_squared_error: 0.1045\n",
            "Epoch 27/50\n",
            "69/69 [==============================] - 8s 123ms/step - loss: 0.1173 - mean_squared_error: 0.1173 - val_loss: 0.1044 - val_mean_squared_error: 0.1044\n",
            "Epoch 28/50\n",
            "69/69 [==============================] - 9s 125ms/step - loss: 0.1172 - mean_squared_error: 0.1172 - val_loss: 0.1043 - val_mean_squared_error: 0.1043\n",
            "Epoch 29/50\n",
            "69/69 [==============================] - 8s 123ms/step - loss: 0.1170 - mean_squared_error: 0.1170 - val_loss: 0.1041 - val_mean_squared_error: 0.1041\n",
            "Epoch 30/50\n",
            "69/69 [==============================] - 8s 123ms/step - loss: 0.1169 - mean_squared_error: 0.1169 - val_loss: 0.1040 - val_mean_squared_error: 0.1040\n",
            "Epoch 31/50\n",
            "69/69 [==============================] - 9s 123ms/step - loss: 0.1167 - mean_squared_error: 0.1167 - val_loss: 0.1039 - val_mean_squared_error: 0.1039\n",
            "Epoch 32/50\n",
            "69/69 [==============================] - 9s 126ms/step - loss: 0.1166 - mean_squared_error: 0.1166 - val_loss: 0.1038 - val_mean_squared_error: 0.1038\n",
            "Epoch 33/50\n",
            "69/69 [==============================] - 9s 124ms/step - loss: 0.1165 - mean_squared_error: 0.1165 - val_loss: 0.1036 - val_mean_squared_error: 0.1036\n",
            "Epoch 34/50\n",
            "69/69 [==============================] - 9s 124ms/step - loss: 0.1163 - mean_squared_error: 0.1163 - val_loss: 0.1035 - val_mean_squared_error: 0.1035\n",
            "Epoch 35/50\n",
            "69/69 [==============================] - 8s 123ms/step - loss: 0.1162 - mean_squared_error: 0.1162 - val_loss: 0.1034 - val_mean_squared_error: 0.1034\n",
            "Epoch 36/50\n",
            "69/69 [==============================] - 9s 125ms/step - loss: 0.1160 - mean_squared_error: 0.1160 - val_loss: 0.1032 - val_mean_squared_error: 0.1032\n",
            "Epoch 37/50\n",
            "69/69 [==============================] - 9s 124ms/step - loss: 0.1159 - mean_squared_error: 0.1159 - val_loss: 0.1031 - val_mean_squared_error: 0.1031\n",
            "Epoch 38/50\n",
            "69/69 [==============================] - 9s 124ms/step - loss: 0.1158 - mean_squared_error: 0.1158 - val_loss: 0.1030 - val_mean_squared_error: 0.1030\n",
            "Epoch 39/50\n",
            "69/69 [==============================] - 9s 123ms/step - loss: 0.1156 - mean_squared_error: 0.1156 - val_loss: 0.1029 - val_mean_squared_error: 0.1029\n",
            "Epoch 40/50\n",
            "69/69 [==============================] - 9s 124ms/step - loss: 0.1155 - mean_squared_error: 0.1155 - val_loss: 0.1027 - val_mean_squared_error: 0.1027\n",
            "Epoch 41/50\n",
            "69/69 [==============================] - 9s 124ms/step - loss: 0.1154 - mean_squared_error: 0.1154 - val_loss: 0.1026 - val_mean_squared_error: 0.1026\n",
            "Epoch 42/50\n",
            "69/69 [==============================] - 8s 123ms/step - loss: 0.1152 - mean_squared_error: 0.1152 - val_loss: 0.1025 - val_mean_squared_error: 0.1025\n",
            "Epoch 43/50\n",
            "69/69 [==============================] - 9s 126ms/step - loss: 0.1151 - mean_squared_error: 0.1151 - val_loss: 0.1024 - val_mean_squared_error: 0.1024\n",
            "Epoch 44/50\n",
            "69/69 [==============================] - 8s 123ms/step - loss: 0.1150 - mean_squared_error: 0.1150 - val_loss: 0.1022 - val_mean_squared_error: 0.1022\n",
            "Epoch 45/50\n",
            "69/69 [==============================] - 9s 124ms/step - loss: 0.1148 - mean_squared_error: 0.1148 - val_loss: 0.1021 - val_mean_squared_error: 0.1021\n",
            "Epoch 46/50\n",
            "69/69 [==============================] - 9s 124ms/step - loss: 0.1147 - mean_squared_error: 0.1147 - val_loss: 0.1020 - val_mean_squared_error: 0.1020\n",
            "Epoch 47/50\n",
            "69/69 [==============================] - 9s 125ms/step - loss: 0.1146 - mean_squared_error: 0.1146 - val_loss: 0.1019 - val_mean_squared_error: 0.1019\n",
            "Epoch 48/50\n",
            "69/69 [==============================] - 9s 124ms/step - loss: 0.1144 - mean_squared_error: 0.1144 - val_loss: 0.1017 - val_mean_squared_error: 0.1017\n",
            "Epoch 49/50\n",
            "69/69 [==============================] - 9s 125ms/step - loss: 0.1143 - mean_squared_error: 0.1143 - val_loss: 0.1016 - val_mean_squared_error: 0.1016\n",
            "Epoch 50/50\n",
            "69/69 [==============================] - 9s 125ms/step - loss: 0.1142 - mean_squared_error: 0.1142 - val_loss: 0.1015 - val_mean_squared_error: 0.1015\n",
            "WARNING:tensorflow:Layer lstm will not use cuDNN kernel since it doesn't meet the cuDNN kernel criteria. It will use generic GPU kernel as fallback when running on GPU\n",
            "Epoch 1/50\n",
            "69/69 [==============================] - 9s 125ms/step - loss: 0.1207 - mean_squared_error: 0.1207 - val_loss: 0.1076 - val_mean_squared_error: 0.1076\n",
            "Epoch 2/50\n",
            "69/69 [==============================] - 8s 122ms/step - loss: 0.1206 - mean_squared_error: 0.1206 - val_loss: 0.1075 - val_mean_squared_error: 0.1075\n",
            "Epoch 3/50\n",
            "69/69 [==============================] - 8s 123ms/step - loss: 0.1204 - mean_squared_error: 0.1204 - val_loss: 0.1074 - val_mean_squared_error: 0.1074\n",
            "Epoch 4/50\n",
            "69/69 [==============================] - 8s 122ms/step - loss: 0.1203 - mean_squared_error: 0.1203 - val_loss: 0.1073 - val_mean_squared_error: 0.1073\n",
            "Epoch 5/50\n",
            "69/69 [==============================] - 8s 123ms/step - loss: 0.1202 - mean_squared_error: 0.1202 - val_loss: 0.1071 - val_mean_squared_error: 0.1071\n",
            "Epoch 6/50\n",
            "69/69 [==============================] - 8s 123ms/step - loss: 0.1201 - mean_squared_error: 0.1201 - val_loss: 0.1070 - val_mean_squared_error: 0.1070\n",
            "Epoch 7/50\n",
            "69/69 [==============================] - 8s 122ms/step - loss: 0.1199 - mean_squared_error: 0.1199 - val_loss: 0.1069 - val_mean_squared_error: 0.1069\n",
            "Epoch 8/50\n",
            "69/69 [==============================] - 8s 122ms/step - loss: 0.1198 - mean_squared_error: 0.1198 - val_loss: 0.1068 - val_mean_squared_error: 0.1068\n",
            "Epoch 9/50\n",
            "69/69 [==============================] - 8s 122ms/step - loss: 0.1197 - mean_squared_error: 0.1197 - val_loss: 0.1067 - val_mean_squared_error: 0.1067\n",
            "Epoch 10/50\n",
            "69/69 [==============================] - 8s 122ms/step - loss: 0.1196 - mean_squared_error: 0.1196 - val_loss: 0.1066 - val_mean_squared_error: 0.1066\n",
            "Epoch 11/50\n",
            "69/69 [==============================] - 8s 123ms/step - loss: 0.1194 - mean_squared_error: 0.1194 - val_loss: 0.1064 - val_mean_squared_error: 0.1064\n",
            "Epoch 12/50\n",
            "69/69 [==============================] - 8s 123ms/step - loss: 0.1193 - mean_squared_error: 0.1193 - val_loss: 0.1063 - val_mean_squared_error: 0.1063\n",
            "Epoch 13/50\n",
            "69/69 [==============================] - 8s 122ms/step - loss: 0.1192 - mean_squared_error: 0.1192 - val_loss: 0.1062 - val_mean_squared_error: 0.1062\n",
            "Epoch 14/50\n",
            "69/69 [==============================] - 8s 123ms/step - loss: 0.1191 - mean_squared_error: 0.1191 - val_loss: 0.1061 - val_mean_squared_error: 0.1061\n",
            "Epoch 15/50\n",
            "69/69 [==============================] - 8s 123ms/step - loss: 0.1189 - mean_squared_error: 0.1189 - val_loss: 0.1060 - val_mean_squared_error: 0.1060\n",
            "Epoch 16/50\n",
            "69/69 [==============================] - 8s 122ms/step - loss: 0.1188 - mean_squared_error: 0.1188 - val_loss: 0.1059 - val_mean_squared_error: 0.1059\n",
            "Epoch 17/50\n",
            "69/69 [==============================] - 8s 122ms/step - loss: 0.1187 - mean_squared_error: 0.1187 - val_loss: 0.1058 - val_mean_squared_error: 0.1058\n",
            "Epoch 18/50\n",
            "69/69 [==============================] - 8s 122ms/step - loss: 0.1186 - mean_squared_error: 0.1186 - val_loss: 0.1056 - val_mean_squared_error: 0.1056\n",
            "Epoch 19/50\n",
            "69/69 [==============================] - 8s 123ms/step - loss: 0.1185 - mean_squared_error: 0.1185 - val_loss: 0.1055 - val_mean_squared_error: 0.1055\n",
            "Epoch 20/50\n",
            "69/69 [==============================] - 8s 122ms/step - loss: 0.1183 - mean_squared_error: 0.1183 - val_loss: 0.1054 - val_mean_squared_error: 0.1054\n",
            "Epoch 21/50\n",
            "69/69 [==============================] - 8s 123ms/step - loss: 0.1182 - mean_squared_error: 0.1182 - val_loss: 0.1053 - val_mean_squared_error: 0.1053\n",
            "Epoch 22/50\n",
            "69/69 [==============================] - 8s 122ms/step - loss: 0.1181 - mean_squared_error: 0.1181 - val_loss: 0.1052 - val_mean_squared_error: 0.1052\n",
            "Epoch 23/50\n",
            "69/69 [==============================] - 8s 122ms/step - loss: 0.1180 - mean_squared_error: 0.1180 - val_loss: 0.1051 - val_mean_squared_error: 0.1051\n",
            "Epoch 24/50\n",
            "69/69 [==============================] - 8s 123ms/step - loss: 0.1179 - mean_squared_error: 0.1179 - val_loss: 0.1050 - val_mean_squared_error: 0.1050\n",
            "Epoch 25/50\n",
            "69/69 [==============================] - 8s 122ms/step - loss: 0.1177 - mean_squared_error: 0.1177 - val_loss: 0.1049 - val_mean_squared_error: 0.1049\n",
            "Epoch 26/50\n",
            "69/69 [==============================] - 8s 122ms/step - loss: 0.1176 - mean_squared_error: 0.1176 - val_loss: 0.1047 - val_mean_squared_error: 0.1047\n",
            "Epoch 27/50\n",
            "69/69 [==============================] - 8s 122ms/step - loss: 0.1175 - mean_squared_error: 0.1175 - val_loss: 0.1046 - val_mean_squared_error: 0.1046\n",
            "Epoch 28/50\n",
            "69/69 [==============================] - 8s 123ms/step - loss: 0.1174 - mean_squared_error: 0.1174 - val_loss: 0.1045 - val_mean_squared_error: 0.1045\n",
            "Epoch 29/50\n",
            "69/69 [==============================] - 8s 123ms/step - loss: 0.1173 - mean_squared_error: 0.1173 - val_loss: 0.1044 - val_mean_squared_error: 0.1044\n",
            "Epoch 30/50\n",
            "69/69 [==============================] - 8s 122ms/step - loss: 0.1172 - mean_squared_error: 0.1172 - val_loss: 0.1043 - val_mean_squared_error: 0.1043\n",
            "Epoch 31/50\n",
            "69/69 [==============================] - 8s 122ms/step - loss: 0.1170 - mean_squared_error: 0.1170 - val_loss: 0.1042 - val_mean_squared_error: 0.1042\n",
            "Epoch 32/50\n",
            "69/69 [==============================] - 8s 122ms/step - loss: 0.1169 - mean_squared_error: 0.1169 - val_loss: 0.1041 - val_mean_squared_error: 0.1041\n",
            "Epoch 33/50\n",
            "69/69 [==============================] - 8s 123ms/step - loss: 0.1168 - mean_squared_error: 0.1168 - val_loss: 0.1040 - val_mean_squared_error: 0.1040\n",
            "Epoch 34/50\n",
            "69/69 [==============================] - 8s 122ms/step - loss: 0.1167 - mean_squared_error: 0.1167 - val_loss: 0.1039 - val_mean_squared_error: 0.1039\n",
            "Epoch 35/50\n",
            "69/69 [==============================] - 8s 122ms/step - loss: 0.1166 - mean_squared_error: 0.1166 - val_loss: 0.1038 - val_mean_squared_error: 0.1038\n",
            "Epoch 36/50\n",
            "69/69 [==============================] - 8s 122ms/step - loss: 0.1165 - mean_squared_error: 0.1165 - val_loss: 0.1037 - val_mean_squared_error: 0.1037\n",
            "Epoch 37/50\n",
            "69/69 [==============================] - 8s 122ms/step - loss: 0.1163 - mean_squared_error: 0.1163 - val_loss: 0.1035 - val_mean_squared_error: 0.1035\n",
            "Epoch 38/50\n",
            "69/69 [==============================] - 8s 123ms/step - loss: 0.1162 - mean_squared_error: 0.1162 - val_loss: 0.1034 - val_mean_squared_error: 0.1034\n",
            "Epoch 39/50\n",
            "69/69 [==============================] - 8s 122ms/step - loss: 0.1161 - mean_squared_error: 0.1161 - val_loss: 0.1033 - val_mean_squared_error: 0.1033\n",
            "Epoch 40/50\n",
            "69/69 [==============================] - 8s 122ms/step - loss: 0.1160 - mean_squared_error: 0.1160 - val_loss: 0.1032 - val_mean_squared_error: 0.1032\n",
            "Epoch 41/50\n",
            "69/69 [==============================] - 8s 122ms/step - loss: 0.1159 - mean_squared_error: 0.1159 - val_loss: 0.1031 - val_mean_squared_error: 0.1031\n",
            "Epoch 42/50\n",
            "69/69 [==============================] - 8s 123ms/step - loss: 0.1158 - mean_squared_error: 0.1158 - val_loss: 0.1030 - val_mean_squared_error: 0.1030\n",
            "Epoch 43/50\n",
            "69/69 [==============================] - 8s 123ms/step - loss: 0.1157 - mean_squared_error: 0.1157 - val_loss: 0.1029 - val_mean_squared_error: 0.1029\n",
            "Epoch 44/50\n",
            "69/69 [==============================] - 8s 122ms/step - loss: 0.1155 - mean_squared_error: 0.1155 - val_loss: 0.1028 - val_mean_squared_error: 0.1028\n",
            "Epoch 45/50\n",
            "69/69 [==============================] - 8s 122ms/step - loss: 0.1154 - mean_squared_error: 0.1154 - val_loss: 0.1027 - val_mean_squared_error: 0.1027\n",
            "Epoch 46/50\n",
            "69/69 [==============================] - 8s 122ms/step - loss: 0.1153 - mean_squared_error: 0.1153 - val_loss: 0.1026 - val_mean_squared_error: 0.1026\n",
            "Epoch 47/50\n",
            "69/69 [==============================] - 8s 122ms/step - loss: 0.1152 - mean_squared_error: 0.1152 - val_loss: 0.1025 - val_mean_squared_error: 0.1025\n",
            "Epoch 48/50\n",
            "69/69 [==============================] - 8s 123ms/step - loss: 0.1151 - mean_squared_error: 0.1151 - val_loss: 0.1024 - val_mean_squared_error: 0.1024\n",
            "Epoch 49/50\n",
            "69/69 [==============================] - 8s 123ms/step - loss: 0.1150 - mean_squared_error: 0.1150 - val_loss: 0.1023 - val_mean_squared_error: 0.1023\n",
            "Epoch 50/50\n",
            "69/69 [==============================] - 8s 123ms/step - loss: 0.1149 - mean_squared_error: 0.1149 - val_loss: 0.1021 - val_mean_squared_error: 0.1021\n"
          ],
          "name": "stdout"
        },
        {
          "output_type": "display_data",
          "data": {
            "text/html": [
              "<span style=\"color:#4527A0\"><h1 style=\"font-size:18px\">Trial complete</h1></span>"
            ],
            "text/plain": [
              "<IPython.core.display.HTML object>"
            ]
          },
          "metadata": {
            "tags": []
          }
        },
        {
          "output_type": "display_data",
          "data": {
            "text/html": [
              "<span style=\"color:#4527A0\"><h1 style=\"font-size:18px\">Trial summary</h1></span>"
            ],
            "text/plain": [
              "<IPython.core.display.HTML object>"
            ]
          },
          "metadata": {
            "tags": []
          }
        },
        {
          "output_type": "display_data",
          "data": {
            "text/html": [
              "<span style=\"color:cyan\"> |-Trial ID: 7cd9725bdc3f0f98264fb41b77a5b717</span>"
            ],
            "text/plain": [
              "<IPython.core.display.HTML object>"
            ]
          },
          "metadata": {
            "tags": []
          }
        },
        {
          "output_type": "display_data",
          "data": {
            "text/html": [
              "<span style=\"color:cyan\"> |-Score: 0.11451646685600281</span>"
            ],
            "text/plain": [
              "<IPython.core.display.HTML object>"
            ]
          },
          "metadata": {
            "tags": []
          }
        },
        {
          "output_type": "display_data",
          "data": {
            "text/html": [
              "<span style=\"color:cyan\"> |-Best step: 0</span>"
            ],
            "text/plain": [
              "<IPython.core.display.HTML object>"
            ]
          },
          "metadata": {
            "tags": []
          }
        },
        {
          "output_type": "display_data",
          "data": {
            "text/html": [
              "<span style=\"color:#7E57C2\"><h2 style=\"font-size:16px\">Hyperparameters:</h2></span>"
            ],
            "text/plain": [
              "<IPython.core.display.HTML object>"
            ]
          },
          "metadata": {
            "tags": []
          }
        },
        {
          "output_type": "display_data",
          "data": {
            "text/html": [
              "<span style=\"color:cyan\"> |-kernel_size: 12</span>"
            ],
            "text/plain": [
              "<IPython.core.display.HTML object>"
            ]
          },
          "metadata": {
            "tags": []
          }
        },
        {
          "output_type": "display_data",
          "data": {
            "text/html": [
              "<span style=\"color:blue\"> |-num_channels: 150</span>"
            ],
            "text/plain": [
              "<IPython.core.display.HTML object>"
            ]
          },
          "metadata": {
            "tags": []
          }
        },
        {
          "output_type": "stream",
          "text": [
            "WARNING:tensorflow:Layer lstm will not use cuDNN kernel since it doesn't meet the cuDNN kernel criteria. It will use generic GPU kernel as fallback when running on GPU\n",
            "Epoch 1/50\n",
            "69/69 [==============================] - 12s 169ms/step - loss: 0.1215 - mean_squared_error: 0.1215 - val_loss: 0.1084 - val_mean_squared_error: 0.1084\n",
            "Epoch 2/50\n",
            "69/69 [==============================] - 12s 167ms/step - loss: 0.1214 - mean_squared_error: 0.1214 - val_loss: 0.1083 - val_mean_squared_error: 0.1083\n",
            "Epoch 3/50\n",
            "69/69 [==============================] - 11s 166ms/step - loss: 0.1213 - mean_squared_error: 0.1213 - val_loss: 0.1082 - val_mean_squared_error: 0.1082\n",
            "Epoch 4/50\n",
            "69/69 [==============================] - 12s 168ms/step - loss: 0.1212 - mean_squared_error: 0.1212 - val_loss: 0.1081 - val_mean_squared_error: 0.1081\n",
            "Epoch 5/50\n",
            "69/69 [==============================] - 12s 167ms/step - loss: 0.1211 - mean_squared_error: 0.1211 - val_loss: 0.1080 - val_mean_squared_error: 0.1080\n",
            "Epoch 6/50\n",
            "69/69 [==============================] - 12s 167ms/step - loss: 0.1210 - mean_squared_error: 0.1210 - val_loss: 0.1078 - val_mean_squared_error: 0.1078\n",
            "Epoch 7/50\n",
            "69/69 [==============================] - 11s 166ms/step - loss: 0.1209 - mean_squared_error: 0.1209 - val_loss: 0.1077 - val_mean_squared_error: 0.1077\n",
            "Epoch 8/50\n",
            "69/69 [==============================] - 11s 166ms/step - loss: 0.1207 - mean_squared_error: 0.1207 - val_loss: 0.1076 - val_mean_squared_error: 0.1076\n",
            "Epoch 9/50\n",
            "69/69 [==============================] - 11s 166ms/step - loss: 0.1206 - mean_squared_error: 0.1206 - val_loss: 0.1075 - val_mean_squared_error: 0.1075\n",
            "Epoch 10/50\n",
            "69/69 [==============================] - 11s 166ms/step - loss: 0.1205 - mean_squared_error: 0.1205 - val_loss: 0.1074 - val_mean_squared_error: 0.1074\n",
            "Epoch 11/50\n",
            "69/69 [==============================] - 11s 166ms/step - loss: 0.1204 - mean_squared_error: 0.1204 - val_loss: 0.1073 - val_mean_squared_error: 0.1073\n",
            "Epoch 12/50\n",
            "69/69 [==============================] - 12s 168ms/step - loss: 0.1203 - mean_squared_error: 0.1203 - val_loss: 0.1072 - val_mean_squared_error: 0.1072\n",
            "Epoch 13/50\n",
            "69/69 [==============================] - 11s 166ms/step - loss: 0.1202 - mean_squared_error: 0.1202 - val_loss: 0.1071 - val_mean_squared_error: 0.1071\n",
            "Epoch 14/50\n",
            "69/69 [==============================] - 12s 167ms/step - loss: 0.1201 - mean_squared_error: 0.1201 - val_loss: 0.1070 - val_mean_squared_error: 0.1070\n",
            "Epoch 15/50\n",
            "69/69 [==============================] - 12s 167ms/step - loss: 0.1200 - mean_squared_error: 0.1200 - val_loss: 0.1069 - val_mean_squared_error: 0.1069\n",
            "Epoch 16/50\n",
            "69/69 [==============================] - 12s 167ms/step - loss: 0.1198 - mean_squared_error: 0.1198 - val_loss: 0.1068 - val_mean_squared_error: 0.1068\n",
            "Epoch 17/50\n",
            "69/69 [==============================] - 11s 166ms/step - loss: 0.1197 - mean_squared_error: 0.1197 - val_loss: 0.1067 - val_mean_squared_error: 0.1067\n",
            "Epoch 18/50\n",
            "69/69 [==============================] - 12s 169ms/step - loss: 0.1196 - mean_squared_error: 0.1196 - val_loss: 0.1066 - val_mean_squared_error: 0.1066\n",
            "Epoch 19/50\n",
            "69/69 [==============================] - 12s 167ms/step - loss: 0.1195 - mean_squared_error: 0.1195 - val_loss: 0.1065 - val_mean_squared_error: 0.1065\n",
            "Epoch 20/50\n",
            "69/69 [==============================] - 11s 166ms/step - loss: 0.1194 - mean_squared_error: 0.1194 - val_loss: 0.1064 - val_mean_squared_error: 0.1064\n",
            "Epoch 21/50\n",
            "69/69 [==============================] - 12s 169ms/step - loss: 0.1193 - mean_squared_error: 0.1193 - val_loss: 0.1063 - val_mean_squared_error: 0.1063\n",
            "Epoch 22/50\n",
            "69/69 [==============================] - 11s 167ms/step - loss: 0.1192 - mean_squared_error: 0.1192 - val_loss: 0.1062 - val_mean_squared_error: 0.1062\n",
            "Epoch 23/50\n",
            "69/69 [==============================] - 12s 169ms/step - loss: 0.1191 - mean_squared_error: 0.1191 - val_loss: 0.1060 - val_mean_squared_error: 0.1060\n",
            "Epoch 24/50\n",
            "69/69 [==============================] - 11s 166ms/step - loss: 0.1190 - mean_squared_error: 0.1190 - val_loss: 0.1059 - val_mean_squared_error: 0.1059\n",
            "Epoch 25/50\n",
            "69/69 [==============================] - 12s 167ms/step - loss: 0.1189 - mean_squared_error: 0.1189 - val_loss: 0.1058 - val_mean_squared_error: 0.1058\n",
            "Epoch 26/50\n",
            "69/69 [==============================] - 11s 166ms/step - loss: 0.1187 - mean_squared_error: 0.1187 - val_loss: 0.1057 - val_mean_squared_error: 0.1057\n",
            "Epoch 27/50\n",
            "69/69 [==============================] - 12s 167ms/step - loss: 0.1186 - mean_squared_error: 0.1186 - val_loss: 0.1056 - val_mean_squared_error: 0.1056\n",
            "Epoch 28/50\n",
            "69/69 [==============================] - 11s 166ms/step - loss: 0.1185 - mean_squared_error: 0.1185 - val_loss: 0.1055 - val_mean_squared_error: 0.1055\n",
            "Epoch 29/50\n",
            "69/69 [==============================] - 12s 167ms/step - loss: 0.1184 - mean_squared_error: 0.1184 - val_loss: 0.1054 - val_mean_squared_error: 0.1054\n",
            "Epoch 30/50\n",
            "69/69 [==============================] - 11s 166ms/step - loss: 0.1183 - mean_squared_error: 0.1183 - val_loss: 0.1053 - val_mean_squared_error: 0.1053\n",
            "Epoch 31/50\n",
            "69/69 [==============================] - 12s 167ms/step - loss: 0.1182 - mean_squared_error: 0.1182 - val_loss: 0.1052 - val_mean_squared_error: 0.1052\n",
            "Epoch 32/50\n",
            "69/69 [==============================] - 12s 167ms/step - loss: 0.1181 - mean_squared_error: 0.1181 - val_loss: 0.1051 - val_mean_squared_error: 0.1051\n",
            "Epoch 33/50\n",
            "69/69 [==============================] - 11s 167ms/step - loss: 0.1180 - mean_squared_error: 0.1180 - val_loss: 0.1050 - val_mean_squared_error: 0.1050\n",
            "Epoch 34/50\n",
            "69/69 [==============================] - 11s 167ms/step - loss: 0.1179 - mean_squared_error: 0.1179 - val_loss: 0.1049 - val_mean_squared_error: 0.1049\n",
            "Epoch 35/50\n",
            "69/69 [==============================] - 11s 166ms/step - loss: 0.1178 - mean_squared_error: 0.1178 - val_loss: 0.1048 - val_mean_squared_error: 0.1048\n",
            "Epoch 36/50\n",
            "69/69 [==============================] - 11s 167ms/step - loss: 0.1177 - mean_squared_error: 0.1177 - val_loss: 0.1047 - val_mean_squared_error: 0.1047\n",
            "Epoch 37/50\n",
            "69/69 [==============================] - 12s 167ms/step - loss: 0.1176 - mean_squared_error: 0.1176 - val_loss: 0.1046 - val_mean_squared_error: 0.1046\n",
            "Epoch 38/50\n",
            "69/69 [==============================] - 11s 166ms/step - loss: 0.1175 - mean_squared_error: 0.1175 - val_loss: 0.1045 - val_mean_squared_error: 0.1045\n",
            "Epoch 39/50\n",
            "69/69 [==============================] - 11s 166ms/step - loss: 0.1174 - mean_squared_error: 0.1174 - val_loss: 0.1044 - val_mean_squared_error: 0.1044\n",
            "Epoch 40/50\n",
            "69/69 [==============================] - 12s 169ms/step - loss: 0.1173 - mean_squared_error: 0.1173 - val_loss: 0.1043 - val_mean_squared_error: 0.1043\n",
            "Epoch 41/50\n",
            "69/69 [==============================] - 12s 168ms/step - loss: 0.1172 - mean_squared_error: 0.1172 - val_loss: 0.1042 - val_mean_squared_error: 0.1042\n",
            "Epoch 42/50\n",
            "69/69 [==============================] - 11s 167ms/step - loss: 0.1171 - mean_squared_error: 0.1171 - val_loss: 0.1041 - val_mean_squared_error: 0.1041\n",
            "Epoch 43/50\n",
            "69/69 [==============================] - 11s 166ms/step - loss: 0.1170 - mean_squared_error: 0.1170 - val_loss: 0.1040 - val_mean_squared_error: 0.1040\n",
            "Epoch 44/50\n",
            "69/69 [==============================] - 12s 167ms/step - loss: 0.1169 - mean_squared_error: 0.1169 - val_loss: 0.1040 - val_mean_squared_error: 0.1040\n",
            "Epoch 45/50\n",
            "69/69 [==============================] - 11s 166ms/step - loss: 0.1168 - mean_squared_error: 0.1168 - val_loss: 0.1039 - val_mean_squared_error: 0.1039\n",
            "Epoch 46/50\n",
            "69/69 [==============================] - 11s 167ms/step - loss: 0.1167 - mean_squared_error: 0.1167 - val_loss: 0.1038 - val_mean_squared_error: 0.1038\n",
            "Epoch 47/50\n",
            "69/69 [==============================] - 11s 166ms/step - loss: 0.1166 - mean_squared_error: 0.1166 - val_loss: 0.1037 - val_mean_squared_error: 0.1037\n",
            "Epoch 48/50\n",
            "69/69 [==============================] - 12s 168ms/step - loss: 0.1165 - mean_squared_error: 0.1165 - val_loss: 0.1036 - val_mean_squared_error: 0.1036\n",
            "Epoch 49/50\n",
            "69/69 [==============================] - 11s 165ms/step - loss: 0.1164 - mean_squared_error: 0.1164 - val_loss: 0.1035 - val_mean_squared_error: 0.1035\n",
            "Epoch 50/50\n",
            "69/69 [==============================] - 11s 166ms/step - loss: 0.1163 - mean_squared_error: 0.1163 - val_loss: 0.1034 - val_mean_squared_error: 0.1034\n",
            "WARNING:tensorflow:Layer lstm will not use cuDNN kernel since it doesn't meet the cuDNN kernel criteria. It will use generic GPU kernel as fallback when running on GPU\n",
            "Epoch 1/50\n",
            "69/69 [==============================] - 11s 167ms/step - loss: 0.1211 - mean_squared_error: 0.1211 - val_loss: 0.1080 - val_mean_squared_error: 0.1080\n",
            "Epoch 2/50\n",
            "69/69 [==============================] - 11s 164ms/step - loss: 0.1210 - mean_squared_error: 0.1210 - val_loss: 0.1079 - val_mean_squared_error: 0.1079\n",
            "Epoch 3/50\n",
            "69/69 [==============================] - 11s 165ms/step - loss: 0.1209 - mean_squared_error: 0.1209 - val_loss: 0.1078 - val_mean_squared_error: 0.1078\n",
            "Epoch 4/50\n",
            "69/69 [==============================] - 11s 165ms/step - loss: 0.1207 - mean_squared_error: 0.1207 - val_loss: 0.1077 - val_mean_squared_error: 0.1077\n",
            "Epoch 5/50\n",
            "69/69 [==============================] - 11s 165ms/step - loss: 0.1206 - mean_squared_error: 0.1206 - val_loss: 0.1075 - val_mean_squared_error: 0.1075\n",
            "Epoch 6/50\n",
            "69/69 [==============================] - 11s 164ms/step - loss: 0.1205 - mean_squared_error: 0.1205 - val_loss: 0.1074 - val_mean_squared_error: 0.1074\n",
            "Epoch 7/50\n",
            "69/69 [==============================] - 11s 164ms/step - loss: 0.1204 - mean_squared_error: 0.1204 - val_loss: 0.1073 - val_mean_squared_error: 0.1073\n",
            "Epoch 8/50\n",
            "69/69 [==============================] - 11s 165ms/step - loss: 0.1203 - mean_squared_error: 0.1203 - val_loss: 0.1072 - val_mean_squared_error: 0.1072\n",
            "Epoch 9/50\n",
            "69/69 [==============================] - 11s 164ms/step - loss: 0.1201 - mean_squared_error: 0.1201 - val_loss: 0.1071 - val_mean_squared_error: 0.1071\n",
            "Epoch 10/50\n",
            "69/69 [==============================] - 11s 164ms/step - loss: 0.1200 - mean_squared_error: 0.1200 - val_loss: 0.1070 - val_mean_squared_error: 0.1070\n",
            "Epoch 11/50\n",
            "69/69 [==============================] - 11s 164ms/step - loss: 0.1199 - mean_squared_error: 0.1199 - val_loss: 0.1069 - val_mean_squared_error: 0.1069\n",
            "Epoch 12/50\n",
            "69/69 [==============================] - 11s 165ms/step - loss: 0.1198 - mean_squared_error: 0.1198 - val_loss: 0.1068 - val_mean_squared_error: 0.1068\n",
            "Epoch 13/50\n",
            "69/69 [==============================] - 11s 165ms/step - loss: 0.1197 - mean_squared_error: 0.1197 - val_loss: 0.1066 - val_mean_squared_error: 0.1066\n",
            "Epoch 14/50\n",
            "69/69 [==============================] - 11s 165ms/step - loss: 0.1196 - mean_squared_error: 0.1196 - val_loss: 0.1065 - val_mean_squared_error: 0.1065\n",
            "Epoch 15/50\n",
            "69/69 [==============================] - 11s 165ms/step - loss: 0.1194 - mean_squared_error: 0.1194 - val_loss: 0.1064 - val_mean_squared_error: 0.1064\n",
            "Epoch 16/50\n",
            "69/69 [==============================] - 11s 165ms/step - loss: 0.1193 - mean_squared_error: 0.1193 - val_loss: 0.1063 - val_mean_squared_error: 0.1063\n",
            "Epoch 17/50\n",
            "69/69 [==============================] - 11s 165ms/step - loss: 0.1192 - mean_squared_error: 0.1192 - val_loss: 0.1062 - val_mean_squared_error: 0.1062\n",
            "Epoch 18/50\n",
            "69/69 [==============================] - 11s 165ms/step - loss: 0.1191 - mean_squared_error: 0.1191 - val_loss: 0.1061 - val_mean_squared_error: 0.1061\n",
            "Epoch 19/50\n",
            "69/69 [==============================] - 11s 165ms/step - loss: 0.1190 - mean_squared_error: 0.1190 - val_loss: 0.1060 - val_mean_squared_error: 0.1060\n",
            "Epoch 20/50\n",
            "69/69 [==============================] - 11s 165ms/step - loss: 0.1189 - mean_squared_error: 0.1189 - val_loss: 0.1059 - val_mean_squared_error: 0.1059\n",
            "Epoch 21/50\n",
            "69/69 [==============================] - 11s 165ms/step - loss: 0.1188 - mean_squared_error: 0.1188 - val_loss: 0.1058 - val_mean_squared_error: 0.1058\n",
            "Epoch 22/50\n",
            "69/69 [==============================] - 11s 164ms/step - loss: 0.1186 - mean_squared_error: 0.1186 - val_loss: 0.1057 - val_mean_squared_error: 0.1057\n",
            "Epoch 23/50\n",
            "69/69 [==============================] - 11s 164ms/step - loss: 0.1185 - mean_squared_error: 0.1185 - val_loss: 0.1056 - val_mean_squared_error: 0.1056\n",
            "Epoch 24/50\n",
            "69/69 [==============================] - 11s 165ms/step - loss: 0.1184 - mean_squared_error: 0.1184 - val_loss: 0.1055 - val_mean_squared_error: 0.1055\n",
            "Epoch 25/50\n",
            "69/69 [==============================] - 11s 164ms/step - loss: 0.1183 - mean_squared_error: 0.1183 - val_loss: 0.1054 - val_mean_squared_error: 0.1054\n",
            "Epoch 26/50\n",
            "69/69 [==============================] - 11s 165ms/step - loss: 0.1182 - mean_squared_error: 0.1182 - val_loss: 0.1052 - val_mean_squared_error: 0.1052\n",
            "Epoch 27/50\n",
            "69/69 [==============================] - 11s 166ms/step - loss: 0.1181 - mean_squared_error: 0.1181 - val_loss: 0.1051 - val_mean_squared_error: 0.1051\n",
            "Epoch 28/50\n",
            "69/69 [==============================] - 11s 165ms/step - loss: 0.1180 - mean_squared_error: 0.1180 - val_loss: 0.1050 - val_mean_squared_error: 0.1050\n",
            "Epoch 29/50\n",
            "69/69 [==============================] - 11s 165ms/step - loss: 0.1179 - mean_squared_error: 0.1179 - val_loss: 0.1049 - val_mean_squared_error: 0.1049\n",
            "Epoch 30/50\n",
            "69/69 [==============================] - 11s 166ms/step - loss: 0.1177 - mean_squared_error: 0.1177 - val_loss: 0.1048 - val_mean_squared_error: 0.1048\n",
            "Epoch 31/50\n",
            "69/69 [==============================] - 11s 165ms/step - loss: 0.1176 - mean_squared_error: 0.1176 - val_loss: 0.1047 - val_mean_squared_error: 0.1047\n",
            "Epoch 32/50\n",
            "69/69 [==============================] - 11s 165ms/step - loss: 0.1175 - mean_squared_error: 0.1175 - val_loss: 0.1046 - val_mean_squared_error: 0.1046\n",
            "Epoch 33/50\n",
            "69/69 [==============================] - 11s 165ms/step - loss: 0.1174 - mean_squared_error: 0.1174 - val_loss: 0.1045 - val_mean_squared_error: 0.1045\n",
            "Epoch 34/50\n",
            "69/69 [==============================] - 11s 165ms/step - loss: 0.1173 - mean_squared_error: 0.1173 - val_loss: 0.1044 - val_mean_squared_error: 0.1044\n",
            "Epoch 35/50\n",
            "69/69 [==============================] - 11s 165ms/step - loss: 0.1172 - mean_squared_error: 0.1172 - val_loss: 0.1043 - val_mean_squared_error: 0.1043\n",
            "Epoch 36/50\n",
            "69/69 [==============================] - 11s 165ms/step - loss: 0.1171 - mean_squared_error: 0.1171 - val_loss: 0.1042 - val_mean_squared_error: 0.1042\n",
            "Epoch 37/50\n",
            "69/69 [==============================] - 11s 165ms/step - loss: 0.1170 - mean_squared_error: 0.1170 - val_loss: 0.1041 - val_mean_squared_error: 0.1041\n",
            "Epoch 38/50\n",
            "69/69 [==============================] - 11s 165ms/step - loss: 0.1169 - mean_squared_error: 0.1169 - val_loss: 0.1040 - val_mean_squared_error: 0.1040\n",
            "Epoch 39/50\n",
            "69/69 [==============================] - 11s 165ms/step - loss: 0.1168 - mean_squared_error: 0.1168 - val_loss: 0.1039 - val_mean_squared_error: 0.1039\n",
            "Epoch 40/50\n",
            "69/69 [==============================] - 11s 165ms/step - loss: 0.1167 - mean_squared_error: 0.1167 - val_loss: 0.1038 - val_mean_squared_error: 0.1038\n",
            "Epoch 41/50\n",
            "69/69 [==============================] - 11s 165ms/step - loss: 0.1166 - mean_squared_error: 0.1166 - val_loss: 0.1037 - val_mean_squared_error: 0.1037\n",
            "Epoch 42/50\n",
            "69/69 [==============================] - 11s 166ms/step - loss: 0.1165 - mean_squared_error: 0.1165 - val_loss: 0.1036 - val_mean_squared_error: 0.1036\n",
            "Epoch 43/50\n",
            "69/69 [==============================] - 11s 165ms/step - loss: 0.1163 - mean_squared_error: 0.1163 - val_loss: 0.1035 - val_mean_squared_error: 0.1035\n",
            "Epoch 44/50\n",
            "69/69 [==============================] - 12s 167ms/step - loss: 0.1162 - mean_squared_error: 0.1162 - val_loss: 0.1034 - val_mean_squared_error: 0.1034\n",
            "Epoch 45/50\n",
            "69/69 [==============================] - 11s 166ms/step - loss: 0.1161 - mean_squared_error: 0.1161 - val_loss: 0.1033 - val_mean_squared_error: 0.1033\n",
            "Epoch 46/50\n",
            "69/69 [==============================] - 12s 167ms/step - loss: 0.1160 - mean_squared_error: 0.1160 - val_loss: 0.1032 - val_mean_squared_error: 0.1032\n",
            "Epoch 47/50\n",
            "69/69 [==============================] - 11s 166ms/step - loss: 0.1159 - mean_squared_error: 0.1159 - val_loss: 0.1031 - val_mean_squared_error: 0.1031\n",
            "Epoch 48/50\n",
            "69/69 [==============================] - 11s 166ms/step - loss: 0.1158 - mean_squared_error: 0.1158 - val_loss: 0.1030 - val_mean_squared_error: 0.1030\n",
            "Epoch 49/50\n",
            "69/69 [==============================] - 11s 166ms/step - loss: 0.1157 - mean_squared_error: 0.1157 - val_loss: 0.1029 - val_mean_squared_error: 0.1029\n",
            "Epoch 50/50\n",
            "69/69 [==============================] - 11s 166ms/step - loss: 0.1156 - mean_squared_error: 0.1156 - val_loss: 0.1028 - val_mean_squared_error: 0.1028\n"
          ],
          "name": "stdout"
        },
        {
          "output_type": "display_data",
          "data": {
            "text/html": [
              "<span style=\"color:#4527A0\"><h1 style=\"font-size:18px\">Trial complete</h1></span>"
            ],
            "text/plain": [
              "<IPython.core.display.HTML object>"
            ]
          },
          "metadata": {
            "tags": []
          }
        },
        {
          "output_type": "display_data",
          "data": {
            "text/html": [
              "<span style=\"color:#4527A0\"><h1 style=\"font-size:18px\">Trial summary</h1></span>"
            ],
            "text/plain": [
              "<IPython.core.display.HTML object>"
            ]
          },
          "metadata": {
            "tags": []
          }
        },
        {
          "output_type": "display_data",
          "data": {
            "text/html": [
              "<span style=\"color:cyan\"> |-Trial ID: 38bc79dd4ced27eb2aaef63107a808f3</span>"
            ],
            "text/plain": [
              "<IPython.core.display.HTML object>"
            ]
          },
          "metadata": {
            "tags": []
          }
        },
        {
          "output_type": "display_data",
          "data": {
            "text/html": [
              "<span style=\"color:cyan\"> |-Score: 0.11594123765826225</span>"
            ],
            "text/plain": [
              "<IPython.core.display.HTML object>"
            ]
          },
          "metadata": {
            "tags": []
          }
        },
        {
          "output_type": "display_data",
          "data": {
            "text/html": [
              "<span style=\"color:cyan\"> |-Best step: 0</span>"
            ],
            "text/plain": [
              "<IPython.core.display.HTML object>"
            ]
          },
          "metadata": {
            "tags": []
          }
        },
        {
          "output_type": "display_data",
          "data": {
            "text/html": [
              "<span style=\"color:#7E57C2\"><h2 style=\"font-size:16px\">Hyperparameters:</h2></span>"
            ],
            "text/plain": [
              "<IPython.core.display.HTML object>"
            ]
          },
          "metadata": {
            "tags": []
          }
        },
        {
          "output_type": "display_data",
          "data": {
            "text/html": [
              "<span style=\"color:cyan\"> |-kernel_size: 30</span>"
            ],
            "text/plain": [
              "<IPython.core.display.HTML object>"
            ]
          },
          "metadata": {
            "tags": []
          }
        },
        {
          "output_type": "display_data",
          "data": {
            "text/html": [
              "<span style=\"color:blue\"> |-num_channels: 200</span>"
            ],
            "text/plain": [
              "<IPython.core.display.HTML object>"
            ]
          },
          "metadata": {
            "tags": []
          }
        },
        {
          "output_type": "stream",
          "text": [
            "WARNING:tensorflow:Layer lstm will not use cuDNN kernel since it doesn't meet the cuDNN kernel criteria. It will use generic GPU kernel as fallback when running on GPU\n",
            "Epoch 1/50\n",
            "69/69 [==============================] - 11s 156ms/step - loss: 0.1210 - mean_squared_error: 0.1210 - val_loss: 0.1079 - val_mean_squared_error: 0.1079\n",
            "Epoch 2/50\n",
            "69/69 [==============================] - 11s 153ms/step - loss: 0.1209 - mean_squared_error: 0.1209 - val_loss: 0.1078 - val_mean_squared_error: 0.1078\n",
            "Epoch 3/50\n",
            "69/69 [==============================] - 11s 153ms/step - loss: 0.1208 - mean_squared_error: 0.1208 - val_loss: 0.1077 - val_mean_squared_error: 0.1077\n",
            "Epoch 4/50\n",
            "69/69 [==============================] - 11s 155ms/step - loss: 0.1207 - mean_squared_error: 0.1207 - val_loss: 0.1076 - val_mean_squared_error: 0.1076\n",
            "Epoch 5/50\n",
            "69/69 [==============================] - 11s 153ms/step - loss: 0.1206 - mean_squared_error: 0.1206 - val_loss: 0.1075 - val_mean_squared_error: 0.1075\n",
            "Epoch 6/50\n",
            "69/69 [==============================] - 11s 153ms/step - loss: 0.1205 - mean_squared_error: 0.1205 - val_loss: 0.1074 - val_mean_squared_error: 0.1074\n",
            "Epoch 7/50\n",
            "69/69 [==============================] - 11s 153ms/step - loss: 0.1204 - mean_squared_error: 0.1204 - val_loss: 0.1073 - val_mean_squared_error: 0.1073\n",
            "Epoch 8/50\n",
            "69/69 [==============================] - 11s 153ms/step - loss: 0.1203 - mean_squared_error: 0.1203 - val_loss: 0.1072 - val_mean_squared_error: 0.1072\n",
            "Epoch 9/50\n",
            "69/69 [==============================] - 11s 153ms/step - loss: 0.1202 - mean_squared_error: 0.1202 - val_loss: 0.1071 - val_mean_squared_error: 0.1071\n",
            "Epoch 10/50\n",
            "69/69 [==============================] - 11s 155ms/step - loss: 0.1201 - mean_squared_error: 0.1201 - val_loss: 0.1070 - val_mean_squared_error: 0.1070\n",
            "Epoch 11/50\n",
            "69/69 [==============================] - 11s 153ms/step - loss: 0.1200 - mean_squared_error: 0.1200 - val_loss: 0.1069 - val_mean_squared_error: 0.1069\n",
            "Epoch 12/50\n",
            "69/69 [==============================] - 11s 153ms/step - loss: 0.1199 - mean_squared_error: 0.1199 - val_loss: 0.1068 - val_mean_squared_error: 0.1068\n",
            "Epoch 13/50\n",
            "69/69 [==============================] - 11s 153ms/step - loss: 0.1198 - mean_squared_error: 0.1198 - val_loss: 0.1067 - val_mean_squared_error: 0.1067\n",
            "Epoch 14/50\n",
            "69/69 [==============================] - 11s 153ms/step - loss: 0.1197 - mean_squared_error: 0.1197 - val_loss: 0.1066 - val_mean_squared_error: 0.1066\n",
            "Epoch 15/50\n",
            "69/69 [==============================] - 11s 153ms/step - loss: 0.1196 - mean_squared_error: 0.1196 - val_loss: 0.1066 - val_mean_squared_error: 0.1066\n",
            "Epoch 16/50\n",
            "69/69 [==============================] - 11s 154ms/step - loss: 0.1195 - mean_squared_error: 0.1195 - val_loss: 0.1065 - val_mean_squared_error: 0.1065\n",
            "Epoch 17/50\n",
            "69/69 [==============================] - 11s 152ms/step - loss: 0.1194 - mean_squared_error: 0.1194 - val_loss: 0.1064 - val_mean_squared_error: 0.1064\n",
            "Epoch 18/50\n",
            "69/69 [==============================] - 11s 153ms/step - loss: 0.1193 - mean_squared_error: 0.1193 - val_loss: 0.1063 - val_mean_squared_error: 0.1063\n",
            "Epoch 19/50\n",
            "69/69 [==============================] - 11s 153ms/step - loss: 0.1192 - mean_squared_error: 0.1192 - val_loss: 0.1062 - val_mean_squared_error: 0.1062\n",
            "Epoch 20/50\n",
            "69/69 [==============================] - 11s 153ms/step - loss: 0.1191 - mean_squared_error: 0.1191 - val_loss: 0.1061 - val_mean_squared_error: 0.1061\n",
            "Epoch 21/50\n",
            "69/69 [==============================] - 10s 152ms/step - loss: 0.1190 - mean_squared_error: 0.1190 - val_loss: 0.1060 - val_mean_squared_error: 0.1060\n",
            "Epoch 22/50\n",
            "69/69 [==============================] - 11s 153ms/step - loss: 0.1189 - mean_squared_error: 0.1189 - val_loss: 0.1059 - val_mean_squared_error: 0.1059\n",
            "Epoch 23/50\n",
            "69/69 [==============================] - 11s 155ms/step - loss: 0.1188 - mean_squared_error: 0.1188 - val_loss: 0.1058 - val_mean_squared_error: 0.1058\n",
            "Epoch 24/50\n",
            "69/69 [==============================] - 11s 152ms/step - loss: 0.1187 - mean_squared_error: 0.1187 - val_loss: 0.1057 - val_mean_squared_error: 0.1057\n",
            "Epoch 25/50\n",
            "69/69 [==============================] - 10s 152ms/step - loss: 0.1186 - mean_squared_error: 0.1186 - val_loss: 0.1056 - val_mean_squared_error: 0.1056\n",
            "Epoch 26/50\n",
            "69/69 [==============================] - 11s 152ms/step - loss: 0.1185 - mean_squared_error: 0.1185 - val_loss: 0.1056 - val_mean_squared_error: 0.1056\n",
            "Epoch 27/50\n",
            "69/69 [==============================] - 11s 155ms/step - loss: 0.1184 - mean_squared_error: 0.1184 - val_loss: 0.1055 - val_mean_squared_error: 0.1055\n",
            "Epoch 28/50\n",
            "69/69 [==============================] - 11s 153ms/step - loss: 0.1183 - mean_squared_error: 0.1183 - val_loss: 0.1054 - val_mean_squared_error: 0.1054\n",
            "Epoch 29/50\n",
            "69/69 [==============================] - 11s 153ms/step - loss: 0.1182 - mean_squared_error: 0.1182 - val_loss: 0.1053 - val_mean_squared_error: 0.1053\n",
            "Epoch 30/50\n",
            "69/69 [==============================] - 11s 153ms/step - loss: 0.1181 - mean_squared_error: 0.1181 - val_loss: 0.1052 - val_mean_squared_error: 0.1052\n",
            "Epoch 31/50\n",
            "69/69 [==============================] - 11s 156ms/step - loss: 0.1180 - mean_squared_error: 0.1180 - val_loss: 0.1051 - val_mean_squared_error: 0.1051\n",
            "Epoch 32/50\n",
            "69/69 [==============================] - 11s 153ms/step - loss: 0.1180 - mean_squared_error: 0.1180 - val_loss: 0.1050 - val_mean_squared_error: 0.1050\n",
            "Epoch 33/50\n",
            "69/69 [==============================] - 11s 153ms/step - loss: 0.1179 - mean_squared_error: 0.1179 - val_loss: 0.1049 - val_mean_squared_error: 0.1049\n",
            "Epoch 34/50\n",
            "69/69 [==============================] - 11s 153ms/step - loss: 0.1178 - mean_squared_error: 0.1178 - val_loss: 0.1049 - val_mean_squared_error: 0.1049\n",
            "Epoch 35/50\n",
            "69/69 [==============================] - 11s 153ms/step - loss: 0.1177 - mean_squared_error: 0.1177 - val_loss: 0.1048 - val_mean_squared_error: 0.1048\n",
            "Epoch 36/50\n",
            "69/69 [==============================] - 11s 153ms/step - loss: 0.1176 - mean_squared_error: 0.1176 - val_loss: 0.1047 - val_mean_squared_error: 0.1047\n",
            "Epoch 37/50\n",
            "69/69 [==============================] - 11s 154ms/step - loss: 0.1175 - mean_squared_error: 0.1175 - val_loss: 0.1046 - val_mean_squared_error: 0.1046\n",
            "Epoch 38/50\n",
            "69/69 [==============================] - 11s 152ms/step - loss: 0.1174 - mean_squared_error: 0.1174 - val_loss: 0.1045 - val_mean_squared_error: 0.1045\n",
            "Epoch 39/50\n",
            "69/69 [==============================] - 11s 153ms/step - loss: 0.1173 - mean_squared_error: 0.1173 - val_loss: 0.1044 - val_mean_squared_error: 0.1044\n",
            "Epoch 40/50\n",
            "69/69 [==============================] - 11s 155ms/step - loss: 0.1172 - mean_squared_error: 0.1172 - val_loss: 0.1044 - val_mean_squared_error: 0.1044\n",
            "Epoch 41/50\n",
            "69/69 [==============================] - 11s 153ms/step - loss: 0.1171 - mean_squared_error: 0.1171 - val_loss: 0.1043 - val_mean_squared_error: 0.1043\n",
            "Epoch 42/50\n",
            "69/69 [==============================] - 11s 153ms/step - loss: 0.1171 - mean_squared_error: 0.1171 - val_loss: 0.1042 - val_mean_squared_error: 0.1042\n",
            "Epoch 43/50\n",
            "69/69 [==============================] - 11s 152ms/step - loss: 0.1170 - mean_squared_error: 0.1170 - val_loss: 0.1041 - val_mean_squared_error: 0.1041\n",
            "Epoch 44/50\n",
            "69/69 [==============================] - 11s 155ms/step - loss: 0.1169 - mean_squared_error: 0.1169 - val_loss: 0.1040 - val_mean_squared_error: 0.1040\n",
            "Epoch 45/50\n",
            "69/69 [==============================] - 11s 153ms/step - loss: 0.1168 - mean_squared_error: 0.1168 - val_loss: 0.1039 - val_mean_squared_error: 0.1039\n",
            "Epoch 46/50\n",
            "69/69 [==============================] - 11s 153ms/step - loss: 0.1167 - mean_squared_error: 0.1167 - val_loss: 0.1039 - val_mean_squared_error: 0.1039\n",
            "Epoch 47/50\n",
            "69/69 [==============================] - 11s 152ms/step - loss: 0.1166 - mean_squared_error: 0.1166 - val_loss: 0.1038 - val_mean_squared_error: 0.1038\n",
            "Epoch 48/50\n",
            "69/69 [==============================] - 11s 153ms/step - loss: 0.1165 - mean_squared_error: 0.1165 - val_loss: 0.1037 - val_mean_squared_error: 0.1037\n",
            "Epoch 49/50\n",
            "69/69 [==============================] - 11s 152ms/step - loss: 0.1164 - mean_squared_error: 0.1164 - val_loss: 0.1036 - val_mean_squared_error: 0.1036\n",
            "Epoch 50/50\n",
            "69/69 [==============================] - 11s 155ms/step - loss: 0.1163 - mean_squared_error: 0.1163 - val_loss: 0.1035 - val_mean_squared_error: 0.1035\n",
            "WARNING:tensorflow:Layer lstm will not use cuDNN kernel since it doesn't meet the cuDNN kernel criteria. It will use generic GPU kernel as fallback when running on GPU\n",
            "Epoch 1/50\n",
            "69/69 [==============================] - 11s 154ms/step - loss: 0.1205 - mean_squared_error: 0.1205 - val_loss: 0.1074 - val_mean_squared_error: 0.1074\n",
            "Epoch 2/50\n",
            "69/69 [==============================] - 10s 152ms/step - loss: 0.1203 - mean_squared_error: 0.1203 - val_loss: 0.1073 - val_mean_squared_error: 0.1073\n",
            "Epoch 3/50\n",
            "69/69 [==============================] - 10s 152ms/step - loss: 0.1202 - mean_squared_error: 0.1202 - val_loss: 0.1072 - val_mean_squared_error: 0.1072\n",
            "Epoch 4/50\n",
            "69/69 [==============================] - 10s 151ms/step - loss: 0.1201 - mean_squared_error: 0.1201 - val_loss: 0.1071 - val_mean_squared_error: 0.1071\n",
            "Epoch 5/50\n",
            "69/69 [==============================] - 10s 151ms/step - loss: 0.1200 - mean_squared_error: 0.1200 - val_loss: 0.1070 - val_mean_squared_error: 0.1070\n",
            "Epoch 6/50\n",
            "69/69 [==============================] - 10s 151ms/step - loss: 0.1199 - mean_squared_error: 0.1199 - val_loss: 0.1069 - val_mean_squared_error: 0.1069\n",
            "Epoch 7/50\n",
            "69/69 [==============================] - 10s 151ms/step - loss: 0.1198 - mean_squared_error: 0.1198 - val_loss: 0.1068 - val_mean_squared_error: 0.1068\n",
            "Epoch 8/50\n",
            "69/69 [==============================] - 10s 151ms/step - loss: 0.1197 - mean_squared_error: 0.1197 - val_loss: 0.1067 - val_mean_squared_error: 0.1067\n",
            "Epoch 9/50\n",
            "69/69 [==============================] - 10s 151ms/step - loss: 0.1196 - mean_squared_error: 0.1196 - val_loss: 0.1066 - val_mean_squared_error: 0.1066\n",
            "Epoch 10/50\n",
            "69/69 [==============================] - 10s 151ms/step - loss: 0.1195 - mean_squared_error: 0.1195 - val_loss: 0.1065 - val_mean_squared_error: 0.1065\n",
            "Epoch 11/50\n",
            "69/69 [==============================] - 10s 151ms/step - loss: 0.1193 - mean_squared_error: 0.1193 - val_loss: 0.1064 - val_mean_squared_error: 0.1064\n",
            "Epoch 12/50\n",
            "69/69 [==============================] - 10s 151ms/step - loss: 0.1192 - mean_squared_error: 0.1192 - val_loss: 0.1062 - val_mean_squared_error: 0.1062\n",
            "Epoch 13/50\n",
            "69/69 [==============================] - 10s 151ms/step - loss: 0.1191 - mean_squared_error: 0.1191 - val_loss: 0.1061 - val_mean_squared_error: 0.1061\n",
            "Epoch 14/50\n",
            "69/69 [==============================] - 10s 151ms/step - loss: 0.1190 - mean_squared_error: 0.1190 - val_loss: 0.1060 - val_mean_squared_error: 0.1060\n",
            "Epoch 15/50\n",
            "69/69 [==============================] - 10s 151ms/step - loss: 0.1189 - mean_squared_error: 0.1189 - val_loss: 0.1059 - val_mean_squared_error: 0.1059\n",
            "Epoch 16/50\n",
            "69/69 [==============================] - 10s 150ms/step - loss: 0.1188 - mean_squared_error: 0.1188 - val_loss: 0.1058 - val_mean_squared_error: 0.1058\n",
            "Epoch 17/50\n",
            "69/69 [==============================] - 10s 151ms/step - loss: 0.1187 - mean_squared_error: 0.1187 - val_loss: 0.1057 - val_mean_squared_error: 0.1057\n",
            "Epoch 18/50\n",
            "69/69 [==============================] - 10s 151ms/step - loss: 0.1186 - mean_squared_error: 0.1186 - val_loss: 0.1056 - val_mean_squared_error: 0.1056\n",
            "Epoch 19/50\n",
            "69/69 [==============================] - 10s 151ms/step - loss: 0.1185 - mean_squared_error: 0.1185 - val_loss: 0.1055 - val_mean_squared_error: 0.1055\n",
            "Epoch 20/50\n",
            "69/69 [==============================] - 10s 151ms/step - loss: 0.1183 - mean_squared_error: 0.1183 - val_loss: 0.1054 - val_mean_squared_error: 0.1054\n",
            "Epoch 21/50\n",
            "69/69 [==============================] - 10s 151ms/step - loss: 0.1182 - mean_squared_error: 0.1182 - val_loss: 0.1053 - val_mean_squared_error: 0.1053\n",
            "Epoch 22/50\n",
            "69/69 [==============================] - 10s 151ms/step - loss: 0.1181 - mean_squared_error: 0.1181 - val_loss: 0.1052 - val_mean_squared_error: 0.1052\n",
            "Epoch 23/50\n",
            "69/69 [==============================] - 10s 151ms/step - loss: 0.1180 - mean_squared_error: 0.1180 - val_loss: 0.1051 - val_mean_squared_error: 0.1051\n",
            "Epoch 24/50\n",
            "69/69 [==============================] - 10s 151ms/step - loss: 0.1179 - mean_squared_error: 0.1179 - val_loss: 0.1050 - val_mean_squared_error: 0.1050\n",
            "Epoch 25/50\n",
            "69/69 [==============================] - 10s 151ms/step - loss: 0.1178 - mean_squared_error: 0.1178 - val_loss: 0.1049 - val_mean_squared_error: 0.1049\n",
            "Epoch 26/50\n",
            "69/69 [==============================] - 10s 152ms/step - loss: 0.1177 - mean_squared_error: 0.1177 - val_loss: 0.1048 - val_mean_squared_error: 0.1048\n",
            "Epoch 27/50\n",
            "69/69 [==============================] - 10s 151ms/step - loss: 0.1176 - mean_squared_error: 0.1176 - val_loss: 0.1047 - val_mean_squared_error: 0.1047\n",
            "Epoch 28/50\n",
            "69/69 [==============================] - 10s 151ms/step - loss: 0.1175 - mean_squared_error: 0.1175 - val_loss: 0.1046 - val_mean_squared_error: 0.1046\n",
            "Epoch 29/50\n",
            "69/69 [==============================] - 10s 151ms/step - loss: 0.1174 - mean_squared_error: 0.1174 - val_loss: 0.1045 - val_mean_squared_error: 0.1045\n",
            "Epoch 30/50\n",
            "69/69 [==============================] - 10s 151ms/step - loss: 0.1173 - mean_squared_error: 0.1173 - val_loss: 0.1044 - val_mean_squared_error: 0.1044\n",
            "Epoch 31/50\n",
            "69/69 [==============================] - 10s 152ms/step - loss: 0.1172 - mean_squared_error: 0.1172 - val_loss: 0.1043 - val_mean_squared_error: 0.1043\n",
            "Epoch 32/50\n",
            "69/69 [==============================] - 10s 151ms/step - loss: 0.1171 - mean_squared_error: 0.1171 - val_loss: 0.1042 - val_mean_squared_error: 0.1042\n",
            "Epoch 33/50\n",
            "69/69 [==============================] - 10s 151ms/step - loss: 0.1170 - mean_squared_error: 0.1170 - val_loss: 0.1041 - val_mean_squared_error: 0.1041\n",
            "Epoch 34/50\n",
            "69/69 [==============================] - 10s 151ms/step - loss: 0.1169 - mean_squared_error: 0.1169 - val_loss: 0.1040 - val_mean_squared_error: 0.1040\n",
            "Epoch 35/50\n",
            "69/69 [==============================] - 10s 151ms/step - loss: 0.1168 - mean_squared_error: 0.1168 - val_loss: 0.1039 - val_mean_squared_error: 0.1039\n",
            "Epoch 36/50\n",
            "69/69 [==============================] - 10s 151ms/step - loss: 0.1167 - mean_squared_error: 0.1167 - val_loss: 0.1038 - val_mean_squared_error: 0.1038\n",
            "Epoch 37/50\n",
            "69/69 [==============================] - 10s 151ms/step - loss: 0.1166 - mean_squared_error: 0.1166 - val_loss: 0.1037 - val_mean_squared_error: 0.1037\n",
            "Epoch 38/50\n",
            "69/69 [==============================] - 10s 151ms/step - loss: 0.1165 - mean_squared_error: 0.1165 - val_loss: 0.1036 - val_mean_squared_error: 0.1036\n",
            "Epoch 39/50\n",
            "69/69 [==============================] - 10s 151ms/step - loss: 0.1164 - mean_squared_error: 0.1164 - val_loss: 0.1035 - val_mean_squared_error: 0.1035\n",
            "Epoch 40/50\n",
            "69/69 [==============================] - 11s 153ms/step - loss: 0.1163 - mean_squared_error: 0.1163 - val_loss: 0.1034 - val_mean_squared_error: 0.1034\n",
            "Epoch 41/50\n",
            "69/69 [==============================] - 11s 153ms/step - loss: 0.1162 - mean_squared_error: 0.1162 - val_loss: 0.1033 - val_mean_squared_error: 0.1033\n",
            "Epoch 42/50\n",
            "69/69 [==============================] - 11s 153ms/step - loss: 0.1160 - mean_squared_error: 0.1160 - val_loss: 0.1033 - val_mean_squared_error: 0.1033\n",
            "Epoch 43/50\n",
            "69/69 [==============================] - 10s 152ms/step - loss: 0.1159 - mean_squared_error: 0.1159 - val_loss: 0.1032 - val_mean_squared_error: 0.1032\n",
            "Epoch 44/50\n",
            "69/69 [==============================] - 11s 154ms/step - loss: 0.1158 - mean_squared_error: 0.1158 - val_loss: 0.1031 - val_mean_squared_error: 0.1031\n",
            "Epoch 45/50\n",
            "69/69 [==============================] - 11s 152ms/step - loss: 0.1157 - mean_squared_error: 0.1157 - val_loss: 0.1030 - val_mean_squared_error: 0.1030\n",
            "Epoch 46/50\n",
            "69/69 [==============================] - 11s 152ms/step - loss: 0.1156 - mean_squared_error: 0.1156 - val_loss: 0.1029 - val_mean_squared_error: 0.1029\n",
            "Epoch 47/50\n",
            "69/69 [==============================] - 11s 153ms/step - loss: 0.1155 - mean_squared_error: 0.1155 - val_loss: 0.1028 - val_mean_squared_error: 0.1028\n",
            "Epoch 48/50\n",
            "69/69 [==============================] - 11s 154ms/step - loss: 0.1154 - mean_squared_error: 0.1154 - val_loss: 0.1027 - val_mean_squared_error: 0.1027\n",
            "Epoch 49/50\n",
            "69/69 [==============================] - 11s 154ms/step - loss: 0.1153 - mean_squared_error: 0.1153 - val_loss: 0.1026 - val_mean_squared_error: 0.1026\n",
            "Epoch 50/50\n",
            "69/69 [==============================] - 11s 152ms/step - loss: 0.1152 - mean_squared_error: 0.1152 - val_loss: 0.1025 - val_mean_squared_error: 0.1025\n"
          ],
          "name": "stdout"
        },
        {
          "output_type": "display_data",
          "data": {
            "text/html": [
              "<span style=\"color:#4527A0\"><h1 style=\"font-size:18px\">Trial complete</h1></span>"
            ],
            "text/plain": [
              "<IPython.core.display.HTML object>"
            ]
          },
          "metadata": {
            "tags": []
          }
        },
        {
          "output_type": "display_data",
          "data": {
            "text/html": [
              "<span style=\"color:#4527A0\"><h1 style=\"font-size:18px\">Trial summary</h1></span>"
            ],
            "text/plain": [
              "<IPython.core.display.HTML object>"
            ]
          },
          "metadata": {
            "tags": []
          }
        },
        {
          "output_type": "display_data",
          "data": {
            "text/html": [
              "<span style=\"color:cyan\"> |-Trial ID: 2dd630638497ad648acc004ead3a676d</span>"
            ],
            "text/plain": [
              "<IPython.core.display.HTML object>"
            ]
          },
          "metadata": {
            "tags": []
          }
        },
        {
          "output_type": "display_data",
          "data": {
            "text/html": [
              "<span style=\"color:cyan\"> |-Score: 0.11579378694295883</span>"
            ],
            "text/plain": [
              "<IPython.core.display.HTML object>"
            ]
          },
          "metadata": {
            "tags": []
          }
        },
        {
          "output_type": "display_data",
          "data": {
            "text/html": [
              "<span style=\"color:cyan\"> |-Best step: 0</span>"
            ],
            "text/plain": [
              "<IPython.core.display.HTML object>"
            ]
          },
          "metadata": {
            "tags": []
          }
        },
        {
          "output_type": "display_data",
          "data": {
            "text/html": [
              "<span style=\"color:#7E57C2\"><h2 style=\"font-size:16px\">Hyperparameters:</h2></span>"
            ],
            "text/plain": [
              "<IPython.core.display.HTML object>"
            ]
          },
          "metadata": {
            "tags": []
          }
        },
        {
          "output_type": "display_data",
          "data": {
            "text/html": [
              "<span style=\"color:cyan\"> |-kernel_size: 18</span>"
            ],
            "text/plain": [
              "<IPython.core.display.HTML object>"
            ]
          },
          "metadata": {
            "tags": []
          }
        },
        {
          "output_type": "display_data",
          "data": {
            "text/html": [
              "<span style=\"color:blue\"> |-num_channels: 200</span>"
            ],
            "text/plain": [
              "<IPython.core.display.HTML object>"
            ]
          },
          "metadata": {
            "tags": []
          }
        },
        {
          "output_type": "stream",
          "text": [
            "INFO:tensorflow:Oracle triggered exit\n"
          ],
          "name": "stdout"
        }
      ]
    },
    {
      "cell_type": "code",
      "metadata": {
        "id": "gxQrrfYyQcCM",
        "colab_type": "code",
        "colab": {
          "base_uri": "https://localhost:8080/",
          "height": 1000
        },
        "outputId": "0c453776-353a-4924-aa46-878498bdf890"
      },
      "source": [
        "tuner.results_summary()"
      ],
      "execution_count": 22,
      "outputs": [
        {
          "output_type": "display_data",
          "data": {
            "text/html": [
              "<span style=\"color:#4527A0\"><h1 style=\"font-size:18px\">Results summary</h1></span>"
            ],
            "text/plain": [
              "<IPython.core.display.HTML object>"
            ]
          },
          "metadata": {
            "tags": []
          }
        },
        {
          "output_type": "display_data",
          "data": {
            "text/html": [
              "<span style=\"color:cyan\"> |-Results in model_checkpoints/tune_CNN_LSTM/logs_dir/tune_CNN_LSTM</span>"
            ],
            "text/plain": [
              "<IPython.core.display.HTML object>"
            ]
          },
          "metadata": {
            "tags": []
          }
        },
        {
          "output_type": "display_data",
          "data": {
            "text/html": [
              "<span style=\"color:cyan\"> |-Showing 10 best trials</span>"
            ],
            "text/plain": [
              "<IPython.core.display.HTML object>"
            ]
          },
          "metadata": {
            "tags": []
          }
        },
        {
          "output_type": "display_data",
          "data": {
            "text/html": [
              "<span style=\"color:cyan\"> |-Objective(name='mean_squared_error', direction='min')</span>"
            ],
            "text/plain": [
              "<IPython.core.display.HTML object>"
            ]
          },
          "metadata": {
            "tags": []
          }
        },
        {
          "output_type": "display_data",
          "data": {
            "text/html": [
              "<span style=\"color:#4527A0\"><h1 style=\"font-size:18px\">Trial summary</h1></span>"
            ],
            "text/plain": [
              "<IPython.core.display.HTML object>"
            ]
          },
          "metadata": {
            "tags": []
          }
        },
        {
          "output_type": "display_data",
          "data": {
            "text/html": [
              "<span style=\"color:cyan\"> |-Trial ID: 3beece8c4689f9de305d7eb0744534e6</span>"
            ],
            "text/plain": [
              "<IPython.core.display.HTML object>"
            ]
          },
          "metadata": {
            "tags": []
          }
        },
        {
          "output_type": "display_data",
          "data": {
            "text/html": [
              "<span style=\"color:cyan\"> |-Score: 0.02215520292520523</span>"
            ],
            "text/plain": [
              "<IPython.core.display.HTML object>"
            ]
          },
          "metadata": {
            "tags": []
          }
        },
        {
          "output_type": "display_data",
          "data": {
            "text/html": [
              "<span style=\"color:cyan\"> |-Best step: 0</span>"
            ],
            "text/plain": [
              "<IPython.core.display.HTML object>"
            ]
          },
          "metadata": {
            "tags": []
          }
        },
        {
          "output_type": "display_data",
          "data": {
            "text/html": [
              "<span style=\"color:#7E57C2\"><h2 style=\"font-size:16px\">Hyperparameters:</h2></span>"
            ],
            "text/plain": [
              "<IPython.core.display.HTML object>"
            ]
          },
          "metadata": {
            "tags": []
          }
        },
        {
          "output_type": "display_data",
          "data": {
            "text/html": [
              "<span style=\"color:cyan\"> |-kernel_size: 30</span>"
            ],
            "text/plain": [
              "<IPython.core.display.HTML object>"
            ]
          },
          "metadata": {
            "tags": []
          }
        },
        {
          "output_type": "display_data",
          "data": {
            "text/html": [
              "<span style=\"color:blue\"> |-num_channels: 150</span>"
            ],
            "text/plain": [
              "<IPython.core.display.HTML object>"
            ]
          },
          "metadata": {
            "tags": []
          }
        },
        {
          "output_type": "display_data",
          "data": {
            "text/html": [
              "<span style=\"color:#4527A0\"><h1 style=\"font-size:18px\">Trial summary</h1></span>"
            ],
            "text/plain": [
              "<IPython.core.display.HTML object>"
            ]
          },
          "metadata": {
            "tags": []
          }
        },
        {
          "output_type": "display_data",
          "data": {
            "text/html": [
              "<span style=\"color:cyan\"> |-Trial ID: 5021dce0bf9cdc0aa89ba2095eed8a6d</span>"
            ],
            "text/plain": [
              "<IPython.core.display.HTML object>"
            ]
          },
          "metadata": {
            "tags": []
          }
        },
        {
          "output_type": "display_data",
          "data": {
            "text/html": [
              "<span style=\"color:cyan\"> |-Score: 0.04139501228928566</span>"
            ],
            "text/plain": [
              "<IPython.core.display.HTML object>"
            ]
          },
          "metadata": {
            "tags": []
          }
        },
        {
          "output_type": "display_data",
          "data": {
            "text/html": [
              "<span style=\"color:cyan\"> |-Best step: 0</span>"
            ],
            "text/plain": [
              "<IPython.core.display.HTML object>"
            ]
          },
          "metadata": {
            "tags": []
          }
        },
        {
          "output_type": "display_data",
          "data": {
            "text/html": [
              "<span style=\"color:#7E57C2\"><h2 style=\"font-size:16px\">Hyperparameters:</h2></span>"
            ],
            "text/plain": [
              "<IPython.core.display.HTML object>"
            ]
          },
          "metadata": {
            "tags": []
          }
        },
        {
          "output_type": "display_data",
          "data": {
            "text/html": [
              "<span style=\"color:cyan\"> |-kernel_size: 18</span>"
            ],
            "text/plain": [
              "<IPython.core.display.HTML object>"
            ]
          },
          "metadata": {
            "tags": []
          }
        },
        {
          "output_type": "display_data",
          "data": {
            "text/html": [
              "<span style=\"color:blue\"> |-num_channels: 150</span>"
            ],
            "text/plain": [
              "<IPython.core.display.HTML object>"
            ]
          },
          "metadata": {
            "tags": []
          }
        },
        {
          "output_type": "display_data",
          "data": {
            "text/html": [
              "<span style=\"color:#4527A0\"><h1 style=\"font-size:18px\">Trial summary</h1></span>"
            ],
            "text/plain": [
              "<IPython.core.display.HTML object>"
            ]
          },
          "metadata": {
            "tags": []
          }
        },
        {
          "output_type": "display_data",
          "data": {
            "text/html": [
              "<span style=\"color:cyan\"> |-Trial ID: c7f6f02130ab42fafa1b32e01f6c7a9e</span>"
            ],
            "text/plain": [
              "<IPython.core.display.HTML object>"
            ]
          },
          "metadata": {
            "tags": []
          }
        },
        {
          "output_type": "display_data",
          "data": {
            "text/html": [
              "<span style=\"color:cyan\"> |-Score: 0.08194504678249359</span>"
            ],
            "text/plain": [
              "<IPython.core.display.HTML object>"
            ]
          },
          "metadata": {
            "tags": []
          }
        },
        {
          "output_type": "display_data",
          "data": {
            "text/html": [
              "<span style=\"color:cyan\"> |-Best step: 0</span>"
            ],
            "text/plain": [
              "<IPython.core.display.HTML object>"
            ]
          },
          "metadata": {
            "tags": []
          }
        },
        {
          "output_type": "display_data",
          "data": {
            "text/html": [
              "<span style=\"color:#7E57C2\"><h2 style=\"font-size:16px\">Hyperparameters:</h2></span>"
            ],
            "text/plain": [
              "<IPython.core.display.HTML object>"
            ]
          },
          "metadata": {
            "tags": []
          }
        },
        {
          "output_type": "display_data",
          "data": {
            "text/html": [
              "<span style=\"color:cyan\"> |-kernel_size: 36</span>"
            ],
            "text/plain": [
              "<IPython.core.display.HTML object>"
            ]
          },
          "metadata": {
            "tags": []
          }
        },
        {
          "output_type": "display_data",
          "data": {
            "text/html": [
              "<span style=\"color:blue\"> |-num_channels: 50</span>"
            ],
            "text/plain": [
              "<IPython.core.display.HTML object>"
            ]
          },
          "metadata": {
            "tags": []
          }
        },
        {
          "output_type": "display_data",
          "data": {
            "text/html": [
              "<span style=\"color:#4527A0\"><h1 style=\"font-size:18px\">Trial summary</h1></span>"
            ],
            "text/plain": [
              "<IPython.core.display.HTML object>"
            ]
          },
          "metadata": {
            "tags": []
          }
        },
        {
          "output_type": "display_data",
          "data": {
            "text/html": [
              "<span style=\"color:cyan\"> |-Trial ID: b652c515d4f3d7d12951c644537fcd1d</span>"
            ],
            "text/plain": [
              "<IPython.core.display.HTML object>"
            ]
          },
          "metadata": {
            "tags": []
          }
        },
        {
          "output_type": "display_data",
          "data": {
            "text/html": [
              "<span style=\"color:cyan\"> |-Score: 0.09335841983556747</span>"
            ],
            "text/plain": [
              "<IPython.core.display.HTML object>"
            ]
          },
          "metadata": {
            "tags": []
          }
        },
        {
          "output_type": "display_data",
          "data": {
            "text/html": [
              "<span style=\"color:cyan\"> |-Best step: 0</span>"
            ],
            "text/plain": [
              "<IPython.core.display.HTML object>"
            ]
          },
          "metadata": {
            "tags": []
          }
        },
        {
          "output_type": "display_data",
          "data": {
            "text/html": [
              "<span style=\"color:#7E57C2\"><h2 style=\"font-size:16px\">Hyperparameters:</h2></span>"
            ],
            "text/plain": [
              "<IPython.core.display.HTML object>"
            ]
          },
          "metadata": {
            "tags": []
          }
        },
        {
          "output_type": "display_data",
          "data": {
            "text/html": [
              "<span style=\"color:cyan\"> |-kernel_size: 6</span>"
            ],
            "text/plain": [
              "<IPython.core.display.HTML object>"
            ]
          },
          "metadata": {
            "tags": []
          }
        },
        {
          "output_type": "display_data",
          "data": {
            "text/html": [
              "<span style=\"color:blue\"> |-num_channels: 50</span>"
            ],
            "text/plain": [
              "<IPython.core.display.HTML object>"
            ]
          },
          "metadata": {
            "tags": []
          }
        },
        {
          "output_type": "display_data",
          "data": {
            "text/html": [
              "<span style=\"color:#4527A0\"><h1 style=\"font-size:18px\">Trial summary</h1></span>"
            ],
            "text/plain": [
              "<IPython.core.display.HTML object>"
            ]
          },
          "metadata": {
            "tags": []
          }
        },
        {
          "output_type": "display_data",
          "data": {
            "text/html": [
              "<span style=\"color:cyan\"> |-Trial ID: f5e5b65df6d3f78e9cad769ed330bdc2</span>"
            ],
            "text/plain": [
              "<IPython.core.display.HTML object>"
            ]
          },
          "metadata": {
            "tags": []
          }
        },
        {
          "output_type": "display_data",
          "data": {
            "text/html": [
              "<span style=\"color:cyan\"> |-Score: 0.09713119268417358</span>"
            ],
            "text/plain": [
              "<IPython.core.display.HTML object>"
            ]
          },
          "metadata": {
            "tags": []
          }
        },
        {
          "output_type": "display_data",
          "data": {
            "text/html": [
              "<span style=\"color:cyan\"> |-Best step: 0</span>"
            ],
            "text/plain": [
              "<IPython.core.display.HTML object>"
            ]
          },
          "metadata": {
            "tags": []
          }
        },
        {
          "output_type": "display_data",
          "data": {
            "text/html": [
              "<span style=\"color:#7E57C2\"><h2 style=\"font-size:16px\">Hyperparameters:</h2></span>"
            ],
            "text/plain": [
              "<IPython.core.display.HTML object>"
            ]
          },
          "metadata": {
            "tags": []
          }
        },
        {
          "output_type": "display_data",
          "data": {
            "text/html": [
              "<span style=\"color:cyan\"> |-kernel_size: 36</span>"
            ],
            "text/plain": [
              "<IPython.core.display.HTML object>"
            ]
          },
          "metadata": {
            "tags": []
          }
        },
        {
          "output_type": "display_data",
          "data": {
            "text/html": [
              "<span style=\"color:blue\"> |-num_channels: 200</span>"
            ],
            "text/plain": [
              "<IPython.core.display.HTML object>"
            ]
          },
          "metadata": {
            "tags": []
          }
        },
        {
          "output_type": "display_data",
          "data": {
            "text/html": [
              "<span style=\"color:#4527A0\"><h1 style=\"font-size:18px\">Trial summary</h1></span>"
            ],
            "text/plain": [
              "<IPython.core.display.HTML object>"
            ]
          },
          "metadata": {
            "tags": []
          }
        },
        {
          "output_type": "display_data",
          "data": {
            "text/html": [
              "<span style=\"color:cyan\"> |-Trial ID: 30687f9cb12d4b7ae1c6720dbc931cf4</span>"
            ],
            "text/plain": [
              "<IPython.core.display.HTML object>"
            ]
          },
          "metadata": {
            "tags": []
          }
        },
        {
          "output_type": "display_data",
          "data": {
            "text/html": [
              "<span style=\"color:cyan\"> |-Score: 0.09849542379379272</span>"
            ],
            "text/plain": [
              "<IPython.core.display.HTML object>"
            ]
          },
          "metadata": {
            "tags": []
          }
        },
        {
          "output_type": "display_data",
          "data": {
            "text/html": [
              "<span style=\"color:cyan\"> |-Best step: 0</span>"
            ],
            "text/plain": [
              "<IPython.core.display.HTML object>"
            ]
          },
          "metadata": {
            "tags": []
          }
        },
        {
          "output_type": "display_data",
          "data": {
            "text/html": [
              "<span style=\"color:#7E57C2\"><h2 style=\"font-size:16px\">Hyperparameters:</h2></span>"
            ],
            "text/plain": [
              "<IPython.core.display.HTML object>"
            ]
          },
          "metadata": {
            "tags": []
          }
        },
        {
          "output_type": "display_data",
          "data": {
            "text/html": [
              "<span style=\"color:cyan\"> |-kernel_size: 6</span>"
            ],
            "text/plain": [
              "<IPython.core.display.HTML object>"
            ]
          },
          "metadata": {
            "tags": []
          }
        },
        {
          "output_type": "display_data",
          "data": {
            "text/html": [
              "<span style=\"color:blue\"> |-num_channels: 200</span>"
            ],
            "text/plain": [
              "<IPython.core.display.HTML object>"
            ]
          },
          "metadata": {
            "tags": []
          }
        },
        {
          "output_type": "display_data",
          "data": {
            "text/html": [
              "<span style=\"color:#4527A0\"><h1 style=\"font-size:18px\">Trial summary</h1></span>"
            ],
            "text/plain": [
              "<IPython.core.display.HTML object>"
            ]
          },
          "metadata": {
            "tags": []
          }
        },
        {
          "output_type": "display_data",
          "data": {
            "text/html": [
              "<span style=\"color:cyan\"> |-Trial ID: ef6f7296620db74ad53d3d89cc1c4e43</span>"
            ],
            "text/plain": [
              "<IPython.core.display.HTML object>"
            ]
          },
          "metadata": {
            "tags": []
          }
        },
        {
          "output_type": "display_data",
          "data": {
            "text/html": [
              "<span style=\"color:cyan\"> |-Score: 0.10492848232388496</span>"
            ],
            "text/plain": [
              "<IPython.core.display.HTML object>"
            ]
          },
          "metadata": {
            "tags": []
          }
        },
        {
          "output_type": "display_data",
          "data": {
            "text/html": [
              "<span style=\"color:cyan\"> |-Best step: 0</span>"
            ],
            "text/plain": [
              "<IPython.core.display.HTML object>"
            ]
          },
          "metadata": {
            "tags": []
          }
        },
        {
          "output_type": "display_data",
          "data": {
            "text/html": [
              "<span style=\"color:#7E57C2\"><h2 style=\"font-size:16px\">Hyperparameters:</h2></span>"
            ],
            "text/plain": [
              "<IPython.core.display.HTML object>"
            ]
          },
          "metadata": {
            "tags": []
          }
        },
        {
          "output_type": "display_data",
          "data": {
            "text/html": [
              "<span style=\"color:cyan\"> |-kernel_size: 6</span>"
            ],
            "text/plain": [
              "<IPython.core.display.HTML object>"
            ]
          },
          "metadata": {
            "tags": []
          }
        },
        {
          "output_type": "display_data",
          "data": {
            "text/html": [
              "<span style=\"color:blue\"> |-num_channels: 100</span>"
            ],
            "text/plain": [
              "<IPython.core.display.HTML object>"
            ]
          },
          "metadata": {
            "tags": []
          }
        },
        {
          "output_type": "display_data",
          "data": {
            "text/html": [
              "<span style=\"color:#4527A0\"><h1 style=\"font-size:18px\">Trial summary</h1></span>"
            ],
            "text/plain": [
              "<IPython.core.display.HTML object>"
            ]
          },
          "metadata": {
            "tags": []
          }
        },
        {
          "output_type": "display_data",
          "data": {
            "text/html": [
              "<span style=\"color:cyan\"> |-Trial ID: a6a2941684278c8c6252313948560802</span>"
            ],
            "text/plain": [
              "<IPython.core.display.HTML object>"
            ]
          },
          "metadata": {
            "tags": []
          }
        },
        {
          "output_type": "display_data",
          "data": {
            "text/html": [
              "<span style=\"color:cyan\"> |-Score: 0.1074603796005249</span>"
            ],
            "text/plain": [
              "<IPython.core.display.HTML object>"
            ]
          },
          "metadata": {
            "tags": []
          }
        },
        {
          "output_type": "display_data",
          "data": {
            "text/html": [
              "<span style=\"color:cyan\"> |-Best step: 0</span>"
            ],
            "text/plain": [
              "<IPython.core.display.HTML object>"
            ]
          },
          "metadata": {
            "tags": []
          }
        },
        {
          "output_type": "display_data",
          "data": {
            "text/html": [
              "<span style=\"color:#7E57C2\"><h2 style=\"font-size:16px\">Hyperparameters:</h2></span>"
            ],
            "text/plain": [
              "<IPython.core.display.HTML object>"
            ]
          },
          "metadata": {
            "tags": []
          }
        },
        {
          "output_type": "display_data",
          "data": {
            "text/html": [
              "<span style=\"color:cyan\"> |-kernel_size: 36</span>"
            ],
            "text/plain": [
              "<IPython.core.display.HTML object>"
            ]
          },
          "metadata": {
            "tags": []
          }
        },
        {
          "output_type": "display_data",
          "data": {
            "text/html": [
              "<span style=\"color:blue\"> |-num_channels: 100</span>"
            ],
            "text/plain": [
              "<IPython.core.display.HTML object>"
            ]
          },
          "metadata": {
            "tags": []
          }
        },
        {
          "output_type": "display_data",
          "data": {
            "text/html": [
              "<span style=\"color:#4527A0\"><h1 style=\"font-size:18px\">Trial summary</h1></span>"
            ],
            "text/plain": [
              "<IPython.core.display.HTML object>"
            ]
          },
          "metadata": {
            "tags": []
          }
        },
        {
          "output_type": "display_data",
          "data": {
            "text/html": [
              "<span style=\"color:cyan\"> |-Trial ID: 0ebeda46dc9aace1745c4b644432bd56</span>"
            ],
            "text/plain": [
              "<IPython.core.display.HTML object>"
            ]
          },
          "metadata": {
            "tags": []
          }
        },
        {
          "output_type": "display_data",
          "data": {
            "text/html": [
              "<span style=\"color:cyan\"> |-Score: 0.10852479189634323</span>"
            ],
            "text/plain": [
              "<IPython.core.display.HTML object>"
            ]
          },
          "metadata": {
            "tags": []
          }
        },
        {
          "output_type": "display_data",
          "data": {
            "text/html": [
              "<span style=\"color:cyan\"> |-Best step: 0</span>"
            ],
            "text/plain": [
              "<IPython.core.display.HTML object>"
            ]
          },
          "metadata": {
            "tags": []
          }
        },
        {
          "output_type": "display_data",
          "data": {
            "text/html": [
              "<span style=\"color:#7E57C2\"><h2 style=\"font-size:16px\">Hyperparameters:</h2></span>"
            ],
            "text/plain": [
              "<IPython.core.display.HTML object>"
            ]
          },
          "metadata": {
            "tags": []
          }
        },
        {
          "output_type": "display_data",
          "data": {
            "text/html": [
              "<span style=\"color:cyan\"> |-kernel_size: 24</span>"
            ],
            "text/plain": [
              "<IPython.core.display.HTML object>"
            ]
          },
          "metadata": {
            "tags": []
          }
        },
        {
          "output_type": "display_data",
          "data": {
            "text/html": [
              "<span style=\"color:blue\"> |-num_channels: 200</span>"
            ],
            "text/plain": [
              "<IPython.core.display.HTML object>"
            ]
          },
          "metadata": {
            "tags": []
          }
        },
        {
          "output_type": "display_data",
          "data": {
            "text/html": [
              "<span style=\"color:#4527A0\"><h1 style=\"font-size:18px\">Trial summary</h1></span>"
            ],
            "text/plain": [
              "<IPython.core.display.HTML object>"
            ]
          },
          "metadata": {
            "tags": []
          }
        },
        {
          "output_type": "display_data",
          "data": {
            "text/html": [
              "<span style=\"color:cyan\"> |-Trial ID: 71fd8ef40e7e60d42e8cb3f7b8a71795</span>"
            ],
            "text/plain": [
              "<IPython.core.display.HTML object>"
            ]
          },
          "metadata": {
            "tags": []
          }
        },
        {
          "output_type": "display_data",
          "data": {
            "text/html": [
              "<span style=\"color:cyan\"> |-Score: 0.10910230502486229</span>"
            ],
            "text/plain": [
              "<IPython.core.display.HTML object>"
            ]
          },
          "metadata": {
            "tags": []
          }
        },
        {
          "output_type": "display_data",
          "data": {
            "text/html": [
              "<span style=\"color:cyan\"> |-Best step: 0</span>"
            ],
            "text/plain": [
              "<IPython.core.display.HTML object>"
            ]
          },
          "metadata": {
            "tags": []
          }
        },
        {
          "output_type": "display_data",
          "data": {
            "text/html": [
              "<span style=\"color:#7E57C2\"><h2 style=\"font-size:16px\">Hyperparameters:</h2></span>"
            ],
            "text/plain": [
              "<IPython.core.display.HTML object>"
            ]
          },
          "metadata": {
            "tags": []
          }
        },
        {
          "output_type": "display_data",
          "data": {
            "text/html": [
              "<span style=\"color:cyan\"> |-kernel_size: 24</span>"
            ],
            "text/plain": [
              "<IPython.core.display.HTML object>"
            ]
          },
          "metadata": {
            "tags": []
          }
        },
        {
          "output_type": "display_data",
          "data": {
            "text/html": [
              "<span style=\"color:blue\"> |-num_channels: 50</span>"
            ],
            "text/plain": [
              "<IPython.core.display.HTML object>"
            ]
          },
          "metadata": {
            "tags": []
          }
        }
      ]
    },
    {
      "cell_type": "code",
      "metadata": {
        "id": "olYQ8OElmGn8",
        "colab_type": "code",
        "colab": {
          "base_uri": "https://localhost:8080/",
          "height": 54
        },
        "outputId": "cb486fd3-c900-49c9-c94f-945a177ecdc2"
      },
      "source": [
        "models = tuner.get_best_models(num_models=1)"
      ],
      "execution_count": 34,
      "outputs": [
        {
          "output_type": "stream",
          "text": [
            "WARNING:tensorflow:Layer lstm will not use cuDNN kernel since it doesn't meet the cuDNN kernel criteria. It will use generic GPU kernel as fallback when running on GPU\n"
          ],
          "name": "stdout"
        }
      ]
    },
    {
      "cell_type": "code",
      "metadata": {
        "id": "6UNPY9QAmGks",
        "colab_type": "code",
        "colab": {}
      },
      "source": [
        "best_model = models[0]"
      ],
      "execution_count": 0,
      "outputs": []
    },
    {
      "cell_type": "code",
      "metadata": {
        "id": "7D-v4KOymGeI",
        "colab_type": "code",
        "colab": {
          "base_uri": "https://localhost:8080/",
          "height": 319
        },
        "outputId": "f6317d6c-9ddb-4dab-94fd-e7f0ef058bce"
      },
      "source": [
        "best_model.summary()"
      ],
      "execution_count": 38,
      "outputs": [
        {
          "output_type": "stream",
          "text": [
            "Model: \"sequential\"\n",
            "_________________________________________________________________\n",
            "Layer (type)                 Output Shape              Param #   \n",
            "=================================================================\n",
            "time_distributed (TimeDistri (None, None, 288, 150)    300       \n",
            "_________________________________________________________________\n",
            "time_distributed_1 (TimeDist (None, None, 9, 150)      0         \n",
            "_________________________________________________________________\n",
            "time_distributed_2 (TimeDist (None, None, 1350)        0         \n",
            "_________________________________________________________________\n",
            "lstm (LSTM)                  (None, 100)               580400    \n",
            "_________________________________________________________________\n",
            "dense (Dense)                (None, 288)               29088     \n",
            "=================================================================\n",
            "Total params: 609,788\n",
            "Trainable params: 609,788\n",
            "Non-trainable params: 0\n",
            "_________________________________________________________________\n"
          ],
          "name": "stdout"
        }
      ]
    },
    {
      "cell_type": "code",
      "metadata": {
        "id": "MkofqwoqoEiJ",
        "colab_type": "code",
        "colab": {
          "base_uri": "https://localhost:8080/",
          "height": 1000
        },
        "outputId": "ad0ba26c-669e-4423-d6ad-8295432f9437"
      },
      "source": [
        "history = best_model.fit(X_train, y_train, batch_size = args.batch_size, epochs = args.num_epochs, validation_data = (X_val, y_val), callbacks=[earlystop], verbose=1)"
      ],
      "execution_count": 46,
      "outputs": [
        {
          "output_type": "stream",
          "text": [
            "Epoch 1/50\n",
            "69/69 [==============================] - 9s 133ms/step - loss: 0.0200 - mean_squared_error: 0.0200 - val_loss: 0.0195 - val_mean_squared_error: 0.0195\n",
            "Epoch 2/50\n",
            "69/69 [==============================] - 9s 130ms/step - loss: 0.0200 - mean_squared_error: 0.0200 - val_loss: 0.0194 - val_mean_squared_error: 0.0194\n",
            "Epoch 3/50\n",
            "69/69 [==============================] - 9s 130ms/step - loss: 0.0200 - mean_squared_error: 0.0200 - val_loss: 0.0194 - val_mean_squared_error: 0.0194\n",
            "Epoch 4/50\n",
            "69/69 [==============================] - 9s 131ms/step - loss: 0.0199 - mean_squared_error: 0.0199 - val_loss: 0.0194 - val_mean_squared_error: 0.0194\n",
            "Epoch 5/50\n",
            "69/69 [==============================] - 9s 131ms/step - loss: 0.0199 - mean_squared_error: 0.0199 - val_loss: 0.0194 - val_mean_squared_error: 0.0194\n",
            "Epoch 6/50\n",
            "69/69 [==============================] - 9s 130ms/step - loss: 0.0199 - mean_squared_error: 0.0199 - val_loss: 0.0193 - val_mean_squared_error: 0.0193\n",
            "Epoch 7/50\n",
            "69/69 [==============================] - 9s 131ms/step - loss: 0.0199 - mean_squared_error: 0.0199 - val_loss: 0.0193 - val_mean_squared_error: 0.0193\n",
            "Epoch 8/50\n",
            "69/69 [==============================] - 9s 130ms/step - loss: 0.0198 - mean_squared_error: 0.0198 - val_loss: 0.0193 - val_mean_squared_error: 0.0193\n",
            "Epoch 9/50\n",
            "69/69 [==============================] - 9s 130ms/step - loss: 0.0198 - mean_squared_error: 0.0198 - val_loss: 0.0193 - val_mean_squared_error: 0.0193\n",
            "Epoch 10/50\n",
            "69/69 [==============================] - 9s 130ms/step - loss: 0.0198 - mean_squared_error: 0.0198 - val_loss: 0.0192 - val_mean_squared_error: 0.0192\n",
            "Epoch 11/50\n",
            "69/69 [==============================] - 9s 130ms/step - loss: 0.0198 - mean_squared_error: 0.0198 - val_loss: 0.0192 - val_mean_squared_error: 0.0192\n",
            "Epoch 12/50\n",
            "69/69 [==============================] - 9s 131ms/step - loss: 0.0197 - mean_squared_error: 0.0197 - val_loss: 0.0192 - val_mean_squared_error: 0.0192\n",
            "Epoch 13/50\n",
            "69/69 [==============================] - 9s 130ms/step - loss: 0.0197 - mean_squared_error: 0.0197 - val_loss: 0.0192 - val_mean_squared_error: 0.0192\n",
            "Epoch 14/50\n",
            "69/69 [==============================] - 9s 130ms/step - loss: 0.0197 - mean_squared_error: 0.0197 - val_loss: 0.0192 - val_mean_squared_error: 0.0192\n",
            "Epoch 15/50\n",
            "69/69 [==============================] - 9s 131ms/step - loss: 0.0197 - mean_squared_error: 0.0197 - val_loss: 0.0191 - val_mean_squared_error: 0.0191\n",
            "Epoch 16/50\n",
            "69/69 [==============================] - 9s 130ms/step - loss: 0.0196 - mean_squared_error: 0.0196 - val_loss: 0.0191 - val_mean_squared_error: 0.0191\n",
            "Epoch 17/50\n",
            "69/69 [==============================] - 9s 130ms/step - loss: 0.0196 - mean_squared_error: 0.0196 - val_loss: 0.0191 - val_mean_squared_error: 0.0191\n",
            "Epoch 18/50\n",
            "69/69 [==============================] - 9s 130ms/step - loss: 0.0196 - mean_squared_error: 0.0196 - val_loss: 0.0191 - val_mean_squared_error: 0.0191\n",
            "Epoch 19/50\n",
            "69/69 [==============================] - 9s 130ms/step - loss: 0.0196 - mean_squared_error: 0.0196 - val_loss: 0.0190 - val_mean_squared_error: 0.0190\n",
            "Epoch 20/50\n",
            "69/69 [==============================] - 9s 131ms/step - loss: 0.0196 - mean_squared_error: 0.0196 - val_loss: 0.0190 - val_mean_squared_error: 0.0190\n",
            "Epoch 21/50\n",
            "69/69 [==============================] - 9s 130ms/step - loss: 0.0195 - mean_squared_error: 0.0195 - val_loss: 0.0190 - val_mean_squared_error: 0.0190\n",
            "Epoch 22/50\n",
            "69/69 [==============================] - 9s 130ms/step - loss: 0.0195 - mean_squared_error: 0.0195 - val_loss: 0.0190 - val_mean_squared_error: 0.0190\n",
            "Epoch 23/50\n",
            "69/69 [==============================] - 9s 131ms/step - loss: 0.0195 - mean_squared_error: 0.0195 - val_loss: 0.0190 - val_mean_squared_error: 0.0190\n",
            "Epoch 24/50\n",
            "69/69 [==============================] - 9s 131ms/step - loss: 0.0195 - mean_squared_error: 0.0195 - val_loss: 0.0189 - val_mean_squared_error: 0.0189\n",
            "Epoch 25/50\n",
            "69/69 [==============================] - 9s 130ms/step - loss: 0.0195 - mean_squared_error: 0.0195 - val_loss: 0.0189 - val_mean_squared_error: 0.0189\n",
            "Epoch 26/50\n",
            "69/69 [==============================] - 9s 130ms/step - loss: 0.0194 - mean_squared_error: 0.0194 - val_loss: 0.0189 - val_mean_squared_error: 0.0189\n",
            "Epoch 27/50\n",
            "69/69 [==============================] - 9s 130ms/step - loss: 0.0194 - mean_squared_error: 0.0194 - val_loss: 0.0189 - val_mean_squared_error: 0.0189\n",
            "Epoch 28/50\n",
            "69/69 [==============================] - 9s 130ms/step - loss: 0.0194 - mean_squared_error: 0.0194 - val_loss: 0.0189 - val_mean_squared_error: 0.0189\n",
            "Epoch 29/50\n",
            "69/69 [==============================] - 9s 131ms/step - loss: 0.0194 - mean_squared_error: 0.0194 - val_loss: 0.0188 - val_mean_squared_error: 0.0188\n",
            "Epoch 30/50\n",
            "69/69 [==============================] - 9s 130ms/step - loss: 0.0194 - mean_squared_error: 0.0194 - val_loss: 0.0188 - val_mean_squared_error: 0.0188\n",
            "Epoch 31/50\n",
            "69/69 [==============================] - 9s 130ms/step - loss: 0.0193 - mean_squared_error: 0.0193 - val_loss: 0.0188 - val_mean_squared_error: 0.0188\n",
            "Epoch 32/50\n",
            "69/69 [==============================] - 9s 130ms/step - loss: 0.0193 - mean_squared_error: 0.0193 - val_loss: 0.0188 - val_mean_squared_error: 0.0188\n",
            "Epoch 33/50\n",
            "69/69 [==============================] - 9s 130ms/step - loss: 0.0193 - mean_squared_error: 0.0193 - val_loss: 0.0188 - val_mean_squared_error: 0.0188\n",
            "Epoch 34/50\n",
            "69/69 [==============================] - 9s 130ms/step - loss: 0.0193 - mean_squared_error: 0.0193 - val_loss: 0.0187 - val_mean_squared_error: 0.0187\n",
            "Epoch 35/50\n",
            "69/69 [==============================] - 9s 129ms/step - loss: 0.0193 - mean_squared_error: 0.0193 - val_loss: 0.0187 - val_mean_squared_error: 0.0187\n",
            "Epoch 36/50\n",
            "69/69 [==============================] - 9s 130ms/step - loss: 0.0192 - mean_squared_error: 0.0192 - val_loss: 0.0187 - val_mean_squared_error: 0.0187\n",
            "Epoch 37/50\n",
            "69/69 [==============================] - 9s 130ms/step - loss: 0.0192 - mean_squared_error: 0.0192 - val_loss: 0.0187 - val_mean_squared_error: 0.0187\n",
            "Epoch 38/50\n",
            "69/69 [==============================] - 9s 132ms/step - loss: 0.0192 - mean_squared_error: 0.0192 - val_loss: 0.0187 - val_mean_squared_error: 0.0187\n",
            "Epoch 39/50\n",
            "69/69 [==============================] - 9s 130ms/step - loss: 0.0192 - mean_squared_error: 0.0192 - val_loss: 0.0186 - val_mean_squared_error: 0.0186\n",
            "Epoch 40/50\n",
            "69/69 [==============================] - 9s 130ms/step - loss: 0.0192 - mean_squared_error: 0.0192 - val_loss: 0.0186 - val_mean_squared_error: 0.0186\n",
            "Epoch 41/50\n",
            "69/69 [==============================] - 9s 131ms/step - loss: 0.0191 - mean_squared_error: 0.0191 - val_loss: 0.0186 - val_mean_squared_error: 0.0186\n",
            "Epoch 42/50\n",
            "69/69 [==============================] - 9s 131ms/step - loss: 0.0191 - mean_squared_error: 0.0191 - val_loss: 0.0186 - val_mean_squared_error: 0.0186\n",
            "Epoch 43/50\n",
            "69/69 [==============================] - 9s 130ms/step - loss: 0.0191 - mean_squared_error: 0.0191 - val_loss: 0.0186 - val_mean_squared_error: 0.0186\n",
            "Epoch 44/50\n",
            "69/69 [==============================] - 9s 130ms/step - loss: 0.0191 - mean_squared_error: 0.0191 - val_loss: 0.0185 - val_mean_squared_error: 0.0185\n",
            "Epoch 45/50\n",
            "69/69 [==============================] - 9s 130ms/step - loss: 0.0191 - mean_squared_error: 0.0191 - val_loss: 0.0185 - val_mean_squared_error: 0.0185\n",
            "Epoch 46/50\n",
            "69/69 [==============================] - 9s 130ms/step - loss: 0.0190 - mean_squared_error: 0.0190 - val_loss: 0.0185 - val_mean_squared_error: 0.0185\n",
            "Epoch 47/50\n",
            "69/69 [==============================] - 9s 131ms/step - loss: 0.0190 - mean_squared_error: 0.0190 - val_loss: 0.0185 - val_mean_squared_error: 0.0185\n",
            "Epoch 48/50\n",
            "69/69 [==============================] - 9s 130ms/step - loss: 0.0190 - mean_squared_error: 0.0190 - val_loss: 0.0185 - val_mean_squared_error: 0.0185\n",
            "Epoch 49/50\n",
            "69/69 [==============================] - 9s 131ms/step - loss: 0.0190 - mean_squared_error: 0.0190 - val_loss: 0.0185 - val_mean_squared_error: 0.0185\n",
            "Epoch 50/50\n",
            "69/69 [==============================] - 9s 130ms/step - loss: 0.0190 - mean_squared_error: 0.0190 - val_loss: 0.0184 - val_mean_squared_error: 0.0184\n"
          ],
          "name": "stdout"
        }
      ]
    },
    {
      "cell_type": "code",
      "metadata": {
        "id": "nP_kY80pom5U",
        "colab_type": "code",
        "colab": {
          "base_uri": "https://localhost:8080/",
          "height": 34
        },
        "outputId": "4b73ca76-701f-4156-d805-637d920699f2"
      },
      "source": [
        "best_epoch = np.argmin(np.array(history.history['val_loss']))+1\n",
        "best_model.save_weights('model_checkpoints/' + args.save_folder + '/CNN_LSTM_best_model_{:02d}.h5'.format(best_epoch))\n",
        "best_epoch"
      ],
      "execution_count": 48,
      "outputs": [
        {
          "output_type": "execute_result",
          "data": {
            "text/plain": [
              "50"
            ]
          },
          "metadata": {
            "tags": []
          },
          "execution_count": 48
        }
      ]
    },
    {
      "cell_type": "code",
      "metadata": {
        "id": "cJ3dhiSenYJx",
        "colab_type": "code",
        "colab": {
          "base_uri": "https://localhost:8080/",
          "height": 34
        },
        "outputId": "1529c175-9ee2-4fc1-af07-7604a31be822"
      },
      "source": [
        "X_test, y_test = make_windows(test_df)"
      ],
      "execution_count": 49,
      "outputs": [
        {
          "output_type": "stream",
          "text": [
            "100%|██████████| 12097/12097 [00:01<00:00, 9248.70it/s]\n"
          ],
          "name": "stderr"
        }
      ]
    },
    {
      "cell_type": "code",
      "metadata": {
        "id": "ru1S0O-qnlv4",
        "colab_type": "code",
        "colab": {}
      },
      "source": [
        "X_test = X_test.reshape(X_test.shape[0], args.subsequences, -1, 1)"
      ],
      "execution_count": 0,
      "outputs": []
    },
    {
      "cell_type": "code",
      "metadata": {
        "id": "BQmOBb0SnUcF",
        "colab_type": "code",
        "colab": {}
      },
      "source": [
        "y_pred = best_model.predict(X_test)"
      ],
      "execution_count": 0,
      "outputs": []
    },
    {
      "cell_type": "code",
      "metadata": {
        "id": "-yKCeFXSdwDh",
        "colab_type": "code",
        "colab": {}
      },
      "source": [
        "#best_epoch = 25 #load this epoch (performance across epochs measured in respective model training notebook) \n",
        "#best_epoch"
      ],
      "execution_count": 0,
      "outputs": []
    },
    {
      "cell_type": "code",
      "metadata": {
        "id": "cZuUAjmAn2kY",
        "colab_type": "code",
        "colab": {
          "base_uri": "https://localhost:8080/",
          "height": 282
        },
        "outputId": "75fb4439-c2c5-452a-e1df-be1aad16a66b"
      },
      "source": [
        "plt.plot(y_pred[288*3])\n",
        "plt.plot(y_test[288*3])\n",
        "plt.legend(['Predictions', 'Actuals'])"
      ],
      "execution_count": 53,
      "outputs": [
        {
          "output_type": "execute_result",
          "data": {
            "text/plain": [
              "<matplotlib.legend.Legend at 0x7f2590845f60>"
            ]
          },
          "metadata": {
            "tags": []
          },
          "execution_count": 53
        },
        {
          "output_type": "display_data",
          "data": {
            "image/png": "[encoded data removed]",
            "text/plain": [
              "<Figure size 432x288 with 1 Axes>"
            ]
          },
          "metadata": {
            "tags": [],
            "needs_background": "light"
          }
        }
      ]
    },
    {
      "cell_type": "code",
      "metadata": {
        "id": "Vn2QDQaQg29M",
        "colab_type": "code",
        "outputId": "4fead933-b490-4814-f9ec-e6ce8f26352a",
        "colab": {
          "base_uri": "https://localhost:8080/",
          "height": 34
        }
      },
      "source": [
        "for i in tqdm(range(y_pred.shape[0]//288)): ## we have forecasts for these many complete day\n",
        "  plt.plot(scaler.inverse_transform(y_test[12*24*i].reshape(-1, 1)), color = 'blue')\n",
        "  plt.plot(scaler.inverse_transform(y_pred[12*24*i].reshape(-1, 1)), color = 'red')\n",
        "  plt.legend(['Actual Value', 'Prediction'])\n",
        "  plt.savefig('forecasts/1_day_at_a_time/' + args.save_folder + '/plots/day_{}.png'.format(i))\n",
        "  plt.close()\n",
        "\n",
        "  df_t = po.DataFrame()\n",
        "  df_t['Predictions'] = scaler.inverse_transform(y_pred[12*24*i].reshape(-1, 1)).reshape(-1)\n",
        "  df_t['Actual_Values'] = scaler.inverse_transform(y_test[12*24*i].reshape(-1, 1)).reshape(-1)\n",
        "\n",
        "  df_t.to_csv('forecasts/1_day_at_a_time/' + args.save_folder + '/tabulated_results/day_{}.csv'.format(i), index = False)"
      ],
      "execution_count": 54,
      "outputs": [
        {
          "output_type": "stream",
          "text": [
            "100%|██████████| 42/42 [00:05<00:00,  7.77it/s]\n"
          ],
          "name": "stderr"
        }
      ]
    },
    {
      "cell_type": "code",
      "metadata": {
        "id": "owS0Sszylax5",
        "colab_type": "code",
        "outputId": "3c0988a7-aa70-4ba5-d930-0cb45e532afd",
        "colab": {
          "base_uri": "https://localhost:8080/",
          "height": 34
        }
      },
      "source": [
        "forecasts = []\n",
        "actuals = []\n",
        "for i in tqdm(range(y_pred.shape[0]//288)): ## we have forecasts for these many complete day\n",
        "  forecasts += (scaler.inverse_transform(y_pred[12*24*i].reshape(-1, 1)).reshape(-1)).tolist()\n",
        "  actuals += (scaler.inverse_transform(y_test[12*24*i].reshape(-1, 1)).reshape(-1)).tolist()"
      ],
      "execution_count": 55,
      "outputs": [
        {
          "output_type": "stream",
          "text": [
            "100%|██████████| 42/42 [00:00<00:00, 3650.55it/s]\n"
          ],
          "name": "stderr"
        }
      ]
    },
    {
      "cell_type": "code",
      "metadata": {
        "id": "MwkDKaUzzyeU",
        "colab_type": "code",
        "colab": {}
      },
      "source": [
        "df = po.DataFrame()\n",
        "df['Predictions'] = forecasts\n",
        "df['Actual Values'] = actuals"
      ],
      "execution_count": 0,
      "outputs": []
    },
    {
      "cell_type": "code",
      "metadata": {
        "id": "ohVo_OdG0Dpt",
        "colab_type": "code",
        "colab": {}
      },
      "source": [
        "df.to_csv('forecasts/full_testing_length/' + args.save_folder + '/full_results.csv', index = False)"
      ],
      "execution_count": 0,
      "outputs": []
    },
    {
      "cell_type": "code",
      "metadata": {
        "id": "GggD7jzMlaek",
        "colab_type": "code",
        "outputId": "c9d90690-f857-48ae-f566-5d344e327bf8",
        "colab": {
          "base_uri": "https://localhost:8080/",
          "height": 456
        }
      },
      "source": [
        "plt.figure(figsize=(40, 20))\n",
        "plt.plot(actuals, color = 'blue')\n",
        "plt.plot(forecasts, color = 'red')\n",
        "plt.legend(['Actual Value', 'Prediction'])\n",
        "plt.savefig('forecasts/full_testing_length/' + args.save_folder + '/forecast.png')"
      ],
      "execution_count": 58,
      "outputs": [
        {
          "output_type": "display_data",
          "data": {
            "image/png": "[encoded data removed]",
            "text/plain": [
              "<Figure size 2880x1440 with 1 Axes>"
            ]
          },
          "metadata": {
            "tags": [],
            "needs_background": "light"
          }
        }
      ]
    },
    {
      "cell_type": "code",
      "metadata": {
        "id": "OqGhQZq99jfo",
        "colab_type": "code",
        "colab": {}
      },
      "source": [
        "if not os.path.exists('forecasts/full_testing_length/results.csv'):\n",
        "  results = po.DataFrame(columns = ['model', 'MAE', 'MSE', 'R2', 'MAPE', 'RMSE'])  \n",
        "else:\n",
        "  results = po.read_csv('forecasts/full_testing_length/results.csv')"
      ],
      "execution_count": 0,
      "outputs": []
    },
    {
      "cell_type": "code",
      "metadata": {
        "id": "34Qx9cMAJE9a",
        "colab_type": "code",
        "colab": {}
      },
      "source": [
        "errors = {'model': args.save_folder,\n",
        "          'MAE': mean_absolute_error(y_true=y_test, y_pred=y_pred),\n",
        "          'MAPE': mean_absolute_error(y_true=y_test, y_pred=y_pred)*100,\n",
        "          'MSE': mean_squared_error(y_true=y_test, y_pred=y_pred),\n",
        "          'RMSE': mean_squared_error(y_true=y_test, y_pred=y_pred, squared=False),\n",
        "          'R2': r2_score(y_true=y_test, y_pred=y_pred)          \n",
        "          }\n",
        "errors = po.Series(errors)\n",
        "results = results.append(errors, ignore_index=True)"
      ],
      "execution_count": 0,
      "outputs": []
    },
    {
      "cell_type": "code",
      "metadata": {
        "id": "qdalOaQb9jfq",
        "colab_type": "code",
        "outputId": "e07ce345-6de4-4b32-cd1a-0aa5eef4b658",
        "colab": {
          "base_uri": "https://localhost:8080/",
          "height": 550
        }
      },
      "source": [
        "results"
      ],
      "execution_count": 61,
      "outputs": [
        {
          "output_type": "execute_result",
          "data": {
            "text/html": [
              "<div>\n",
              "<style scoped>\n",
              "    .dataframe tbody tr th:only-of-type {\n",
              "        vertical-align: middle;\n",
              "    }\n",
              "\n",
              "    .dataframe tbody tr th {\n",
              "        vertical-align: top;\n",
              "    }\n",
              "\n",
              "    .dataframe thead th {\n",
              "        text-align: right;\n",
              "    }\n",
              "</style>\n",
              "<table border=\"1\" class=\"dataframe\">\n",
              "  <thead>\n",
              "    <tr style=\"text-align: right;\">\n",
              "      <th></th>\n",
              "      <th>model</th>\n",
              "      <th>MAE</th>\n",
              "      <th>MSE</th>\n",
              "      <th>R2</th>\n",
              "      <th>MAPE</th>\n",
              "      <th>RMSE</th>\n",
              "    </tr>\n",
              "  </thead>\n",
              "  <tbody>\n",
              "    <tr>\n",
              "      <th>0</th>\n",
              "      <td>Dilated_CNN</td>\n",
              "      <td>0.037945</td>\n",
              "      <td>0.002629</td>\n",
              "      <td>0.732376</td>\n",
              "      <td>3.794527</td>\n",
              "      <td>0.051273</td>\n",
              "    </tr>\n",
              "    <tr>\n",
              "      <th>1</th>\n",
              "      <td>vanillaWaveNet_256_channels</td>\n",
              "      <td>0.046997</td>\n",
              "      <td>0.003457</td>\n",
              "      <td>0.648037</td>\n",
              "      <td>4.699682</td>\n",
              "      <td>0.058799</td>\n",
              "    </tr>\n",
              "    <tr>\n",
              "      <th>2</th>\n",
              "      <td>convLSTM</td>\n",
              "      <td>0.040161</td>\n",
              "      <td>0.002803</td>\n",
              "      <td>0.714712</td>\n",
              "      <td>4.016132</td>\n",
              "      <td>0.052941</td>\n",
              "    </tr>\n",
              "    <tr>\n",
              "      <th>3</th>\n",
              "      <td>bidirectionalLSTM</td>\n",
              "      <td>0.126920</td>\n",
              "      <td>0.020101</td>\n",
              "      <td>-1.046449</td>\n",
              "      <td>12.691955</td>\n",
              "      <td>0.141780</td>\n",
              "    </tr>\n",
              "    <tr>\n",
              "      <th>4</th>\n",
              "      <td>WaveNet</td>\n",
              "      <td>0.049359</td>\n",
              "      <td>0.004077</td>\n",
              "      <td>0.585029</td>\n",
              "      <td>4.935853</td>\n",
              "      <td>0.063849</td>\n",
              "    </tr>\n",
              "    <tr>\n",
              "      <th>5</th>\n",
              "      <td>vanillaLSTM</td>\n",
              "      <td>0.134216</td>\n",
              "      <td>0.022371</td>\n",
              "      <td>-1.277546</td>\n",
              "      <td>13.421554</td>\n",
              "      <td>0.149570</td>\n",
              "    </tr>\n",
              "    <tr>\n",
              "      <th>6</th>\n",
              "      <td>CNN_LSTM</td>\n",
              "      <td>0.064756</td>\n",
              "      <td>0.005974</td>\n",
              "      <td>0.391845</td>\n",
              "      <td>6.475569</td>\n",
              "      <td>0.077294</td>\n",
              "    </tr>\n",
              "    <tr>\n",
              "      <th>7</th>\n",
              "      <td>CNN_LSTM</td>\n",
              "      <td>0.064756</td>\n",
              "      <td>0.005974</td>\n",
              "      <td>0.391845</td>\n",
              "      <td>6.475569</td>\n",
              "      <td>0.077294</td>\n",
              "    </tr>\n",
              "    <tr>\n",
              "      <th>8</th>\n",
              "      <td>Dilated_CNN_weekday</td>\n",
              "      <td>0.065784</td>\n",
              "      <td>0.007664</td>\n",
              "      <td>0.599731</td>\n",
              "      <td>6.578448</td>\n",
              "      <td>0.087545</td>\n",
              "    </tr>\n",
              "    <tr>\n",
              "      <th>9</th>\n",
              "      <td>Dilated_CNN_weekday</td>\n",
              "      <td>0.049500</td>\n",
              "      <td>0.003988</td>\n",
              "      <td>0.754260</td>\n",
              "      <td>4.950012</td>\n",
              "      <td>0.063152</td>\n",
              "    </tr>\n",
              "    <tr>\n",
              "      <th>10</th>\n",
              "      <td>Dilated_CNN_weekend</td>\n",
              "      <td>0.129699</td>\n",
              "      <td>0.019956</td>\n",
              "      <td>-3.543391</td>\n",
              "      <td>12.969947</td>\n",
              "      <td>0.141266</td>\n",
              "    </tr>\n",
              "    <tr>\n",
              "      <th>11</th>\n",
              "      <td>Dilated_CNN_weekend</td>\n",
              "      <td>0.035753</td>\n",
              "      <td>0.002019</td>\n",
              "      <td>0.539805</td>\n",
              "      <td>3.575298</td>\n",
              "      <td>0.044938</td>\n",
              "    </tr>\n",
              "    <tr>\n",
              "      <th>12</th>\n",
              "      <td>Dilated_CNN_weekend_7_layers</td>\n",
              "      <td>0.052057</td>\n",
              "      <td>0.003783</td>\n",
              "      <td>0.135005</td>\n",
              "      <td>5.205693</td>\n",
              "      <td>0.061503</td>\n",
              "    </tr>\n",
              "    <tr>\n",
              "      <th>13</th>\n",
              "      <td>NBEATS</td>\n",
              "      <td>0.034419</td>\n",
              "      <td>0.002380</td>\n",
              "      <td>0.757751</td>\n",
              "      <td>3.441944</td>\n",
              "      <td>0.048786</td>\n",
              "    </tr>\n",
              "    <tr>\n",
              "      <th>14</th>\n",
              "      <td>NBEATS</td>\n",
              "      <td>0.036399</td>\n",
              "      <td>0.002672</td>\n",
              "      <td>0.728004</td>\n",
              "      <td>3.639935</td>\n",
              "      <td>0.051695</td>\n",
              "    </tr>\n",
              "    <tr>\n",
              "      <th>15</th>\n",
              "      <td>NBEATS_100</td>\n",
              "      <td>0.034505</td>\n",
              "      <td>0.002401</td>\n",
              "      <td>0.755577</td>\n",
              "      <td>3.450487</td>\n",
              "      <td>0.049003</td>\n",
              "    </tr>\n",
              "    <tr>\n",
              "      <th>16</th>\n",
              "      <td>tune_CNN_LSTM</td>\n",
              "      <td>0.083818</td>\n",
              "      <td>0.009034</td>\n",
              "      <td>0.080379</td>\n",
              "      <td>8.381800</td>\n",
              "      <td>0.095045</td>\n",
              "    </tr>\n",
              "  </tbody>\n",
              "</table>\n",
              "</div>"
            ],
            "text/plain": [
              "                           model       MAE  ...       MAPE      RMSE\n",
              "0                    Dilated_CNN  0.037945  ...   3.794527  0.051273\n",
              "1    vanillaWaveNet_256_channels  0.046997  ...   4.699682  0.058799\n",
              "2                       convLSTM  0.040161  ...   4.016132  0.052941\n",
              "3              bidirectionalLSTM  0.126920  ...  12.691955  0.141780\n",
              "4                        WaveNet  0.049359  ...   4.935853  0.063849\n",
              "5                    vanillaLSTM  0.134216  ...  13.421554  0.149570\n",
              "6                       CNN_LSTM  0.064756  ...   6.475569  0.077294\n",
              "7                       CNN_LSTM  0.064756  ...   6.475569  0.077294\n",
              "8            Dilated_CNN_weekday  0.065784  ...   6.578448  0.087545\n",
              "9            Dilated_CNN_weekday  0.049500  ...   4.950012  0.063152\n",
              "10           Dilated_CNN_weekend  0.129699  ...  12.969947  0.141266\n",
              "11           Dilated_CNN_weekend  0.035753  ...   3.575298  0.044938\n",
              "12  Dilated_CNN_weekend_7_layers  0.052057  ...   5.205693  0.061503\n",
              "13                        NBEATS  0.034419  ...   3.441944  0.048786\n",
              "14                        NBEATS  0.036399  ...   3.639935  0.051695\n",
              "15                    NBEATS_100  0.034505  ...   3.450487  0.049003\n",
              "16                 tune_CNN_LSTM  0.083818  ...   8.381800  0.095045\n",
              "\n",
              "[17 rows x 6 columns]"
            ]
          },
          "metadata": {
            "tags": []
          },
          "execution_count": 61
        }
      ]
    },
    {
      "cell_type": "code",
      "metadata": {
        "id": "J-AUwqwsI8OE",
        "colab_type": "code",
        "colab": {}
      },
      "source": [
        "results.to_csv('forecasts/full_testing_length/results.csv', index=False)"
      ],
      "execution_count": 0,
      "outputs": []
    },
    {
      "cell_type": "code",
      "metadata": {
        "id": "bwAe1yS3Pipd",
        "colab_type": "code",
        "colab": {}
      },
      "source": [
        "with open('forecasts/full_testing_length/' + args.save_folder + '/params.json', 'w') as f:\n",
        "  f.write(json.dumps(args.__dict__))\n",
        "f.close()"
      ],
      "execution_count": 0,
      "outputs": []
    },
    {
      "cell_type": "code",
      "metadata": {
        "id": "47BG9Uo-0xV0",
        "colab_type": "code",
        "colab": {}
      },
      "source": [
        ""
      ],
      "execution_count": 0,
      "outputs": []
    }
  ]
}