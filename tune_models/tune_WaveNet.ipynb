{
  "nbformat": 4,
  "nbformat_minor": 0,
  "metadata": {
    "accelerator": "GPU",
    "colab": {
      "name": "tune_WaveNet.ipynb",
      "provenance": [],
      "collapsed_sections": []
    },
    "kernelspec": {
      "display_name": "Python 3",
      "language": "python",
      "name": "python3"
    },
    "language_info": {
      "codemirror_mode": {
        "name": "ipython",
        "version": 3
      },
      "file_extension": ".py",
      "mimetype": "text/x-python",
      "name": "python",
      "nbconvert_exporter": "python",
      "pygments_lexer": "ipython3",
      "version": "3.7.3"
    }
  },
  "cells": [
    {
      "cell_type": "code",
      "metadata": {
        "id": "rXtfvkWur1Fr",
        "colab_type": "code",
        "colab": {
          "base_uri": "https://localhost:8080/",
          "height": 534
        },
        "outputId": "3333ec8c-78c3-4003-b3ae-a0cadada8cc2"
      },
      "source": [
        "pip install -U keras-tuner"
      ],
      "execution_count": 1,
      "outputs": [
        {
          "output_type": "stream",
          "text": [
            "Collecting keras-tuner\n",
            "\u001b[?25l  Downloading https://files.pythonhosted.org/packages/a7/f7/4b41b6832abf4c9bef71a664dc563adb25afc5812831667c6db572b1a261/keras-tuner-1.0.1.tar.gz (54kB)\n",
            "\r\u001b[K     |██████                          | 10kB 23.6MB/s eta 0:00:01\r\u001b[K     |████████████                    | 20kB 1.7MB/s eta 0:00:01\r\u001b[K     |██████████████████              | 30kB 2.3MB/s eta 0:00:01\r\u001b[K     |████████████████████████        | 40kB 1.7MB/s eta 0:00:01\r\u001b[K     |██████████████████████████████  | 51kB 2.0MB/s eta 0:00:01\r\u001b[K     |████████████████████████████████| 61kB 1.9MB/s \n",
            "\u001b[?25hRequirement already satisfied, skipping upgrade: future in /usr/local/lib/python3.6/dist-packages (from keras-tuner) (0.16.0)\n",
            "Requirement already satisfied, skipping upgrade: numpy in /usr/local/lib/python3.6/dist-packages (from keras-tuner) (1.18.4)\n",
            "Requirement already satisfied, skipping upgrade: tabulate in /usr/local/lib/python3.6/dist-packages (from keras-tuner) (0.8.7)\n",
            "Collecting terminaltables\n",
            "  Downloading https://files.pythonhosted.org/packages/9b/c4/4a21174f32f8a7e1104798c445dacdc1d4df86f2f26722767034e4de4bff/terminaltables-3.1.0.tar.gz\n",
            "Collecting colorama\n",
            "  Downloading https://files.pythonhosted.org/packages/c9/dc/45cdef1b4d119eb96316b3117e6d5708a08029992b2fee2c143c7a0a5cc5/colorama-0.4.3-py2.py3-none-any.whl\n",
            "Requirement already satisfied, skipping upgrade: tqdm in /usr/local/lib/python3.6/dist-packages (from keras-tuner) (4.41.1)\n",
            "Requirement already satisfied, skipping upgrade: requests in /usr/local/lib/python3.6/dist-packages (from keras-tuner) (2.23.0)\n",
            "Requirement already satisfied, skipping upgrade: scipy in /usr/local/lib/python3.6/dist-packages (from keras-tuner) (1.4.1)\n",
            "Requirement already satisfied, skipping upgrade: scikit-learn in /usr/local/lib/python3.6/dist-packages (from keras-tuner) (0.22.2.post1)\n",
            "Requirement already satisfied, skipping upgrade: idna<3,>=2.5 in /usr/local/lib/python3.6/dist-packages (from requests->keras-tuner) (2.9)\n",
            "Requirement already satisfied, skipping upgrade: urllib3!=1.25.0,!=1.25.1,<1.26,>=1.21.1 in /usr/local/lib/python3.6/dist-packages (from requests->keras-tuner) (1.24.3)\n",
            "Requirement already satisfied, skipping upgrade: chardet<4,>=3.0.2 in /usr/local/lib/python3.6/dist-packages (from requests->keras-tuner) (3.0.4)\n",
            "Requirement already satisfied, skipping upgrade: certifi>=2017.4.17 in /usr/local/lib/python3.6/dist-packages (from requests->keras-tuner) (2020.4.5.1)\n",
            "Requirement already satisfied, skipping upgrade: joblib>=0.11 in /usr/local/lib/python3.6/dist-packages (from scikit-learn->keras-tuner) (0.14.1)\n",
            "Building wheels for collected packages: keras-tuner, terminaltables\n",
            "  Building wheel for keras-tuner (setup.py) ... \u001b[?25l\u001b[?25hdone\n",
            "  Created wheel for keras-tuner: filename=keras_tuner-1.0.1-cp36-none-any.whl size=73200 sha256=2c67829443261e24f738da8f6ec94bb1ce53c6aeba4db28ccf046d73a7d60a9f\n",
            "  Stored in directory: /root/.cache/pip/wheels/b9/cc/62/52716b70dd90f3db12519233c3a93a5360bc672da1a10ded43\n",
            "  Building wheel for terminaltables (setup.py) ... \u001b[?25l\u001b[?25hdone\n",
            "  Created wheel for terminaltables: filename=terminaltables-3.1.0-cp36-none-any.whl size=15356 sha256=973f1907a175dbc25764865d76f825840f3c07bb5d2f91da08c2c6f7a9f57adc\n",
            "  Stored in directory: /root/.cache/pip/wheels/30/6b/50/6c75775b681fb36cdfac7f19799888ef9d8813aff9e379663e\n",
            "Successfully built keras-tuner terminaltables\n",
            "Installing collected packages: terminaltables, colorama, keras-tuner\n",
            "Successfully installed colorama-0.4.3 keras-tuner-1.0.1 terminaltables-3.1.0\n"
          ],
          "name": "stdout"
        }
      ]
    },
    {
      "cell_type": "code",
      "metadata": {
        "colab_type": "code",
        "id": "11xwlxLVUkV6",
        "outputId": "8314d8b2-3f87-46bf-cdd9-475e6c795d6f",
        "colab": {
          "base_uri": "https://localhost:8080/",
          "height": 34
        }
      },
      "source": [
        "from google.colab import drive\n",
        "drive.mount('/content/drive', force_remount=True)"
      ],
      "execution_count": 1,
      "outputs": [
        {
          "output_type": "stream",
          "text": [
            "Mounted at /content/drive\n"
          ],
          "name": "stdout"
        }
      ]
    },
    {
      "cell_type": "code",
      "metadata": {
        "colab_type": "code",
        "id": "mUeQ8a__Ub2_",
        "outputId": "2b0abd1d-2527-4fdb-e5b2-254d905233dd",
        "colab": {
          "base_uri": "https://localhost:8080/",
          "height": 34
        }
      },
      "source": [
        "cd drive/My\\ Drive/Projects/TimeSeriesForecasting"
      ],
      "execution_count": 2,
      "outputs": [
        {
          "output_type": "stream",
          "text": [
            "/content/drive/My Drive/Projects/TimeSeriesForecasting\n"
          ],
          "name": "stdout"
        }
      ]
    },
    {
      "cell_type": "code",
      "metadata": {
        "colab_type": "code",
        "id": "XweU6uzN9jeu",
        "colab": {}
      },
      "source": [
        "import os\n",
        "import json\n",
        "import numpy as np\n",
        "import pandas as po\n",
        "from tqdm import tqdm\n",
        "import matplotlib.pyplot as plt\n",
        "from sklearn.metrics import r2_score\n",
        "from sklearn.metrics import mean_squared_error\n",
        "from sklearn.preprocessing import MinMaxScaler\n",
        "from sklearn.metrics import mean_absolute_error"
      ],
      "execution_count": 0,
      "outputs": []
    },
    {
      "cell_type": "code",
      "metadata": {
        "colab_type": "code",
        "id": "PXwP69yw9jey",
        "outputId": "929382c2-a9f3-424b-87d5-e1cd13031f74",
        "colab": {
          "base_uri": "https://localhost:8080/",
          "height": 54
        }
      },
      "source": [
        "'''\n",
        "from keras import optimizers\n",
        "from keras.models import Model, Sequential\n",
        "from keras.callbacks import EarlyStopping, ModelCheckpoint\n",
        "from keras.layers import Input, Conv1D, Dense, Activation, Dropout, Flatten, Multiply, Add, Concatenate\n",
        "'''"
      ],
      "execution_count": 4,
      "outputs": [
        {
          "output_type": "execute_result",
          "data": {
            "text/plain": [
              "'\\nfrom keras import optimizers\\nfrom keras.models import Model, Sequential\\nfrom keras.callbacks import EarlyStopping, ModelCheckpoint\\nfrom keras.layers import Input, Conv1D, Dense, Activation, Dropout, Flatten, Multiply, Add, Concatenate\\n'"
            ]
          },
          "metadata": {
            "tags": []
          },
          "execution_count": 4
        }
      ]
    },
    {
      "cell_type": "code",
      "metadata": {
        "id": "ahEonmt7tLHn",
        "colab_type": "code",
        "colab": {}
      },
      "source": [
        "import tensorflow as tf\n",
        "from kerastuner.tuners.bayesian import BayesianOptimization"
      ],
      "execution_count": 0,
      "outputs": []
    },
    {
      "cell_type": "code",
      "metadata": {
        "colab_type": "code",
        "id": "zPLezym99je2",
        "colab": {}
      },
      "source": [
        "os.makedirs('model_checkpoints', exist_ok=True)\n",
        "os.makedirs('plots', exist_ok=True)"
      ],
      "execution_count": 0,
      "outputs": []
    },
    {
      "cell_type": "code",
      "metadata": {
        "colab_type": "code",
        "id": "wMk8B2s-9je4",
        "colab": {}
      },
      "source": [
        "df = po.read_csv('data/2017_energy_5min_noTransform.csv')"
      ],
      "execution_count": 0,
      "outputs": []
    },
    {
      "cell_type": "code",
      "metadata": {
        "colab_type": "code",
        "id": "TbsIQ-wS9je7",
        "colab": {}
      },
      "source": [
        "scaler = MinMaxScaler()\n",
        "df['W'] = scaler.fit_transform(df)"
      ],
      "execution_count": 0,
      "outputs": []
    },
    {
      "cell_type": "code",
      "metadata": {
        "colab_type": "code",
        "id": "anRqB6S59je9",
        "colab": {}
      },
      "source": [
        "class Args:\n",
        "  def __init__(self):\n",
        "    self.val_start = 12*24*250\n",
        "    self.test_start = 12*24*300\n",
        "    self.train_seq_len = 12*24*7\n",
        "    self.val_seq_len = 12*24\n",
        "    \n",
        "    self.batch_size = 64\n",
        "    self.num_epochs = 10\n",
        "    self.save_folder = 'tune_WaveNet'\n",
        "    \n",
        "    #self.conv_num_channels_1 = 128\n",
        "    #self.conv_num_channels_2 = 256\n",
        "    #self.kernel_size = 12\n",
        "    self.dilation_rates = [2**i for i in range(8)]\n",
        "    self.logs_dir = 'model_checkpoints/' + self.save_folder + '/logs_dir'"
      ],
      "execution_count": 0,
      "outputs": []
    },
    {
      "cell_type": "code",
      "metadata": {
        "colab_type": "code",
        "id": "gBjn2R919jfA",
        "colab": {}
      },
      "source": [
        "args = Args()"
      ],
      "execution_count": 0,
      "outputs": []
    },
    {
      "cell_type": "code",
      "metadata": {
        "colab_type": "code",
        "id": "dnppuMsP9jfC",
        "colab": {}
      },
      "source": [
        "os.makedirs('plots/' + args.save_folder, exist_ok=True)\n",
        "os.makedirs('model_checkpoints/' + args.save_folder, exist_ok=True)\n",
        "os.makedirs('model_checkpoints/' + args.save_folder + '/logs_dir', exist_ok=True)\n",
        "os.makedirs('forecasts/full_testing_length/' + args.save_folder, exist_ok=True)\n",
        "os.makedirs('forecasts/1_day_at_a_time/' + args.save_folder, exist_ok=True)\n",
        "os.makedirs('forecasts/1_day_at_a_time/' + args.save_folder + '/plots', exist_ok=True)\n",
        "os.makedirs('forecasts/1_day_at_a_time/' + args.save_folder + '/tabulated_results', exist_ok=True)"
      ],
      "execution_count": 0,
      "outputs": []
    },
    {
      "cell_type": "code",
      "metadata": {
        "colab_type": "code",
        "id": "W1AHLce49jfF",
        "colab": {}
      },
      "source": [
        "train_df = df[: args.val_start]\n",
        "val_df = df[args.val_start: args.test_start]\n",
        "test_df = df[args.test_start:]"
      ],
      "execution_count": 0,
      "outputs": []
    },
    {
      "cell_type": "code",
      "metadata": {
        "colab_type": "code",
        "id": "ZNitMw9c9jfJ",
        "colab": {}
      },
      "source": [
        "def make_windows(data, train_seq_len = args.train_seq_len, val_seq_len = args.val_seq_len):\n",
        "    X = []\n",
        "    y = []\n",
        "\n",
        "    for i in tqdm(range(train_seq_len, len(data) - val_seq_len + 1)):    \n",
        "        X.append(data.values[i - train_seq_len: i].T.tolist())\n",
        "        y.append(data.values[i: i + val_seq_len].T.tolist())\n",
        "\n",
        "    X = np.array(X).squeeze().reshape(-1, train_seq_len, 1)\n",
        "    y = np.array(y).squeeze()\n",
        "\n",
        "    return X, y"
      ],
      "execution_count": 0,
      "outputs": []
    },
    {
      "cell_type": "code",
      "metadata": {
        "colab_type": "code",
        "id": "gA0OZ3ai9jfL",
        "outputId": "093c9c92-c178-493c-ba18-0b02ff2b5d51",
        "colab": {
          "base_uri": "https://localhost:8080/",
          "height": 51
        }
      },
      "source": [
        "X_train, y_train = make_windows(train_df)\n",
        "X_val, y_val = make_windows(val_df)"
      ],
      "execution_count": 15,
      "outputs": [
        {
          "output_type": "stream",
          "text": [
            "100%|██████████| 69697/69697 [00:11<00:00, 5815.50it/s]\n",
            "100%|██████████| 12097/12097 [00:01<00:00, 8061.86it/s]\n"
          ],
          "name": "stderr"
        }
      ]
    },
    {
      "cell_type": "code",
      "metadata": {
        "id": "D3Uk7E_hsobj",
        "colab_type": "code",
        "colab": {}
      },
      "source": [
        "sgd = tf.keras.optimizers.SGD(lr=0.1, decay=1e-2, momentum=0.9, nesterov=True)\n",
        "earlystop = tf.keras.callbacks.EarlyStopping(monitor='val_loss', min_delta=0, patience=2)"
      ],
      "execution_count": 0,
      "outputs": []
    },
    {
      "cell_type": "code",
      "metadata": {
        "colab_type": "code",
        "id": "VL4xqzsm9jfQ",
        "colab": {}
      },
      "source": [
        "def build_model(hp):\n",
        "\n",
        "  num_channels_1 = hp.Int('num_channels', min_value=25, max_value=175, step=50)\n",
        "  num_channels_2 = hp.Int('num_channels', min_value=25, max_value=175, step=50)\n",
        "  kernel_size = hp.Int('kernel_size', min_value=6, max_value=36, step=6)\n",
        "  dropout = hp.Choice('dropout', values=[0.1, 0.2, 0.3])\n",
        "\n",
        "\n",
        "  history_seq = tf.keras.layers.Input(shape=(args.train_seq_len, 1))\n",
        "  x = history_seq\n",
        "\n",
        "  skips = []\n",
        "  for dilation_rate in args.dilation_rates:\n",
        "      x = tf.keras.layers.Conv1D(num_channels_1, 1, padding='same', activation='relu')(x) \n",
        "      \n",
        "      # filter convolution\n",
        "      x_f = tf.keras.layers.Conv1D(filters = num_channels_2,\n",
        "                  kernel_size = kernel_size, \n",
        "                  padding='causal',\n",
        "                  dilation_rate = dilation_rate)(x)\n",
        "      \n",
        "      # gating convolution\n",
        "      x_g = tf.keras.layers.Conv1D(filters = num_channels_2,\n",
        "                  kernel_size = kernel_size, \n",
        "                  padding='causal',\n",
        "                  dilation_rate = dilation_rate)(x)\n",
        "      \n",
        "      # multiply filter and gating branches\n",
        "      z = tf.keras.layers.Multiply()([tf.keras.layers.Activation('tanh')(x_f),\n",
        "                      tf.keras.layers.Activation('sigmoid')(x_g)])\n",
        "      \n",
        "      # postprocessing - equivalent to time-distributed dense\n",
        "      z = tf.keras.layers.Conv1D(num_channels_1, 1, padding='same', activation='relu')(z)\n",
        "      \n",
        "      # residual connection\n",
        "      x = tf.keras.layers.Add()([x, z])    \n",
        "      \n",
        "      # collect skip connections\n",
        "      skips.append(z)\n",
        "\n",
        "  # add all skip connection outputs \n",
        "  out = tf.keras.layers.Activation('relu')(tf.keras.layers.Add()(skips))\n",
        "\n",
        "  # final time-distributed dense layers \n",
        "  out = tf.keras.layers.Conv1D(num_channels_1, 1, padding='same')(out)\n",
        "  out = tf.keras.layers.Activation('relu')(out)\n",
        "  out = tf.keras.layers.Dropout(dropout)(out)\n",
        "  out = tf.keras.layers.Conv1D(1, 1, padding='same')(out)\n",
        "\n",
        "  out = tf.keras.layers.Flatten()(out)\n",
        "  out = tf.keras.layers.Dense(args.val_seq_len)(out)\n",
        "\n",
        "  model = tf.keras.Model(history_seq, out)\n",
        "\n",
        "  model.compile(loss='mean_squared_error', optimizer=sgd, metrics=['mean_squared_error'])\n",
        "\n",
        "  return model"
      ],
      "execution_count": 0,
      "outputs": []
    },
    {
      "cell_type": "code",
      "metadata": {
        "colab_type": "code",
        "id": "f2mj4kkC9jfa",
        "colab": {}
      },
      "source": [
        "tuner = BayesianOptimization(\n",
        "    build_model,\n",
        "    objective='mean_squared_error',\n",
        "    max_trials=20,\n",
        "    executions_per_trial=2,\n",
        "    directory=args.logs_dir,\n",
        "    project_name=args.save_folder,\n",
        "    overwrite = True)"
      ],
      "execution_count": 0,
      "outputs": []
    },
    {
      "cell_type": "code",
      "metadata": {
        "id": "sjLxnUxItPPB",
        "colab_type": "code",
        "colab": {
          "base_uri": "https://localhost:8080/",
          "height": 406
        },
        "outputId": "462ce4a7-a2f6-46c4-bdaa-a9ff4a5d4031"
      },
      "source": [
        "tuner.search_space_summary()"
      ],
      "execution_count": 19,
      "outputs": [
        {
          "output_type": "display_data",
          "data": {
            "text/html": [
              "<span style=\"color:#4527A0\"><h1 style=\"font-size:18px\">Search space summary</h1></span>"
            ],
            "text/plain": [
              "<IPython.core.display.HTML object>"
            ]
          },
          "metadata": {
            "tags": []
          }
        },
        {
          "output_type": "display_data",
          "data": {
            "text/html": [
              "<span style=\"color:cyan\"> |-Default search space size: 3</span>"
            ],
            "text/plain": [
              "<IPython.core.display.HTML object>"
            ]
          },
          "metadata": {
            "tags": []
          }
        },
        {
          "output_type": "display_data",
          "data": {
            "text/html": [
              "<span style=\"color:#7E57C2\"><h2 style=\"font-size:16px\">num_channels (Int)</h2></span>"
            ],
            "text/plain": [
              "<IPython.core.display.HTML object>"
            ]
          },
          "metadata": {
            "tags": []
          }
        },
        {
          "output_type": "display_data",
          "data": {
            "text/html": [
              "<span style=\"color:cyan\"> |-default: None</span>"
            ],
            "text/plain": [
              "<IPython.core.display.HTML object>"
            ]
          },
          "metadata": {
            "tags": []
          }
        },
        {
          "output_type": "display_data",
          "data": {
            "text/html": [
              "<span style=\"color:blue\"> |-max_value: 175</span>"
            ],
            "text/plain": [
              "<IPython.core.display.HTML object>"
            ]
          },
          "metadata": {
            "tags": []
          }
        },
        {
          "output_type": "display_data",
          "data": {
            "text/html": [
              "<span style=\"color:cyan\"> |-min_value: 25</span>"
            ],
            "text/plain": [
              "<IPython.core.display.HTML object>"
            ]
          },
          "metadata": {
            "tags": []
          }
        },
        {
          "output_type": "display_data",
          "data": {
            "text/html": [
              "<span style=\"color:blue\"> |-sampling: None</span>"
            ],
            "text/plain": [
              "<IPython.core.display.HTML object>"
            ]
          },
          "metadata": {
            "tags": []
          }
        },
        {
          "output_type": "display_data",
          "data": {
            "text/html": [
              "<span style=\"color:cyan\"> |-step: 50</span>"
            ],
            "text/plain": [
              "<IPython.core.display.HTML object>"
            ]
          },
          "metadata": {
            "tags": []
          }
        },
        {
          "output_type": "display_data",
          "data": {
            "text/html": [
              "<span style=\"color:#7E57C2\"><h2 style=\"font-size:16px\">kernel_size (Int)</h2></span>"
            ],
            "text/plain": [
              "<IPython.core.display.HTML object>"
            ]
          },
          "metadata": {
            "tags": []
          }
        },
        {
          "output_type": "display_data",
          "data": {
            "text/html": [
              "<span style=\"color:cyan\"> |-default: None</span>"
            ],
            "text/plain": [
              "<IPython.core.display.HTML object>"
            ]
          },
          "metadata": {
            "tags": []
          }
        },
        {
          "output_type": "display_data",
          "data": {
            "text/html": [
              "<span style=\"color:blue\"> |-max_value: 36</span>"
            ],
            "text/plain": [
              "<IPython.core.display.HTML object>"
            ]
          },
          "metadata": {
            "tags": []
          }
        },
        {
          "output_type": "display_data",
          "data": {
            "text/html": [
              "<span style=\"color:cyan\"> |-min_value: 6</span>"
            ],
            "text/plain": [
              "<IPython.core.display.HTML object>"
            ]
          },
          "metadata": {
            "tags": []
          }
        },
        {
          "output_type": "display_data",
          "data": {
            "text/html": [
              "<span style=\"color:blue\"> |-sampling: None</span>"
            ],
            "text/plain": [
              "<IPython.core.display.HTML object>"
            ]
          },
          "metadata": {
            "tags": []
          }
        },
        {
          "output_type": "display_data",
          "data": {
            "text/html": [
              "<span style=\"color:cyan\"> |-step: 6</span>"
            ],
            "text/plain": [
              "<IPython.core.display.HTML object>"
            ]
          },
          "metadata": {
            "tags": []
          }
        },
        {
          "output_type": "display_data",
          "data": {
            "text/html": [
              "<span style=\"color:#7E57C2\"><h2 style=\"font-size:16px\">dropout (Choice)</h2></span>"
            ],
            "text/plain": [
              "<IPython.core.display.HTML object>"
            ]
          },
          "metadata": {
            "tags": []
          }
        },
        {
          "output_type": "display_data",
          "data": {
            "text/html": [
              "<span style=\"color:cyan\"> |-default: 0.1</span>"
            ],
            "text/plain": [
              "<IPython.core.display.HTML object>"
            ]
          },
          "metadata": {
            "tags": []
          }
        },
        {
          "output_type": "display_data",
          "data": {
            "text/html": [
              "<span style=\"color:blue\"> |-ordered: True</span>"
            ],
            "text/plain": [
              "<IPython.core.display.HTML object>"
            ]
          },
          "metadata": {
            "tags": []
          }
        },
        {
          "output_type": "display_data",
          "data": {
            "text/html": [
              "<span style=\"color:cyan\"> |-values: [0.1, 0.2, 0.3]</span>"
            ],
            "text/plain": [
              "<IPython.core.display.HTML object>"
            ]
          },
          "metadata": {
            "tags": []
          }
        }
      ]
    },
    {
      "cell_type": "code",
      "metadata": {
        "id": "BHeho9-KLfOr",
        "colab_type": "code",
        "outputId": "a6a5e6eb-868c-4107-fee1-7640a05b6a4a",
        "colab": {
          "base_uri": "https://localhost:8080/",
          "height": 71
        }
      },
      "source": [
        "tuner.search(X_train, y_train, batch_size = args.batch_size, epochs = args.num_epochs, validation_data = (X_val, y_val), callbacks = [earlystop], verbose=True)"
      ],
      "execution_count": 0,
      "outputs": [
        {
          "output_type": "stream",
          "text": [
            "Epoch 1/10\n",
            " 253/1090 [=====>........................] - ETA: 12:00 - loss: 0.0270 - mean_squared_error: 0.0270\b\b\b\b\b\b\b\b\b\b\b\b\b\b\b\b\b\b\b\b\b\b\b\b\b\b\b\b\b\b\b\b\b\b\b\b\b\b\b\b\b\b\b\b\b\b\b\b\b\b\b\b\b\b\b\b\b\b\b\b\b\b\b\b\b\b\b\b\b\b\b\b\b\b\b\b\b\b\b\b\b\b\b\b\b\b\b\b\b\b\b\b\b\b\b\b\b\b\b"
          ],
          "name": "stdout"
        }
      ]
    },
    {
      "cell_type": "code",
      "metadata": {
        "id": "gxQrrfYyQcCM",
        "colab_type": "code",
        "colab": {}
      },
      "source": [
        "tuner.results_summary()"
      ],
      "execution_count": 0,
      "outputs": []
    },
    {
      "cell_type": "code",
      "metadata": {
        "id": "owAvt1DVtPKQ",
        "colab_type": "code",
        "colab": {}
      },
      "source": [
        ""
      ],
      "execution_count": 0,
      "outputs": []
    },
    {
      "cell_type": "code",
      "metadata": {
        "id": "rQT6J-7CtO_r",
        "colab_type": "code",
        "colab": {}
      },
      "source": [
        ""
      ],
      "execution_count": 0,
      "outputs": []
    },
    {
      "cell_type": "code",
      "metadata": {
        "colab_type": "code",
        "id": "zmFJ95qs9jfc",
        "outputId": "d3e75c93-36b4-4738-eb63-a26b23228878",
        "colab": {
          "base_uri": "https://localhost:8080/",
          "height": 35
        }
      },
      "source": [
        "best_epoch = 10#np.argmin(np.array(history.history['val_loss']))+1\n",
        "model.load_weights('model_checkpoints/' + args.save_folder + '/model_{:02d}.h5'.format(best_epoch))\n",
        "best_epoch"
      ],
      "execution_count": 0,
      "outputs": [
        {
          "output_type": "execute_result",
          "data": {
            "text/plain": [
              "10"
            ]
          },
          "metadata": {
            "tags": []
          },
          "execution_count": 17
        }
      ]
    },
    {
      "cell_type": "code",
      "metadata": {
        "colab_type": "code",
        "id": "lbvnKtZY9jfe",
        "colab": {}
      },
      "source": [
        "plot_df = po.DataFrame.from_dict({'train_loss':history.history['loss'], 'val_loss':history.history['val_loss']})\n",
        "plot_df.plot(logy=True, figsize=(10,10), fontsize=12)\n",
        "plt.xlabel('epoch', fontsize=12)\n",
        "plt.ylabel('loss', fontsize=12)\n",
        "plt.savefig('plots/'  + args.save_folder + '/train_val_loss.png')\n",
        "plt.show()"
      ],
      "execution_count": 0,
      "outputs": []
    },
    {
      "cell_type": "code",
      "metadata": {
        "colab_type": "code",
        "id": "onMbX0vA9jfg",
        "outputId": "f4cf6739-011f-4f91-e93e-c1546a61697c",
        "colab": {
          "base_uri": "https://localhost:8080/",
          "height": 35
        }
      },
      "source": [
        "X_test, y_test = make_windows(test_df)"
      ],
      "execution_count": 0,
      "outputs": [
        {
          "output_type": "stream",
          "text": [
            "100%|██████████| 12097/12097 [00:01<00:00, 9482.01it/s]\n"
          ],
          "name": "stderr"
        }
      ]
    },
    {
      "cell_type": "code",
      "metadata": {
        "colab_type": "code",
        "id": "rJkg_Sx19jfi",
        "colab": {}
      },
      "source": [
        "y_pred = model.predict(X_test)"
      ],
      "execution_count": 0,
      "outputs": []
    },
    {
      "cell_type": "code",
      "metadata": {
        "colab_type": "code",
        "id": "Vr4jjK0H9jfk",
        "colab": {}
      },
      "source": [
        "plt.plot(y_test[0], color = 'blue')\n",
        "plt.plot(y_pred[0], color = 'red')\n",
        "plt.savefig('plots/' + args.save_folder + '/test_weekend_pred.png')"
      ],
      "execution_count": 0,
      "outputs": []
    },
    {
      "cell_type": "code",
      "metadata": {
        "colab_type": "code",
        "id": "bx3TolOF9jfm",
        "colab": {}
      },
      "source": [
        "plt.plot(y_test[12*24*2], color = 'blue')\n",
        "plt.plot(y_pred[12*24*2], color = 'red')\n",
        "plt.savefig('plots/'  + args.save_folder + '/test_weekday_pred.png')"
      ],
      "execution_count": 0,
      "outputs": []
    },
    {
      "cell_type": "code",
      "metadata": {
        "colab_type": "code",
        "id": "OqGhQZq99jfo",
        "colab": {}
      },
      "source": [
        "if not os.path.exists('results.csv'):\n",
        "  results = po.DataFrame(columns = ['model', 'MAE', 'MSE', 'R2'])  \n",
        "else:\n",
        "  results = po.read_csv('results.csv')"
      ],
      "execution_count": 0,
      "outputs": []
    },
    {
      "cell_type": "code",
      "metadata": {
        "colab_type": "code",
        "id": "34Qx9cMAJE9a",
        "colab": {}
      },
      "source": [
        "errors = {'model': args.save_folder,\n",
        "          'MAE': mean_absolute_error(y_true=y_test, y_pred=y_pred),\n",
        "          'MSE': mean_squared_error(y_true=y_test, y_pred=y_pred),\n",
        "          'R2': r2_score(y_true=y_test, y_pred=y_pred)\n",
        "          }\n",
        "errors = po.Series(errors)\n",
        "results = results.append(errors, ignore_index=True)"
      ],
      "execution_count": 0,
      "outputs": []
    },
    {
      "cell_type": "code",
      "metadata": {
        "colab_type": "code",
        "id": "qdalOaQb9jfq",
        "colab": {}
      },
      "source": [
        "results"
      ],
      "execution_count": 0,
      "outputs": []
    },
    {
      "cell_type": "code",
      "metadata": {
        "colab_type": "code",
        "id": "J-AUwqwsI8OE",
        "colab": {}
      },
      "source": [
        "results.to_csv('results.csv', index=False)"
      ],
      "execution_count": 0,
      "outputs": []
    },
    {
      "cell_type": "code",
      "metadata": {
        "colab_type": "code",
        "id": "r1DAyDodKk4Z",
        "colab": {}
      },
      "source": [
        "with open('model_checkpoints/' + args.save_folder + '/params.json', 'w') as f:\n",
        "  f.write(json.dumps(args.__dict__))\n",
        "f.close()"
      ],
      "execution_count": 0,
      "outputs": []
    },
    {
      "cell_type": "code",
      "metadata": {
        "colab_type": "code",
        "id": "sY4E6aTS_mrv",
        "colab": {}
      },
      "source": [
        "if not os.path.exists('forecasts/full_testing_length/results.csv'):\n",
        "  results = po.DataFrame(columns = ['model', 'MAE', 'MSE', 'R2', 'MAPE', 'RMSE'])  \n",
        "else:\n",
        "  results = po.read_csv('forecasts/full_testing_length/results.csv')"
      ],
      "execution_count": 0,
      "outputs": []
    },
    {
      "cell_type": "code",
      "metadata": {
        "colab_type": "code",
        "id": "GZbWkj1y_mr_",
        "colab": {}
      },
      "source": [
        "errors = {'model': args.save_folder,\n",
        "          'MAE': mean_absolute_error(y_true=y_test, y_pred=y_pred),\n",
        "          'MAPE': mean_absolute_error(y_true=y_test, y_pred=y_pred)*100,\n",
        "          'MSE': mean_squared_error(y_true=y_test, y_pred=y_pred),\n",
        "          'RMSE': mean_squared_error(y_true=y_test, y_pred=y_pred, squared=False),\n",
        "          'R2': r2_score(y_true=y_test, y_pred=y_pred)          \n",
        "          }\n",
        "errors = po.Series(errors)\n",
        "results = results.append(errors, ignore_index=True)"
      ],
      "execution_count": 0,
      "outputs": []
    },
    {
      "cell_type": "code",
      "metadata": {
        "colab_type": "code",
        "outputId": "5acc7084-faa7-4041-8bd4-2dbf875a269f",
        "id": "pbsUtddt_msC",
        "colab": {
          "base_uri": "https://localhost:8080/",
          "height": 202
        }
      },
      "source": [
        "results"
      ],
      "execution_count": 0,
      "outputs": [
        {
          "output_type": "execute_result",
          "data": {
            "text/html": [
              "<div>\n",
              "<style scoped>\n",
              "    .dataframe tbody tr th:only-of-type {\n",
              "        vertical-align: middle;\n",
              "    }\n",
              "\n",
              "    .dataframe tbody tr th {\n",
              "        vertical-align: top;\n",
              "    }\n",
              "\n",
              "    .dataframe thead th {\n",
              "        text-align: right;\n",
              "    }\n",
              "</style>\n",
              "<table border=\"1\" class=\"dataframe\">\n",
              "  <thead>\n",
              "    <tr style=\"text-align: right;\">\n",
              "      <th></th>\n",
              "      <th>model</th>\n",
              "      <th>MAE</th>\n",
              "      <th>MSE</th>\n",
              "      <th>R2</th>\n",
              "      <th>MAPE</th>\n",
              "      <th>RMSE</th>\n",
              "    </tr>\n",
              "  </thead>\n",
              "  <tbody>\n",
              "    <tr>\n",
              "      <th>0</th>\n",
              "      <td>Dilated_CNN</td>\n",
              "      <td>0.037945</td>\n",
              "      <td>0.002629</td>\n",
              "      <td>0.732376</td>\n",
              "      <td>3.794527</td>\n",
              "      <td>0.051273</td>\n",
              "    </tr>\n",
              "    <tr>\n",
              "      <th>1</th>\n",
              "      <td>vanillaWaveNet_256_channels</td>\n",
              "      <td>0.046997</td>\n",
              "      <td>0.003457</td>\n",
              "      <td>0.648037</td>\n",
              "      <td>4.699682</td>\n",
              "      <td>0.058799</td>\n",
              "    </tr>\n",
              "    <tr>\n",
              "      <th>2</th>\n",
              "      <td>convLSTM</td>\n",
              "      <td>0.040161</td>\n",
              "      <td>0.002803</td>\n",
              "      <td>0.714712</td>\n",
              "      <td>4.016132</td>\n",
              "      <td>0.052941</td>\n",
              "    </tr>\n",
              "    <tr>\n",
              "      <th>3</th>\n",
              "      <td>bidirectionalLSTM</td>\n",
              "      <td>0.126920</td>\n",
              "      <td>0.020101</td>\n",
              "      <td>-1.046449</td>\n",
              "      <td>12.691955</td>\n",
              "      <td>0.141780</td>\n",
              "    </tr>\n",
              "    <tr>\n",
              "      <th>4</th>\n",
              "      <td>WaveNet</td>\n",
              "      <td>0.049359</td>\n",
              "      <td>0.004077</td>\n",
              "      <td>0.585029</td>\n",
              "      <td>4.935853</td>\n",
              "      <td>0.063849</td>\n",
              "    </tr>\n",
              "  </tbody>\n",
              "</table>\n",
              "</div>"
            ],
            "text/plain": [
              "                         model       MAE  ...       MAPE      RMSE\n",
              "0                  Dilated_CNN  0.037945  ...   3.794527  0.051273\n",
              "1  vanillaWaveNet_256_channels  0.046997  ...   4.699682  0.058799\n",
              "2                     convLSTM  0.040161  ...   4.016132  0.052941\n",
              "3            bidirectionalLSTM  0.126920  ...  12.691955  0.141780\n",
              "4                      WaveNet  0.049359  ...   4.935853  0.063849\n",
              "\n",
              "[5 rows x 6 columns]"
            ]
          },
          "metadata": {
            "tags": []
          },
          "execution_count": 22
        }
      ]
    },
    {
      "cell_type": "code",
      "metadata": {
        "colab_type": "code",
        "id": "kLhi8O3h_msG",
        "colab": {}
      },
      "source": [
        "results.to_csv('forecasts/full_testing_length/results.csv', index=False)"
      ],
      "execution_count": 0,
      "outputs": []
    },
    {
      "cell_type": "code",
      "metadata": {
        "id": "o-gvo96xBrui",
        "colab_type": "code",
        "colab": {}
      },
      "source": [
        ""
      ],
      "execution_count": 0,
      "outputs": []
    }
  ]
}