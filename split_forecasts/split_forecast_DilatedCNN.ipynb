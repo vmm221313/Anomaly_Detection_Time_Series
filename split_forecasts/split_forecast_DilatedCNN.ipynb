{
  "nbformat": 4,
  "nbformat_minor": 0,
  "metadata": {
    "colab": {
      "name": "split_forecast_DilatedCNN.ipynb",
      "provenance": []
    },
    "kernelspec": {
      "name": "python3",
      "display_name": "Python 3"
    },
    "accelerator": "GPU"
  },
  "cells": [
    {
      "cell_type": "code",
      "metadata": {
        "id": "11xwlxLVUkV6",
        "colab_type": "code",
        "outputId": "21b5cf64-dfc1-4a96-fde6-8d8029e85710",
        "colab": {
          "base_uri": "https://localhost:8080/",
          "height": 34
        }
      },
      "source": [
        "from google.colab import drive\n",
        "drive.mount('/content/drive', force_remount=True)"
      ],
      "execution_count": 1,
      "outputs": [
        {
          "output_type": "stream",
          "text": [
            "Mounted at /content/drive\n"
          ],
          "name": "stdout"
        }
      ]
    },
    {
      "cell_type": "code",
      "metadata": {
        "id": "mUeQ8a__Ub2_",
        "colab_type": "code",
        "outputId": "47e82fc0-63b9-4211-b5b1-8616db07d4b2",
        "colab": {
          "base_uri": "https://localhost:8080/",
          "height": 34
        }
      },
      "source": [
        "cd drive/My\\ Drive/Projects/TimeSeriesForecasting"
      ],
      "execution_count": 2,
      "outputs": [
        {
          "output_type": "stream",
          "text": [
            "/content/drive/My Drive/Projects/TimeSeriesForecasting\n"
          ],
          "name": "stdout"
        }
      ]
    },
    {
      "cell_type": "code",
      "metadata": {
        "id": "XweU6uzN9jeu",
        "colab_type": "code",
        "colab": {}
      },
      "source": [
        "import os\n",
        "import json\n",
        "import numpy as np\n",
        "import pandas as po\n",
        "from tqdm import tqdm\n",
        "import matplotlib.pyplot as plt\n",
        "from sklearn.metrics import r2_score\n",
        "from sklearn.metrics import mean_squared_error\n",
        "from sklearn.preprocessing import MinMaxScaler\n",
        "from sklearn.metrics import mean_absolute_error"
      ],
      "execution_count": 0,
      "outputs": []
    },
    {
      "cell_type": "code",
      "metadata": {
        "id": "q8-6L25Ljzdl",
        "colab_type": "code",
        "colab": {}
      },
      "source": [
        "import tensorflow as tf"
      ],
      "execution_count": 0,
      "outputs": []
    },
    {
      "cell_type": "code",
      "metadata": {
        "id": "zPLezym99je2",
        "colab_type": "code",
        "colab": {}
      },
      "source": [
        "os.makedirs('model_checkpoints', exist_ok=True)\n",
        "os.makedirs('plots', exist_ok=True)"
      ],
      "execution_count": 0,
      "outputs": []
    },
    {
      "cell_type": "code",
      "metadata": {
        "id": "wMk8B2s-9je4",
        "colab_type": "code",
        "colab": {}
      },
      "source": [
        "df = po.read_csv('data/2017_energy_5min_noTransform.csv')"
      ],
      "execution_count": 0,
      "outputs": []
    },
    {
      "cell_type": "code",
      "metadata": {
        "id": "TbsIQ-wS9je7",
        "colab_type": "code",
        "colab": {}
      },
      "source": [
        "scaler = MinMaxScaler()\n",
        "df['W'] = scaler.fit_transform(df)"
      ],
      "execution_count": 0,
      "outputs": []
    },
    {
      "cell_type": "code",
      "metadata": {
        "id": "5-mFtkqAYPg0",
        "colab_type": "code",
        "colab": {
          "base_uri": "https://localhost:8080/",
          "height": 282
        },
        "outputId": "66ec2223-8da7-439b-a072-f29f056460f6"
      },
      "source": [
        "plt.plot(df[:10*288])"
      ],
      "execution_count": 8,
      "outputs": [
        {
          "output_type": "execute_result",
          "data": {
            "text/plain": [
              "[<matplotlib.lines.Line2D at 0x7f149112f668>]"
            ]
          },
          "metadata": {
            "tags": []
          },
          "execution_count": 8
        },
        {
          "output_type": "display_data",
          "data": {
            "image/png": "[encoded data removed]",
            "text/plain": [
              "<Figure size 432x288 with 1 Axes>"
            ]
          },
          "metadata": {
            "tags": [],
            "needs_background": "light"
          }
        }
      ]
    },
    {
      "cell_type": "code",
      "metadata": {
        "id": "fbtq8XIjYdlU",
        "colab_type": "code",
        "colab": {
          "base_uri": "https://localhost:8080/",
          "height": 34
        },
        "outputId": "d2bfc5cc-717f-4c96-90ed-c17b69b3be3e"
      },
      "source": [
        "weekday_power_series = []\n",
        "weekend_power_series = []\n",
        "for i in tqdm(range(0, len(df)-7, 7*288)):\n",
        "  weekday_power_series += df['W'][i:i+5*288].tolist()\n",
        "  weekend_power_series += df['W'][i+5*288:i+7*288].tolist()"
      ],
      "execution_count": 16,
      "outputs": [
        {
          "output_type": "stream",
          "text": [
            "100%|██████████| 50/50 [00:00<00:00, 1856.97it/s]\n"
          ],
          "name": "stderr"
        }
      ]
    },
    {
      "cell_type": "code",
      "metadata": {
        "id": "WIydYttWZoqL",
        "colab_type": "code",
        "colab": {
          "base_uri": "https://localhost:8080/",
          "height": 34
        },
        "outputId": "4ec5dc0f-fb78-478d-9007-d400b8fddcec"
      },
      "source": [
        "len(weekday_power_series)"
      ],
      "execution_count": 17,
      "outputs": [
        {
          "output_type": "execute_result",
          "data": {
            "text/plain": [
              "72000"
            ]
          },
          "metadata": {
            "tags": []
          },
          "execution_count": 17
        }
      ]
    },
    {
      "cell_type": "code",
      "metadata": {
        "id": "r_loeUZoZu39",
        "colab_type": "code",
        "colab": {
          "base_uri": "https://localhost:8080/",
          "height": 34
        },
        "outputId": "00cb2ee9-f0e3-4613-95f5-f0567307bd9f"
      },
      "source": [
        "len(df) - len(weekday_power_series)"
      ],
      "execution_count": 18,
      "outputs": [
        {
          "output_type": "execute_result",
          "data": {
            "text/plain": [
              "28800"
            ]
          },
          "metadata": {
            "tags": []
          },
          "execution_count": 18
        }
      ]
    },
    {
      "cell_type": "code",
      "metadata": {
        "id": "ANtzw_zka68Q",
        "colab_type": "code",
        "colab": {}
      },
      "source": [
        "weekday_power_series = np.array(weekday_power_series)\n",
        "weekend_power_series = np.array(weekend_power_series)"
      ],
      "execution_count": 0,
      "outputs": []
    },
    {
      "cell_type": "code",
      "metadata": {
        "id": "jKMCyU8AY2yq",
        "colab_type": "code",
        "colab": {
          "base_uri": "https://localhost:8080/",
          "height": 282
        },
        "outputId": "3448e124-b64b-4938-d351-582a05283980"
      },
      "source": [
        "plt.plot(weekday_power_series[:288*20])"
      ],
      "execution_count": 24,
      "outputs": [
        {
          "output_type": "execute_result",
          "data": {
            "text/plain": [
              "[<matplotlib.lines.Line2D at 0x7f14900d2d68>]"
            ]
          },
          "metadata": {
            "tags": []
          },
          "execution_count": 24
        },
        {
          "output_type": "display_data",
          "data": {
            "image/png": "[encoded data removed]",
            "text/plain": [
              "<Figure size 432x288 with 1 Axes>"
            ]
          },
          "metadata": {
            "tags": [],
            "needs_background": "light"
          }
        }
      ]
    },
    {
      "cell_type": "code",
      "metadata": {
        "id": "outCq5t5aKYG",
        "colab_type": "code",
        "colab": {
          "base_uri": "https://localhost:8080/",
          "height": 282
        },
        "outputId": "6db901ae-4f46-4a9e-a863-613deb33000b"
      },
      "source": [
        "plt.plot(weekend_power_series[:288*20])"
      ],
      "execution_count": 25,
      "outputs": [
        {
          "output_type": "execute_result",
          "data": {
            "text/plain": [
              "[<matplotlib.lines.Line2D at 0x7f148fd12ef0>]"
            ]
          },
          "metadata": {
            "tags": []
          },
          "execution_count": 25
        },
        {
          "output_type": "display_data",
          "data": {
            "image/png": "[encoded data removed]",
            "text/plain": [
              "<Figure size 432x288 with 1 Axes>"
            ]
          },
          "metadata": {
            "tags": [],
            "needs_background": "light"
          }
        }
      ]
    },
    {
      "cell_type": "code",
      "metadata": {
        "id": "Ju4aDFhYb4Zf",
        "colab_type": "code",
        "colab": {
          "base_uri": "https://localhost:8080/",
          "height": 34
        },
        "outputId": "2b1688cd-5351-4524-f50e-8cb25ab9ffc2"
      },
      "source": [
        "len(weekday_power_series)/288"
      ],
      "execution_count": 37,
      "outputs": [
        {
          "output_type": "execute_result",
          "data": {
            "text/plain": [
              "250.0"
            ]
          },
          "metadata": {
            "tags": []
          },
          "execution_count": 37
        }
      ]
    },
    {
      "cell_type": "code",
      "metadata": {
        "id": "anRqB6S59je9",
        "colab_type": "code",
        "colab": {}
      },
      "source": [
        "class weekday_args:\n",
        "  def __init__(self):\n",
        "    self.val_start = 12*24*150\n",
        "    self.test_start = 12*24*200\n",
        "    self.train_seq_len = 12*24*5\n",
        "    self.val_seq_len = 12*24\n",
        "    \n",
        "    self.num_channels = 100\n",
        "    self.kernel_size = 12\n",
        "    self.batch_size = 512\n",
        "    self.num_epochs = 25\n",
        "    \n",
        "    self.save_folder = 'weekday_forecast_Dilated_CNN'"
      ],
      "execution_count": 0,
      "outputs": []
    },
    {
      "cell_type": "code",
      "metadata": {
        "id": "gBjn2R919jfA",
        "colab_type": "code",
        "colab": {}
      },
      "source": [
        "args = weekday_args()"
      ],
      "execution_count": 0,
      "outputs": []
    },
    {
      "cell_type": "code",
      "metadata": {
        "id": "VZj0d-mohngd",
        "colab_type": "code",
        "colab": {}
      },
      "source": [
        "os.makedirs('plots/' + args.save_folder, exist_ok=True)\n",
        "os.makedirs('model_checkpoints/' + args.save_folder, exist_ok=True)\n",
        "os.makedirs('model_checkpoints/' + args.save_folder + '/logs_dir', exist_ok=True)\n",
        "os.makedirs('forecasts/full_testing_length/' + args.save_folder, exist_ok=True)\n",
        "os.makedirs('forecasts/1_day_at_a_time/' + args.save_folder, exist_ok=True)\n",
        "os.makedirs('forecasts/1_day_at_a_time/' + args.save_folder + '/plots', exist_ok=True)\n",
        "os.makedirs('forecasts/1_day_at_a_time/' + args.save_folder + '/tabulated_results', exist_ok=True)"
      ],
      "execution_count": 0,
      "outputs": []
    },
    {
      "cell_type": "code",
      "metadata": {
        "id": "W1AHLce49jfF",
        "colab_type": "code",
        "colab": {}
      },
      "source": [
        "train_arr = weekday_power_series[: args.val_start]\n",
        "val_arr = weekday_power_series[args.val_start: args.test_start]\n",
        "test_arr = weekday_power_series[args.test_start:]"
      ],
      "execution_count": 0,
      "outputs": []
    },
    {
      "cell_type": "code",
      "metadata": {
        "id": "ZNitMw9c9jfJ",
        "colab_type": "code",
        "colab": {}
      },
      "source": [
        "def make_windows(data, train_seq_len = args.train_seq_len, val_seq_len = args.val_seq_len):\n",
        "    X = []\n",
        "    y = []\n",
        "\n",
        "    for i in tqdm(range(train_seq_len, len(data) - val_seq_len + 1)):    \n",
        "        X.append(data[i - train_seq_len: i].T.tolist())\n",
        "        y.append(data[i: i + val_seq_len].T.tolist())\n",
        "\n",
        "    X = np.array(X).squeeze().reshape(-1, train_seq_len, 1)\n",
        "    y = np.array(y).squeeze()\n",
        "\n",
        "    return X, y"
      ],
      "execution_count": 0,
      "outputs": []
    },
    {
      "cell_type": "code",
      "metadata": {
        "id": "gA0OZ3ai9jfL",
        "colab_type": "code",
        "outputId": "b91c6f2c-134c-4a47-cbd9-9ce99447f187",
        "colab": {
          "base_uri": "https://localhost:8080/",
          "height": 50
        }
      },
      "source": [
        "X_train, y_train = make_windows(train_arr)\n",
        "X_val, y_val = make_windows(val_arr)"
      ],
      "execution_count": 42,
      "outputs": [
        {
          "output_type": "stream",
          "text": [
            "100%|██████████| 41473/41473 [00:03<00:00, 12532.85it/s]\n",
            "100%|██████████| 12673/12673 [00:01<00:00, 9759.74it/s]\n"
          ],
          "name": "stderr"
        }
      ]
    },
    {
      "cell_type": "code",
      "metadata": {
        "id": "I3VW1zzYNnAC",
        "colab_type": "code",
        "colab": {}
      },
      "source": [
        "sgd = tf.keras.optimizers.SGD(lr=0.1, decay=1e-2, momentum=0.9, nesterov=True)\n",
        "earlystop = tf.keras.callbacks.EarlyStopping(monitor='val_loss', min_delta=0, patience=2)\n",
        "#best_val = tf.keras.callbacks.ModelCheckpoint('model_checkpoints/' + args.save_folder + '/model_{epoch:02d}.h5', save_best_only=True, mode='min', save_freq='epoch')"
      ],
      "execution_count": 0,
      "outputs": []
    },
    {
      "cell_type": "code",
      "metadata": {
        "id": "cWoZJ_ZobH7v",
        "colab_type": "code",
        "colab": {}
      },
      "source": [
        "model = tf.keras.Sequential()\n",
        "model.add(tf.keras.layers.Conv1D(args.num_channels, kernel_size=args.kernel_size, padding='causal', strides=1, activation='relu', dilation_rate=1, input_shape=(args.train_seq_len, 1)))\n",
        "model.add(tf.keras.layers.Conv1D(args.num_channels, kernel_size=args.kernel_size, padding='causal', strides=1, activation='relu', dilation_rate=2))\n",
        "model.add(tf.keras.layers.Conv1D(args.num_channels, kernel_size=args.kernel_size, padding='causal', strides=1, activation='relu', dilation_rate=4))\n",
        "model.add(tf.keras.layers.Conv1D(args.num_channels, kernel_size=args.kernel_size, padding='causal', strides=1, activation='relu', dilation_rate=8))\n",
        "model.add(tf.keras.layers.Conv1D(args.num_channels, kernel_size=args.kernel_size, padding='causal', strides=1, activation='relu', dilation_rate=16))\n",
        "model.add(tf.keras.layers.Conv1D(args.num_channels, kernel_size=args.kernel_size, padding='causal', strides=1, activation='relu', dilation_rate=32))\n",
        "model.add(tf.keras.layers.Conv1D(args.num_channels, kernel_size=args.kernel_size, padding='causal', strides=1, activation='relu', dilation_rate=64))\n",
        "model.add(tf.keras.layers.Conv1D(args.num_channels, kernel_size=args.kernel_size, padding='causal', strides=1, activation='relu', dilation_rate=128))\n",
        "model.add(tf.keras.layers.Flatten())\n",
        "model.add(tf.keras.layers.Dense(args.val_seq_len, activation='linear'))\n",
        "\n",
        "model.compile(loss='mean_squared_error', optimizer=sgd)"
      ],
      "execution_count": 0,
      "outputs": []
    },
    {
      "cell_type": "code",
      "metadata": {
        "id": "2wFe33pmbH-0",
        "colab_type": "code",
        "colab": {
          "base_uri": "https://localhost:8080/",
          "height": 487
        },
        "outputId": "c9db4116-ce5b-4f3f-c428-2a5bfc38cdfc"
      },
      "source": [
        "model.summary()"
      ],
      "execution_count": 49,
      "outputs": [
        {
          "output_type": "stream",
          "text": [
            "Model: \"sequential_1\"\n",
            "_________________________________________________________________\n",
            "Layer (type)                 Output Shape              Param #   \n",
            "=================================================================\n",
            "conv1d_8 (Conv1D)            (None, 1440, 100)         1300      \n",
            "_________________________________________________________________\n",
            "conv1d_9 (Conv1D)            (None, 1440, 100)         120100    \n",
            "_________________________________________________________________\n",
            "conv1d_10 (Conv1D)           (None, 1440, 100)         120100    \n",
            "_________________________________________________________________\n",
            "conv1d_11 (Conv1D)           (None, 1440, 100)         120100    \n",
            "_________________________________________________________________\n",
            "conv1d_12 (Conv1D)           (None, 1440, 100)         120100    \n",
            "_________________________________________________________________\n",
            "conv1d_13 (Conv1D)           (None, 1440, 100)         120100    \n",
            "_________________________________________________________________\n",
            "conv1d_14 (Conv1D)           (None, 1440, 100)         120100    \n",
            "_________________________________________________________________\n",
            "conv1d_15 (Conv1D)           (None, 1440, 100)         120100    \n",
            "_________________________________________________________________\n",
            "flatten_1 (Flatten)          (None, 144000)            0         \n",
            "_________________________________________________________________\n",
            "dense_1 (Dense)              (None, 288)               41472288  \n",
            "=================================================================\n",
            "Total params: 42,314,288\n",
            "Trainable params: 42,314,288\n",
            "Non-trainable params: 0\n",
            "_________________________________________________________________\n"
          ],
          "name": "stdout"
        }
      ]
    },
    {
      "cell_type": "code",
      "metadata": {
        "id": "9lB6za4gbICZ",
        "colab_type": "code",
        "colab": {
          "base_uri": "https://localhost:8080/",
          "height": 50
        },
        "outputId": "37e6026a-3389-46fe-a338-463f574db394"
      },
      "source": [
        "history = model.fit(X_train, y_train, batch_size = args.batch_size, epochs = args.num_epochs, validation_data = (X_val, y_val), callbacks=[earlystop], verbose=1)"
      ],
      "execution_count": 0,
      "outputs": [
        {
          "output_type": "stream",
          "text": [
            "Epoch 1/25\n",
            "37/82 [============>.................] - ETA: 2:24 - loss: 0.0312"
          ],
          "name": "stdout"
        }
      ]
    },
    {
      "cell_type": "code",
      "metadata": {
        "colab_type": "code",
        "id": "uHiJFHrvslRx",
        "colab": {}
      },
      "source": [
        "best_epoch = np.argmin(np.array(history.history['val_loss']))+1\n",
        "model.save_weights('model_checkpoints/' + args.save_folder + '/model_{:02d}.h5'.format(best_epoch))\n",
        "best_epoch"
      ],
      "execution_count": 0,
      "outputs": []
    },
    {
      "cell_type": "code",
      "metadata": {
        "id": "onMbX0vA9jfg",
        "colab_type": "code",
        "outputId": "496606a5-2cdd-44ec-de06-009dff5da40a",
        "colab": {
          "base_uri": "https://localhost:8080/",
          "height": 34
        }
      },
      "source": [
        "X_test, y_test = make_windows(test_df)"
      ],
      "execution_count": 0,
      "outputs": [
        {
          "output_type": "stream",
          "text": [
            "100%|██████████| 12097/12097 [00:01<00:00, 8648.36it/s]\n"
          ],
          "name": "stderr"
        }
      ]
    },
    {
      "cell_type": "code",
      "metadata": {
        "id": "rJkg_Sx19jfi",
        "colab_type": "code",
        "outputId": "4d7ebbba-231d-4502-e3a4-8fdee200bd7d",
        "colab": {
          "base_uri": "https://localhost:8080/"
        }
      },
      "source": [
        "y_pred = model.predict(X_test)"
      ],
      "execution_count": 0,
      "outputs": [
        {
          "output_type": "error",
          "ename": "NameError",
          "evalue": "ignored",
          "traceback": [
            "\u001b[0;31m---------------------------------------------------------------------------\u001b[0m",
            "\u001b[0;31mNameError\u001b[0m                                 Traceback (most recent call last)",
            "\u001b[0;32m<ipython-input-31-33f45f2977c2>\u001b[0m in \u001b[0;36m<module>\u001b[0;34m()\u001b[0m\n\u001b[0;32m----> 1\u001b[0;31m \u001b[0my_pred\u001b[0m \u001b[0;34m=\u001b[0m \u001b[0mmodel\u001b[0m\u001b[0;34m.\u001b[0m\u001b[0mpredict\u001b[0m\u001b[0;34m(\u001b[0m\u001b[0mX_test\u001b[0m\u001b[0;34m)\u001b[0m\u001b[0;34m\u001b[0m\u001b[0;34m\u001b[0m\u001b[0m\n\u001b[0m",
            "\u001b[0;31mNameError\u001b[0m: name 'model' is not defined"
          ]
        }
      ]
    },
    {
      "cell_type": "code",
      "metadata": {
        "id": "Vn2QDQaQg29M",
        "colab_type": "code",
        "colab": {}
      },
      "source": [
        "for i in tqdm(range(y_pred.shape[0]//288)): ## we have forecasts for these many complete day\n",
        "  plt.plot(scaler.inverse_transform(y_test[12*24*i].reshape(-1, 1)), color = 'blue')\n",
        "  plt.plot(scaler.inverse_transform(y_pred[12*24*i].reshape(-1, 1)), color = 'red')\n",
        "  plt.legend(['Actual Value', 'Prediction'])\n",
        "  plt.savefig('forecasts/1_day_at_a_time/' + args.save_folder + '/plots/day_{}.png'.format(i))\n",
        "  plt.close()\n",
        "\n",
        "  df_t = po.DataFrame()\n",
        "  df_t['Predictions'] = scaler.inverse_transform(y_pred[12*24*i].reshape(-1, 1)).reshape(-1)\n",
        "  df_t['Actual_Values'] = scaler.inverse_transform(y_test[12*24*i].reshape(-1, 1)).reshape(-1)\n",
        "\n",
        "  df_t.to_csv('forecasts/1_day_at_a_time/' + args.save_folder + '/tabulated_results/day_{}.csv'.format(i), index = False)"
      ],
      "execution_count": 0,
      "outputs": []
    },
    {
      "cell_type": "code",
      "metadata": {
        "id": "owS0Sszylax5",
        "colab_type": "code",
        "colab": {}
      },
      "source": [
        "forecasts = []\n",
        "actuals = []\n",
        "for i in tqdm(range(y_pred.shape[0]//288)): ## we have forecasts for these many complete day\n",
        "  forecasts += (scaler.inverse_transform(y_pred[12*24*i].reshape(-1, 1)).reshape(-1)).tolist()\n",
        "  actuals += (scaler.inverse_transform(y_test[12*24*i].reshape(-1, 1)).reshape(-1)).tolist()"
      ],
      "execution_count": 0,
      "outputs": []
    },
    {
      "cell_type": "code",
      "metadata": {
        "id": "MwkDKaUzzyeU",
        "colab_type": "code",
        "colab": {}
      },
      "source": [
        "df = po.DataFrame()\n",
        "df['Predictions'] = forecasts\n",
        "df['Actual Values'] = actuals"
      ],
      "execution_count": 0,
      "outputs": []
    },
    {
      "cell_type": "code",
      "metadata": {
        "id": "ohVo_OdG0Dpt",
        "colab_type": "code",
        "colab": {}
      },
      "source": [
        "df.to_csv('forecasts/full_testing_length/' + args.save_folder + '/full_results.csv', index = False)"
      ],
      "execution_count": 0,
      "outputs": []
    },
    {
      "cell_type": "code",
      "metadata": {
        "id": "GggD7jzMlaek",
        "colab_type": "code",
        "colab": {}
      },
      "source": [
        "plt.figure(figsize=(40, 20))\n",
        "plt.plot(actuals, color = 'blue')\n",
        "plt.plot(forecasts, color = 'red')\n",
        "plt.legend(['Actual Value', 'Prediction'])\n",
        "plt.savefig('forecasts/full_testing_length/' + args.save_folder + '/forecast.png')"
      ],
      "execution_count": 0,
      "outputs": []
    },
    {
      "cell_type": "code",
      "metadata": {
        "id": "OqGhQZq99jfo",
        "colab_type": "code",
        "colab": {}
      },
      "source": [
        "if not os.path.exists('forecasts/full_testing_length/results.csv'):\n",
        "  results = po.DataFrame(columns = ['model', 'MAE', 'MSE', 'R2', 'MAPE', 'RMSE'])  \n",
        "else:\n",
        "  results = po.read_csv('forecasts/full_testing_length/results.csv')"
      ],
      "execution_count": 0,
      "outputs": []
    },
    {
      "cell_type": "code",
      "metadata": {
        "id": "34Qx9cMAJE9a",
        "colab_type": "code",
        "colab": {}
      },
      "source": [
        "errors = {'model': args.save_folder,\n",
        "          'MAE': mean_absolute_error(y_true=y_test, y_pred=y_pred),\n",
        "          'MAPE': mean_absolute_error(y_true=y_test, y_pred=y_pred)*100,\n",
        "          'MSE': mean_squared_error(y_true=y_test, y_pred=y_pred),\n",
        "          'RMSE': mean_squared_error(y_true=y_test, y_pred=y_pred, squared=False),\n",
        "          'R2': r2_score(y_true=y_test, y_pred=y_pred)          \n",
        "          }\n",
        "errors = po.Series(errors)\n",
        "results = results.append(errors, ignore_index=True)"
      ],
      "execution_count": 0,
      "outputs": []
    },
    {
      "cell_type": "code",
      "metadata": {
        "id": "qdalOaQb9jfq",
        "colab_type": "code",
        "colab": {}
      },
      "source": [
        "results"
      ],
      "execution_count": 0,
      "outputs": []
    },
    {
      "cell_type": "code",
      "metadata": {
        "id": "J-AUwqwsI8OE",
        "colab_type": "code",
        "colab": {}
      },
      "source": [
        "results.to_csv('forecasts/full_testing_length/results.csv', index=False)"
      ],
      "execution_count": 0,
      "outputs": []
    },
    {
      "cell_type": "code",
      "metadata": {
        "id": "bwAe1yS3Pipd",
        "colab_type": "code",
        "colab": {}
      },
      "source": [
        "with open('forecasts/full_testing_length/' + args.save_folder + '/params.json', 'w') as f:\n",
        "  f.write(json.dumps(args.__dict__))\n",
        "f.close()"
      ],
      "execution_count": 0,
      "outputs": []
    }
  ]
}