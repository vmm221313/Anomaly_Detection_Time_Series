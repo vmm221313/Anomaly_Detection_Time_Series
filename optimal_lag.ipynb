{
 "cells": [
  {
   "cell_type": "code",
   "execution_count": 1,
   "metadata": {},
   "outputs": [],
   "source": [
    "import os\n",
    "import json\n",
    "import numpy as np\n",
    "import pandas as po\n",
    "from tqdm import tqdm\n",
    "import matplotlib.pyplot as plt\n",
    "from sklearn.metrics import r2_score\n",
    "from sklearn.metrics import mean_squared_error\n",
    "from sklearn.preprocessing import MinMaxScaler\n",
    "from sklearn.metrics import mean_absolute_error"
   ]
  },
  {
   "cell_type": "code",
   "execution_count": 2,
   "metadata": {},
   "outputs": [
    {
     "name": "stderr",
     "output_type": "stream",
     "text": [
      "Using TensorFlow backend.\n"
     ]
    }
   ],
   "source": [
    "import tensorflow as tf\n",
    "from nbeats_model import NBeatsNet"
   ]
  },
  {
   "cell_type": "code",
   "execution_count": 3,
   "metadata": {},
   "outputs": [],
   "source": [
    "df = po.read_csv('data/2017_energy_5min_noTransform.csv')"
   ]
  },
  {
   "cell_type": "code",
   "execution_count": 4,
   "metadata": {},
   "outputs": [],
   "source": [
    "scaler = MinMaxScaler()\n",
    "df['W'] = scaler.fit_transform(df)"
   ]
  },
  {
   "cell_type": "code",
   "execution_count": 5,
   "metadata": {},
   "outputs": [
    {
     "data": {
      "text/plain": [
       "[<matplotlib.lines.Line2D at 0x1a35d9bef0>]"
      ]
     },
     "execution_count": 5,
     "metadata": {},
     "output_type": "execute_result"
    },
    {
     "data": {
      "image/png": "[encoded data removed]",
      "text/plain": [
       "<Figure size 432x288 with 1 Axes>"
      ]
     },
     "metadata": {
      "needs_background": "light"
     },
     "output_type": "display_data"
    }
   ],
   "source": [
    "plt.plot(df[:288*7])"
   ]
  },
  {
   "cell_type": "code",
   "execution_count": 6,
   "metadata": {},
   "outputs": [],
   "source": [
    "class Args:\n",
    "    def __init__(self):\n",
    "        self.val_start = 12*24*250\n",
    "        self.test_start = 12*24*300\n",
    "        #self.train_seq_len = 12*24*7\n",
    "        self.val_seq_len = 12*24\n",
    "\n",
    "        self.seasonality = 12*24\n",
    "        self.batch_size = 512\n",
    "        self.num_epochs = 100\n",
    "        self.hidden_dim = 100\n",
    "        self.theta_1 = 288*7\n",
    "        self.theta_2 = 288*7\n",
    "        self.nb_blocks_per_stack = 20\n",
    "\n",
    "        self.save_folder = 'NBEATS_weekday_weekend_combined_with_OHE'"
   ]
  },
  {
   "cell_type": "code",
   "execution_count": 7,
   "metadata": {},
   "outputs": [],
   "source": [
    "args = Args()"
   ]
  },
  {
   "cell_type": "code",
   "execution_count": 8,
   "metadata": {},
   "outputs": [],
   "source": [
    "os.makedirs('forecasts/' + args.save_folder, exist_ok=True)\n",
    "os.makedirs('saved_arrays/' + args.save_folder, exist_ok=True)"
   ]
  },
  {
   "cell_type": "code",
   "execution_count": 9,
   "metadata": {},
   "outputs": [],
   "source": [
    "train_df = df[: args.val_start]\n",
    "val_df = df[args.val_start: args.test_start]\n",
    "test_df = df[args.test_start:]"
   ]
  },
  {
   "cell_type": "code",
   "execution_count": 10,
   "metadata": {},
   "outputs": [],
   "source": [
    "def make_windows(data, train_seq_len, val_seq_len = args.val_seq_len):\n",
    "    X = []\n",
    "    y = []\n",
    "\n",
    "    for i in tqdm(range(train_seq_len, len(data) - val_seq_len + 1)):    \n",
    "        X.append(data.values[i - train_seq_len: i].T.tolist())\n",
    "        y.append(data.values[i: i + val_seq_len].T.tolist())\n",
    "\n",
    "    X = np.array(X).squeeze().reshape(-1, train_seq_len, 1)\n",
    "    y = np.array(y).squeeze()\n",
    "    \n",
    "    return X, y"
   ]
  },
  {
   "cell_type": "code",
   "execution_count": 11,
   "metadata": {},
   "outputs": [
    {
     "name": "stderr",
     "output_type": "stream",
     "text": [
      "100%|██████████| 69697/69697 [00:11<00:00, 6270.86it/s]\n",
      "100%|██████████| 12097/12097 [00:01<00:00, 9429.85it/s]\n",
      "100%|██████████| 12097/12097 [00:01<00:00, 9361.16it/s]\n",
      "100%|██████████| 67681/67681 [00:26<00:00, 2584.95it/s]\n",
      "100%|██████████| 10081/10081 [00:02<00:00, 4927.60it/s]\n",
      "100%|██████████| 10081/10081 [00:01<00:00, 5051.88it/s]\n",
      "100%|██████████| 65665/65665 [00:57<00:00, 1142.50it/s]\n",
      "100%|██████████| 8065/8065 [00:02<00:00, 3304.43it/s]\n",
      "100%|██████████| 8065/8065 [00:02<00:00, 3305.96it/s]\n",
      "100%|██████████| 63649/63649 [01:19<00:00, 804.47it/s] \n",
      "100%|██████████| 6049/6049 [00:02<00:00, 2493.98it/s]\n",
      "100%|██████████| 6049/6049 [00:02<00:00, 2721.52it/s]\n",
      "100%|██████████| 61633/61633 [01:59<00:00, 516.51it/s] \n",
      "100%|██████████| 4033/4033 [00:01<00:00, 2408.09it/s]\n",
      "100%|██████████| 4033/4033 [00:01<00:00, 2492.27it/s]\n"
     ]
    }
   ],
   "source": [
    "for train_seq_len in list(range(7*288, (35+1)*288, 7*288)):\n",
    "    X_train, y_train = make_windows(train_df, train_seq_len)\n",
    "    X_val, y_val = make_windows(val_df, train_seq_len)\n",
    "    X_test, y_test = make_windows(test_df, train_seq_len)\n",
    "\n",
    "    y_train = y_train.reshape(y_train.shape[0], y_train.shape[1], 1)\n",
    "    y_val = y_val.reshape(y_val.shape[0], y_val.shape[1], 1)\n",
    "    y_test = y_test.reshape(y_test.shape[0], y_test.shape[1], 1)\n",
    "    \n",
    "    np.savez('saved_arrays/train_val_test_{}.npz'.format(train_seq_len), X_train=X_train, y_train=y_train, X_val=X_val, y_val=y_val, X_test=X_test, y_test=y_test)"
   ]
  },
  {
   "cell_type": "code",
   "execution_count": null,
   "metadata": {},
   "outputs": [],
   "source": []
  },
  {
   "cell_type": "code",
   "execution_count": null,
   "metadata": {},
   "outputs": [],
   "source": [
    "data = np.load('mat.npz')\n",
    "print data['name1']\n",
    "print data['name2']"
   ]
  }
 ],
 "metadata": {
  "kernelspec": {
   "display_name": "Python 3",
   "language": "python",
   "name": "python3"
  },
  "language_info": {
   "codemirror_mode": {
    "name": "ipython",
    "version": 3
   },
   "file_extension": ".py",
   "mimetype": "text/x-python",
   "name": "python",
   "nbconvert_exporter": "python",
   "pygments_lexer": "ipython3",
   "version": "3.7.3"
  }
 },
 "nbformat": 4,
 "nbformat_minor": 4
}
