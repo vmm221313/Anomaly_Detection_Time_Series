{
  "nbformat": 4,
  "nbformat_minor": 0,
  "metadata": {
    "colab": {
      "name": "split_forecast_vanilla_WaveNet.ipynb",
      "provenance": [],
      "collapsed_sections": []
    },
    "kernelspec": {
      "name": "python3",
      "display_name": "Python 3"
    },
    "accelerator": "GPU"
  },
  "cells": [
    {
      "cell_type": "code",
      "metadata": {
        "id": "11xwlxLVUkV6",
        "colab_type": "code",
        "outputId": "0e941f02-bd42-48d6-881c-07a816b6295a",
        "colab": {
          "base_uri": "https://localhost:8080/",
          "height": 121
        }
      },
      "source": [
        "from google.colab import drive\n",
        "drive.mount('/content/drive', force_remount=True)"
      ],
      "execution_count": 1,
      "outputs": [
        {
          "output_type": "stream",
          "text": [
            "Go to this URL in a browser: https://accounts.google.com/o/oauth2/auth?client_id=947318989803-6bn6qk8qdgf4n4g3pfee6491hc0brc4i.apps.googleusercontent.com&redirect_uri=urn%3aietf%3awg%3aoauth%3a2.0%3aoob&response_type=code&scope=email%20https%3a%2f%2fwww.googleapis.com%2fauth%2fdocs.test%20https%3a%2f%2fwww.googleapis.com%2fauth%2fdrive%20https%3a%2f%2fwww.googleapis.com%2fauth%2fdrive.photos.readonly%20https%3a%2f%2fwww.googleapis.com%2fauth%2fpeopleapi.readonly\n",
            "\n",
            "Enter your authorization code:\n",
            "··········\n",
            "Mounted at /content/drive\n"
          ],
          "name": "stdout"
        }
      ]
    },
    {
      "cell_type": "code",
      "metadata": {
        "id": "mUeQ8a__Ub2_",
        "colab_type": "code",
        "outputId": "a1ee2e5d-d3e2-456c-bbb7-f5ebd8b984f8",
        "colab": {
          "base_uri": "https://localhost:8080/",
          "height": 34
        }
      },
      "source": [
        "cd drive/My\\ Drive/Projects/TimeSeriesForecasting"
      ],
      "execution_count": 2,
      "outputs": [
        {
          "output_type": "stream",
          "text": [
            "/content/drive/My Drive/Projects/TimeSeriesForecasting\n"
          ],
          "name": "stdout"
        }
      ]
    },
    {
      "cell_type": "code",
      "metadata": {
        "id": "XweU6uzN9jeu",
        "colab_type": "code",
        "colab": {}
      },
      "source": [
        "import os\n",
        "import json\n",
        "import numpy as np\n",
        "import pandas as po\n",
        "from tqdm import tqdm\n",
        "import matplotlib.pyplot as plt\n",
        "from sklearn.metrics import r2_score\n",
        "from sklearn.metrics import mean_squared_error\n",
        "from sklearn.preprocessing import MinMaxScaler\n",
        "from sklearn.metrics import mean_absolute_error"
      ],
      "execution_count": 0,
      "outputs": []
    },
    {
      "cell_type": "code",
      "metadata": {
        "id": "q8-6L25Ljzdl",
        "colab_type": "code",
        "colab": {}
      },
      "source": [
        "import tensorflow as tf"
      ],
      "execution_count": 0,
      "outputs": []
    },
    {
      "cell_type": "code",
      "metadata": {
        "id": "zPLezym99je2",
        "colab_type": "code",
        "colab": {}
      },
      "source": [
        "os.makedirs('model_checkpoints', exist_ok=True)\n",
        "os.makedirs('plots', exist_ok=True)"
      ],
      "execution_count": 0,
      "outputs": []
    },
    {
      "cell_type": "code",
      "metadata": {
        "id": "wMk8B2s-9je4",
        "colab_type": "code",
        "colab": {}
      },
      "source": [
        "df = po.read_csv('data/2017_energy_5min_noTransform.csv')"
      ],
      "execution_count": 0,
      "outputs": []
    },
    {
      "cell_type": "code",
      "metadata": {
        "id": "TbsIQ-wS9je7",
        "colab_type": "code",
        "colab": {}
      },
      "source": [
        "scaler = MinMaxScaler()\n",
        "df['W'] = scaler.fit_transform(df)"
      ],
      "execution_count": 0,
      "outputs": []
    },
    {
      "cell_type": "code",
      "metadata": {
        "id": "5-mFtkqAYPg0",
        "colab_type": "code",
        "outputId": "c5cba19a-6ddf-4c43-95f8-97bd4ff7f0b6",
        "colab": {
          "base_uri": "https://localhost:8080/",
          "height": 282
        }
      },
      "source": [
        "plt.plot(df[:10*288])"
      ],
      "execution_count": 0,
      "outputs": [
        {
          "output_type": "execute_result",
          "data": {
            "text/plain": [
              "[<matplotlib.lines.Line2D at 0x7f52bd02f470>]"
            ]
          },
          "metadata": {
            "tags": []
          },
          "execution_count": 8
        },
        {
          "output_type": "display_data",
          "data": {
            "image/png": "[encoded data removed]",
            "text/plain": [
              "<Figure size 432x288 with 1 Axes>"
            ]
          },
          "metadata": {
            "tags": [],
            "needs_background": "light"
          }
        }
      ]
    },
    {
      "cell_type": "code",
      "metadata": {
        "id": "fbtq8XIjYdlU",
        "colab_type": "code",
        "outputId": "804752e5-c602-4dbd-c279-cf262ba78904",
        "colab": {
          "base_uri": "https://localhost:8080/",
          "height": 34
        }
      },
      "source": [
        "weekday_power_series = []\n",
        "weekend_power_series = []\n",
        "for i in tqdm(range(0, len(df)-7, 7*288)):\n",
        "  weekday_power_series += df['W'][i:i+5*288].tolist()\n",
        "  weekend_power_series += df['W'][i+5*288:i+7*288].tolist()"
      ],
      "execution_count": 0,
      "outputs": [
        {
          "output_type": "stream",
          "text": [
            "100%|██████████| 50/50 [00:00<00:00, 1142.38it/s]\n"
          ],
          "name": "stderr"
        }
      ]
    },
    {
      "cell_type": "code",
      "metadata": {
        "id": "WIydYttWZoqL",
        "colab_type": "code",
        "outputId": "ee3f7e40-9d27-43f8-f61a-ffc9c99d35f6",
        "colab": {
          "base_uri": "https://localhost:8080/",
          "height": 34
        }
      },
      "source": [
        "len(weekday_power_series)"
      ],
      "execution_count": 0,
      "outputs": [
        {
          "output_type": "execute_result",
          "data": {
            "text/plain": [
              "72000"
            ]
          },
          "metadata": {
            "tags": []
          },
          "execution_count": 10
        }
      ]
    },
    {
      "cell_type": "code",
      "metadata": {
        "id": "r_loeUZoZu39",
        "colab_type": "code",
        "outputId": "7b681757-34fb-43fc-8603-6cf0fa4568af",
        "colab": {
          "base_uri": "https://localhost:8080/",
          "height": 34
        }
      },
      "source": [
        "len(df) - len(weekday_power_series)"
      ],
      "execution_count": 0,
      "outputs": [
        {
          "output_type": "execute_result",
          "data": {
            "text/plain": [
              "28800"
            ]
          },
          "metadata": {
            "tags": []
          },
          "execution_count": 11
        }
      ]
    },
    {
      "cell_type": "code",
      "metadata": {
        "id": "ANtzw_zka68Q",
        "colab_type": "code",
        "colab": {}
      },
      "source": [
        "weekday_power_series = np.array(weekday_power_series)\n",
        "weekend_power_series = np.array(weekend_power_series)"
      ],
      "execution_count": 0,
      "outputs": []
    },
    {
      "cell_type": "code",
      "metadata": {
        "id": "jKMCyU8AY2yq",
        "colab_type": "code",
        "outputId": "2bd76d13-5121-45d9-81fa-a3bb3e56ca5c",
        "colab": {
          "base_uri": "https://localhost:8080/",
          "height": 282
        }
      },
      "source": [
        "plt.plot(weekday_power_series[:288*20])"
      ],
      "execution_count": 0,
      "outputs": [
        {
          "output_type": "execute_result",
          "data": {
            "text/plain": [
              "[<matplotlib.lines.Line2D at 0x7f52bc0e1390>]"
            ]
          },
          "metadata": {
            "tags": []
          },
          "execution_count": 13
        },
        {
          "output_type": "display_data",
          "data": {
            "image/png": "[encoded data removed]",
            "text/plain": [
              "<Figure size 432x288 with 1 Axes>"
            ]
          },
          "metadata": {
            "tags": [],
            "needs_background": "light"
          }
        }
      ]
    },
    {
      "cell_type": "code",
      "metadata": {
        "id": "outCq5t5aKYG",
        "colab_type": "code",
        "outputId": "919180cf-e580-4c2c-b661-1d745d161ab4",
        "colab": {
          "base_uri": "https://localhost:8080/",
          "height": 282
        }
      },
      "source": [
        "plt.plot(weekend_power_series[:288*20])"
      ],
      "execution_count": 0,
      "outputs": [
        {
          "output_type": "execute_result",
          "data": {
            "text/plain": [
              "[<matplotlib.lines.Line2D at 0x7f52bc136a90>]"
            ]
          },
          "metadata": {
            "tags": []
          },
          "execution_count": 14
        },
        {
          "output_type": "display_data",
          "data": {
            "image/png": "[encoded data removed]",
            "text/plain": [
              "<Figure size 432x288 with 1 Axes>"
            ]
          },
          "metadata": {
            "tags": [],
            "needs_background": "light"
          }
        }
      ]
    },
    {
      "cell_type": "code",
      "metadata": {
        "id": "anRqB6S59je9",
        "colab_type": "code",
        "colab": {}
      },
      "source": [
        "class weekday_args:\n",
        "  def __init__(self):\n",
        "    self.val_start = 12*24*150\n",
        "    self.test_start = 12*24*200\n",
        "    self.train_seq_len = 12*24*10\n",
        "    self.val_seq_len = 12*24\n",
        "    \n",
        "    self.conv_num_channels = 128\n",
        "    self.kernel_size = 12\n",
        "    self.dilation_rates = [2**i for i in range(8)] \n",
        "    self.dropout = 0.2\n",
        "    self.batch_size = 256\n",
        "    self.num_epochs = 25\n",
        "    \n",
        "    self.save_folder = 'weekday_forecast_Dilated_CNN'"
      ],
      "execution_count": 0,
      "outputs": []
    },
    {
      "cell_type": "code",
      "metadata": {
        "id": "gBjn2R919jfA",
        "colab_type": "code",
        "colab": {}
      },
      "source": [
        "args = weekday_args()"
      ],
      "execution_count": 0,
      "outputs": []
    },
    {
      "cell_type": "code",
      "metadata": {
        "id": "VZj0d-mohngd",
        "colab_type": "code",
        "colab": {}
      },
      "source": [
        "os.makedirs('plots/' + args.save_folder, exist_ok=True)\n",
        "os.makedirs('model_checkpoints/' + args.save_folder, exist_ok=True)\n",
        "os.makedirs('model_checkpoints/' + args.save_folder + '/logs_dir', exist_ok=True)\n",
        "os.makedirs('forecasts/full_testing_length/' + args.save_folder, exist_ok=True)\n",
        "os.makedirs('forecasts/1_day_at_a_time/' + args.save_folder, exist_ok=True)\n",
        "os.makedirs('forecasts/1_day_at_a_time/' + args.save_folder + '/plots', exist_ok=True)\n",
        "os.makedirs('forecasts/1_day_at_a_time/' + args.save_folder + '/tabulated_results', exist_ok=True)"
      ],
      "execution_count": 0,
      "outputs": []
    },
    {
      "cell_type": "code",
      "metadata": {
        "id": "W1AHLce49jfF",
        "colab_type": "code",
        "colab": {}
      },
      "source": [
        "train_arr = weekday_power_series[: args.val_start]\n",
        "val_arr = weekday_power_series[args.val_start: args.test_start]\n",
        "test_arr = weekday_power_series[args.test_start:]"
      ],
      "execution_count": 0,
      "outputs": []
    },
    {
      "cell_type": "code",
      "metadata": {
        "id": "ZNitMw9c9jfJ",
        "colab_type": "code",
        "colab": {}
      },
      "source": [
        "def make_windows(data, train_seq_len = args.train_seq_len, val_seq_len = args.val_seq_len):\n",
        "    X = []\n",
        "    y = []\n",
        "\n",
        "    for i in tqdm(range(train_seq_len, len(data) - val_seq_len + 1)):    \n",
        "        X.append(data[i - train_seq_len: i].T.tolist())\n",
        "        y.append(data[i: i + val_seq_len].T.tolist())\n",
        "\n",
        "    X = np.array(X).squeeze().reshape(-1, train_seq_len, 1)\n",
        "    y = np.array(y).squeeze()\n",
        "\n",
        "    return X, y"
      ],
      "execution_count": 0,
      "outputs": []
    },
    {
      "cell_type": "code",
      "metadata": {
        "id": "gA0OZ3ai9jfL",
        "colab_type": "code",
        "outputId": "80f75ba3-dd04-4aa4-8c4d-5b2b3c5731e6",
        "colab": {
          "base_uri": "https://localhost:8080/",
          "height": 50
        }
      },
      "source": [
        "X_train, y_train = make_windows(train_arr)\n",
        "X_val, y_val = make_windows(val_arr)"
      ],
      "execution_count": 0,
      "outputs": [
        {
          "output_type": "stream",
          "text": [
            "100%|██████████| 40033/40033 [00:06<00:00, 5764.25it/s]\n",
            "100%|██████████| 11233/11233 [00:01<00:00, 6739.07it/s]\n"
          ],
          "name": "stderr"
        }
      ]
    },
    {
      "cell_type": "code",
      "metadata": {
        "id": "I3VW1zzYNnAC",
        "colab_type": "code",
        "colab": {}
      },
      "source": [
        "sgd = tf.keras.optimizers.SGD(lr=0.1, decay=1e-2, momentum=0.9, nesterov=True)\n",
        "earlystop = tf.keras.callbacks.EarlyStopping(monitor='val_loss', min_delta=0, patience=2)\n",
        "#best_val = tf.keras.callbacks.ModelCheckpoint('model_checkpoints/' + args.save_folder + '/model_{epoch:02d}.h5', save_best_only=True, mode='min', save_freq='epoch')"
      ],
      "execution_count": 0,
      "outputs": []
    },
    {
      "cell_type": "code",
      "metadata": {
        "id": "cWoZJ_ZobH7v",
        "colab_type": "code",
        "colab": {}
      },
      "source": [
        "history_seq = tf.keras.layers.Input(shape=(args.train_seq_len, 1))\n",
        "x = history_seq\n",
        "\n",
        "for dilation_rate in args.dilation_rates:\n",
        "    x = tf.keras.layers.Conv1D(filters = args.convnum_channels,\n",
        "              kernel_size = args.kernel_size, \n",
        "              padding = 'causal',\n",
        "              dilation_rate = dilation_rate)(x)\n",
        "\n",
        "x = tf.keras.layers.Dense(256, activation='relu')(x)\n",
        "x = tf.keras.layers.Dropout(args.dropout)(x)\n",
        "x = tf.keras.layers.Flatten()(x)\n",
        "x = tf.keras.layers.Dense(args.val_seq_len)(x)\n",
        "\n",
        "model = tf.keras.Model(history_seq, x)"
      ],
      "execution_count": 0,
      "outputs": []
    },
    {
      "cell_type": "code",
      "metadata": {
        "id": "LAmBDCEthvVP",
        "colab_type": "code",
        "colab": {}
      },
      "source": [
        "model.compile(loss='mean_squared_error', optimizer=sgd)"
      ],
      "execution_count": 0,
      "outputs": []
    },
    {
      "cell_type": "code",
      "metadata": {
        "id": "2wFe33pmbH-0",
        "colab_type": "code",
        "outputId": "30e6d29c-142e-495f-a9d3-b5a12c3bce14",
        "colab": {
          "base_uri": "https://localhost:8080/",
          "height": 487
        }
      },
      "source": [
        "model.summary()"
      ],
      "execution_count": 0,
      "outputs": [
        {
          "output_type": "stream",
          "text": [
            "Model: \"sequential\"\n",
            "_________________________________________________________________\n",
            "Layer (type)                 Output Shape              Param #   \n",
            "=================================================================\n",
            "conv1d (Conv1D)              (None, 2880, 100)         1300      \n",
            "_________________________________________________________________\n",
            "conv1d_1 (Conv1D)            (None, 2880, 100)         120100    \n",
            "_________________________________________________________________\n",
            "conv1d_2 (Conv1D)            (None, 2880, 100)         120100    \n",
            "_________________________________________________________________\n",
            "conv1d_3 (Conv1D)            (None, 2880, 100)         120100    \n",
            "_________________________________________________________________\n",
            "conv1d_4 (Conv1D)            (None, 2880, 100)         120100    \n",
            "_________________________________________________________________\n",
            "conv1d_5 (Conv1D)            (None, 2880, 100)         120100    \n",
            "_________________________________________________________________\n",
            "conv1d_6 (Conv1D)            (None, 2880, 100)         120100    \n",
            "_________________________________________________________________\n",
            "conv1d_7 (Conv1D)            (None, 2880, 100)         120100    \n",
            "_________________________________________________________________\n",
            "flatten (Flatten)            (None, 288000)            0         \n",
            "_________________________________________________________________\n",
            "dense (Dense)                (None, 288)               82944288  \n",
            "=================================================================\n",
            "Total params: 83,786,288\n",
            "Trainable params: 83,786,288\n",
            "Non-trainable params: 0\n",
            "_________________________________________________________________\n"
          ],
          "name": "stdout"
        }
      ]
    },
    {
      "cell_type": "code",
      "metadata": {
        "id": "9lB6za4gbICZ",
        "colab_type": "code",
        "outputId": "ab6c0cc7-5be1-4764-ebe1-22f68144050c",
        "colab": {
          "base_uri": "https://localhost:8080/",
          "height": 50
        }
      },
      "source": [
        "history = model.fit(X_train, y_train, batch_size = args.batch_size, epochs = args.num_epochs, validation_data = (X_val, y_val), callbacks=[earlystop], verbose=1)"
      ],
      "execution_count": 0,
      "outputs": [
        {
          "output_type": "stream",
          "text": [
            "Epoch 1/25\n",
            " 48/157 [========>.....................] - ETA: 5:05 - loss: 0.0420"
          ],
          "name": "stdout"
        }
      ]
    },
    {
      "cell_type": "code",
      "metadata": {
        "colab_type": "code",
        "id": "uHiJFHrvslRx",
        "colab": {}
      },
      "source": [
        "best_epoch = np.argmin(np.array(history.history['val_loss']))+1\n",
        "model.save_weights('model_checkpoints/' + args.save_folder + '/model_{:02d}.h5'.format(best_epoch))\n",
        "best_epoch"
      ],
      "execution_count": 0,
      "outputs": []
    },
    {
      "cell_type": "code",
      "metadata": {
        "id": "onMbX0vA9jfg",
        "colab_type": "code",
        "outputId": "496606a5-2cdd-44ec-de06-009dff5da40a",
        "colab": {
          "base_uri": "https://localhost:8080/",
          "height": 34
        }
      },
      "source": [
        "X_test, y_test = make_windows(test_arr)"
      ],
      "execution_count": 0,
      "outputs": [
        {
          "output_type": "stream",
          "text": [
            "100%|██████████| 12097/12097 [00:01<00:00, 8648.36it/s]\n"
          ],
          "name": "stderr"
        }
      ]
    },
    {
      "cell_type": "code",
      "metadata": {
        "id": "rJkg_Sx19jfi",
        "colab_type": "code",
        "outputId": "4d7ebbba-231d-4502-e3a4-8fdee200bd7d",
        "colab": {
          "base_uri": "https://localhost:8080/"
        }
      },
      "source": [
        "y_pred = model.predict(X_test)"
      ],
      "execution_count": 0,
      "outputs": [
        {
          "output_type": "error",
          "ename": "NameError",
          "evalue": "ignored",
          "traceback": [
            "\u001b[0;31m---------------------------------------------------------------------------\u001b[0m",
            "\u001b[0;31mNameError\u001b[0m                                 Traceback (most recent call last)",
            "\u001b[0;32m<ipython-input-31-33f45f2977c2>\u001b[0m in \u001b[0;36m<module>\u001b[0;34m()\u001b[0m\n\u001b[0;32m----> 1\u001b[0;31m \u001b[0my_pred\u001b[0m \u001b[0;34m=\u001b[0m \u001b[0mmodel\u001b[0m\u001b[0;34m.\u001b[0m\u001b[0mpredict\u001b[0m\u001b[0;34m(\u001b[0m\u001b[0mX_test\u001b[0m\u001b[0;34m)\u001b[0m\u001b[0;34m\u001b[0m\u001b[0;34m\u001b[0m\u001b[0m\n\u001b[0m",
            "\u001b[0;31mNameError\u001b[0m: name 'model' is not defined"
          ]
        }
      ]
    },
    {
      "cell_type": "code",
      "metadata": {
        "colab_type": "code",
        "outputId": "5bd45a91-3227-430b-ef4c-8d1ead57e05c",
        "id": "eIt169ZpgE6c",
        "colab": {
          "base_uri": "https://localhost:8080/",
          "height": 265
        }
      },
      "source": [
        "plt.plot(y_test[0], color = 'blue')\n",
        "plt.plot(y_pred[0], color = 'red')\n",
        "plt.savefig('plots/' + args.save_folder + '/test_weekend_pred.png')"
      ],
      "execution_count": 0,
      "outputs": [
        {
          "output_type": "display_data",
          "data": {
            "image/png": "[encoded data removed]",
            "text/plain": [
              "<Figure size 432x288 with 1 Axes>"
            ]
          },
          "metadata": {
            "tags": [],
            "needs_background": "light"
          }
        }
      ]
    },
    {
      "cell_type": "code",
      "metadata": {
        "colab_type": "code",
        "outputId": "92456324-f6d7-45fe-f080-cca7588fadea",
        "id": "2RZ37_LbgE6j",
        "colab": {
          "base_uri": "https://localhost:8080/",
          "height": 265
        }
      },
      "source": [
        "plt.plot(y_test[12*24*2], color = 'blue')\n",
        "plt.plot(y_pred[12*24*2], color = 'red')\n",
        "plt.savefig('plots/'  + args.save_folder + '/test_weekday_pred.png')"
      ],
      "execution_count": 0,
      "outputs": [
        {
          "output_type": "display_data",
          "data": {
            "image/png": "[encoded data removed]",
            "text/plain": [
              "<Figure size 432x288 with 1 Axes>"
            ]
          },
          "metadata": {
            "tags": [],
            "needs_background": "light"
          }
        }
      ]
    },
    {
      "cell_type": "code",
      "metadata": {
        "id": "Vn2QDQaQg29M",
        "colab_type": "code",
        "colab": {}
      },
      "source": [
        "for i in tqdm(range(y_pred.shape[0]//288)): ## we have forecasts for these many complete day\n",
        "  plt.plot(scaler.inverse_transform(y_test[12*24*i].reshape(-1, 1)), color = 'blue')\n",
        "  plt.plot(scaler.inverse_transform(y_pred[12*24*i].reshape(-1, 1)), color = 'red')\n",
        "  plt.legend(['Actual Value', 'Prediction'])\n",
        "  plt.savefig('forecasts/1_day_at_a_time/' + args.save_folder + '/plots/day_{}.png'.format(i))\n",
        "  plt.close()\n",
        "\n",
        "  df_t = po.DataFrame()\n",
        "  df_t['Predictions'] = scaler.inverse_transform(y_pred[12*24*i].reshape(-1, 1)).reshape(-1)\n",
        "  df_t['Actual_Values'] = scaler.inverse_transform(y_test[12*24*i].reshape(-1, 1)).reshape(-1)\n",
        "\n",
        "  df_t.to_csv('forecasts/1_day_at_a_time/' + args.save_folder + '/tabulated_results/day_{}.csv'.format(i), index = False)"
      ],
      "execution_count": 0,
      "outputs": []
    },
    {
      "cell_type": "code",
      "metadata": {
        "id": "owS0Sszylax5",
        "colab_type": "code",
        "colab": {}
      },
      "source": [
        "forecasts = []\n",
        "actuals = []\n",
        "for i in tqdm(range(y_pred.shape[0]//288)): ## we have forecasts for these many complete day\n",
        "  forecasts += (scaler.inverse_transform(y_pred[12*24*i].reshape(-1, 1)).reshape(-1)).tolist()\n",
        "  actuals += (scaler.inverse_transform(y_test[12*24*i].reshape(-1, 1)).reshape(-1)).tolist()"
      ],
      "execution_count": 0,
      "outputs": []
    },
    {
      "cell_type": "code",
      "metadata": {
        "id": "MwkDKaUzzyeU",
        "colab_type": "code",
        "colab": {}
      },
      "source": [
        "df = po.DataFrame()\n",
        "df['Predictions'] = forecasts\n",
        "df['Actual Values'] = actuals"
      ],
      "execution_count": 0,
      "outputs": []
    },
    {
      "cell_type": "code",
      "metadata": {
        "id": "ohVo_OdG0Dpt",
        "colab_type": "code",
        "colab": {}
      },
      "source": [
        "df.to_csv('forecasts/full_testing_length/' + args.save_folder + '/full_results.csv', index = False)"
      ],
      "execution_count": 0,
      "outputs": []
    },
    {
      "cell_type": "code",
      "metadata": {
        "id": "GggD7jzMlaek",
        "colab_type": "code",
        "colab": {}
      },
      "source": [
        "plt.figure(figsize=(40, 20))\n",
        "plt.plot(actuals, color = 'blue')\n",
        "plt.plot(forecasts, color = 'red')\n",
        "plt.legend(['Actual Value', 'Prediction'])\n",
        "plt.savefig('forecasts/full_testing_length/' + args.save_folder + '/forecast.png')"
      ],
      "execution_count": 0,
      "outputs": []
    },
    {
      "cell_type": "code",
      "metadata": {
        "id": "OqGhQZq99jfo",
        "colab_type": "code",
        "colab": {}
      },
      "source": [
        "if not os.path.exists('forecasts/full_testing_length/results_final.csv'):\n",
        "  results = po.DataFrame(columns = ['model', 'MAE', 'MSE', 'R2', 'MAPE', 'RMSE'])  \n",
        "else:\n",
        "  results = po.read_csv('forecasts/full_testing_length/results_final.csv')"
      ],
      "execution_count": 0,
      "outputs": []
    },
    {
      "cell_type": "code",
      "metadata": {
        "id": "34Qx9cMAJE9a",
        "colab_type": "code",
        "colab": {}
      },
      "source": [
        "errors = {'model': args.save_folder,\n",
        "          'MAE': mean_absolute_error(y_true=y_test, y_pred=y_pred),\n",
        "          'MAPE': mean_absolute_error(y_true=y_test, y_pred=y_pred)*100,\n",
        "          'MSE': mean_squared_error(y_true=y_test, y_pred=y_pred),\n",
        "          'RMSE': mean_squared_error(y_true=y_test, y_pred=y_pred, squared=False),\n",
        "          'R2': r2_score(y_true=y_test, y_pred=y_pred)          \n",
        "          }\n",
        "errors = po.Series(errors)\n",
        "results = results.append(errors, ignore_index=True)"
      ],
      "execution_count": 0,
      "outputs": []
    },
    {
      "cell_type": "code",
      "metadata": {
        "id": "qdalOaQb9jfq",
        "colab_type": "code",
        "colab": {}
      },
      "source": [
        "results"
      ],
      "execution_count": 0,
      "outputs": []
    },
    {
      "cell_type": "code",
      "metadata": {
        "id": "J-AUwqwsI8OE",
        "colab_type": "code",
        "colab": {}
      },
      "source": [
        "results.to_csv('forecasts/full_testing_length/results_final.csv', index=False)"
      ],
      "execution_count": 0,
      "outputs": []
    },
    {
      "cell_type": "code",
      "metadata": {
        "id": "QqfDzc6FeLT5",
        "colab_type": "code",
        "colab": {}
      },
      "source": [
        ""
      ],
      "execution_count": 0,
      "outputs": []
    },
    {
      "cell_type": "code",
      "metadata": {
        "id": "xYuwgyI9gDMk",
        "colab_type": "code",
        "colab": {}
      },
      "source": [
        ""
      ],
      "execution_count": 0,
      "outputs": []
    },
    {
      "cell_type": "code",
      "metadata": {
        "id": "CyM8qFelgDJM",
        "colab_type": "code",
        "colab": {}
      },
      "source": [
        ""
      ],
      "execution_count": 0,
      "outputs": []
    },
    {
      "cell_type": "code",
      "metadata": {
        "id": "xOnk5i_4gDDP",
        "colab_type": "code",
        "colab": {}
      },
      "source": [
        ""
      ],
      "execution_count": 0,
      "outputs": []
    },
    {
      "cell_type": "code",
      "metadata": {
        "id": "9eSLScO7eLbk",
        "colab_type": "code",
        "colab": {}
      },
      "source": [
        ""
      ],
      "execution_count": 0,
      "outputs": []
    },
    {
      "cell_type": "code",
      "metadata": {
        "colab_type": "code",
        "id": "4TQzN-ZieYZw",
        "colab": {}
      },
      "source": [
        "class weekend_args:\n",
        "  def __init__(self):\n",
        "    self.val_start = 12*24*60\n",
        "    self.test_start = 12*24*80\n",
        "    self.train_seq_len = 12*24*4\n",
        "    self.val_seq_len = 12*24\n",
        "    \n",
        "    self.conv_num_channels = 128\n",
        "    self.kernel_size = 12\n",
        "    self.dilation_rates = [2**i for i in range(8)] \n",
        "    self.dropout = 0.2\n",
        "    self.batch_size = 256\n",
        "    self.num_epochs = 25\n",
        "    \n",
        "    self.save_folder = 'weekday_forecast_Dilated_CNN'"
      ],
      "execution_count": 0,
      "outputs": []
    },
    {
      "cell_type": "code",
      "metadata": {
        "colab_type": "code",
        "id": "GiUWzKj_eYZ6",
        "colab": {}
      },
      "source": [
        "args = weekend_args()"
      ],
      "execution_count": 0,
      "outputs": []
    },
    {
      "cell_type": "code",
      "metadata": {
        "colab_type": "code",
        "id": "v6TAosSZeYZ-",
        "colab": {}
      },
      "source": [
        "os.makedirs('plots/' + args.save_folder, exist_ok=True)\n",
        "os.makedirs('model_checkpoints/' + args.save_folder, exist_ok=True)\n",
        "os.makedirs('model_checkpoints/' + args.save_folder + '/logs_dir', exist_ok=True)\n",
        "os.makedirs('forecasts/full_testing_length/' + args.save_folder, exist_ok=True)\n",
        "os.makedirs('forecasts/1_day_at_a_time/' + args.save_folder, exist_ok=True)\n",
        "os.makedirs('forecasts/1_day_at_a_time/' + args.save_folder + '/plots', exist_ok=True)\n",
        "os.makedirs('forecasts/1_day_at_a_time/' + args.save_folder + '/tabulated_results', exist_ok=True)"
      ],
      "execution_count": 0,
      "outputs": []
    },
    {
      "cell_type": "code",
      "metadata": {
        "colab_type": "code",
        "id": "vcWu7dVqeYaE",
        "colab": {}
      },
      "source": [
        "train_arr = weekend_power_series[: args.val_start]\n",
        "val_arr = weekend_power_series[args.val_start: args.test_start]\n",
        "test_arr = weekend_power_series[args.test_start:]"
      ],
      "execution_count": 0,
      "outputs": []
    },
    {
      "cell_type": "code",
      "metadata": {
        "colab_type": "code",
        "id": "Rbu_AEF9eYaH",
        "colab": {}
      },
      "source": [
        "def make_windows(data, train_seq_len = args.train_seq_len, val_seq_len = args.val_seq_len):\n",
        "    X = []\n",
        "    y = []\n",
        "\n",
        "    for i in tqdm(range(train_seq_len, len(data) - val_seq_len + 1)):    \n",
        "        X.append(data[i - train_seq_len: i].T.tolist())\n",
        "        y.append(data[i: i + val_seq_len].T.tolist())\n",
        "\n",
        "    X = np.array(X).squeeze().reshape(-1, train_seq_len, 1)\n",
        "    y = np.array(y).squeeze()\n",
        "\n",
        "    return X, y"
      ],
      "execution_count": 0,
      "outputs": []
    },
    {
      "cell_type": "code",
      "metadata": {
        "colab_type": "code",
        "outputId": "b91c6f2c-134c-4a47-cbd9-9ce99447f187",
        "id": "G4d0jXqLeYaM",
        "colab": {
          "base_uri": "https://localhost:8080/",
          "height": 50
        }
      },
      "source": [
        "X_train, y_train = make_windows(train_arr)\n",
        "X_val, y_val = make_windows(val_arr)"
      ],
      "execution_count": 0,
      "outputs": [
        {
          "output_type": "stream",
          "text": [
            "100%|██████████| 41473/41473 [00:03<00:00, 12532.85it/s]\n",
            "100%|██████████| 12673/12673 [00:01<00:00, 9759.74it/s]\n"
          ],
          "name": "stderr"
        }
      ]
    },
    {
      "cell_type": "code",
      "metadata": {
        "colab_type": "code",
        "id": "KDlGnA-4eYaR",
        "colab": {}
      },
      "source": [
        "sgd = tf.keras.optimizers.SGD(lr=0.1, decay=1e-2, momentum=0.9, nesterov=True)\n",
        "earlystop = tf.keras.callbacks.EarlyStopping(monitor='val_loss', min_delta=0, patience=2)\n",
        "#best_val = tf.keras.callbacks.ModelCheckpoint('model_checkpoints/' + args.save_folder + '/model_{epoch:02d}.h5', save_best_only=True, mode='min', save_freq='epoch')"
      ],
      "execution_count": 0,
      "outputs": []
    },
    {
      "cell_type": "code",
      "metadata": {
        "colab_type": "code",
        "id": "jG-q8FwCeYaU",
        "colab": {}
      },
      "source": [
        "history_seq = tf.keras.layers.Input(shape=(args.train_seq_len, 1))\n",
        "x = history_seq\n",
        "\n",
        "for dilation_rate in args.dilation_rates:\n",
        "    x = tf.keras.layers.Conv1D(filters = args.convnum_channels,\n",
        "              kernel_size = args.kernel_size, \n",
        "              padding = 'causal',\n",
        "              dilation_rate = dilation_rate)(x)\n",
        "\n",
        "x = tf.keras.layers.Dense(256, activation='relu')(x)\n",
        "x = tf.keras.layers.Dropout(args.dropout)(x)\n",
        "x = tf.keras.layers.Flatten()(x)\n",
        "x = tf.keras.layers.Dense(args.val_seq_len)(x)\n",
        "\n",
        "model = tf.keras.Model(history_seq, x)"
      ],
      "execution_count": 0,
      "outputs": []
    },
    {
      "cell_type": "code",
      "metadata": {
        "id": "Cfig_JTliDmn",
        "colab_type": "code",
        "colab": {}
      },
      "source": [
        "model.compile(loss='mean_squared_error', optimizer=sgd)"
      ],
      "execution_count": 0,
      "outputs": []
    },
    {
      "cell_type": "code",
      "metadata": {
        "colab_type": "code",
        "outputId": "c9db4116-ce5b-4f3f-c428-2a5bfc38cdfc",
        "id": "oQ1xJSbteYaX",
        "colab": {
          "base_uri": "https://localhost:8080/",
          "height": 487
        }
      },
      "source": [
        "model.summary()"
      ],
      "execution_count": 0,
      "outputs": [
        {
          "output_type": "stream",
          "text": [
            "Model: \"sequential_1\"\n",
            "_________________________________________________________________\n",
            "Layer (type)                 Output Shape              Param #   \n",
            "=================================================================\n",
            "conv1d_8 (Conv1D)            (None, 1440, 100)         1300      \n",
            "_________________________________________________________________\n",
            "conv1d_9 (Conv1D)            (None, 1440, 100)         120100    \n",
            "_________________________________________________________________\n",
            "conv1d_10 (Conv1D)           (None, 1440, 100)         120100    \n",
            "_________________________________________________________________\n",
            "conv1d_11 (Conv1D)           (None, 1440, 100)         120100    \n",
            "_________________________________________________________________\n",
            "conv1d_12 (Conv1D)           (None, 1440, 100)         120100    \n",
            "_________________________________________________________________\n",
            "conv1d_13 (Conv1D)           (None, 1440, 100)         120100    \n",
            "_________________________________________________________________\n",
            "conv1d_14 (Conv1D)           (None, 1440, 100)         120100    \n",
            "_________________________________________________________________\n",
            "conv1d_15 (Conv1D)           (None, 1440, 100)         120100    \n",
            "_________________________________________________________________\n",
            "flatten_1 (Flatten)          (None, 144000)            0         \n",
            "_________________________________________________________________\n",
            "dense_1 (Dense)              (None, 288)               41472288  \n",
            "=================================================================\n",
            "Total params: 42,314,288\n",
            "Trainable params: 42,314,288\n",
            "Non-trainable params: 0\n",
            "_________________________________________________________________\n"
          ],
          "name": "stdout"
        }
      ]
    },
    {
      "cell_type": "code",
      "metadata": {
        "colab_type": "code",
        "outputId": "37e6026a-3389-46fe-a338-463f574db394",
        "id": "TqBT-taneYai",
        "colab": {
          "base_uri": "https://localhost:8080/",
          "height": 50
        }
      },
      "source": [
        "history = model.fit(X_train, y_train, batch_size = args.batch_size, epochs = args.num_epochs, validation_data = (X_val, y_val), callbacks=[earlystop], verbose=1)"
      ],
      "execution_count": 0,
      "outputs": [
        {
          "output_type": "stream",
          "text": [
            "Epoch 1/25\n",
            "72/82 [=========================>....] - ETA: 32s - loss: 0.0304"
          ],
          "name": "stdout"
        }
      ]
    },
    {
      "cell_type": "code",
      "metadata": {
        "colab_type": "code",
        "id": "sjHF_8tUeYal",
        "colab": {}
      },
      "source": [
        "best_epoch = np.argmin(np.array(history.history['val_loss']))+1\n",
        "model.save_weights('model_checkpoints/' + args.save_folder + '/model_{:02d}.h5'.format(best_epoch))\n",
        "best_epoch"
      ],
      "execution_count": 0,
      "outputs": []
    },
    {
      "cell_type": "code",
      "metadata": {
        "colab_type": "code",
        "outputId": "496606a5-2cdd-44ec-de06-009dff5da40a",
        "id": "Ibs_ko_deYao",
        "colab": {
          "base_uri": "https://localhost:8080/",
          "height": 34
        }
      },
      "source": [
        "X_test, y_test = make_windows(test_arr)"
      ],
      "execution_count": 0,
      "outputs": [
        {
          "output_type": "stream",
          "text": [
            "100%|██████████| 12097/12097 [00:01<00:00, 8648.36it/s]\n"
          ],
          "name": "stderr"
        }
      ]
    },
    {
      "cell_type": "code",
      "metadata": {
        "colab_type": "code",
        "outputId": "4d7ebbba-231d-4502-e3a4-8fdee200bd7d",
        "id": "Tn3nDK8-eYar",
        "colab": {
          "base_uri": "https://localhost:8080/"
        }
      },
      "source": [
        "y_pred = model.predict(X_test)"
      ],
      "execution_count": 0,
      "outputs": [
        {
          "output_type": "error",
          "ename": "NameError",
          "evalue": "ignored",
          "traceback": [
            "\u001b[0;31m---------------------------------------------------------------------------\u001b[0m",
            "\u001b[0;31mNameError\u001b[0m                                 Traceback (most recent call last)",
            "\u001b[0;32m<ipython-input-31-33f45f2977c2>\u001b[0m in \u001b[0;36m<module>\u001b[0;34m()\u001b[0m\n\u001b[0;32m----> 1\u001b[0;31m \u001b[0my_pred\u001b[0m \u001b[0;34m=\u001b[0m \u001b[0mmodel\u001b[0m\u001b[0;34m.\u001b[0m\u001b[0mpredict\u001b[0m\u001b[0;34m(\u001b[0m\u001b[0mX_test\u001b[0m\u001b[0;34m)\u001b[0m\u001b[0;34m\u001b[0m\u001b[0;34m\u001b[0m\u001b[0m\n\u001b[0m",
            "\u001b[0;31mNameError\u001b[0m: name 'model' is not defined"
          ]
        }
      ]
    },
    {
      "cell_type": "code",
      "metadata": {
        "id": "Vr4jjK0H9jfk",
        "colab_type": "code",
        "outputId": "5bd45a91-3227-430b-ef4c-8d1ead57e05c",
        "colab": {
          "base_uri": "https://localhost:8080/",
          "height": 265
        }
      },
      "source": [
        "plt.plot(y_test[0], color = 'blue')\n",
        "plt.plot(y_pred[0], color = 'red')\n",
        "plt.savefig('plots/' + args.save_folder + '/test_weekend_pred.png')"
      ],
      "execution_count": 0,
      "outputs": [
        {
          "output_type": "display_data",
          "data": {
            "image/png": "[encoded data removed]",
            "text/plain": [
              "<Figure size 432x288 with 1 Axes>"
            ]
          },
          "metadata": {
            "tags": [],
            "needs_background": "light"
          }
        }
      ]
    },
    {
      "cell_type": "code",
      "metadata": {
        "id": "bx3TolOF9jfm",
        "colab_type": "code",
        "outputId": "92456324-f6d7-45fe-f080-cca7588fadea",
        "colab": {
          "base_uri": "https://localhost:8080/",
          "height": 265
        }
      },
      "source": [
        "plt.plot(y_test[12*24*2], color = 'blue')\n",
        "plt.plot(y_pred[12*24*2], color = 'red')\n",
        "plt.savefig('plots/'  + args.save_folder + '/test_weekday_pred.png')"
      ],
      "execution_count": 0,
      "outputs": [
        {
          "output_type": "display_data",
          "data": {
            "image/png": "[encoded data removed]",
            "text/plain": [
              "<Figure size 432x288 with 1 Axes>"
            ]
          },
          "metadata": {
            "tags": [],
            "needs_background": "light"
          }
        }
      ]
    },
    {
      "cell_type": "code",
      "metadata": {
        "colab_type": "code",
        "id": "rdImdycfeYaw",
        "colab": {}
      },
      "source": [
        "for i in tqdm(range(y_pred.shape[0]//288)): ## we have forecasts for these many complete day\n",
        "  plt.plot(scaler.inverse_transform(y_test[12*24*i].reshape(-1, 1)), color = 'blue')\n",
        "  plt.plot(scaler.inverse_transform(y_pred[12*24*i].reshape(-1, 1)), color = 'red')\n",
        "  plt.legend(['Actual Value', 'Prediction'])\n",
        "  plt.savefig('forecasts/1_day_at_a_time/' + args.save_folder + '/plots/day_{}.png'.format(i))\n",
        "  plt.close()\n",
        "\n",
        "  df_t = po.DataFrame()\n",
        "  df_t['Predictions'] = scaler.inverse_transform(y_pred[12*24*i].reshape(-1, 1)).reshape(-1)\n",
        "  df_t['Actual_Values'] = scaler.inverse_transform(y_test[12*24*i].reshape(-1, 1)).reshape(-1)\n",
        "\n",
        "  df_t.to_csv('forecasts/1_day_at_a_time/' + args.save_folder + '/tabulated_results/day_{}.csv'.format(i), index = False)"
      ],
      "execution_count": 0,
      "outputs": []
    },
    {
      "cell_type": "code",
      "metadata": {
        "colab_type": "code",
        "id": "299VIYK1eYaz",
        "colab": {}
      },
      "source": [
        "forecasts = []\n",
        "actuals = []\n",
        "for i in tqdm(range(y_pred.shape[0]//288)): ## we have forecasts for these many complete day\n",
        "  forecasts += (scaler.inverse_transform(y_pred[12*24*i].reshape(-1, 1)).reshape(-1)).tolist()\n",
        "  actuals += (scaler.inverse_transform(y_test[12*24*i].reshape(-1, 1)).reshape(-1)).tolist()"
      ],
      "execution_count": 0,
      "outputs": []
    },
    {
      "cell_type": "code",
      "metadata": {
        "colab_type": "code",
        "id": "yNHxRVO0eYa1",
        "colab": {}
      },
      "source": [
        "df = po.DataFrame()\n",
        "df['Predictions'] = forecasts\n",
        "df['Actual Values'] = actuals"
      ],
      "execution_count": 0,
      "outputs": []
    },
    {
      "cell_type": "code",
      "metadata": {
        "colab_type": "code",
        "id": "iy0NaGeseYa4",
        "colab": {}
      },
      "source": [
        "df.to_csv('forecasts/full_testing_length/' + args.save_folder + '/full_results.csv', index = False)"
      ],
      "execution_count": 0,
      "outputs": []
    },
    {
      "cell_type": "code",
      "metadata": {
        "colab_type": "code",
        "id": "haP_JSKweYa-",
        "colab": {}
      },
      "source": [
        "plt.figure(figsize=(40, 20))\n",
        "plt.plot(actuals, color = 'blue')\n",
        "plt.plot(forecasts, color = 'red')\n",
        "plt.legend(['Actual Value', 'Prediction'])\n",
        "plt.savefig('forecasts/full_testing_length/' + args.save_folder + '/forecast.png')"
      ],
      "execution_count": 0,
      "outputs": []
    },
    {
      "cell_type": "code",
      "metadata": {
        "colab_type": "code",
        "id": "M3PDc4-TeYbB",
        "colab": {}
      },
      "source": [
        "if not os.path.exists('forecasts/full_testing_length/results_final.csv'):\n",
        "  results = po.DataFrame(columns = ['model', 'MAE', 'MSE', 'R2', 'MAPE', 'RMSE'])  \n",
        "else:\n",
        "  results = po.read_csv('forecasts/full_testing_length/results_final.csv')"
      ],
      "execution_count": 0,
      "outputs": []
    },
    {
      "cell_type": "code",
      "metadata": {
        "colab_type": "code",
        "id": "74OECR-FeYbF",
        "colab": {}
      },
      "source": [
        "errors = {'model': args.save_folder,\n",
        "          'MAE': mean_absolute_error(y_true=y_test, y_pred=y_pred),\n",
        "          'MAPE': mean_absolute_error(y_true=y_test, y_pred=y_pred)*100,\n",
        "          'MSE': mean_squared_error(y_true=y_test, y_pred=y_pred),\n",
        "          'RMSE': mean_squared_error(y_true=y_test, y_pred=y_pred, squared=False),\n",
        "          'R2': r2_score(y_true=y_test, y_pred=y_pred)          \n",
        "          }\n",
        "errors = po.Series(errors)\n",
        "results = results.append(errors, ignore_index=True)"
      ],
      "execution_count": 0,
      "outputs": []
    },
    {
      "cell_type": "code",
      "metadata": {
        "colab_type": "code",
        "id": "Gn7vLHNmeYbI",
        "colab": {}
      },
      "source": [
        "results"
      ],
      "execution_count": 0,
      "outputs": []
    },
    {
      "cell_type": "code",
      "metadata": {
        "colab_type": "code",
        "id": "UsUmhF_GeYbL",
        "colab": {}
      },
      "source": [
        "results.to_csv('forecasts/full_testing_length/results_final.csv', index=False)"
      ],
      "execution_count": 0,
      "outputs": []
    },
    {
      "cell_type": "code",
      "metadata": {
        "colab_type": "code",
        "id": "OMshWcvWeYbO",
        "colab": {}
      },
      "source": [
        "with open('forecasts/full_testing_length/' + args.save_folder + '/params.json', 'w') as f:\n",
        "  f.write(json.dumps(args.__dict__))\n",
        "f.close()"
      ],
      "execution_count": 0,
      "outputs": []
    }
  ]
}