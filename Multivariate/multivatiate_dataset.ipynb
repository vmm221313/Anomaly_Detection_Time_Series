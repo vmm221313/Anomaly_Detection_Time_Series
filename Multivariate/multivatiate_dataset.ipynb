{
 "cells": [
  {
   "cell_type": "code",
   "execution_count": 13,
   "metadata": {},
   "outputs": [],
   "source": [
    "from tqdm import tqdm\n",
    "import pandas as po\n",
    "import numpy as np"
   ]
  },
  {
   "cell_type": "code",
   "execution_count": 28,
   "metadata": {},
   "outputs": [
    {
     "output_type": "execute_result",
     "data": {
      "text/plain": "                       consumption\ntime                              \n2017-01-01 00:00:00  126661.288667\n2017-01-01 00:15:00  125975.630600\n2017-01-01 00:30:00  131628.821400\n2017-01-01 00:45:00  133741.109667\n2017-01-01 01:00:00  149806.386667\n...                            ...\n2019-11-04 22:45:00  103932.504002\n2019-11-04 23:00:00  102064.379714\n2019-11-04 23:15:00  100378.796042\n2019-11-04 23:30:00   98593.460339\n2019-11-04 23:45:00   97365.874939\n\n[99648 rows x 1 columns]",
      "text/html": "<div>\n<style scoped>\n    .dataframe tbody tr th:only-of-type {\n        vertical-align: middle;\n    }\n\n    .dataframe tbody tr th {\n        vertical-align: top;\n    }\n\n    .dataframe thead th {\n        text-align: right;\n    }\n</style>\n<table border=\"1\" class=\"dataframe\">\n  <thead>\n    <tr style=\"text-align: right;\">\n      <th></th>\n      <th>consumption</th>\n    </tr>\n    <tr>\n      <th>time</th>\n      <th></th>\n    </tr>\n  </thead>\n  <tbody>\n    <tr>\n      <th>2017-01-01 00:00:00</th>\n      <td>126661.288667</td>\n    </tr>\n    <tr>\n      <th>2017-01-01 00:15:00</th>\n      <td>125975.630600</td>\n    </tr>\n    <tr>\n      <th>2017-01-01 00:30:00</th>\n      <td>131628.821400</td>\n    </tr>\n    <tr>\n      <th>2017-01-01 00:45:00</th>\n      <td>133741.109667</td>\n    </tr>\n    <tr>\n      <th>2017-01-01 01:00:00</th>\n      <td>149806.386667</td>\n    </tr>\n    <tr>\n      <th>...</th>\n      <td>...</td>\n    </tr>\n    <tr>\n      <th>2019-11-04 22:45:00</th>\n      <td>103932.504002</td>\n    </tr>\n    <tr>\n      <th>2019-11-04 23:00:00</th>\n      <td>102064.379714</td>\n    </tr>\n    <tr>\n      <th>2019-11-04 23:15:00</th>\n      <td>100378.796042</td>\n    </tr>\n    <tr>\n      <th>2019-11-04 23:30:00</th>\n      <td>98593.460339</td>\n    </tr>\n    <tr>\n      <th>2019-11-04 23:45:00</th>\n      <td>97365.874939</td>\n    </tr>\n  </tbody>\n</table>\n<p>99648 rows × 1 columns</p>\n</div>"
     },
     "metadata": {},
     "execution_count": 28
    }
   ],
   "source": [
    "df = po.read_pickle('../DataAnalysis_v2/eDTWBI_Imputed_Data.pkl')\n",
    "df"
   ]
  },
  {
   "cell_type": "code",
   "execution_count": 29,
   "metadata": {},
   "outputs": [],
   "source": [
    "df['Date'] = df.index.date\n",
    "df['Time'] = df.index.time"
   ]
  },
  {
   "cell_type": "code",
   "execution_count": 30,
   "metadata": {},
   "outputs": [
    {
     "output_type": "execute_result",
     "data": {
      "text/plain": "                       consumption        Date      Time\ntime                                                    \n2017-01-01 00:00:00  126661.288667  2017-01-01  00:00:00\n2017-01-01 00:15:00  125975.630600  2017-01-01  00:15:00\n2017-01-01 00:30:00  131628.821400  2017-01-01  00:30:00\n2017-01-01 00:45:00  133741.109667  2017-01-01  00:45:00\n2017-01-01 01:00:00  149806.386667  2017-01-01  01:00:00\n...                            ...         ...       ...\n2019-11-04 22:45:00  103932.504002  2019-11-04  22:45:00\n2019-11-04 23:00:00  102064.379714  2019-11-04  23:00:00\n2019-11-04 23:15:00  100378.796042  2019-11-04  23:15:00\n2019-11-04 23:30:00   98593.460339  2019-11-04  23:30:00\n2019-11-04 23:45:00   97365.874939  2019-11-04  23:45:00\n\n[99648 rows x 3 columns]",
      "text/html": "<div>\n<style scoped>\n    .dataframe tbody tr th:only-of-type {\n        vertical-align: middle;\n    }\n\n    .dataframe tbody tr th {\n        vertical-align: top;\n    }\n\n    .dataframe thead th {\n        text-align: right;\n    }\n</style>\n<table border=\"1\" class=\"dataframe\">\n  <thead>\n    <tr style=\"text-align: right;\">\n      <th></th>\n      <th>consumption</th>\n      <th>Date</th>\n      <th>Time</th>\n    </tr>\n    <tr>\n      <th>time</th>\n      <th></th>\n      <th></th>\n      <th></th>\n    </tr>\n  </thead>\n  <tbody>\n    <tr>\n      <th>2017-01-01 00:00:00</th>\n      <td>126661.288667</td>\n      <td>2017-01-01</td>\n      <td>00:00:00</td>\n    </tr>\n    <tr>\n      <th>2017-01-01 00:15:00</th>\n      <td>125975.630600</td>\n      <td>2017-01-01</td>\n      <td>00:15:00</td>\n    </tr>\n    <tr>\n      <th>2017-01-01 00:30:00</th>\n      <td>131628.821400</td>\n      <td>2017-01-01</td>\n      <td>00:30:00</td>\n    </tr>\n    <tr>\n      <th>2017-01-01 00:45:00</th>\n      <td>133741.109667</td>\n      <td>2017-01-01</td>\n      <td>00:45:00</td>\n    </tr>\n    <tr>\n      <th>2017-01-01 01:00:00</th>\n      <td>149806.386667</td>\n      <td>2017-01-01</td>\n      <td>01:00:00</td>\n    </tr>\n    <tr>\n      <th>...</th>\n      <td>...</td>\n      <td>...</td>\n      <td>...</td>\n    </tr>\n    <tr>\n      <th>2019-11-04 22:45:00</th>\n      <td>103932.504002</td>\n      <td>2019-11-04</td>\n      <td>22:45:00</td>\n    </tr>\n    <tr>\n      <th>2019-11-04 23:00:00</th>\n      <td>102064.379714</td>\n      <td>2019-11-04</td>\n      <td>23:00:00</td>\n    </tr>\n    <tr>\n      <th>2019-11-04 23:15:00</th>\n      <td>100378.796042</td>\n      <td>2019-11-04</td>\n      <td>23:15:00</td>\n    </tr>\n    <tr>\n      <th>2019-11-04 23:30:00</th>\n      <td>98593.460339</td>\n      <td>2019-11-04</td>\n      <td>23:30:00</td>\n    </tr>\n    <tr>\n      <th>2019-11-04 23:45:00</th>\n      <td>97365.874939</td>\n      <td>2019-11-04</td>\n      <td>23:45:00</td>\n    </tr>\n  </tbody>\n</table>\n<p>99648 rows × 3 columns</p>\n</div>"
     },
     "metadata": {},
     "execution_count": 30
    }
   ],
   "source": [
    "df"
   ]
  },
  {
   "cell_type": "code",
   "execution_count": 31,
   "metadata": {},
   "outputs": [],
   "source": [
    "df['Year'] = df['Date'].apply(lambda x: x.year)\n",
    "df['Month'] = df['Date'].apply(lambda x: x.month)"
   ]
  },
  {
   "cell_type": "code",
   "execution_count": 32,
   "metadata": {},
   "outputs": [],
   "source": [
    "df['DayOfYear'] = df['Date'].apply(lambda x: x.timetuple().tm_yday)\n",
    "df['DayOfWeek'] = df['Date'].apply(lambda x: x.weekday())\n",
    "df['DayType']   = df['DayOfWeek'].apply(lambda x: 1 if x < 5 else 0)"
   ]
  },
  {
   "cell_type": "code",
   "execution_count": 33,
   "metadata": {},
   "outputs": [],
   "source": [
    "df['Hour'] = df['Time'].apply(lambda x: x.hour)\n",
    "df['Minute'] = df['Time'].apply(lambda x: x.minute)"
   ]
  },
  {
   "cell_type": "code",
   "execution_count": 34,
   "metadata": {},
   "outputs": [],
   "source": [
    "seasons = {'Winter': [10, 11, 12, 1, 2], 'Summer': [3, 4, 5, 6], 'Monsoon': [7, 8, 9]}"
   ]
  },
  {
   "cell_type": "code",
   "execution_count": 35,
   "metadata": {},
   "outputs": [],
   "source": [
    "m2s = [-1, 0, 0, 1, 1, 1, 1, 2, 2, 2, 0, 0, 0]"
   ]
  },
  {
   "cell_type": "code",
   "execution_count": 36,
   "metadata": {},
   "outputs": [
    {
     "output_type": "execute_result",
     "data": {
      "text/plain": "13"
     },
     "metadata": {},
     "execution_count": 36
    }
   ],
   "source": [
    "len(m2s)"
   ]
  },
  {
   "cell_type": "code",
   "execution_count": 37,
   "metadata": {},
   "outputs": [],
   "source": [
    "df['Season'] = df['Month'].apply(lambda x: m2s[x])"
   ]
  },
  {
   "cell_type": "code",
   "execution_count": 38,
   "metadata": {},
   "outputs": [],
   "source": [
    "df['Year'] = df['Date'].apply(lambda x: x.year)"
   ]
  },
  {
   "cell_type": "code",
   "execution_count": 39,
   "metadata": {},
   "outputs": [],
   "source": [
    "df = df.drop(['Time', 'Date'], axis=1)"
   ]
  },
  {
   "cell_type": "code",
   "execution_count": 40,
   "metadata": {},
   "outputs": [
    {
     "output_type": "execute_result",
     "data": {
      "text/plain": "                       consumption  Year  Month  DayOfYear  DayOfWeek  \\\ntime                                                                    \n2017-01-01 00:00:00  126661.288667  2017      1          1          6   \n2017-01-01 00:15:00  125975.630600  2017      1          1          6   \n2017-01-01 00:30:00  131628.821400  2017      1          1          6   \n2017-01-01 00:45:00  133741.109667  2017      1          1          6   \n2017-01-01 01:00:00  149806.386667  2017      1          1          6   \n...                            ...   ...    ...        ...        ...   \n2019-11-04 22:45:00  103932.504002  2019     11        308          0   \n2019-11-04 23:00:00  102064.379714  2019     11        308          0   \n2019-11-04 23:15:00  100378.796042  2019     11        308          0   \n2019-11-04 23:30:00   98593.460339  2019     11        308          0   \n2019-11-04 23:45:00   97365.874939  2019     11        308          0   \n\n                     DayType  Hour  Minute  Season  \ntime                                                \n2017-01-01 00:00:00        0     0       0       0  \n2017-01-01 00:15:00        0     0      15       0  \n2017-01-01 00:30:00        0     0      30       0  \n2017-01-01 00:45:00        0     0      45       0  \n2017-01-01 01:00:00        0     1       0       0  \n...                      ...   ...     ...     ...  \n2019-11-04 22:45:00        1    22      45       0  \n2019-11-04 23:00:00        1    23       0       0  \n2019-11-04 23:15:00        1    23      15       0  \n2019-11-04 23:30:00        1    23      30       0  \n2019-11-04 23:45:00        1    23      45       0  \n\n[99648 rows x 9 columns]",
      "text/html": "<div>\n<style scoped>\n    .dataframe tbody tr th:only-of-type {\n        vertical-align: middle;\n    }\n\n    .dataframe tbody tr th {\n        vertical-align: top;\n    }\n\n    .dataframe thead th {\n        text-align: right;\n    }\n</style>\n<table border=\"1\" class=\"dataframe\">\n  <thead>\n    <tr style=\"text-align: right;\">\n      <th></th>\n      <th>consumption</th>\n      <th>Year</th>\n      <th>Month</th>\n      <th>DayOfYear</th>\n      <th>DayOfWeek</th>\n      <th>DayType</th>\n      <th>Hour</th>\n      <th>Minute</th>\n      <th>Season</th>\n    </tr>\n    <tr>\n      <th>time</th>\n      <th></th>\n      <th></th>\n      <th></th>\n      <th></th>\n      <th></th>\n      <th></th>\n      <th></th>\n      <th></th>\n      <th></th>\n    </tr>\n  </thead>\n  <tbody>\n    <tr>\n      <th>2017-01-01 00:00:00</th>\n      <td>126661.288667</td>\n      <td>2017</td>\n      <td>1</td>\n      <td>1</td>\n      <td>6</td>\n      <td>0</td>\n      <td>0</td>\n      <td>0</td>\n      <td>0</td>\n    </tr>\n    <tr>\n      <th>2017-01-01 00:15:00</th>\n      <td>125975.630600</td>\n      <td>2017</td>\n      <td>1</td>\n      <td>1</td>\n      <td>6</td>\n      <td>0</td>\n      <td>0</td>\n      <td>15</td>\n      <td>0</td>\n    </tr>\n    <tr>\n      <th>2017-01-01 00:30:00</th>\n      <td>131628.821400</td>\n      <td>2017</td>\n      <td>1</td>\n      <td>1</td>\n      <td>6</td>\n      <td>0</td>\n      <td>0</td>\n      <td>30</td>\n      <td>0</td>\n    </tr>\n    <tr>\n      <th>2017-01-01 00:45:00</th>\n      <td>133741.109667</td>\n      <td>2017</td>\n      <td>1</td>\n      <td>1</td>\n      <td>6</td>\n      <td>0</td>\n      <td>0</td>\n      <td>45</td>\n      <td>0</td>\n    </tr>\n    <tr>\n      <th>2017-01-01 01:00:00</th>\n      <td>149806.386667</td>\n      <td>2017</td>\n      <td>1</td>\n      <td>1</td>\n      <td>6</td>\n      <td>0</td>\n      <td>1</td>\n      <td>0</td>\n      <td>0</td>\n    </tr>\n    <tr>\n      <th>...</th>\n      <td>...</td>\n      <td>...</td>\n      <td>...</td>\n      <td>...</td>\n      <td>...</td>\n      <td>...</td>\n      <td>...</td>\n      <td>...</td>\n      <td>...</td>\n    </tr>\n    <tr>\n      <th>2019-11-04 22:45:00</th>\n      <td>103932.504002</td>\n      <td>2019</td>\n      <td>11</td>\n      <td>308</td>\n      <td>0</td>\n      <td>1</td>\n      <td>22</td>\n      <td>45</td>\n      <td>0</td>\n    </tr>\n    <tr>\n      <th>2019-11-04 23:00:00</th>\n      <td>102064.379714</td>\n      <td>2019</td>\n      <td>11</td>\n      <td>308</td>\n      <td>0</td>\n      <td>1</td>\n      <td>23</td>\n      <td>0</td>\n      <td>0</td>\n    </tr>\n    <tr>\n      <th>2019-11-04 23:15:00</th>\n      <td>100378.796042</td>\n      <td>2019</td>\n      <td>11</td>\n      <td>308</td>\n      <td>0</td>\n      <td>1</td>\n      <td>23</td>\n      <td>15</td>\n      <td>0</td>\n    </tr>\n    <tr>\n      <th>2019-11-04 23:30:00</th>\n      <td>98593.460339</td>\n      <td>2019</td>\n      <td>11</td>\n      <td>308</td>\n      <td>0</td>\n      <td>1</td>\n      <td>23</td>\n      <td>30</td>\n      <td>0</td>\n    </tr>\n    <tr>\n      <th>2019-11-04 23:45:00</th>\n      <td>97365.874939</td>\n      <td>2019</td>\n      <td>11</td>\n      <td>308</td>\n      <td>0</td>\n      <td>1</td>\n      <td>23</td>\n      <td>45</td>\n      <td>0</td>\n    </tr>\n  </tbody>\n</table>\n<p>99648 rows × 9 columns</p>\n</div>"
     },
     "metadata": {},
     "execution_count": 40
    }
   ],
   "source": [
    "df"
   ]
  },
  {
   "cell_type": "code",
   "execution_count": 41,
   "metadata": {},
   "outputs": [],
   "source": [
    "df.to_csv('multivariate.csv', index=False)"
   ]
  },
  {
   "cell_type": "code",
   "execution_count": 60,
   "metadata": {},
   "outputs": [
    {
     "output_type": "execute_result",
     "data": {
      "text/plain": "         consumption  Year  Month  DayOfYear  DayOfWeek  DayType  Hour  \\\n0      126661.288667  2017      1          1          6        0     0   \n1      125975.630600  2017      1          1          6        0     0   \n2      131628.821400  2017      1          1          6        0     0   \n3      133741.109667  2017      1          1          6        0     0   \n4      149806.386667  2017      1          1          6        0     1   \n...              ...   ...    ...        ...        ...      ...   ...   \n99643  103932.504002  2019     11        308          0        1    22   \n99644  102064.379714  2019     11        308          0        1    23   \n99645  100378.796042  2019     11        308          0        1    23   \n99646   98593.460339  2019     11        308          0        1    23   \n99647   97365.874939  2019     11        308          0        1    23   \n\n       Minute  Season  \n0           0       0  \n1          15       0  \n2          30       0  \n3          45       0  \n4           0       0  \n...       ...     ...  \n99643      45       0  \n99644       0       0  \n99645      15       0  \n99646      30       0  \n99647      45       0  \n\n[99648 rows x 9 columns]",
      "text/html": "<div>\n<style scoped>\n    .dataframe tbody tr th:only-of-type {\n        vertical-align: middle;\n    }\n\n    .dataframe tbody tr th {\n        vertical-align: top;\n    }\n\n    .dataframe thead th {\n        text-align: right;\n    }\n</style>\n<table border=\"1\" class=\"dataframe\">\n  <thead>\n    <tr style=\"text-align: right;\">\n      <th></th>\n      <th>consumption</th>\n      <th>Year</th>\n      <th>Month</th>\n      <th>DayOfYear</th>\n      <th>DayOfWeek</th>\n      <th>DayType</th>\n      <th>Hour</th>\n      <th>Minute</th>\n      <th>Season</th>\n    </tr>\n  </thead>\n  <tbody>\n    <tr>\n      <th>0</th>\n      <td>126661.288667</td>\n      <td>2017</td>\n      <td>1</td>\n      <td>1</td>\n      <td>6</td>\n      <td>0</td>\n      <td>0</td>\n      <td>0</td>\n      <td>0</td>\n    </tr>\n    <tr>\n      <th>1</th>\n      <td>125975.630600</td>\n      <td>2017</td>\n      <td>1</td>\n      <td>1</td>\n      <td>6</td>\n      <td>0</td>\n      <td>0</td>\n      <td>15</td>\n      <td>0</td>\n    </tr>\n    <tr>\n      <th>2</th>\n      <td>131628.821400</td>\n      <td>2017</td>\n      <td>1</td>\n      <td>1</td>\n      <td>6</td>\n      <td>0</td>\n      <td>0</td>\n      <td>30</td>\n      <td>0</td>\n    </tr>\n    <tr>\n      <th>3</th>\n      <td>133741.109667</td>\n      <td>2017</td>\n      <td>1</td>\n      <td>1</td>\n      <td>6</td>\n      <td>0</td>\n      <td>0</td>\n      <td>45</td>\n      <td>0</td>\n    </tr>\n    <tr>\n      <th>4</th>\n      <td>149806.386667</td>\n      <td>2017</td>\n      <td>1</td>\n      <td>1</td>\n      <td>6</td>\n      <td>0</td>\n      <td>1</td>\n      <td>0</td>\n      <td>0</td>\n    </tr>\n    <tr>\n      <th>...</th>\n      <td>...</td>\n      <td>...</td>\n      <td>...</td>\n      <td>...</td>\n      <td>...</td>\n      <td>...</td>\n      <td>...</td>\n      <td>...</td>\n      <td>...</td>\n    </tr>\n    <tr>\n      <th>99643</th>\n      <td>103932.504002</td>\n      <td>2019</td>\n      <td>11</td>\n      <td>308</td>\n      <td>0</td>\n      <td>1</td>\n      <td>22</td>\n      <td>45</td>\n      <td>0</td>\n    </tr>\n    <tr>\n      <th>99644</th>\n      <td>102064.379714</td>\n      <td>2019</td>\n      <td>11</td>\n      <td>308</td>\n      <td>0</td>\n      <td>1</td>\n      <td>23</td>\n      <td>0</td>\n      <td>0</td>\n    </tr>\n    <tr>\n      <th>99645</th>\n      <td>100378.796042</td>\n      <td>2019</td>\n      <td>11</td>\n      <td>308</td>\n      <td>0</td>\n      <td>1</td>\n      <td>23</td>\n      <td>15</td>\n      <td>0</td>\n    </tr>\n    <tr>\n      <th>99646</th>\n      <td>98593.460339</td>\n      <td>2019</td>\n      <td>11</td>\n      <td>308</td>\n      <td>0</td>\n      <td>1</td>\n      <td>23</td>\n      <td>30</td>\n      <td>0</td>\n    </tr>\n    <tr>\n      <th>99647</th>\n      <td>97365.874939</td>\n      <td>2019</td>\n      <td>11</td>\n      <td>308</td>\n      <td>0</td>\n      <td>1</td>\n      <td>23</td>\n      <td>45</td>\n      <td>0</td>\n    </tr>\n  </tbody>\n</table>\n<p>99648 rows × 9 columns</p>\n</div>"
     },
     "metadata": {},
     "execution_count": 60
    }
   ],
   "source": [
    "df = po.read_csv('multivariate.csv')\n",
    "df"
   ]
  },
  {
   "cell_type": "code",
   "execution_count": 61,
   "metadata": {},
   "outputs": [],
   "source": [
    "def make_windows(data, train_seq_len = 4*24*7, val_seq_len = 4*24):\n",
    "    X = np.zeros((len(data) - val_seq_len + 1 - train_seq_len, train_seq_len, len(data.columns)))\n",
    "    y = np.zeros((len(data) - val_seq_len + 1 - train_seq_len, val_seq_len, 1))\n",
    "\n",
    "    for i in tqdm(range(train_seq_len, len(data) - val_seq_len + 1)):        \n",
    "        X[i-train_seq_len, :, :] = data.values[i - train_seq_len: i]\n",
    "        y[i-train_seq_len, :, :] = data['consumption'].values[i: i + val_seq_len].reshape(-1, 1)\n",
    "        \n",
    "    return X, y"
   ]
  },
  {
   "cell_type": "code",
   "execution_count": 62,
   "metadata": {
    "tags": []
   },
   "outputs": [
    {
     "output_type": "stream",
     "name": "stderr",
     "text": "100%|██████████| 98881/98881 [01:16<00:00, 1286.98it/s]\n"
    }
   ],
   "source": [
    "X, y = make_windows(df)"
   ]
  },
  {
   "cell_type": "code",
   "execution_count": 63,
   "metadata": {},
   "outputs": [
    {
     "output_type": "execute_result",
     "data": {
      "text/plain": "(98881, 672, 9)"
     },
     "metadata": {},
     "execution_count": 63
    }
   ],
   "source": [
    "X.shape"
   ]
  },
  {
   "cell_type": "code",
   "execution_count": 64,
   "metadata": {},
   "outputs": [
    {
     "output_type": "execute_result",
     "data": {
      "text/plain": "(98881, 96, 1)"
     },
     "metadata": {},
     "execution_count": 64
    }
   ],
   "source": [
    "y.shape"
   ]
  },
  {
   "cell_type": "code",
   "execution_count": null,
   "metadata": {},
   "outputs": [],
   "source": []
  },
  {
   "cell_type": "code",
   "execution_count": null,
   "metadata": {},
   "outputs": [],
   "source": []
  },
  {
   "cell_type": "code",
   "execution_count": 3,
   "metadata": {},
   "outputs": [],
   "source": [
    "train_seq_len = 4*24*7\n",
    "val_seq_len = 4*24\n",
    "data = df"
   ]
  },
  {
   "cell_type": "code",
   "execution_count": 25,
   "metadata": {},
   "outputs": [],
   "source": [
    "X = np.zeros((len(data) - val_seq_len + 1 - train_seq_len, train_seq_len, len(data.columns)))\n",
    "y = np.zeros((len(data) - val_seq_len + 1 - train_seq_len, val_seq_len, 1))"
   ]
  },
  {
   "cell_type": "code",
   "execution_count": 40,
   "metadata": {
    "tags": []
   },
   "outputs": [
    {
     "output_type": "stream",
     "name": "stderr",
     "text": "100%|██████████| 98881/98881 [01:14<00:00, 1325.13it/s]\n"
    }
   ],
   "source": [
    "for i in tqdm(range(train_seq_len, len(data) - val_seq_len + 1)):        \n",
    "    X[i-train_seq_len, :, :] = data.values[i - train_seq_len: i]\n",
    "    y[i-train_seq_len, :, :] = data['consumption'].values[i: i + val_seq_len].reshape(-1, 1)"
   ]
  },
  {
   "cell_type": "code",
   "execution_count": 57,
   "metadata": {},
   "outputs": [
    {
     "output_type": "execute_result",
     "data": {
      "text/plain": "      consumption  Year  Month  DayOfYear  DayOfWeek  DayType  Hour  Minute  \\\n662  85175.797667  2017      1          7          5        0    21      30   \n663  83750.254000  2017      1          7          5        0    21      45   \n664  84045.454200  2017      1          7          5        0    22       0   \n665  81897.511733  2017      1          7          5        0    22      15   \n666  80842.488400  2017      1          7          5        0    22      30   \n667  82252.116267  2017      1          7          5        0    22      45   \n668  81108.183400  2017      1          7          5        0    23       0   \n669  82448.346733  2017      1          7          5        0    23      15   \n670  83156.285941  2017      1          7          5        0    23      30   \n671  82049.840000  2017      1          7          5        0    23      45   \n672  81958.566429  2017      1          8          6        0     0       0   \n673  81703.568000  2017      1          8          6        0     0      15   \n674  81155.458267  2017      1          8          6        0     0      30   \n675  77713.644733  2017      1          8          6        0     0      45   \n676  75768.328643  2017      1          8          6        0     1       0   \n677  50288.613500  2017      1          8          6        0     1      15   \n678  51770.267500  2017      1          8          6        0     1      30   \n679  51050.958467  2017      1          8          6        0     1      45   \n680  51088.090467  2017      1          8          6        0     2       0   \n681  53280.426067  2017      1          8          6        0     2      15   \n\n     Season  \n662       0  \n663       0  \n664       0  \n665       0  \n666       0  \n667       0  \n668       0  \n669       0  \n670       0  \n671       0  \n672       0  \n673       0  \n674       0  \n675       0  \n676       0  \n677       0  \n678       0  \n679       0  \n680       0  \n681       0  ",
      "text/html": "<div>\n<style scoped>\n    .dataframe tbody tr th:only-of-type {\n        vertical-align: middle;\n    }\n\n    .dataframe tbody tr th {\n        vertical-align: top;\n    }\n\n    .dataframe thead th {\n        text-align: right;\n    }\n</style>\n<table border=\"1\" class=\"dataframe\">\n  <thead>\n    <tr style=\"text-align: right;\">\n      <th></th>\n      <th>consumption</th>\n      <th>Year</th>\n      <th>Month</th>\n      <th>DayOfYear</th>\n      <th>DayOfWeek</th>\n      <th>DayType</th>\n      <th>Hour</th>\n      <th>Minute</th>\n      <th>Season</th>\n    </tr>\n  </thead>\n  <tbody>\n    <tr>\n      <th>662</th>\n      <td>85175.797667</td>\n      <td>2017</td>\n      <td>1</td>\n      <td>7</td>\n      <td>5</td>\n      <td>0</td>\n      <td>21</td>\n      <td>30</td>\n      <td>0</td>\n    </tr>\n    <tr>\n      <th>663</th>\n      <td>83750.254000</td>\n      <td>2017</td>\n      <td>1</td>\n      <td>7</td>\n      <td>5</td>\n      <td>0</td>\n      <td>21</td>\n      <td>45</td>\n      <td>0</td>\n    </tr>\n    <tr>\n      <th>664</th>\n      <td>84045.454200</td>\n      <td>2017</td>\n      <td>1</td>\n      <td>7</td>\n      <td>5</td>\n      <td>0</td>\n      <td>22</td>\n      <td>0</td>\n      <td>0</td>\n    </tr>\n    <tr>\n      <th>665</th>\n      <td>81897.511733</td>\n      <td>2017</td>\n      <td>1</td>\n      <td>7</td>\n      <td>5</td>\n      <td>0</td>\n      <td>22</td>\n      <td>15</td>\n      <td>0</td>\n    </tr>\n    <tr>\n      <th>666</th>\n      <td>80842.488400</td>\n      <td>2017</td>\n      <td>1</td>\n      <td>7</td>\n      <td>5</td>\n      <td>0</td>\n      <td>22</td>\n      <td>30</td>\n      <td>0</td>\n    </tr>\n    <tr>\n      <th>667</th>\n      <td>82252.116267</td>\n      <td>2017</td>\n      <td>1</td>\n      <td>7</td>\n      <td>5</td>\n      <td>0</td>\n      <td>22</td>\n      <td>45</td>\n      <td>0</td>\n    </tr>\n    <tr>\n      <th>668</th>\n      <td>81108.183400</td>\n      <td>2017</td>\n      <td>1</td>\n      <td>7</td>\n      <td>5</td>\n      <td>0</td>\n      <td>23</td>\n      <td>0</td>\n      <td>0</td>\n    </tr>\n    <tr>\n      <th>669</th>\n      <td>82448.346733</td>\n      <td>2017</td>\n      <td>1</td>\n      <td>7</td>\n      <td>5</td>\n      <td>0</td>\n      <td>23</td>\n      <td>15</td>\n      <td>0</td>\n    </tr>\n    <tr>\n      <th>670</th>\n      <td>83156.285941</td>\n      <td>2017</td>\n      <td>1</td>\n      <td>7</td>\n      <td>5</td>\n      <td>0</td>\n      <td>23</td>\n      <td>30</td>\n      <td>0</td>\n    </tr>\n    <tr>\n      <th>671</th>\n      <td>82049.840000</td>\n      <td>2017</td>\n      <td>1</td>\n      <td>7</td>\n      <td>5</td>\n      <td>0</td>\n      <td>23</td>\n      <td>45</td>\n      <td>0</td>\n    </tr>\n    <tr>\n      <th>672</th>\n      <td>81958.566429</td>\n      <td>2017</td>\n      <td>1</td>\n      <td>8</td>\n      <td>6</td>\n      <td>0</td>\n      <td>0</td>\n      <td>0</td>\n      <td>0</td>\n    </tr>\n    <tr>\n      <th>673</th>\n      <td>81703.568000</td>\n      <td>2017</td>\n      <td>1</td>\n      <td>8</td>\n      <td>6</td>\n      <td>0</td>\n      <td>0</td>\n      <td>15</td>\n      <td>0</td>\n    </tr>\n    <tr>\n      <th>674</th>\n      <td>81155.458267</td>\n      <td>2017</td>\n      <td>1</td>\n      <td>8</td>\n      <td>6</td>\n      <td>0</td>\n      <td>0</td>\n      <td>30</td>\n      <td>0</td>\n    </tr>\n    <tr>\n      <th>675</th>\n      <td>77713.644733</td>\n      <td>2017</td>\n      <td>1</td>\n      <td>8</td>\n      <td>6</td>\n      <td>0</td>\n      <td>0</td>\n      <td>45</td>\n      <td>0</td>\n    </tr>\n    <tr>\n      <th>676</th>\n      <td>75768.328643</td>\n      <td>2017</td>\n      <td>1</td>\n      <td>8</td>\n      <td>6</td>\n      <td>0</td>\n      <td>1</td>\n      <td>0</td>\n      <td>0</td>\n    </tr>\n    <tr>\n      <th>677</th>\n      <td>50288.613500</td>\n      <td>2017</td>\n      <td>1</td>\n      <td>8</td>\n      <td>6</td>\n      <td>0</td>\n      <td>1</td>\n      <td>15</td>\n      <td>0</td>\n    </tr>\n    <tr>\n      <th>678</th>\n      <td>51770.267500</td>\n      <td>2017</td>\n      <td>1</td>\n      <td>8</td>\n      <td>6</td>\n      <td>0</td>\n      <td>1</td>\n      <td>30</td>\n      <td>0</td>\n    </tr>\n    <tr>\n      <th>679</th>\n      <td>51050.958467</td>\n      <td>2017</td>\n      <td>1</td>\n      <td>8</td>\n      <td>6</td>\n      <td>0</td>\n      <td>1</td>\n      <td>45</td>\n      <td>0</td>\n    </tr>\n    <tr>\n      <th>680</th>\n      <td>51088.090467</td>\n      <td>2017</td>\n      <td>1</td>\n      <td>8</td>\n      <td>6</td>\n      <td>0</td>\n      <td>2</td>\n      <td>0</td>\n      <td>0</td>\n    </tr>\n    <tr>\n      <th>681</th>\n      <td>53280.426067</td>\n      <td>2017</td>\n      <td>1</td>\n      <td>8</td>\n      <td>6</td>\n      <td>0</td>\n      <td>2</td>\n      <td>15</td>\n      <td>0</td>\n    </tr>\n  </tbody>\n</table>\n</div>"
     },
     "metadata": {},
     "execution_count": 57
    }
   ],
   "source": [
    "df.iloc[train_seq_len-10:train_seq_len+10]"
   ]
  },
  {
   "cell_type": "code",
   "execution_count": 59,
   "metadata": {},
   "outputs": [
    {
     "output_type": "execute_result",
     "data": {
      "text/plain": "array([21., 21., 22., 22., 22., 22., 23., 23., 23., 23.])"
     },
     "metadata": {},
     "execution_count": 59
    }
   ],
   "source": [
    "X[0, :, 6][-10:]"
   ]
  },
  {
   "cell_type": "code",
   "execution_count": 58,
   "metadata": {},
   "outputs": [
    {
     "output_type": "execute_result",
     "data": {
      "text/plain": "array([2017., 2017., 2017., 2017., 2017., 2017., 2017., 2017., 2017.,\n       2017.])"
     },
     "metadata": {},
     "execution_count": 58
    }
   ],
   "source": [
    "X[0, :, 1][-10:]"
   ]
  },
  {
   "cell_type": "code",
   "execution_count": 53,
   "metadata": {},
   "outputs": [
    {
     "output_type": "execute_result",
     "data": {
      "text/plain": "array([81958.56642857, 81703.568     , 81155.45826667, 77713.64473333,\n       75768.32864286, 50288.6135    , 51770.2675    , 51050.95846667,\n       51088.09046667, 53280.42606667])"
     },
     "metadata": {},
     "execution_count": 53
    }
   ],
   "source": [
    "y[0, :, 0][:10]"
   ]
  },
  {
   "cell_type": "code",
   "execution_count": 56,
   "metadata": {},
   "outputs": [
    {
     "output_type": "execute_result",
     "data": {
      "text/plain": "array([81958.56642857, 81703.568     , 81155.45826667, 77713.64473333,\n       75768.32864286, 50288.6135    , 51770.2675    , 51050.95846667,\n       51088.09046667, 53280.42606667])"
     },
     "metadata": {},
     "execution_count": 56
    }
   ],
   "source": [
    "y[0, :, 0][:10]"
   ]
  },
  {
   "cell_type": "code",
   "execution_count": null,
   "metadata": {},
   "outputs": [],
   "source": []
  }
 ],
 "metadata": {
  "language_info": {
   "codemirror_mode": {
    "name": "ipython",
    "version": 3
   },
   "file_extension": ".py",
   "mimetype": "text/x-python",
   "name": "python",
   "nbconvert_exporter": "python",
   "pygments_lexer": "ipython3",
   "version": "3.7.7-final"
  },
  "orig_nbformat": 2,
  "kernelspec": {
   "name": "python_defaultSpec_1599066740052",
   "display_name": "Python 3.7.7 64-bit ('tf2': conda)"
  }
 },
 "nbformat": 4,
 "nbformat_minor": 2
}